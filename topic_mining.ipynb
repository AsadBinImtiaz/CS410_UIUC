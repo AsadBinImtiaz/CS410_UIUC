{
 "cells": [
  {
   "cell_type": "code",
   "execution_count": 1,
   "metadata": {},
   "outputs": [],
   "source": [
    "from pprint import pprint\n",
    "import pandas as pd\n",
    "import numpy as np\n",
    "import matplotlib.pyplot as plt\n",
    "%matplotlib inline\n",
    "import seaborn as sns\n",
    "sns.set()\n",
    "import pickle as pickle\n",
    "import re\n",
    "from functools import reduce \n",
    "import operator\n",
    "from sklearn.feature_extraction.text import TfidfVectorizer\n"
   ]
  },
  {
   "cell_type": "code",
   "execution_count": 2,
   "metadata": {},
   "outputs": [
    {
     "name": "stdout",
     "output_type": "stream",
     "text": [
      "Wall time: 38.1 s\n"
     ]
    }
   ],
   "source": [
    "%%time\n",
    "# Read the Pre-Processed data\n",
    "restaurant_file = pd.read_csv('processed_data/cleaned_restaurants.csv')\n",
    "restaurant_file = restaurant_file.drop(labels=\"Unnamed: 0\", axis=1)\n",
    "review_file     = pd.read_csv('processed_data/cleaned_reviews.csv')\n",
    "review_file     = review_file.drop(labels=\"Unnamed: 0\", axis=1) "
   ]
  },
  {
   "cell_type": "code",
   "execution_count": 259,
   "metadata": {},
   "outputs": [
    {
     "name": "stdout",
     "output_type": "stream",
     "text": [
      "Wall time: 7.21 s\n"
     ]
    }
   ],
   "source": [
    "%%time\n",
    "# Convert in Unicode\n",
    "# seperate topic relavant data from sentiment relavent data\n",
    "review_file['topic_text'] = [u''+str(txt).replace('.','').replace('\\\\n','') for txt in review_file.topic_text]\n",
    "review_file['sentiment_text'] = [u''+str(txt).replace('.','').replace('\\\\n','') for txt in review_file.sentiment_text]\n",
    "review_file['text'] = [u''+str(txt) for txt in review_file.text]\n",
    "review_file['review_length'] = review_file.text.map(len)"
   ]
  },
  {
   "cell_type": "code",
   "execution_count": 260,
   "metadata": {
    "scrolled": true
   },
   "outputs": [
    {
     "data": {
      "text/plain": [
       "[Text(-12.415000000000013, 0.5, 'Number of Reviews')]"
      ]
     },
     "execution_count": 260,
     "metadata": {},
     "output_type": "execute_result"
    },
    {
     "data": {
      "image/png": "[encoded data removed]",
      "text/plain": [
       "<Figure size 1080x216 with 5 Axes>"
      ]
     },
     "metadata": {},
     "output_type": "display_data"
    }
   ],
   "source": [
    "#let's check the distribution of the reviews by length of comments\n",
    "ax = sns.FacetGrid(data=review_file, col='review_stars', xlim=(0, 1000)).map(plt.hist, 'review_length', bins=50)\n",
    "ax.axes[0][0].set(ylabel='Number of Reviews')"
   ]
  },
  {
   "cell_type": "code",
   "execution_count": 261,
   "metadata": {},
   "outputs": [],
   "source": [
    "#It's interesting that five star reivews are more verbose\n",
    "#print(review_file.loc[review_file['review_stars']==1.0])\n"
   ]
  },
  {
   "cell_type": "code",
   "execution_count": 262,
   "metadata": {},
   "outputs": [
    {
     "name": "stdout",
     "output_type": "stream",
     "text": [
      "Postive  Reviews: 2,373,347\n",
      "Negative Reviews: 693,326\n"
     ]
    }
   ],
   "source": [
    "pos_reviews_sent  = review_file.sentiment_text[review_file.review_stars>3].values\n",
    "neg_reviews_sent  = review_file.sentiment_text[review_file.review_stars<3].values\n",
    "pos_reviews_topic = review_file.topic_text[review_file.review_stars>3].values\n",
    "neg_reviews_topic = review_file.topic_text[review_file.review_stars<3].values\n",
    "\n",
    "all_reviews_topic = review_file.topic_text.values\n",
    "all_reviews_sent  = review_file.sentiment_text.values\n",
    "\n",
    "print('Postive  Reviews: {:,}'.format(len(pos_reviews_topic)))\n",
    "print('Negative Reviews: {:,}'.format(len(neg_reviews_topic)))"
   ]
  },
  {
   "cell_type": "code",
   "execution_count": 263,
   "metadata": {},
   "outputs": [],
   "source": [
    "pos_reviews_topic = pos_reviews_sent\n",
    "neg_reviews_topic = neg_reviews_sent\n",
    "all_reviews_topic = all_reviews_sent"
   ]
  },
  {
   "cell_type": "code",
   "execution_count": 264,
   "metadata": {},
   "outputs": [],
   "source": [
    "#Take our additional stopwords\n",
    "#from sklearn.feature_extraction import text\n",
    "#extra_words = ['like','did','said','ok', 've', 'got']\n",
    "#stop_words = text.ENGLISH_STOP_WORDS.union(extra_words)"
   ]
  },
  {
   "cell_type": "code",
   "execution_count": 265,
   "metadata": {},
   "outputs": [],
   "source": [
    "stop_words = [line.rstrip('\\n') for line in open('config/stopwords.txt', 'r', encoding='utf-8')] \n",
    "neg_words  = [line.rstrip('\\n') for line in open('config/stopwords.txt', 'r', encoding='utf-8')]\n",
    "stop_words = stop_words + neg_words"
   ]
  },
  {
   "cell_type": "code",
   "execution_count": 266,
   "metadata": {},
   "outputs": [],
   "source": [
    "# Set max features for data vertorication\n",
    "max_features=5000"
   ]
  },
  {
   "cell_type": "code",
   "execution_count": 267,
   "metadata": {},
   "outputs": [],
   "source": [
    "# Tokenize the text\n",
    "def tokenizer(x):\n",
    "    return ( w for w in str(x).split() if len(w) >3)"
   ]
  },
  {
   "cell_type": "code",
   "execution_count": 268,
   "metadata": {},
   "outputs": [
    {
     "name": "stdout",
     "output_type": "stream",
     "text": [
      "Wall time: 0 ns\n"
     ]
    }
   ],
   "source": [
    "%%time\n",
    "#TF-IDF\n",
    "# Create a vectorizer object to generate term document counts\n",
    "tfidf_pos = TfidfVectorizer(stop_words=stop_words, min_df=10, max_df=0.5,\n",
    "                        tokenizer = tokenizer,ngram_range=(1,1), max_features=max_features)\n",
    "                        #ngram_range=(1,1), token_pattern='[a-z][a-z]+', max_features=max_features)\n",
    "\n",
    "tfidf_neg = TfidfVectorizer(stop_words=stop_words, min_df=10, max_df=0.5, \n",
    "                        tokenizer = tokenizer,ngram_range=(1,1), max_features=max_features)\n",
    "                        #ngram_range=(1,1), token_pattern='[a-z][a-z]+', max_features=max_features)\n",
    "\n",
    "tfidf_all = TfidfVectorizer(stop_words=stop_words, min_df=10, max_df=0.5, \n",
    "                        tokenizer = tokenizer,ngram_range=(1,1), max_features=max_features)\n",
    "                        #ngram_range=(1,1), token_pattern='[a-z][a-z]+', max_features=max_features)\n",
    "\n",
    "#  Stats\n",
    "## Wall time: 2min 47s"
   ]
  },
  {
   "cell_type": "code",
   "execution_count": 269,
   "metadata": {},
   "outputs": [
    {
     "name": "stdout",
     "output_type": "stream",
     "text": [
      "Wall time: 2min 49s\n"
     ]
    }
   ],
   "source": [
    "%%time\n",
    "# Vectorize Data\n",
    "neg_vectors  = tfidf_neg.fit_transform(neg_reviews_topic)\n",
    "pos_vectors  = tfidf_pos.fit_transform(pos_reviews_topic)\n",
    "all_vectors  = tfidf_all.fit_transform(all_reviews_topic)\n",
    "\n",
    "#  Stats\n",
    "## Wall time: 1min 25s"
   ]
  },
  {
   "cell_type": "code",
   "execution_count": 270,
   "metadata": {},
   "outputs": [],
   "source": [
    "with open('pickles/topic_term_vector_all.pk','wb') as f:\n",
    "    pickle.dump(tfidf_all, f)\n",
    "with open('pickles/topic_term_vector_pos.pk','wb') as f:\n",
    "    pickle.dump(tfidf_pos, f)\n",
    "with open('pickles/topic_term_vector_neg.pk','wb') as f:\n",
    "    pickle.dump(tfidf_neg, f)"
   ]
  },
  {
   "cell_type": "code",
   "execution_count": 271,
   "metadata": {},
   "outputs": [],
   "source": [
    "neg_feature_names = np.array(tfidf_neg.get_feature_names())\n",
    "pos_feature_names = np.array(tfidf_pos.get_feature_names())\n",
    "all_feature_names = np.array(tfidf_all.get_feature_names())"
   ]
  },
  {
   "cell_type": "code",
   "execution_count": 272,
   "metadata": {},
   "outputs": [],
   "source": [
    "#with open('pickles/neg_topic_vectors_'+str(max_features)+'.pk', 'wb') as fin:\n",
    "#    pickle.dump(neg_vectors, fin)\n",
    "with open('pickles/neg_topic_features_'+str(max_features)+'.pk', 'wb') as fin:\n",
    "    pickle.dump(np.array(tfidf_neg.get_feature_names()), fin)    "
   ]
  },
  {
   "cell_type": "code",
   "execution_count": 273,
   "metadata": {},
   "outputs": [],
   "source": [
    "#with open('pickles/pos_topic_vectors_'+str(max_features)+'.pk', 'wb') as fin:\n",
    "#    pickle.dump(pos_vectors, fin)\n",
    "with open('pickles/pos_topic_features_'+str(max_features)+'.pk', 'wb') as fin:\n",
    "    pickle.dump(np.array(tfidf_pos.get_feature_names()), fin)    "
   ]
  },
  {
   "cell_type": "code",
   "execution_count": 274,
   "metadata": {},
   "outputs": [],
   "source": [
    "#with open('pickles/all_topic_vectors_'+str(max_features)+'.pk', 'wb') as fin:\n",
    "#    pickle.dump(all_vectors, fin)\n",
    "with open('pickles/all_topic_features_'+str(max_features)+'.pk', 'wb') as fin:\n",
    "    pickle.dump(np.array(tfidf_all.get_feature_names()), fin) "
   ]
  },
  {
   "cell_type": "code",
   "execution_count": 275,
   "metadata": {},
   "outputs": [],
   "source": [
    "#with open('pickles/neg_topic_vectors_'+str(max_features)+'.pk', 'rb') as fin:\n",
    "#    neg_vectors = pickle.load(fin)\n",
    "with open('pickles/neg_topic_features_'+str(max_features)+'.pk', 'rb') as fin:\n",
    "    neg_feature_names = pickle.load(fin)"
   ]
  },
  {
   "cell_type": "code",
   "execution_count": 276,
   "metadata": {},
   "outputs": [],
   "source": [
    "#with open('pickles/pos_topic_vectors_'+str(max_features)+'.pk', 'rb') as fin:\n",
    "#    pos_vectors = pickle.load(fin)\n",
    "with open('pickles/pos_topic_features_'+str(max_features)+'.pk', 'rb') as fin:\n",
    "    pos_feature_names = pickle.load(fin)"
   ]
  },
  {
   "cell_type": "code",
   "execution_count": 277,
   "metadata": {},
   "outputs": [],
   "source": [
    "#with open('pickles/all_topic_vectors_'+str(max_features)+'.pk', 'rb') as fin:\n",
    "#    all_vectors = pickle.load(fin)\n",
    "with open('pickles/all_topic_features_'+str(max_features)+'.pk', 'rb') as fin:\n",
    "    all_feature_names = pickle.load(fin)"
   ]
  },
  {
   "cell_type": "code",
   "execution_count": 278,
   "metadata": {},
   "outputs": [
    {
     "data": {
      "text/plain": [
       "(3527902, 5000)"
      ]
     },
     "execution_count": 278,
     "metadata": {},
     "output_type": "execute_result"
    }
   ],
   "source": [
    "all_vectors.get_shape()"
   ]
  },
  {
   "cell_type": "markdown",
   "metadata": {},
   "source": [
    "# LSA"
   ]
  },
  {
   "cell_type": "code",
   "execution_count": 285,
   "metadata": {},
   "outputs": [],
   "source": [
    "NUM_TOPICS = 50"
   ]
  },
  {
   "cell_type": "code",
   "execution_count": 286,
   "metadata": {},
   "outputs": [
    {
     "name": "stdout",
     "output_type": "stream",
     "text": [
      "Wall time: 1min 45s\n"
     ]
    }
   ],
   "source": [
    "%%time\n",
    "# LSA\n",
    "from gensim import corpora, models, similarities, matutils\n",
    "\n",
    "# Convert sparse matrix of counts to a gensim corpus\n",
    "# Need to transpose it for gensim which wants terms by docs instead of docs by terms\n",
    "tfidf_pos_corpus = matutils.Sparse2Corpus(pos_vectors.transpose())\n",
    "tfidf_neg_corpus = matutils.Sparse2Corpus(neg_vectors.transpose())\n",
    "tfidf_all_corpus = matutils.Sparse2Corpus(all_vectors.transpose())\n",
    "\n",
    "# Row indices\n",
    "id2word_pos = dict((v,k) for k,v in tfidf_pos.vocabulary_.items())\n",
    "id2word_neg = dict((v,k) for k,v in tfidf_neg.vocabulary_.items())\n",
    "id2word_all = dict((v,k) for k,v in tfidf_all.vocabulary_.items())\n",
    "\n",
    "# This is a hack for Python 3!\n",
    "id2word_pos = corpora.Dictionary.from_corpus(tfidf_pos_corpus, id2word=id2word_pos)\n",
    "id2word_neg = corpora.Dictionary.from_corpus(tfidf_neg_corpus, id2word=id2word_neg)\n",
    "id2word_all = corpora.Dictionary.from_corpus(tfidf_all_corpus, id2word=id2word_all)\n",
    "\n",
    "#  Stats\n",
    "## Wall time: 1min 21s"
   ]
  },
  {
   "cell_type": "code",
   "execution_count": 287,
   "metadata": {},
   "outputs": [
    {
     "name": "stdout",
     "output_type": "stream",
     "text": [
      "Wall time: 7min 33s\n"
     ]
    }
   ],
   "source": [
    "%%time\n",
    "# create LSA model\n",
    "lsi_pos = models.LsiModel(tfidf_pos_corpus, id2word=id2word_pos, num_topics=NUM_TOPICS)\n",
    "lsi_neg = models.LsiModel(tfidf_neg_corpus, id2word=id2word_neg, num_topics=NUM_TOPICS)\n",
    "lsi_all = models.LsiModel(tfidf_all_corpus, id2word=id2word_all, num_topics=NUM_TOPICS)\n",
    "\n",
    "#  Stats\n",
    "## Wall time: 13min 3s"
   ]
  },
  {
   "cell_type": "code",
   "execution_count": 288,
   "metadata": {},
   "outputs": [
    {
     "name": "stdout",
     "output_type": "stream",
     "text": [
      "Wall time: 0 ns\n"
     ]
    }
   ],
   "source": [
    "%%time\n",
    "# negative values in LSA topics are annoying\n",
    "# let's see if we can fix that with NMF\n",
    "from sklearn.decomposition import NMF"
   ]
  },
  {
   "cell_type": "code",
   "execution_count": 289,
   "metadata": {},
   "outputs": [],
   "source": [
    "%%time\n",
    "# change num_topics\n",
    "num_topics = NUM_TOPICS"
   ]
  },
  {
   "cell_type": "code",
   "execution_count": 290,
   "metadata": {},
   "outputs": [],
   "source": [
    "%%time\n",
    "nmf_pos = NMF(n_components=num_topics)\n",
    "W_pos = nmf_pos.fit_transform(pos_vectors)\n",
    "H_pos = nmf_pos.components_"
   ]
  },
  {
   "cell_type": "code",
   "execution_count": 291,
   "metadata": {},
   "outputs": [],
   "source": [
    "%%time\n",
    "nmf_neg = NMF(n_components=num_topics)\n",
    "W_neg = nmf_neg.fit_transform(neg_vectors)\n",
    "H_neg = nmf_neg.components_"
   ]
  },
  {
   "cell_type": "code",
   "execution_count": 292,
   "metadata": {},
   "outputs": [],
   "source": [
    "%%time\n",
    "nmf_all = NMF(n_components=num_topics)\n",
    "W_all = nmf_all.fit_transform(all_vectors)\n",
    "H_all = nmf_all.components_"
   ]
  },
  {
   "cell_type": "markdown",
   "metadata": {},
   "source": [
    "### Checkpointing: dump processed won in pickles"
   ]
  },
  {
   "cell_type": "code",
   "execution_count": 301,
   "metadata": {},
   "outputs": [],
   "source": [
    "# Save models for future use\n",
    "with open('pickles/neg_topic_model.pk', 'wb') as fin:\n",
    "    pickle.dump(lsi_neg, fin)\n",
    "with open('pickles/pos_topic_model.pk', 'wb') as fin:\n",
    "    pickle.dump(lsi_pos, fin)\n",
    "with open('pickles/all_topic_model.pk', 'wb') as fin:\n",
    "    pickle.dump(lsi_all, fin)        "
   ]
  },
  {
   "cell_type": "code",
   "execution_count": 302,
   "metadata": {},
   "outputs": [],
   "source": [
    "# Save models for future use\n",
    "with open('pickles/neg_nmf_model.pk', 'wb') as fin:\n",
    "    pickle.dump(nmf_neg, fin)\n",
    "with open('pickles/pos_nmf_model.pk', 'wb') as fin:\n",
    "    pickle.dump(nmf_pos, fin)\n",
    "with open('pickles/all_nmf_model.pk', 'wb') as fin:\n",
    "    pickle.dump(nmf_all, fin)"
   ]
  },
  {
   "cell_type": "markdown",
   "metadata": {},
   "source": [
    "##### Load saved pickles and resume"
   ]
  },
  {
   "cell_type": "code",
   "execution_count": 345,
   "metadata": {},
   "outputs": [],
   "source": [
    "max_features=2500\n",
    "num_topics  =100"
   ]
  },
  {
   "cell_type": "code",
   "execution_count": 346,
   "metadata": {},
   "outputs": [],
   "source": [
    "with open('pickles/all_topic_model.pk', 'rb') as fin:\n",
    "    lsi_all = pickle.load(fin)\n",
    "with open('pickles/pos_topic_model.pk', 'rb') as fin:\n",
    "    lsi_pos = pickle.load(fin)\n",
    "with open('pickles/neg_topic_model.pk', 'rb') as fin:\n",
    "    lsi_neg = pickle.load(fin)"
   ]
  },
  {
   "cell_type": "code",
   "execution_count": 347,
   "metadata": {},
   "outputs": [],
   "source": [
    "with open('pickles/neg_nmf_model.pk', 'rb') as fin:\n",
    "    nmf_neg = pickle.load(fin)\n",
    "with open('pickles/pos_nmf_model.pk', 'rb') as fin:\n",
    "    nmf_pos = pickle.load(fin)\n",
    "with open('pickles/all_nmf_model.pk', 'rb') as fin:\n",
    "    nmf_all = pickle.load(fin)"
   ]
  },
  {
   "cell_type": "code",
   "execution_count": 348,
   "metadata": {},
   "outputs": [],
   "source": [
    "with open('pickles/all_topic_features_'+str(max_features)+'.pk', 'rb') as fin:\n",
    "    all_feature_names = pickle.load(fin)"
   ]
  },
  {
   "cell_type": "code",
   "execution_count": 349,
   "metadata": {},
   "outputs": [],
   "source": [
    "with open('pickles/pos_topic_features_'+str(max_features)+'.pk', 'rb') as fin:\n",
    "    pos_feature_names = pickle.load(fin)"
   ]
  },
  {
   "cell_type": "code",
   "execution_count": 350,
   "metadata": {},
   "outputs": [],
   "source": [
    "with open('pickles/neg_topic_features_'+str(max_features)+'.pk', 'rb') as fin:\n",
    "    neg_feature_names = pickle.load(fin)"
   ]
  },
  {
   "cell_type": "code",
   "execution_count": 352,
   "metadata": {},
   "outputs": [],
   "source": [
    "with open('pickles/topic_term_vector_all.pk', 'rb') as fin:\n",
    "    term_vector = pickle.load(fin)"
   ]
  },
  {
   "cell_type": "code",
   "execution_count": 334,
   "metadata": {},
   "outputs": [],
   "source": [
    "def get_topic_list(model, feature_names, num_topics, no_top_words):\n",
    "    lst = []\n",
    "    for topic_idx, topic in enumerate(model.components_):\n",
    "        if topic_idx < num_topics:\n",
    "            #print(\"{:11}\".format(\"Topic %d:\" %(topic_idx)), end='')\n",
    "            #print(\", \".join(['{:04.3f}*'.format(topic[i])+feature_names[i] for i in topic.argsort()[:-no_top_words-1:-1]]))\n",
    "            lst.append('/'.join(sort_list([feature_names[i]+\" \" for i in topic.argsort()[:-no_top_words-1:-1]])))\n",
    "    return((list((set(lst)))))"
   ]
  },
  {
   "cell_type": "code",
   "execution_count": 335,
   "metadata": {},
   "outputs": [],
   "source": [
    "def get_topic_map(model, feature_names, num_topics, no_top_words):\n",
    "    dicty = {}\n",
    "    for topic_idx, topic in enumerate(model.components_):\n",
    "        if topic_idx < num_topics:\n",
    "            dicty[topic_idx]='/'.join(sort_list([feature_names[i]+\" \" for i in topic.argsort()[:-no_top_words-1:-1]]))\n",
    "    return dicty"
   ]
  },
  {
   "cell_type": "code",
   "execution_count": 336,
   "metadata": {},
   "outputs": [],
   "source": [
    "def display_topics(model, feature_names, num_topics, no_top_words):\n",
    "    for topic_idx, topic in enumerate(model.components_):\n",
    "        if topic_idx < num_topics:\n",
    "            print(\"{:11}\".format(\"Topic %d:\" %(topic_idx)), end='')\n",
    "            print(\", \".join(['{:04.3f}*'.format(topic[i])+feature_names[i] \\\n",
    "                             for i in topic.argsort()[:-no_top_words-1:-1]]))"
   ]
  },
  {
   "cell_type": "code",
   "execution_count": 337,
   "metadata": {},
   "outputs": [],
   "source": [
    "def topic_to_text(topic):\n",
    "    str = ''\n",
    "    for elem in list(topic)[1].split('+')[:6]:\n",
    "        str+= '/'.join(re.findall(r'\"([^\"]*)\"', elem))+' '\n",
    "    topics.append(str)"
   ]
  },
  {
   "cell_type": "code",
   "execution_count": 338,
   "metadata": {},
   "outputs": [],
   "source": [
    "def sort_list(lst):\n",
    "    return list(sorted(set(reduce(operator.concat, lst).split())))"
   ]
  },
  {
   "cell_type": "code",
   "execution_count": 315,
   "metadata": {},
   "outputs": [
    {
     "name": "stdout",
     "output_type": "stream",
     "text": [
      "['reservation/seat/table/waiter', 'atmosphere/favorite/husband/love', 'atmosphere/food/good-service/quality', 'crust/good-pizza/pizza/slice', 'good/mexican-food/not-great/town', 'bacon/burger/good-burger/shake', 'atmosphere/definitely/great/highly-recommend', 'chef/fish/sashimi/sushi', 'bill/charge/dollar/spend', 'shrimp/street/taco/tuesday', 'burrito/chip/fish/salsa', 'feel/like/more/much', 'chicken/rice/waffle/wing', 'couple/second-time/time/visit', 'customer/great-customer/service/slow', 'bread/pulled-pork/sandwich/turkey', 'attentive/friendly/helpful/staff', 'absolutely/amazing/highly-recommend/not-wait', 'atmosphere/enjoy/experience/meal', 'absolutely/definitely/delicious/highly-recommend', 'great-atmosphere/great-food/great-service/highly-recommend', 'leave/manager/people/tell', 'dinner/lunch/special/today', 'caesar/dress/pasta/salad', 'dish/noodle/rice/soup', 'hour/line/minute/wait', 'breakfast/brunch/coffee/pancake', 'item/menu/offer/option', 'bartender/drink/night/refill', 'beer/selection/wine/wing', 'attentive/bring/check/server', 'decent/much/not-bad/pretty', 'awesome/definitely/highly-recommend/thank', 'portion/price/quality/reasonable', 'appetizer/happy-hour/special/wing', 'clean/inside/nice/outside', 'area/drive/location/visit', 'cook/dinner/medium-rare/steak', 'bacon/cheese/grill/mac-n', 'fast/friendly-staff/super/yummy', 'because/reason/review/star', 'friendly-staff/good-food/good-service/recommend', 'lobster/roll/salmon/shrimp', 'hotel/night/room/stay', 'bland/flavor/not-good/taste', 'family/friend/night/recommend', 'buffet/dessert/line/vegas', 'dinner/excellent/highly-recommend/wife', 'flavor/meat/sauce/wing', 'clean/fast/fresh/tasty']\n",
      "{'friendly-staff/good-food/good-service/recommend', 'reservation/seat/table/waiter', 'clean/inside/nice/outside', 'hotel/night/room/stay', 'chef/fish/sashimi/sushi', 'awesome/definitely/highly-recommend/thank', 'absolutely/definitely/delicious/highly-recommend', 'atmosphere/definitely/great/highly-recommend', 'fast/friendly-staff/super/yummy', 'attentive/friendly/helpful/staff', 'hour/line/minute/wait', 'bill/charge/dollar/spend', 'dish/noodle/rice/soup', 'family/friend/night/recommend', 'shrimp/street/taco/tuesday', 'caesar/dress/pasta/salad', 'couple/second-time/time/visit', 'atmosphere/favorite/husband/love', 'attentive/bring/check/server', 'flavor/meat/sauce/wing', 'bland/flavor/not-good/taste', 'burrito/chip/fish/salsa', 'good/mexican-food/not-great/town', 'decent/much/not-bad/pretty', 'dinner/lunch/special/today', 'clean/fast/fresh/tasty', 'because/reason/review/star', 'crust/good-pizza/pizza/slice', 'great-atmosphere/great-food/great-service/highly-recommend', 'bartender/drink/night/refill', 'bacon/cheese/grill/mac-n', 'buffet/dessert/line/vegas', 'absolutely/amazing/highly-recommend/not-wait', 'bacon/burger/good-burger/shake', 'beer/selection/wine/wing', 'chicken/rice/waffle/wing', 'atmosphere/enjoy/experience/meal', 'dinner/excellent/highly-recommend/wife', 'portion/price/quality/reasonable', 'bread/pulled-pork/sandwich/turkey', 'leave/manager/people/tell', 'feel/like/more/much', 'atmosphere/food/good-service/quality', 'cook/dinner/medium-rare/steak', 'lobster/roll/salmon/shrimp', 'area/drive/location/visit', 'customer/great-customer/service/slow', 'appetizer/happy-hour/special/wing', 'item/menu/offer/option', 'breakfast/brunch/coffee/pancake'}\n",
      "['dish/meat/sauce/serve', 'atmosphere/food/good-service/quality', 'atmosphere/husband/love/yummy', 'crust/good-pizza/pizza/slice', 'chinese-food/good/mexican-food/not-good', 'bacon/burger/good-burger/shake', 'atmosphere/definitely/friendly-service/great', 'chef/fish/sashimi/sushi', 'customer/fast/great-customer/service', 'chip/fish/salsa/taco', 'family/spot/town/year', 'attentive/friendly/helpful/staff', 'couple/time/today/week', 'absolutely/amazing/definitely/not-wait', 'atmosphere/friendly-staff/great-atmosphere/great-food', 'feel/like/more/taste', 'absolutely/definitely/delicious/husband', 'bread/meat/sandwich/turkey', 'buffet/dollar/include/person', 'chicken/rice/waffle/wing', 'minute/table/wait/worth', 'buffet/dinner/lunch/special', 'awesome/bartender/definitely/not-wait', 'clean/inside/nice/owner', 'area/find/room/stay', 'caesar/dress/potato/salad', 'breakfast/burrito/coffee/pancake', 'amazing-food/delicious-food/great-service/thank', 'item/menu/offer/option', 'atmosphere/bartender/coffee/drink', 'beer/selection/wine/wing', 'appetizer/definitely/excellent/wife', 'buffet/strip/trip/vegas', 'fast/friendly-staff/super/yummy', 'friendly-staff/good-food/good-price/good-service', 'cool/much/pretty/tasty', 'clean/fresh/taste/tasty', 'amazing-food/excellent-service/fantastic/highly-recommend', 'bring/friend/meet/recommend', 'atmosphere/enjoy/experience/meal', 'attentive/experience/server/thank', 'portion/price/quality/reasonable', 'because/reason/review/star', 'lobster/roll/salmon/shrimp', 'dinner/night/steak/wine', 'beef/noodle/rice/soup', 'cheese/grill/mac-n/steak', 'location/not-wait/phoenix/visit', 'absolute/favorite/mexican/mexican-food', 'appetizer/happy-hour/special/wing']\n",
      "{'bread/meat/sandwich/turkey', 'beef/noodle/rice/soup', 'chef/fish/sashimi/sushi', 'customer/fast/great-customer/service', 'chinese-food/good/mexican-food/not-good', 'fast/friendly-staff/super/yummy', 'attentive/friendly/helpful/staff', 'amazing-food/delicious-food/great-service/thank', 'minute/table/wait/worth', 'dinner/night/steak/wine', 'cool/much/pretty/tasty', 'absolutely/amazing/definitely/not-wait', 'appetizer/definitely/excellent/wife', 'clean/fresh/taste/tasty', 'attentive/experience/server/thank', 'absolute/favorite/mexican/mexican-food', 'atmosphere/bartender/coffee/drink', 'clean/inside/nice/owner', 'feel/like/more/taste', 'dish/meat/sauce/serve', 'area/find/room/stay', 'absolutely/definitely/delicious/husband', 'because/reason/review/star', 'crust/good-pizza/pizza/slice', 'friendly-staff/good-food/good-price/good-service', 'bacon/burger/good-burger/shake', 'beer/selection/wine/wing', 'breakfast/burrito/coffee/pancake', 'family/spot/town/year', 'chicken/rice/waffle/wing', 'chip/fish/salsa/taco', 'buffet/dinner/lunch/special', 'buffet/strip/trip/vegas', 'buffet/dollar/include/person', 'couple/time/today/week', 'atmosphere/enjoy/experience/meal', 'amazing-food/excellent-service/fantastic/highly-recommend', 'portion/price/quality/reasonable', 'caesar/dress/potato/salad', 'atmosphere/definitely/friendly-service/great', 'location/not-wait/phoenix/visit', 'atmosphere/food/good-service/quality', 'bring/friend/meet/recommend', 'awesome/bartender/definitely/not-wait', 'atmosphere/friendly-staff/great-atmosphere/great-food', 'cheese/grill/mac-n/steak', 'lobster/roll/salmon/shrimp', 'appetizer/happy-hour/special/wing', 'item/menu/offer/option', 'atmosphere/husband/love/yummy'}\n",
      "['friendly/member/rude/staff', 'line/long/not-worth/wait', 'crust/delivery/pizza/slice', 'bill/charge/dollar/spend', 'breast/chicken/piece/waffle', 'cold/food/poisoning/quality', 'bacon/burger/cook/patty', 'dinner/husband/meal/night', 'feel/like/more/smell', 'fish/roll/sashimi/sushi', 'horrible/service/slow/terrible', 'money/not-waste/time/waste', 'check/hotel/room/stay', 'bartender/drink/happy-hour/refill', 'chip/fish/salsa/taco', 'bread/lunch/sandwich/turkey', 'arrive/later/minute/ready', 'bill/bring/check/server', 'chair/dirty/hostess/table', 'caesar/dress/lettuce/salad', 'love/more/review/year', 'average/good/mediocre/not-taste', 'because/not-want/reason/star', 'drive/employee/location/love', 'cook/medium/medium-rare/steak', 'beef/bowl/noodle/soup', 'bill/bring/check/waitress', 'high/not-worth/price/quality', 'customer/employee/owner/rude', 'experience/not-bad/not-good/not-recommend', 'bill/bring/check/waiter', 'bartender/beer/happy-hour/selection', 'bacon/cheese/grill/mac-n', 'change/item/lunch/menu', 'birthday/friend/group/night', 'bland/horrible/money/taste', 'close/delivery/half/hour', 'group/line/people/work', 'bacon/breakfast/coffee/pancake', 'bring/glass/refill/water', 'buffet/line/lunch/vegas', 'buffalo/cold/sauce/wing', 'manager/phone/speak/tell', 'away/door/stand/walk', 'bland/much/nice/pretty', 'dish/flavor/meat/sauce', 'decide/feel/hungry/leave', 'bean/burrito/rice/shrimp', 'bread/cold/plate/serve', 'hostess/party/reservation/seat']\n",
      "{'birthday/friend/group/night', 'buffet/line/lunch/vegas', 'arrive/later/minute/ready', 'crust/delivery/pizza/slice', 'bland/much/nice/pretty', 'close/delivery/half/hour', 'friendly/member/rude/staff', 'dish/flavor/meat/sauce', 'decide/feel/hungry/leave', 'experience/not-bad/not-good/not-recommend', 'bill/bring/check/waiter', 'bill/charge/dollar/spend', 'bread/lunch/sandwich/turkey', 'bill/bring/check/waitress', 'group/line/people/work', 'change/item/lunch/menu', 'feel/like/more/smell', 'check/hotel/room/stay', 'because/not-want/reason/star', 'drive/employee/location/love', 'breast/chicken/piece/waffle', 'high/not-worth/price/quality', 'cold/food/poisoning/quality', 'beef/bowl/noodle/soup', 'bartender/beer/happy-hour/selection', 'manager/phone/speak/tell', 'cook/medium/medium-rare/steak', 'average/good/mediocre/not-taste', 'customer/employee/owner/rude', 'bacon/cheese/grill/mac-n', 'horrible/service/slow/terrible', 'bread/cold/plate/serve', 'dinner/husband/meal/night', 'chair/dirty/hostess/table', 'chip/fish/salsa/taco', 'bland/horrible/money/taste', 'bill/bring/check/server', 'bartender/drink/happy-hour/refill', 'money/not-waste/time/waste', 'love/more/review/year', 'buffalo/cold/sauce/wing', 'bacon/breakfast/coffee/pancake', 'hostess/party/reservation/seat', 'line/long/not-worth/wait', 'bacon/burger/cook/patty', 'fish/roll/sashimi/sushi', 'bring/glass/refill/water', 'caesar/dress/lettuce/salad', 'bean/burrito/rice/shrimp', 'away/door/stand/walk'}\n"
     ]
    }
   ],
   "source": [
    "topic_list = []\n",
    "no_topics = num_topics\n",
    "no_top_words = 4\n",
    "\n",
    "topic_list.extend(get_topic_list(nmf_all, all_feature_names, no_topics, no_top_words))\n",
    "topic_list.extend(get_topic_list(nmf_pos, pos_feature_names, no_topics, no_top_words))\n",
    "topic_list.extend(get_topic_list(nmf_neg, neg_feature_names, no_topics, no_top_words))"
   ]
  },
  {
   "cell_type": "code",
   "execution_count": 316,
   "metadata": {},
   "outputs": [],
   "source": [
    "with open('config/topic_map.csv','w+') as f:\n",
    "    f.write('\\n'.join(topic_list))"
   ]
  },
  {
   "cell_type": "code",
   "execution_count": 313,
   "metadata": {},
   "outputs": [
    {
     "name": "stdout",
     "output_type": "stream",
     "text": [
      "Topic 0:   33.337*table, 5.764*seat, 3.771*waiter, 3.330*reservation\n",
      "Topic 1:   21.926*love, 0.749*favorite, 0.729*atmosphere, 0.612*husband\n",
      "Topic 2:   17.797*food, 0.987*quality, 0.644*good-service, 0.490*atmosphere\n",
      "Topic 3:   12.232*pizza, 1.139*crust, 0.937*good-pizza, 0.929*slice\n",
      "Topic 4:   12.691*good, 0.303*mexican-food, 0.232*not-great, 0.201*town\n",
      "Topic 5:   10.957*burger, 0.773*good-burger, 0.666*shake, 0.609*bacon\n",
      "Topic 6:   24.622*great, 0.568*atmosphere, 0.476*definitely, 0.397*highly-recommend\n",
      "Topic 7:   13.027*sushi, 1.141*chef, 0.969*sashimi, 0.784*fish\n",
      "Topic 8:   12.118*dollar, 0.899*charge, 0.665*bill, 0.599*spend\n",
      "Topic 9:   20.075*taco, 1.211*shrimp, 1.145*tuesday, 1.138*street\n",
      "Topic 10:  6.234*chip, 5.259*fish, 4.631*salsa, 3.989*burrito\n",
      "Topic 11:  17.191*like, 3.683*feel, 1.813*more, 0.678*much\n",
      "Topic 12:  11.849*chicken, 1.325*waffle, 0.648*wing, 0.531*rice\n",
      "Topic 13:  12.010*time, 0.805*visit, 0.444*couple, 0.388*second-time\n",
      "Topic 14:  13.629*service, 1.709*customer, 1.072*slow, 0.743*great-customer\n",
      "Topic 15:  18.743*sandwich, 1.836*bread, 1.158*turkey, 0.587*pulled-pork\n",
      "Topic 16:  11.716*staff, 9.748*friendly, 1.723*helpful, 1.571*attentive\n",
      "Topic 17:  11.589*amazing, 0.756*absolutely, 0.655*highly-recommend, 0.413*not-wait\n",
      "Topic 18:  15.901*enjoy, 5.632*meal, 1.785*atmosphere, 1.461*experience\n",
      "Topic 19:  18.048*delicious, 1.699*absolutely, 0.967*definitely, 0.930*highly-recommend\n",
      "Topic 20:  15.189*great-food, 9.976*great-service, 1.028*great-atmosphere, 0.861*highly-recommend\n",
      "Topic 21:  8.703*tell, 7.330*people, 5.595*manager, 5.115*leave\n",
      "Topic 22:  13.758*lunch, 2.992*dinner, 1.663*special, 1.308*today\n",
      "Topic 23:  11.987*salad, 0.882*dress, 0.821*caesar, 0.681*pasta\n",
      "Topic 24:  10.748*soup, 9.707*dish, 8.646*rice, 6.310*noodle\n",
      "Topic 25:  19.569*wait, 11.386*minute, 3.233*hour, 2.684*line\n",
      "Topic 26:  15.870*breakfast, 8.078*coffee, 3.700*pancake, 2.618*brunch\n",
      "Topic 27:  16.935*menu, 3.574*item, 1.760*option, 0.847*offer\n",
      "Topic 28:  13.902*drink, 1.378*bartender, 0.901*night, 0.556*refill\n",
      "Topic 29:  13.269*beer, 3.698*selection, 1.319*wine, 1.259*wing\n",
      "Topic 30:  15.794*server, 1.606*attentive, 0.930*bring, 0.926*check\n",
      "Topic 31:  12.494*pretty, 1.008*much, 0.713*decent, 0.551*not-bad\n",
      "Topic 32:  11.125*awesome, 0.402*thank, 0.339*highly-recommend, 0.306*definitely\n",
      "Topic 33:  15.037*price, 2.029*quality, 1.911*reasonable, 1.161*portion\n",
      "Topic 34:  14.604*happy-hour, 2.122*special, 1.367*wing, 1.025*appetizer\n",
      "Topic 35:  12.655*nice, 1.233*clean, 0.805*inside, 0.628*outside\n",
      "Topic 36:  13.195*location, 1.893*visit, 0.847*area, 0.546*drive\n",
      "Topic 37:  11.845*steak, 2.255*cook, 1.575*dinner, 0.697*medium-rare\n",
      "Topic 38:  11.636*cheese, 1.545*grill, 1.234*mac-n, 1.186*bacon\n",
      "Topic 39:  11.438*super, 0.814*yummy, 0.680*friendly-staff, 0.606*fast\n",
      "Topic 40:  11.301*because, 7.495*star, 1.491*reason, 1.199*review\n",
      "Topic 41:  10.515*good-food, 2.380*good-service, 0.606*friendly-staff, 0.481*recommend\n",
      "Topic 42:  11.667*roll, 1.092*lobster, 0.972*shrimp, 0.767*salmon\n",
      "Topic 43:  9.281*room, 4.920*stay, 3.233*night, 2.779*hotel\n",
      "Topic 44:  12.104*taste, 1.082*flavor, 0.594*not-good, 0.529*bland\n",
      "Topic 45:  10.073*friend, 1.960*recommend, 1.826*family, 1.457*night\n",
      "Topic 46:  7.304*buffet, 5.503*vegas, 1.253*dessert, 0.858*line\n",
      "Topic 47:  10.067*excellent, 2.751*highly-recommend, 0.555*wife, 0.296*dinner\n",
      "Topic 48:  7.283*sauce, 4.633*meat, 1.368*flavor, 1.197*wing\n",
      "Topic 49:  9.883*fresh, 2.448*tasty, 0.784*clean, 0.653*fast\n"
     ]
    }
   ],
   "source": [
    "display_topics(nmf_all, all_feature_names, no_topics, no_top_words)"
   ]
  },
  {
   "cell_type": "code",
   "execution_count": 314,
   "metadata": {},
   "outputs": [
    {
     "data": {
      "text/plain": [
       "{0: 'reservation/seat/table/waiter',\n",
       " 1: 'atmosphere/favorite/husband/love',\n",
       " 2: 'atmosphere/food/good-service/quality',\n",
       " 3: 'crust/good-pizza/pizza/slice',\n",
       " 4: 'good/mexican-food/not-great/town',\n",
       " 5: 'bacon/burger/good-burger/shake',\n",
       " 6: 'atmosphere/definitely/great/highly-recommend',\n",
       " 7: 'chef/fish/sashimi/sushi',\n",
       " 8: 'bill/charge/dollar/spend',\n",
       " 9: 'shrimp/street/taco/tuesday',\n",
       " 10: 'burrito/chip/fish/salsa',\n",
       " 11: 'feel/like/more/much',\n",
       " 12: 'chicken/rice/waffle/wing',\n",
       " 13: 'couple/second-time/time/visit',\n",
       " 14: 'customer/great-customer/service/slow',\n",
       " 15: 'bread/pulled-pork/sandwich/turkey',\n",
       " 16: 'attentive/friendly/helpful/staff',\n",
       " 17: 'absolutely/amazing/highly-recommend/not-wait',\n",
       " 18: 'atmosphere/enjoy/experience/meal',\n",
       " 19: 'absolutely/definitely/delicious/highly-recommend',\n",
       " 20: 'great-atmosphere/great-food/great-service/highly-recommend',\n",
       " 21: 'leave/manager/people/tell',\n",
       " 22: 'dinner/lunch/special/today',\n",
       " 23: 'caesar/dress/pasta/salad',\n",
       " 24: 'dish/noodle/rice/soup',\n",
       " 25: 'hour/line/minute/wait',\n",
       " 26: 'breakfast/brunch/coffee/pancake',\n",
       " 27: 'item/menu/offer/option',\n",
       " 28: 'bartender/drink/night/refill',\n",
       " 29: 'beer/selection/wine/wing',\n",
       " 30: 'attentive/bring/check/server',\n",
       " 31: 'decent/much/not-bad/pretty',\n",
       " 32: 'awesome/definitely/highly-recommend/thank',\n",
       " 33: 'portion/price/quality/reasonable',\n",
       " 34: 'appetizer/happy-hour/special/wing',\n",
       " 35: 'clean/inside/nice/outside',\n",
       " 36: 'area/drive/location/visit',\n",
       " 37: 'cook/dinner/medium-rare/steak',\n",
       " 38: 'bacon/cheese/grill/mac-n',\n",
       " 39: 'fast/friendly-staff/super/yummy',\n",
       " 40: 'because/reason/review/star',\n",
       " 41: 'friendly-staff/good-food/good-service/recommend',\n",
       " 42: 'lobster/roll/salmon/shrimp',\n",
       " 43: 'hotel/night/room/stay',\n",
       " 44: 'bland/flavor/not-good/taste',\n",
       " 45: 'family/friend/night/recommend',\n",
       " 46: 'buffet/dessert/line/vegas',\n",
       " 47: 'dinner/excellent/highly-recommend/wife',\n",
       " 48: 'flavor/meat/sauce/wing',\n",
       " 49: 'clean/fast/fresh/tasty'}"
      ]
     },
     "execution_count": 314,
     "metadata": {},
     "output_type": "execute_result"
    }
   ],
   "source": [
    "get_topic_map(nmf_all, all_feature_names, no_topics, no_top_words)"
   ]
  },
  {
   "cell_type": "code",
   "execution_count": null,
   "metadata": {},
   "outputs": [],
   "source": []
  },
  {
   "cell_type": "code",
   "execution_count": 317,
   "metadata": {},
   "outputs": [],
   "source": [
    "with open('config/all_topics.txt', 'w') as f:\n",
    "    f.write('\\n'.join([str(key)+\";\"+str(value) for key, value in get_topic_map(nmf_all, all_feature_names, no_topics, no_top_words).items()]))"
   ]
  },
  {
   "cell_type": "code",
   "execution_count": 318,
   "metadata": {},
   "outputs": [],
   "source": [
    "with open('config/neg_topics.txt', 'w') as f:\n",
    "    f.write('\\n'.join([str(key)+\";\"+str(value) for key, value in get_topic_map(nmf_neg, neg_feature_names, no_topics, no_top_words).items()]))"
   ]
  },
  {
   "cell_type": "code",
   "execution_count": 319,
   "metadata": {},
   "outputs": [],
   "source": [
    "with open('config/pos_topics.txt', 'w') as f:\n",
    "    f.write('\\n'.join([str(key)+\";\"+str(value) for key, value in get_topic_map(nmf_pos, pos_feature_names, no_topics, no_top_words).items()]))"
   ]
  },
  {
   "cell_type": "code",
   "execution_count": 1,
   "metadata": {},
   "outputs": [],
   "source": [
    "#with open('config/topics.csv', 'w+') as f:\n",
    "#    f.write('\\n'.join(topic_list))"
   ]
  },
  {
   "cell_type": "code",
   "execution_count": null,
   "metadata": {},
   "outputs": [],
   "source": []
  },
  {
   "cell_type": "markdown",
   "metadata": {},
   "source": [
    "## Load everything"
   ]
  },
  {
   "cell_type": "code",
   "execution_count": 3,
   "metadata": {},
   "outputs": [],
   "source": [
    "from pprint import pprint\n",
    "import pandas as pd\n",
    "import numpy as np\n",
    "import matplotlib.pyplot as plt\n",
    "%matplotlib inline\n",
    "import seaborn as sns\n",
    "sns.set()\n",
    "import pickle as pickle\n",
    "import re\n",
    "from functools import reduce \n",
    "import operator\n",
    "from sklearn.feature_extraction.text import TfidfVectorizer"
   ]
  },
  {
   "cell_type": "code",
   "execution_count": 4,
   "metadata": {},
   "outputs": [
    {
     "name": "stdout",
     "output_type": "stream",
     "text": [
      "Wall time: 48.9 s\n"
     ]
    }
   ],
   "source": [
    "%%time\n",
    "# Read the Pre-Processed data\n",
    "restaurant_file = pd.read_csv('processed_data/cleaned_restaurants.csv')\n",
    "restaurant_file = restaurant_file.drop(labels=\"Unnamed: 0\", axis=1)\n",
    "review_file     = pd.read_csv('processed_data/cleaned_reviews.csv')\n",
    "review_file     = review_file.drop(labels=\"Unnamed: 0\", axis=1) \n",
    "\n",
    "review_file['topic_text'] = [u''+str(txt).replace('.','').replace('\\\\n','') for txt in review_file.topic_text]\n",
    "review_file['sentiment_text'] = [u''+str(txt).replace('.','').replace('\\\\n','') for txt in review_file.sentiment_text]\n",
    "review_file['text'] = [u''+str(txt) for txt in review_file.text]\n",
    "review_file['review_length'] = review_file.text.map(len)"
   ]
  },
  {
   "cell_type": "code",
   "execution_count": 5,
   "metadata": {},
   "outputs": [],
   "source": [
    "def tokenizer(x):\n",
    "    return ( w for w in str(x).split() if len(w) >3)"
   ]
  },
  {
   "cell_type": "code",
   "execution_count": 6,
   "metadata": {},
   "outputs": [],
   "source": [
    "max_features=5000\n",
    "\n",
    "with open('pickles/neg_topic_features_'+str(max_features)+'.pk', 'rb') as fin:\n",
    "    neg_feature_names = pickle.load(fin)\n",
    "with open('pickles/pos_topic_features_'+str(max_features)+'.pk', 'rb') as fin:\n",
    "    pos_feature_names = pickle.load(fin)\n",
    "with open('pickles/all_topic_features_'+str(max_features)+'.pk', 'rb') as fin:\n",
    "    all_feature_names = pickle.load(fin)"
   ]
  },
  {
   "cell_type": "code",
   "execution_count": 7,
   "metadata": {},
   "outputs": [],
   "source": [
    "topic_desc_map = {}\n",
    "with open('config/topic_map.txt', 'r') as f:\n",
    "    topic_desc_map = {line.split(';')[0]: line.split(';')[1].replace('\\n','') for line in f.readlines()}\n",
    "\n",
    "neg_topic_map = {}\n",
    "pos_topic_map = {}\n",
    "all_topic_map = {}\n",
    "\n",
    "with open('config/pos_topics.txt', 'r') as f:\n",
    "    pos_topic_map = {line.split(';')[0]: line.split(';')[1].replace('\\n','') for line in f.readlines()}\n",
    "with open('config/neg_topics.txt', 'r') as f:\n",
    "    neg_topic_map = {line.split(';')[0]: line.split(';')[1].replace('\\n','') for line in f.readlines()}\n",
    "with open('config/all_topics.txt', 'r') as f:\n",
    "    all_topic_map = {line.split(';')[0]: line.split(';')[1].replace('\\n','') for line in f.readlines()}\n",
    "    \n",
    "with open('pickles/topic_term_vector_all.pk', 'rb') as fin:\n",
    "    term_vector = pickle.load(fin)\n",
    "    \n",
    "with open('pickles/all_nmf_model.pk', 'rb') as fin:\n",
    "    nmf_all = pickle.load(fin)"
   ]
  },
  {
   "cell_type": "code",
   "execution_count": 8,
   "metadata": {},
   "outputs": [],
   "source": [
    "new_review_text = review_file['text'][0]\n",
    "new_topic_text  = review_file['topic_text'][0]"
   ]
  },
  {
   "cell_type": "code",
   "execution_count": 9,
   "metadata": {},
   "outputs": [
    {
     "name": "stdout",
     "output_type": "stream",
     "text": [
      "My girlfriend and I went for dinner at Emerald Chinese after a Thursday night workout.\n",
      "\n",
      "We arrived around 7:30pm and were seated after a short wait.  After browsing the menu and a brief discussion with our waiter, we ordered seafood noodles and a 3 item mix meat plate (BBQ pork, chicken, and duck)\n",
      "\n",
      "The food came soon thereafter and it was hot and delicious.  There was large portions and lots of seafood in the seafood noodles and the mix meat plate came with good cuts of meat and the correct sauces.\n",
      "\n",
      "After the meal, we received fortune cookies for dessert.\n",
      "\n",
      "\n",
      "Food\n",
      "The food was good quality.  Ingredients tasted fresh and dishes tasted well made.  Food is above average but nothing stood out even though I was quite hungry.\n",
      "\n",
      "Price\n",
      "Price is high in comparative to other Chinese cuisine, and comparable to large western restaurant chains.\n",
      "\n",
      "Service:\n",
      "The service is average to slightly below average.  A common malaise of chinese restaurants is poor service where the waiter/waitresses are overworked, impatient, unattentive.  Emerald Chinese is no exception.  The waiting staff at the restaurant appear rushed and impatient.  All our services needs were met, but the staff was rushed and grumpy..\n",
      "\n",
      "Decor\n",
      "Emerald has tasteful decorations, comfortable chairs and nice tablecloths.  There is sufficient room to navigate between tables.\n",
      "\n",
      "\n",
      "Overall, we had a good meal with large portions, received average service and paid slightly more than we had hoped for our meal.\n",
      "\n",
      "3.1 / 5.0\n"
     ]
    }
   ],
   "source": [
    "print(new_review_text.replace('\\\\n','\\n'))"
   ]
  },
  {
   "cell_type": "code",
   "execution_count": 10,
   "metadata": {},
   "outputs": [
    {
     "name": "stdout",
     "output_type": "stream",
     "text": [
      "girlfriend dinner thursday night workout arrive browse menu brief_discussion waiter seafood noodle item mix meat plate bbq pork chicken duck food lot seafood seafood noodle mix meat plate meat meal receive food food ingredient taste taste food price price service service average waiter waitress overwork exception wait staff rush service need meet staff rush decor navigate table receive pay meal\n"
     ]
    }
   ],
   "source": [
    "print(new_topic_text.replace('\\\\n','\\n'))"
   ]
  },
  {
   "cell_type": "code",
   "execution_count": 11,
   "metadata": {},
   "outputs": [],
   "source": [
    "new_text_vec = term_vector.transform([new_topic_text])"
   ]
  },
  {
   "cell_type": "code",
   "execution_count": 12,
   "metadata": {},
   "outputs": [],
   "source": [
    "text_all = nmf_all.transform(new_text_vec)"
   ]
  },
  {
   "cell_type": "code",
   "execution_count": 13,
   "metadata": {},
   "outputs": [
    {
     "data": {
      "text/plain": [
       "48"
      ]
     },
     "execution_count": 13,
     "metadata": {},
     "output_type": "execute_result"
    }
   ],
   "source": [
    "np.argmax(text_all)"
   ]
  },
  {
   "cell_type": "code",
   "execution_count": 14,
   "metadata": {},
   "outputs": [
    {
     "data": {
      "text/plain": [
       "'flavor/meat/sauce/wing'"
      ]
     },
     "execution_count": 14,
     "metadata": {},
     "output_type": "execute_result"
    }
   ],
   "source": [
    "all_topic_map[str(np.argmax(text_all))]"
   ]
  },
  {
   "cell_type": "code",
   "execution_count": 15,
   "metadata": {},
   "outputs": [
    {
     "data": {
      "text/plain": [
       "'Food veriety & flavors'"
      ]
     },
     "execution_count": 15,
     "metadata": {},
     "output_type": "execute_result"
    }
   ],
   "source": [
    "topic_desc_map[all_topic_map[str(np.argmax(text_all))]]"
   ]
  },
  {
   "cell_type": "code",
   "execution_count": 16,
   "metadata": {},
   "outputs": [
    {
     "ename": "NameError",
     "evalue": "name 'nmf_pos' is not defined",
     "output_type": "error",
     "traceback": [
      "\u001b[1;31m---------------------------------------------------------------------------\u001b[0m",
      "\u001b[1;31mNameError\u001b[0m                                 Traceback (most recent call last)",
      "\u001b[1;32m<ipython-input-16-b7a7011d81be>\u001b[0m in \u001b[0;36m<module>\u001b[1;34m\u001b[0m\n\u001b[1;32m----> 1\u001b[1;33m \u001b[0mtext_pos\u001b[0m \u001b[1;33m=\u001b[0m \u001b[0mnmf_pos\u001b[0m\u001b[1;33m.\u001b[0m\u001b[0mtransform\u001b[0m\u001b[1;33m(\u001b[0m\u001b[0mnew_text_vec\u001b[0m\u001b[1;33m)\u001b[0m\u001b[1;33m\u001b[0m\u001b[1;33m\u001b[0m\u001b[0m\n\u001b[0m",
      "\u001b[1;31mNameError\u001b[0m: name 'nmf_pos' is not defined"
     ]
    }
   ],
   "source": [
    "text_pos = nmf_pos.transform(new_text_vec)"
   ]
  },
  {
   "cell_type": "code",
   "execution_count": null,
   "metadata": {},
   "outputs": [],
   "source": [
    "all_topic_map[str(np.argmax(text_pos))]"
   ]
  },
  {
   "cell_type": "code",
   "execution_count": null,
   "metadata": {},
   "outputs": [],
   "source": [
    "topic_desc_map[all_topic_map[str(np.argmax(text_pos))]]"
   ]
  },
  {
   "cell_type": "code",
   "execution_count": null,
   "metadata": {},
   "outputs": [],
   "source": [
    "text_neg = nmf_neg.transform(new_text_vec)"
   ]
  }
 ],
 "metadata": {
  "kernelspec": {
   "display_name": "Python 3",
   "language": "python",
   "name": "python3"
  },
  "language_info": {
   "codemirror_mode": {
    "name": "ipython",
    "version": 3
   },
   "file_extension": ".py",
   "mimetype": "text/x-python",
   "name": "python",
   "nbconvert_exporter": "python",
   "pygments_lexer": "ipython3",
   "version": "3.7.3"
  }
 },
 "nbformat": 4,
 "nbformat_minor": 2
}
