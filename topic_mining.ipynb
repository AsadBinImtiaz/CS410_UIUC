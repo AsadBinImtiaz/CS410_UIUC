{
 "cells": [
  {
   "cell_type": "code",
   "execution_count": 1,
   "metadata": {},
   "outputs": [],
   "source": [
    "#Topic Mining"
   ]
  },
  {
   "cell_type": "code",
   "execution_count": 2,
   "metadata": {},
   "outputs": [],
   "source": [
    "import pandas as pd\n",
    "import spacy\n",
    "import time\n",
    "import nltk"
   ]
  },
  {
   "cell_type": "code",
   "execution_count": 3,
   "metadata": {},
   "outputs": [],
   "source": [
    "# Only Arizona Businesses, Change if needed\n",
    "restaurant_file='processed_data/cleaned_restaurants.csv'\n",
    "reviews_file   ='processed_data/cleaned_reviews.csv'\n",
    "\n",
    "# Number of topic\n",
    "NUM_TOPICS = 10"
   ]
  },
  {
   "cell_type": "code",
   "execution_count": 4,
   "metadata": {},
   "outputs": [
    {
     "name": "stdout",
     "output_type": "stream",
     "text": [
      "Wall time: 8.84 s\n"
     ]
    }
   ],
   "source": [
    "%%time\n",
    "# This is the large Spacy English Library\n",
    "nlp = spacy.load('en_core_web_lg')"
   ]
  },
  {
   "cell_type": "code",
   "execution_count": 5,
   "metadata": {},
   "outputs": [
    {
     "name": "stdout",
     "output_type": "stream",
     "text": [
      "Wall time: 15 ms\n"
     ]
    }
   ],
   "source": [
    "%%time\n",
    "# Read Businesses\n",
    "all_restaurants = pd.read_csv(restaurant_file).drop(labels='Unnamed: 0', axis=1)"
   ]
  },
  {
   "cell_type": "code",
   "execution_count": 7,
   "metadata": {},
   "outputs": [
    {
     "name": "stdout",
     "output_type": "stream",
     "text": [
      "Wall time: 51 ms\n"
     ]
    }
   ],
   "source": [
    "%%time\n",
    "# Read all reviews\n",
    "all_reviews = pd.read_csv(reviews_file).drop(labels='Unnamed: 0', axis=1).drop(labels='date', axis=1)"
   ]
  },
  {
   "cell_type": "code",
   "execution_count": 8,
   "metadata": {},
   "outputs": [
    {
     "name": "stdout",
     "output_type": "stream",
     "text": [
      "Wall time: 1 ms\n"
     ]
    },
    {
     "data": {
      "text/html": [
       "<div>\n",
       "<style scoped>\n",
       "    .dataframe tbody tr th:only-of-type {\n",
       "        vertical-align: middle;\n",
       "    }\n",
       "\n",
       "    .dataframe tbody tr th {\n",
       "        vertical-align: top;\n",
       "    }\n",
       "\n",
       "    .dataframe thead th {\n",
       "        text-align: right;\n",
       "    }\n",
       "</style>\n",
       "<table border=\"1\" class=\"dataframe\">\n",
       "  <thead>\n",
       "    <tr style=\"text-align: right;\">\n",
       "      <th></th>\n",
       "      <th>business_id</th>\n",
       "      <th>name</th>\n",
       "      <th>business_stars</th>\n",
       "      <th>review_count</th>\n",
       "      <th>review_id</th>\n",
       "      <th>review_stars</th>\n",
       "      <th>useful</th>\n",
       "      <th>text</th>\n",
       "      <th>cleansed_text</th>\n",
       "    </tr>\n",
       "  </thead>\n",
       "  <tbody>\n",
       "    <tr>\n",
       "      <td>0</td>\n",
       "      <td>44YFU284Z3KDEy25QyVoUw</td>\n",
       "      <td>Nee House Chinese Restaurant</td>\n",
       "      <td>3.5</td>\n",
       "      <td>269</td>\n",
       "      <td>QgV9RPyPUC3cAse1Wxqoow</td>\n",
       "      <td>4.0</td>\n",
       "      <td>2</td>\n",
       "      <td>Enjoyed Nee House immensely. No service issues...</td>\n",
       "      <td>enjoy immensely service issue fantastic chines...</td>\n",
       "    </tr>\n",
       "    <tr>\n",
       "      <td>1</td>\n",
       "      <td>44YFU284Z3KDEy25QyVoUw</td>\n",
       "      <td>Nee House Chinese Restaurant</td>\n",
       "      <td>3.5</td>\n",
       "      <td>269</td>\n",
       "      <td>1ZTO6zFtVVxtXclHp4TvHQ</td>\n",
       "      <td>3.0</td>\n",
       "      <td>0</td>\n",
       "      <td>I'm not sure how I rate this restaurant becaus...</td>\n",
       "      <td>not_sure_rate walk_soup_pm destroy need clear ...</td>\n",
       "    </tr>\n",
       "    <tr>\n",
       "      <td>2</td>\n",
       "      <td>44YFU284Z3KDEy25QyVoUw</td>\n",
       "      <td>Nee House Chinese Restaurant</td>\n",
       "      <td>3.5</td>\n",
       "      <td>269</td>\n",
       "      <td>h17ep5S7O8_JMKovooWoVA</td>\n",
       "      <td>5.0</td>\n",
       "      <td>0</td>\n",
       "      <td>The food from this place reminds me of home. I...</td>\n",
       "      <td>food remind home taiwanese little island china...</td>\n",
       "    </tr>\n",
       "    <tr>\n",
       "      <td>3</td>\n",
       "      <td>44YFU284Z3KDEy25QyVoUw</td>\n",
       "      <td>Nee House Chinese Restaurant</td>\n",
       "      <td>3.5</td>\n",
       "      <td>269</td>\n",
       "      <td>FVJaiFuf67Dzamax-zq1UQ</td>\n",
       "      <td>4.0</td>\n",
       "      <td>2</td>\n",
       "      <td>Found this place by just driving down the road...</td>\n",
       "      <td>find drive road lunch car decide stop wednesda...</td>\n",
       "    </tr>\n",
       "    <tr>\n",
       "      <td>4</td>\n",
       "      <td>44YFU284Z3KDEy25QyVoUw</td>\n",
       "      <td>Nee House Chinese Restaurant</td>\n",
       "      <td>3.5</td>\n",
       "      <td>269</td>\n",
       "      <td>zqzOcreb9KBTaESR6qbTSg</td>\n",
       "      <td>4.0</td>\n",
       "      <td>2</td>\n",
       "      <td>We eat here on a regular basis.  It's like tha...</td>\n",
       "      <td>eat regular_basis little hole_wall tasty food ...</td>\n",
       "    </tr>\n",
       "  </tbody>\n",
       "</table>\n",
       "</div>"
      ],
      "text/plain": [
       "              business_id                          name  business_stars  \\\n",
       "0  44YFU284Z3KDEy25QyVoUw  Nee House Chinese Restaurant             3.5   \n",
       "1  44YFU284Z3KDEy25QyVoUw  Nee House Chinese Restaurant             3.5   \n",
       "2  44YFU284Z3KDEy25QyVoUw  Nee House Chinese Restaurant             3.5   \n",
       "3  44YFU284Z3KDEy25QyVoUw  Nee House Chinese Restaurant             3.5   \n",
       "4  44YFU284Z3KDEy25QyVoUw  Nee House Chinese Restaurant             3.5   \n",
       "\n",
       "   review_count               review_id  review_stars  useful  \\\n",
       "0           269  QgV9RPyPUC3cAse1Wxqoow           4.0       2   \n",
       "1           269  1ZTO6zFtVVxtXclHp4TvHQ           3.0       0   \n",
       "2           269  h17ep5S7O8_JMKovooWoVA           5.0       0   \n",
       "3           269  FVJaiFuf67Dzamax-zq1UQ           4.0       2   \n",
       "4           269  zqzOcreb9KBTaESR6qbTSg           4.0       2   \n",
       "\n",
       "                                                text  \\\n",
       "0  Enjoyed Nee House immensely. No service issues...   \n",
       "1  I'm not sure how I rate this restaurant becaus...   \n",
       "2  The food from this place reminds me of home. I...   \n",
       "3  Found this place by just driving down the road...   \n",
       "4  We eat here on a regular basis.  It's like tha...   \n",
       "\n",
       "                                       cleansed_text  \n",
       "0  enjoy immensely service issue fantastic chines...  \n",
       "1  not_sure_rate walk_soup_pm destroy need clear ...  \n",
       "2  food remind home taiwanese little island china...  \n",
       "3  find drive road lunch car decide stop wednesda...  \n",
       "4  eat regular_basis little hole_wall tasty food ...  "
      ]
     },
     "execution_count": 8,
     "metadata": {},
     "output_type": "execute_result"
    }
   ],
   "source": [
    "%%time\n",
    "# Top 5 Reviews\n",
    "all_reviews.head()"
   ]
  },
  {
   "cell_type": "code",
   "execution_count": 9,
   "metadata": {},
   "outputs": [],
   "source": [
    "restaurant = all_restaurants.iloc[[1]].business_id.values[0]"
   ]
  },
  {
   "cell_type": "code",
   "execution_count": 10,
   "metadata": {},
   "outputs": [
    {
     "data": {
      "text/plain": [
       "'r8764MtYyt8JhxMvrfM_xQ'"
      ]
     },
     "execution_count": 10,
     "metadata": {},
     "output_type": "execute_result"
    }
   ],
   "source": [
    "restaurant"
   ]
  },
  {
   "cell_type": "code",
   "execution_count": 28,
   "metadata": {},
   "outputs": [],
   "source": [
    "reviews = all_reviews[all_reviews.business_id == restaurant].cleansed_text"
   ]
  },
  {
   "cell_type": "code",
   "execution_count": 16,
   "metadata": {},
   "outputs": [],
   "source": [
    "reviews = reviews.replace('_',' ')"
   ]
  },
  {
   "cell_type": "code",
   "execution_count": 29,
   "metadata": {},
   "outputs": [],
   "source": [
    "from sklearn.decomposition import NMF, LatentDirichletAllocation, TruncatedSVD\n",
    "from sklearn.feature_extraction.text import CountVectorizer\n",
    "from sklearn.manifold import TSNE\n",
    "import concurrent.futures"
   ]
  },
  {
   "cell_type": "code",
   "execution_count": 30,
   "metadata": {},
   "outputs": [
    {
     "name": "stderr",
     "output_type": "stream",
     "text": [
      "<>:2: DeprecationWarning: invalid escape sequence \\-\n",
      "<>:2: DeprecationWarning: invalid escape sequence \\-\n",
      "<>:2: DeprecationWarning: invalid escape sequence \\-\n",
      "<ipython-input-30-201495e0687b>:2: DeprecationWarning: invalid escape sequence \\-\n",
      "  vectorizer = CountVectorizer(min_df=5, max_df=0.9, stop_words='english', lowercase=True, token_pattern='[a-zA-Z\\-][a-zA-Z\\-]{2,}')\n"
     ]
    }
   ],
   "source": [
    "# Creating a vectorizer\n",
    "vectorizer = CountVectorizer(min_df=5, max_df=0.9, stop_words='english', lowercase=True, token_pattern='[a-zA-Z\\-][a-zA-Z\\-]{2,}')\n",
    "data_vectorized = vectorizer.fit_transform(reviews)"
   ]
  },
  {
   "cell_type": "code",
   "execution_count": 19,
   "metadata": {},
   "outputs": [],
   "source": [
    "#pip install pyLDAvis"
   ]
  },
  {
   "cell_type": "code",
   "execution_count": 31,
   "metadata": {},
   "outputs": [],
   "source": [
    "import warnings\n",
    "warnings.filterwarnings('ignore')\n",
    "\n",
    "import pyLDAvis.sklearn\n",
    "from pylab import bone, pcolor, colorbar, plot, show, rcParams, savefig\n"
   ]
  },
  {
   "cell_type": "code",
   "execution_count": 32,
   "metadata": {},
   "outputs": [
    {
     "name": "stdout",
     "output_type": "stream",
     "text": [
      "iteration: 1 of max_iter: 10\n",
      "iteration: 2 of max_iter: 10\n",
      "iteration: 3 of max_iter: 10\n",
      "iteration: 4 of max_iter: 10\n",
      "iteration: 5 of max_iter: 10\n",
      "iteration: 6 of max_iter: 10\n",
      "iteration: 7 of max_iter: 10\n",
      "iteration: 8 of max_iter: 10\n",
      "iteration: 9 of max_iter: 10\n",
      "iteration: 10 of max_iter: 10\n"
     ]
    }
   ],
   "source": [
    "# Latent Dirichlet Allocation Model\n",
    "lda = LatentDirichletAllocation(n_components=NUM_TOPICS, max_iter=10, learning_method='online',verbose=True)\n",
    "data_lda = lda.fit_transform(data_vectorized)"
   ]
  },
  {
   "cell_type": "code",
   "execution_count": 33,
   "metadata": {},
   "outputs": [],
   "source": [
    "# Non-Negative Matrix Factorization Model\n",
    "nmf = NMF(n_components=NUM_TOPICS)\n",
    "data_nmf = nmf.fit_transform(data_vectorized) "
   ]
  },
  {
   "cell_type": "code",
   "execution_count": 34,
   "metadata": {},
   "outputs": [],
   "source": [
    "# Latent Semantic Indexing Model using Truncated SVD\n",
    "lsi = TruncatedSVD(n_components=NUM_TOPICS)\n",
    "data_lsi = lsi.fit_transform(data_vectorized)"
   ]
  },
  {
   "cell_type": "code",
   "execution_count": 35,
   "metadata": {},
   "outputs": [],
   "source": [
    "# Get Topic Name\n",
    "def get_topic_name(tok):\n",
    "    topic_name_toks = []\n",
    "    doc = nlp(\" \".join(tok))\n",
    "    pos = [token.pos_ for token in doc]\n",
    "    \n",
    "    def remove_at(j):\n",
    "        topic_name_toks.append(tok[j].capitalize())\n",
    "        pos.remove(pos[j])\n",
    "        tok.remove(tok[j])\n",
    "    for x in range(5):\n",
    "        i = 0\n",
    "        if x < 3:\n",
    "            if  (\"ADJ\"   in pos) : i = pos.index(\"ADJ\")\n",
    "            elif(\"PROPN\" in pos) : i = pos.index(\"PROPN\")\n",
    "            elif(\"NOUN\"  in pos) : i = pos.index(\"NOUN\")\n",
    "            elif(\"ADV\"   in pos) : i = pos.index(\"ADV\")\n",
    "            elif(\"VERB\"  in pos) : i = pos.index(\"VERB\")\n",
    "            else :i=0\n",
    "        elif x < 5:\n",
    "            if  (\"NOUN\"  in pos) : i = pos.index(\"NOUN\")\n",
    "            elif(\"PROPN\" in pos) : i = pos.index(\"PROPN\")\n",
    "            elif(\"VERB\"  in pos) : i = pos.index(\"VERB\")\n",
    "            elif(\"ADV\"   in pos) : i = pos.index(\"ADV\")\n",
    "            else :i=0\n",
    "        \n",
    "        remove_at(i)\n",
    "    \n",
    "    return \" \".join(topic_name_toks) "
   ]
  },
  {
   "cell_type": "code",
   "execution_count": 36,
   "metadata": {},
   "outputs": [],
   "source": [
    "# Functions for printing keywords for each topic\n",
    "def get_selected_topics(model, vectorizer, top_n=10):\n",
    "    topics = {}\n",
    "    for idx, topic in enumerate(model.components_):\n",
    "        print(\"Topic %d:\" % (idx))\n",
    "        name = get_topic_name([vectorizer.get_feature_names()[i] for i in topic.argsort()[:-top_n - 1:-1]])\n",
    "        print(\"Topic Name: \"+name)\n",
    "        print([(vectorizer.get_feature_names()[i], topic[i])\n",
    "                        for i in topic.argsort()[:-top_n - 1:-1]])\n",
    "        topics[idx]=name\n",
    "    return topics"
   ]
  },
  {
   "cell_type": "code",
   "execution_count": 37,
   "metadata": {},
   "outputs": [
    {
     "name": "stdout",
     "output_type": "stream",
     "text": [
      "LDA Model:\n",
      "Topic 0:\n",
      "Topic Name: Great Good Excellent Sauce Brunch\n",
      "[('brunch', 8.999995434484019), ('sauce', 7.78255723793549), ('egg', 7.752249695219515), ('great', 7.490098285016525), ('good', 5.820838880603943), ('sunday', 5.696408187095436), ('ahi', 5.493595025206661), ('excellent', 5.082582021774999), ('strip', 4.781528920708476), ('pulled', 4.161502160754456)]\n",
      "Topic 1:\n",
      "Topic Name: Good Vintage Food Table Burger\n",
      "[('good', 63.48294716534114), ('food', 57.31009485004116), ('table', 47.71597137267571), ('try', 47.11213291524162), ('burger', 46.775711302558655), ('enjoy', 42.02448840551378), ('vintage', 40.02833875419047), ('server', 39.476529417166105), ('time', 36.2747249171881), ('cheese', 35.378460700959565)]\n",
      "Topic 2:\n",
      "Topic Name: Great Good Nice Food Vintage\n",
      "[('wine', 227.37528831440636), ('great', 164.70623036849145), ('good', 142.86897391041796), ('food', 127.34141881255195), ('nice', 85.85479215954042), ('vintage', 81.52380919598849), ('drink', 78.94106763815549), ('time', 73.28042259874755), ('menu', 70.70635224220199), ('service', 67.4608676858679)]\n",
      "Topic 3:\n",
      "Topic Name: Good Service Wine Food Time\n",
      "[('service', 0.21367731499997553), ('wine', 0.20785079868406434), ('good', 0.1873888252038644), ('food', 0.1835546915675938), ('time', 0.17613829227513536), ('eat', 0.16981544802292106), ('flavor', 0.165842111108319), ('lack', 0.16505370923237905), ('area', 0.1629579797773458), ('bottle', 0.1608960177120214)]\n",
      "Topic 4:\n",
      "Topic Name: Wonderful Heavy Excellent Ice Chef\n",
      "[('brunch', 1.6741051507632005), ('serve', 1.4233551663805102), ('ice', 0.8984693519608993), ('chef', 0.8717440264964187), ('wonderful', 0.840252850247888), ('quality', 0.8388147249202573), ('heavy', 0.8355680300635143), ('cream', 0.7740303634916882), ('disappoint', 0.7724719298024932), ('excellent', 0.7640088622386474)]\n",
      "Topic 5:\n",
      "Topic Name: Groupon Course Waiter Wine Hostess\n",
      "[('course', 19.228307612381457), ('waiter', 16.699809079629752), ('wine', 15.484842767206022), ('hostess', 15.217402155987358), ('belly', 12.182292113006941), ('pork', 11.347006305388307), ('ask', 10.473621249400187), ('groupon', 8.496071513689078), ('salad', 8.40781065462325), ('wife', 8.14202704436363)]\n",
      "Topic 6:\n",
      "Topic Name: Good Salmon Bisque Tomato Taste\n",
      "[('salmon', 9.866889510927013), ('perfectly', 5.505804799403789), ('good', 4.751289572889383), ('tomato', 4.576159635606674), ('taste', 4.225290511224147), ('bisque', 3.7345322920367594), ('husband', 3.657338115395783), ('yelp', 2.8107294196538253), ('birthday', 2.5104268177246154), ('guess', 2.4322806751021777)]\n",
      "Topic 7:\n",
      "Topic Name: Great Wonderful Delicious Bruschetta Love\n",
      "[('great', 18.010676676625256), ('delicious', 15.52779738885006), ('bruschetta', 15.381395076034591), ('love', 12.314391448730403), ('chicken', 10.602356467502661), ('salad', 10.30242352535829), ('food', 8.5944506691112), ('lunch', 8.188514168932173), ('time', 8.128915858070727), ('wonderful', 6.957867028050855)]\n",
      "Topic 8:\n",
      "Topic Name: Great Good Nice Service Atmosphere\n",
      "[('great', 59.42953943461224), ('food', 52.03350723560329), ('good', 46.47642998848931), ('service', 29.24076821795237), ('atmosphere', 25.843060092038876), ('delicious', 17.822158539617625), ('wine', 17.360477734654012), ('patio', 16.7715627028505), ('nice', 15.746064128527053), ('live', 15.391295414629681)]\n",
      "Topic 9:\n",
      "Topic Name: Good Outstanding Smoke Bowl Ambiance\n",
      "[('refill', 0.888233209957423), ('apparently', 0.8747932371142713), ('smoke', 0.8095247775418652), ('continue', 0.5158354429401046), ('good', 0.37837309122993296), ('bowl', 0.34286209448122235), ('outstanding', 0.2904706992059451), ('ambiance', 0.27703219780578103), ('service', 0.25501066925671223), ('glass', 0.23898794396644224)]\n"
     ]
    }
   ],
   "source": [
    "# Keywords for topics clustered by Latent Dirichlet Allocation\n",
    "print(\"LDA Model:\")\n",
    "selected_topics = get_selected_topics(lda, vectorizer)"
   ]
  },
  {
   "cell_type": "code",
   "execution_count": 38,
   "metadata": {},
   "outputs": [
    {
     "data": {
      "text/plain": [
       "{0: 'Great Good Excellent Sauce Brunch',\n",
       " 1: 'Good Vintage Food Table Burger',\n",
       " 2: 'Great Good Nice Food Vintage',\n",
       " 3: 'Good Service Wine Food Time',\n",
       " 4: 'Wonderful Heavy Excellent Ice Chef',\n",
       " 5: 'Groupon Course Waiter Wine Hostess',\n",
       " 6: 'Good Salmon Bisque Tomato Taste',\n",
       " 7: 'Great Wonderful Delicious Bruschetta Love',\n",
       " 8: 'Great Good Nice Service Atmosphere',\n",
       " 9: 'Good Outstanding Smoke Bowl Ambiance'}"
      ]
     },
     "execution_count": 38,
     "metadata": {},
     "output_type": "execute_result"
    }
   ],
   "source": [
    "selected_topics"
   ]
  },
  {
   "cell_type": "code",
   "execution_count": 155,
   "metadata": {},
   "outputs": [],
   "source": [
    "# to be continued"
   ]
  },
  {
   "cell_type": "code",
   "execution_count": null,
   "metadata": {},
   "outputs": [],
   "source": [
    "\n",
    "1> Clean the review -   machine readable (pre processing - remove stopwards, symbols, )\n",
    "2> Aspects > Topics     Topic modelling  ()\n",
    "3> Topics > catagories  catagorization   \n",
    "4> Semetimants > rating score/Aspects > LARA\n",
    "5> Optional > recommending\n",
    "\n",
    "\n",
    "Between 17 - 23 Asad  - Not Available\n",
    "                Karun - Not Available\n",
    "                Ron   - Not Available\n",
    "24 - 31         Asad  - step x \n",
    "                Dec 12 - Dec 16 (4 days)\n",
    "      \n",
    "\n"
   ]
  }
 ],
 "metadata": {
  "kernelspec": {
   "display_name": "Python 3",
   "language": "python",
   "name": "python3"
  },
  "language_info": {
   "codemirror_mode": {
    "name": "ipython",
    "version": 3
   },
   "file_extension": ".py",
   "mimetype": "text/x-python",
   "name": "python",
   "nbconvert_exporter": "python",
   "pygments_lexer": "ipython3",
   "version": "3.7.3"
  }
 },
 "nbformat": 4,
 "nbformat_minor": 2
}
