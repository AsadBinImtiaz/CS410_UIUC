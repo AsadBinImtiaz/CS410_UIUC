{
 "cells": [
  {
   "cell_type": "code",
   "execution_count": null,
   "metadata": {},
   "outputs": [],
   "source": [
    "#Topic Mining"
   ]
  },
  {
   "cell_type": "code",
   "execution_count": 1,
   "metadata": {},
   "outputs": [],
   "source": [
    "import pandas as pd\n",
    "import spacy\n",
    "import time\n",
    "import nltk"
   ]
  },
  {
   "cell_type": "code",
   "execution_count": 46,
   "metadata": {},
   "outputs": [],
   "source": [
    "# for now we restrich Restaurants to this number to develop the code\n",
    "sample_restaurants_to_load = 10000\n",
    "\n",
    "# Only Arizona Businesses, Change if needed\n",
    "restaurant_file='processed_data/restaurants_az.csv'\n",
    "reviews_file   ='processed_data/restaurant_az_reviews.csv'"
   ]
  },
  {
   "cell_type": "code",
   "execution_count": 7,
   "metadata": {},
   "outputs": [
    {
     "name": "stdout",
     "output_type": "stream",
     "text": [
      "Wall time: 15.3 s\n"
     ]
    }
   ],
   "source": [
    "%%time\n",
    "# This is the large Spacy English Library\n",
    "nlp = spacy.load('en_core_web_lg')"
   ]
  },
  {
   "cell_type": "code",
   "execution_count": 8,
   "metadata": {},
   "outputs": [],
   "source": [
    "# Stopwords for topic mining\n",
    "stopwords = [line.rstrip('\\n') for line in open('config/stopwords.txt', 'r')]"
   ]
  },
  {
   "cell_type": "code",
   "execution_count": 29,
   "metadata": {},
   "outputs": [],
   "source": [
    "# The words that appear in names of the Restaurants\n",
    "# Restaurants name may appear multiple time in review, increasing its word frequenty\n",
    "# For topic mining per restaurant, it is not useful and should be removed\n",
    "# However words such as 'chicken' when come in restaurant name should be retained\n",
    "stopnames = [line.rstrip('\\n').lower() for line in open('config/names.txt', 'r')]"
   ]
  },
  {
   "cell_type": "code",
   "execution_count": 31,
   "metadata": {},
   "outputs": [
    {
     "name": "stdout",
     "output_type": "stream",
     "text": [
      "Wall time: 21.9 ms\n"
     ]
    }
   ],
   "source": [
    "%%time\n",
    "# Read Businesses\n",
    "all_restaurants = pd.read_csv(restaurant_file).drop(labels='Unnamed: 0', axis=1).head(sample_restaurants_to_load)"
   ]
  },
  {
   "cell_type": "code",
   "execution_count": 14,
   "metadata": {},
   "outputs": [
    {
     "name": "stdout",
     "output_type": "stream",
     "text": [
      "Wall time: 21 s\n"
     ]
    }
   ],
   "source": [
    "%%time\n",
    "# Read all reviews\n",
    "all_reviews = pd.read_csv(reviews_file).drop(labels='Unnamed: 0', axis=1)"
   ]
  },
  {
   "cell_type": "code",
   "execution_count": 15,
   "metadata": {},
   "outputs": [
    {
     "name": "stdout",
     "output_type": "stream",
     "text": [
      "Wall time: 537 ms\n"
     ]
    }
   ],
   "source": [
    "%%time\n",
    "# Retain reviews of selected Businesses\n",
    "all_reviews = all_reviews[all_reviews.business_id.isin(all_restaurants.business_id)]"
   ]
  },
  {
   "cell_type": "code",
   "execution_count": 16,
   "metadata": {},
   "outputs": [
    {
     "name": "stdout",
     "output_type": "stream",
     "text": [
      "Wall time: 998 µs\n"
     ]
    },
    {
     "data": {
      "text/html": [
       "<div>\n",
       "<style scoped>\n",
       "    .dataframe tbody tr th:only-of-type {\n",
       "        vertical-align: middle;\n",
       "    }\n",
       "\n",
       "    .dataframe tbody tr th {\n",
       "        vertical-align: top;\n",
       "    }\n",
       "\n",
       "    .dataframe thead th {\n",
       "        text-align: right;\n",
       "    }\n",
       "</style>\n",
       "<table border=\"1\" class=\"dataframe\">\n",
       "  <thead>\n",
       "    <tr style=\"text-align: right;\">\n",
       "      <th></th>\n",
       "      <th>business_id</th>\n",
       "      <th>name</th>\n",
       "      <th>city</th>\n",
       "      <th>state</th>\n",
       "      <th>business_stars</th>\n",
       "      <th>review_count</th>\n",
       "      <th>categories</th>\n",
       "      <th>review_id</th>\n",
       "      <th>user_id</th>\n",
       "      <th>review_stars</th>\n",
       "      <th>useful</th>\n",
       "      <th>text</th>\n",
       "      <th>date</th>\n",
       "    </tr>\n",
       "  </thead>\n",
       "  <tbody>\n",
       "    <tr>\n",
       "      <th>0</th>\n",
       "      <td>44YFU284Z3KDEy25QyVoUw</td>\n",
       "      <td>Nee House Chinese Restaurant</td>\n",
       "      <td>Phoenix</td>\n",
       "      <td>AZ</td>\n",
       "      <td>3.5</td>\n",
       "      <td>269</td>\n",
       "      <td>Chinese, Restaurants</td>\n",
       "      <td>QgV9RPyPUC3cAse1Wxqoow</td>\n",
       "      <td>P3cMpkppvBuVpPD8LBTbBQ</td>\n",
       "      <td>4.0</td>\n",
       "      <td>2</td>\n",
       "      <td>Enjoyed Nee House immensely. No service issues...</td>\n",
       "      <td>2012-04-28 21:08:22</td>\n",
       "    </tr>\n",
       "    <tr>\n",
       "      <th>1</th>\n",
       "      <td>44YFU284Z3KDEy25QyVoUw</td>\n",
       "      <td>Nee House Chinese Restaurant</td>\n",
       "      <td>Phoenix</td>\n",
       "      <td>AZ</td>\n",
       "      <td>3.5</td>\n",
       "      <td>269</td>\n",
       "      <td>Chinese, Restaurants</td>\n",
       "      <td>1ZTO6zFtVVxtXclHp4TvHQ</td>\n",
       "      <td>b1yLsCdv4ZL_d3INMCZzoA</td>\n",
       "      <td>3.0</td>\n",
       "      <td>0</td>\n",
       "      <td>I'm not sure how I rate this restaurant becaus...</td>\n",
       "      <td>2017-02-09 05:15:25</td>\n",
       "    </tr>\n",
       "    <tr>\n",
       "      <th>2</th>\n",
       "      <td>44YFU284Z3KDEy25QyVoUw</td>\n",
       "      <td>Nee House Chinese Restaurant</td>\n",
       "      <td>Phoenix</td>\n",
       "      <td>AZ</td>\n",
       "      <td>3.5</td>\n",
       "      <td>269</td>\n",
       "      <td>Chinese, Restaurants</td>\n",
       "      <td>h17ep5S7O8_JMKovooWoVA</td>\n",
       "      <td>TaVuQWmXAhxy_LvIXBs9sg</td>\n",
       "      <td>5.0</td>\n",
       "      <td>0</td>\n",
       "      <td>The food from this place reminds me of home. I...</td>\n",
       "      <td>2016-08-12 21:38:55</td>\n",
       "    </tr>\n",
       "    <tr>\n",
       "      <th>3</th>\n",
       "      <td>44YFU284Z3KDEy25QyVoUw</td>\n",
       "      <td>Nee House Chinese Restaurant</td>\n",
       "      <td>Phoenix</td>\n",
       "      <td>AZ</td>\n",
       "      <td>3.5</td>\n",
       "      <td>269</td>\n",
       "      <td>Chinese, Restaurants</td>\n",
       "      <td>FVJaiFuf67Dzamax-zq1UQ</td>\n",
       "      <td>aCY0jMl8Jsvx_HQL4D3tmw</td>\n",
       "      <td>4.0</td>\n",
       "      <td>2</td>\n",
       "      <td>Found this place by just driving down the road...</td>\n",
       "      <td>2011-08-24 22:35:28</td>\n",
       "    </tr>\n",
       "    <tr>\n",
       "      <th>4</th>\n",
       "      <td>44YFU284Z3KDEy25QyVoUw</td>\n",
       "      <td>Nee House Chinese Restaurant</td>\n",
       "      <td>Phoenix</td>\n",
       "      <td>AZ</td>\n",
       "      <td>3.5</td>\n",
       "      <td>269</td>\n",
       "      <td>Chinese, Restaurants</td>\n",
       "      <td>zqzOcreb9KBTaESR6qbTSg</td>\n",
       "      <td>TPZbqNXMA2xMXLLd1zL_0A</td>\n",
       "      <td>4.0</td>\n",
       "      <td>2</td>\n",
       "      <td>We eat here on a regular basis.  It's like tha...</td>\n",
       "      <td>2013-04-11 02:26:52</td>\n",
       "    </tr>\n",
       "  </tbody>\n",
       "</table>\n",
       "</div>"
      ],
      "text/plain": [
       "              business_id                          name     city state  \\\n",
       "0  44YFU284Z3KDEy25QyVoUw  Nee House Chinese Restaurant  Phoenix    AZ   \n",
       "1  44YFU284Z3KDEy25QyVoUw  Nee House Chinese Restaurant  Phoenix    AZ   \n",
       "2  44YFU284Z3KDEy25QyVoUw  Nee House Chinese Restaurant  Phoenix    AZ   \n",
       "3  44YFU284Z3KDEy25QyVoUw  Nee House Chinese Restaurant  Phoenix    AZ   \n",
       "4  44YFU284Z3KDEy25QyVoUw  Nee House Chinese Restaurant  Phoenix    AZ   \n",
       "\n",
       "   business_stars  review_count            categories               review_id  \\\n",
       "0             3.5           269  Chinese, Restaurants  QgV9RPyPUC3cAse1Wxqoow   \n",
       "1             3.5           269  Chinese, Restaurants  1ZTO6zFtVVxtXclHp4TvHQ   \n",
       "2             3.5           269  Chinese, Restaurants  h17ep5S7O8_JMKovooWoVA   \n",
       "3             3.5           269  Chinese, Restaurants  FVJaiFuf67Dzamax-zq1UQ   \n",
       "4             3.5           269  Chinese, Restaurants  zqzOcreb9KBTaESR6qbTSg   \n",
       "\n",
       "                  user_id  review_stars  useful  \\\n",
       "0  P3cMpkppvBuVpPD8LBTbBQ           4.0       2   \n",
       "1  b1yLsCdv4ZL_d3INMCZzoA           3.0       0   \n",
       "2  TaVuQWmXAhxy_LvIXBs9sg           5.0       0   \n",
       "3  aCY0jMl8Jsvx_HQL4D3tmw           4.0       2   \n",
       "4  TPZbqNXMA2xMXLLd1zL_0A           4.0       2   \n",
       "\n",
       "                                                text                 date  \n",
       "0  Enjoyed Nee House immensely. No service issues...  2012-04-28 21:08:22  \n",
       "1  I'm not sure how I rate this restaurant becaus...  2017-02-09 05:15:25  \n",
       "2  The food from this place reminds me of home. I...  2016-08-12 21:38:55  \n",
       "3  Found this place by just driving down the road...  2011-08-24 22:35:28  \n",
       "4  We eat here on a regular basis.  It's like tha...  2013-04-11 02:26:52  "
      ]
     },
     "execution_count": 16,
     "metadata": {},
     "output_type": "execute_result"
    }
   ],
   "source": [
    "%%time\n",
    "# Top 5 Reviews\n",
    "all_reviews.head()"
   ]
  },
  {
   "cell_type": "code",
   "execution_count": null,
   "metadata": {},
   "outputs": [],
   "source": [
    "df = (all_reviews.query(' business_id == \"'+restaurant['business_id']+'\" ')[['name','text']])"
   ]
  },
  {
   "cell_type": "code",
   "execution_count": null,
   "metadata": {},
   "outputs": [],
   "source": [
    "df.name"
   ]
  },
  {
   "cell_type": "code",
   "execution_count": null,
   "metadata": {},
   "outputs": [],
   "source": [
    "all_reviews.query(' business_id == \"'+restaurant['business_id']+'\" ')[['name','text']]"
   ]
  },
  {
   "cell_type": "code",
   "execution_count": null,
   "metadata": {},
   "outputs": [],
   "source": [
    "total"
   ]
  },
  {
   "cell_type": "code",
   "execution_count": 39,
   "metadata": {},
   "outputs": [],
   "source": [
    "def clean_name(name):\n",
    "    name_toks = []\n",
    "    \n",
    "    # Nlp doc from Name\n",
    "    name_doc = nlp(name)\n",
    "    for token in name_doc:\n",
    "        \n",
    "        # Retain Proper nouns in Name\n",
    "        if token.pos_ == 'PROPN' or token.like_num:\n",
    "        \n",
    "            # Lose stop words in Name\n",
    "            if token.text.lower() not in stopnames:\n",
    "            \n",
    "                # All Restaurant name tokens to be remoed from reviews of this reataurant\n",
    "                name_toks.append(token.text.lower())\n",
    "    return name_toks"
   ]
  },
  {
   "cell_type": "code",
   "execution_count": 40,
   "metadata": {},
   "outputs": [],
   "source": [
    "def clean_doc(doc,name_toks):\n",
    "    \n",
    "    # Remove punctuation, symbols (#) and stopwords\n",
    "    #doc = [tok.text for tok in doc if (tok.text.lower() not in stopwords and tok.pos_ != \"PUNCT\" and tok.pos_ != \"SYM\")]\n",
    "    toks = [tok.text for tok in doc if (tok.text.lower() not in stopwords and tok.text.lower() not in name_toks and tok.pos_ != \"SYM\")]\n",
    "    \n",
    "    # Make all tokens lowercase\n",
    "    doc = [tok.lower() for tok in toks]\n",
    "    doc = ' '.join(doc).replace(\"n't\",'not').replace(' .','.').replace('  ',' ')\n",
    "    \n",
    "    return doc"
   ]
  },
  {
   "cell_type": "code",
   "execution_count": 45,
   "metadata": {},
   "outputs": [
    {
     "name": "stderr",
     "output_type": "stream",
     "text": [
      "UsageError: Cell magic `%%Timetotal` not found.\n"
     ]
    }
   ],
   "source": [
    "%%Time\n",
    "total = len(all_restaurants)\n",
    "cleansed_text = []\n",
    "for index, restaurant in all_restaurants.iterrows():\n",
    "    print(f'Cleaning reviews for restaurant: \"{restaurant[\"name\"]:<{40}}\" [{index+1:>{5}}/{total:>{5}}]')\n",
    "    for parsed_review in nlp.pipe(iter(all_reviews.query(' business_id == \"'+restaurant['business_id']+'\" ')['text']), batch_size=1000, n_threads=8):\n",
    "        cleansed_text.append(clean_doc(parsed_review,clean_name(restaurant[\"name\"])))"
   ]
  },
  {
   "cell_type": "code",
   "execution_count": 43,
   "metadata": {},
   "outputs": [],
   "source": [
    "all_reviews['cleansed_text'] = cleansed_text"
   ]
  },
  {
   "cell_type": "code",
   "execution_count": 44,
   "metadata": {},
   "outputs": [
    {
     "name": "stdout",
     "output_type": "stream",
     "text": [
      "                                                   text  \\\n",
      "0     Enjoyed Nee House immensely. No service issues...   \n",
      "1     I'm not sure how I rate this restaurant becaus...   \n",
      "2     The food from this place reminds me of home. I...   \n",
      "3     Found this place by just driving down the road...   \n",
      "4     We eat here on a regular basis.  It's like tha...   \n",
      "5     The best Chinese food we've had in a long time...   \n",
      "6     This 2 star rating is for the service. Althoug...   \n",
      "7     Service was shotty, but pretty authentic Chine...   \n",
      "8     My previous review has the real details about ...   \n",
      "9     This is the perfect neighborhood family run Ch...   \n",
      "10    After reading many decent reviews and seeing h...   \n",
      "11    Wow I was very impressed when I first tasted t...   \n",
      "12    The service to grab a seat is slow like 20 min...   \n",
      "13    Fresh and authentic Chinese food. We especiall...   \n",
      "14    This is a nostalgia play - if you want to expe...   \n",
      "15    This place is way under rated!!! Very close to...   \n",
      "16    Our office just moved here from the Bay Area a...   \n",
      "17    3.5 *s.  Had west lake beef soup (pretty good)...   \n",
      "18    My mom loves this restaurant ! Good food ! Big...   \n",
      "19    I really like this place, and so does my famil...   \n",
      "20    Very disappointed with the lack of flavor in t...   \n",
      "21    The wait staff is as nasty as the food. RUDE A...   \n",
      "22    We love Nee House. Great prices, great food, w...   \n",
      "23    Great service and good Mongolian beef lunch sp...   \n",
      "24    I was looking for a good Chinese restaurant ne...   \n",
      "25    I'm an Asian who was raised with Cantonese or ...   \n",
      "26    Since I already wasted my time eating here las...   \n",
      "27    Egg-cellent chicken fried rice! Only down side...   \n",
      "28    Dinner last night so delicious!  Four of us en...   \n",
      "29    Nee House offer excellent Chinese food. They o...   \n",
      "...                                                 ...   \n",
      "2732  Friendly and clean place ! Has plenty of veggi...   \n",
      "2733  The restaurant itself is very clean and well k...   \n",
      "2734  I love the sushi and the staff here. The price...   \n",
      "2735  Pho with beef was very good.  The broth was ta...   \n",
      "2736  Called in after a long day of work and order s...   \n",
      "2737  The Best Bánh Mì Đac Biet in town (Vietnamese ...   \n",
      "2738  Excellent rare beef Pho. Quick service at a go...   \n",
      "2739  Closed Tuesdays fix that on your yelp and the ...   \n",
      "2740  We've been here a couple times and tried the p...   \n",
      "2741  I had to come to a work site near here and I w...   \n",
      "2742  Amazing food, we got the tofu pho and it's ama...   \n",
      "2743  Great, well priced food and service.  Tasty, w...   \n",
      "2744  I enjoyed my recent visit to Pho KC!! I was so...   \n",
      "2745  Service was great: prompt and pleasant. This w...   \n",
      "2746  This place was a surprise saw them on a previo...   \n",
      "2747  The Pho is lights out. I've never been disappo...   \n",
      "2748  The place is nice enough and very casual. The ...   \n",
      "2749  Stopped here on my own to try their pho, I usu...   \n",
      "2750  Love this place! It's my go to for Vietnamese ...   \n",
      "2751  Finally found a place for authentic Pho !\\nSer...   \n",
      "2752  Pho broth was delicious. You can taste the lov...   \n",
      "2753  I'm so excited to have found such yummy pho. T...   \n",
      "2754  Amazing food and the service was spectacular. ...   \n",
      "2755  Super good food. I had the #10 (Pho Dac Biet)i...   \n",
      "2756  Amazing food and the service was spectacular. ...   \n",
      "2757  Our first time here.  Food is good.   Service ...   \n",
      "2758  Absolutely amazing Pho!! This little gem origi...   \n",
      "2759  coming from a vietnamese person, this is proba...   \n",
      "2760  Not too shabby! Had spring rolls and chicken p...   \n",
      "2761  First time was so delicious and we really enjo...   \n",
      "\n",
      "                                          cleansed_text  \n",
      "0     enjoyed immensely . no service issues fantasti...  \n",
      "1     not sure rate because walked soup . 4 pm destr...  \n",
      "2     food place reminds home . taiwanese little isl...  \n",
      "3     found place driving road lunch . cars near dec...  \n",
      "4     eat regular basis .   like little hole wall pl...  \n",
      "5     best chinese food long time   service not good...  \n",
      "6     2 star rating service . waited promptly food c...  \n",
      "7     service shotty pretty authentic chinese food ....  \n",
      "8     previous review real details about love about ...  \n",
      "9     perfect neighborhood family run chinese offeri...  \n",
      "10    reading decent reviews seeing close home decid...  \n",
      "11    wow impressed tasted food . amazing dishes ran...  \n",
      "12    service grab seat slow like 20 minutes because...  \n",
      "13    fresh authentic chinese food . especially love...  \n",
      "14    nostalgia play - want experience chinese food ...  \n",
      "15    place way rated close china town style hard fi...  \n",
      "16    office moved bay area collegues mad search goo...  \n",
      "17    3.5 s.   west lake beef soup ( pretty good ) b...  \n",
      "18    mom loves good food big portion price favorite...  \n",
      "19    like place family . eaten not remember almost ...  \n",
      "20    disappointed lack flavor beef chow fun . cooke...  \n",
      "21    wait staff nasty food . rude unfriendly servic...  \n",
      "22    love . great prices great food never eaten not...  \n",
      "23    great service good mongolian beef lunch specia...  \n",
      "24    looking good chinese near saw place great revi...  \n",
      "25    asian raised cantonese hong kong style cuisine...  \n",
      "26    wasted time eating night not going waste more ...  \n",
      "27    egg - cellent chicken fried rice boyfriend foo...  \n",
      "28    dinner night delicious   enjoyed sizzling rice...  \n",
      "29    offer excellent chinese food . offer live crab...  \n",
      "...                                                 ...  \n",
      "2732  friendly clean place plenty veggie options pap...  \n",
      "2733  restaurant clean kept new seeing recently open...  \n",
      "2734  love sushi staff . prices great always leave h...  \n",
      "2735  beef good .   broth tasty good body .   nice k...  \n",
      "2736  called long day work order spring roll . alway...  \n",
      "2737  best bánh mì đac biet town ( vietnamese combin...  \n",
      "2738  excellent rare beef . quick service good price...  \n",
      "2739  closed tuesdays fix yelp location hours summer...  \n",
      "2740  couple times tried banh mi banh xeo . super go...  \n",
      "2741  come work site near driving shopping center lo...  \n",
      "2742  amazing food tofu amazing .   service priced c...  \n",
      "2743  great priced food service .   tasty prepared s...  \n",
      "2744  enjoyed recent visit excited new phone place e...  \n",
      "2745  service great : prompt pleasant . experience e...  \n",
      "2746  place surprise saw previous trip starbucks doo...  \n",
      "2747  lights . never disappointed . best phoenix far...  \n",
      "2748  place nice casual . service ok . not bothersom...  \n",
      "2749  stopped try usually angelina increased prices ...  \n",
      "2750  love place vietnamese food . price not bad min...  \n",
      "2751  finally found place authentic \\n service fast ...  \n",
      "2752  broth delicious . taste love making broth . sp...  \n",
      "2753  excited found yummy . broth perfect . noodles ...  \n",
      "2754  amazing food service spectacular . authentic ....  \n",
      "2755  super good food . 10 ( dac biet)in spicy broth...  \n",
      "2756  amazing food service spectacular . authentic ....  \n",
      "2757  time .   food good .    service slow . server ...  \n",
      "2758  absolutely amazing little gem originally showe...  \n",
      "2759  coming vietnamese person probably worst .... t...  \n",
      "2760  not shabby spring rolls chicken . good . servi...  \n",
      "2761  time delicious enjoyed .   young lady nice fri...  \n",
      "\n",
      "[2762 rows x 2 columns]\n"
     ]
    }
   ],
   "source": [
    "print(all_reviews[['text','cleansed_text']])"
   ]
  },
  {
   "cell_type": "code",
   "execution_count": 47,
   "metadata": {},
   "outputs": [],
   "source": [
    "all_reviews.to_csv('processed_data/reviews.csv')"
   ]
  },
  {
   "cell_type": "code",
   "execution_count": null,
   "metadata": {},
   "outputs": [],
   "source": []
  }
 ],
 "metadata": {
  "kernelspec": {
   "display_name": "Python 3",
   "language": "python",
   "name": "python3"
  },
  "language_info": {
   "codemirror_mode": {
    "name": "ipython",
    "version": 3
   },
   "file_extension": ".py",
   "mimetype": "text/x-python",
   "name": "python",
   "nbconvert_exporter": "python",
   "pygments_lexer": "ipython3",
   "version": "3.7.3"
  }
 },
 "nbformat": 4,
 "nbformat_minor": 2
}
