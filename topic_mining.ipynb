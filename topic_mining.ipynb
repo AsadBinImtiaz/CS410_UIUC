{
 "cells": [
  {
   "cell_type": "code",
   "execution_count": 2,
   "metadata": {},
   "outputs": [],
   "source": [
    "#Topic Mining"
   ]
  },
  {
   "cell_type": "code",
   "execution_count": 3,
   "metadata": {},
   "outputs": [],
   "source": [
    "import pandas as pd\n",
    "import spacy\n",
    "import time\n",
    "import nltk"
   ]
  },
  {
   "cell_type": "code",
   "execution_count": 31,
   "metadata": {},
   "outputs": [],
   "source": [
    "# Only Arizona Businesses, Change if needed\n",
    "restaurant_file='processed_data/cleaned_restaurants.csv'\n",
    "reviews_file   ='processed_data/cleaned_reviews.csv'\n",
    "\n",
    "# Number of topic\n",
    "NUM_TOPICS = 10"
   ]
  },
  {
   "cell_type": "code",
   "execution_count": 5,
   "metadata": {},
   "outputs": [
    {
     "name": "stdout",
     "output_type": "stream",
     "text": [
      "Wall time: 10.2 s\n"
     ]
    }
   ],
   "source": [
    "%%time\n",
    "# This is the large Spacy English Library\n",
    "nlp = spacy.load('en_core_web_lg')"
   ]
  },
  {
   "cell_type": "code",
   "execution_count": 32,
   "metadata": {},
   "outputs": [
    {
     "name": "stdout",
     "output_type": "stream",
     "text": [
      "Wall time: 8 ms\n"
     ]
    }
   ],
   "source": [
    "%%time\n",
    "# Read Businesses\n",
    "all_restaurants = pd.read_csv(restaurant_file).drop(labels='Unnamed: 0', axis=1)"
   ]
  },
  {
   "cell_type": "code",
   "execution_count": 33,
   "metadata": {},
   "outputs": [
    {
     "name": "stdout",
     "output_type": "stream",
     "text": [
      "Wall time: 47 ms\n"
     ]
    }
   ],
   "source": [
    "%%time\n",
    "# Read all reviews\n",
    "all_reviews = pd.read_csv(reviews_file).drop(labels='Unnamed: 0', axis=1).drop(labels='date', axis=1)"
   ]
  },
  {
   "cell_type": "code",
   "execution_count": 34,
   "metadata": {},
   "outputs": [
    {
     "name": "stdout",
     "output_type": "stream",
     "text": [
      "Wall time: 0 ns\n"
     ]
    },
    {
     "data": {
      "text/html": [
       "<div>\n",
       "<style scoped>\n",
       "    .dataframe tbody tr th:only-of-type {\n",
       "        vertical-align: middle;\n",
       "    }\n",
       "\n",
       "    .dataframe tbody tr th {\n",
       "        vertical-align: top;\n",
       "    }\n",
       "\n",
       "    .dataframe thead th {\n",
       "        text-align: right;\n",
       "    }\n",
       "</style>\n",
       "<table border=\"1\" class=\"dataframe\">\n",
       "  <thead>\n",
       "    <tr style=\"text-align: right;\">\n",
       "      <th></th>\n",
       "      <th>business_id</th>\n",
       "      <th>name</th>\n",
       "      <th>city</th>\n",
       "      <th>state</th>\n",
       "      <th>business_stars</th>\n",
       "      <th>review_count</th>\n",
       "      <th>categories</th>\n",
       "      <th>review_id</th>\n",
       "      <th>user_id</th>\n",
       "      <th>review_stars</th>\n",
       "      <th>useful</th>\n",
       "      <th>text</th>\n",
       "      <th>cleansed_text</th>\n",
       "    </tr>\n",
       "  </thead>\n",
       "  <tbody>\n",
       "    <tr>\n",
       "      <td>0</td>\n",
       "      <td>44YFU284Z3KDEy25QyVoUw</td>\n",
       "      <td>Nee House Chinese Restaurant</td>\n",
       "      <td>Phoenix</td>\n",
       "      <td>AZ</td>\n",
       "      <td>3.5</td>\n",
       "      <td>269</td>\n",
       "      <td>Chinese, Restaurants</td>\n",
       "      <td>QgV9RPyPUC3cAse1Wxqoow</td>\n",
       "      <td>P3cMpkppvBuVpPD8LBTbBQ</td>\n",
       "      <td>4.0</td>\n",
       "      <td>2</td>\n",
       "      <td>Enjoyed Nee House immensely. No service issues...</td>\n",
       "      <td>enjoy immensely service issue fantastic chines...</td>\n",
       "    </tr>\n",
       "    <tr>\n",
       "      <td>1</td>\n",
       "      <td>44YFU284Z3KDEy25QyVoUw</td>\n",
       "      <td>Nee House Chinese Restaurant</td>\n",
       "      <td>Phoenix</td>\n",
       "      <td>AZ</td>\n",
       "      <td>3.5</td>\n",
       "      <td>269</td>\n",
       "      <td>Chinese, Restaurants</td>\n",
       "      <td>1ZTO6zFtVVxtXclHp4TvHQ</td>\n",
       "      <td>b1yLsCdv4ZL_d3INMCZzoA</td>\n",
       "      <td>3.0</td>\n",
       "      <td>0</td>\n",
       "      <td>I'm not sure how I rate this restaurant becaus...</td>\n",
       "      <td>sure rate walk soup pm destroy need clear sinu...</td>\n",
       "    </tr>\n",
       "    <tr>\n",
       "      <td>2</td>\n",
       "      <td>44YFU284Z3KDEy25QyVoUw</td>\n",
       "      <td>Nee House Chinese Restaurant</td>\n",
       "      <td>Phoenix</td>\n",
       "      <td>AZ</td>\n",
       "      <td>3.5</td>\n",
       "      <td>269</td>\n",
       "      <td>Chinese, Restaurants</td>\n",
       "      <td>h17ep5S7O8_JMKovooWoVA</td>\n",
       "      <td>TaVuQWmXAhxy_LvIXBs9sg</td>\n",
       "      <td>5.0</td>\n",
       "      <td>0</td>\n",
       "      <td>The food from this place reminds me of home. I...</td>\n",
       "      <td>food place remind home taiwanese little island...</td>\n",
       "    </tr>\n",
       "    <tr>\n",
       "      <td>3</td>\n",
       "      <td>44YFU284Z3KDEy25QyVoUw</td>\n",
       "      <td>Nee House Chinese Restaurant</td>\n",
       "      <td>Phoenix</td>\n",
       "      <td>AZ</td>\n",
       "      <td>3.5</td>\n",
       "      <td>269</td>\n",
       "      <td>Chinese, Restaurants</td>\n",
       "      <td>FVJaiFuf67Dzamax-zq1UQ</td>\n",
       "      <td>aCY0jMl8Jsvx_HQL4D3tmw</td>\n",
       "      <td>4.0</td>\n",
       "      <td>2</td>\n",
       "      <td>Found this place by just driving down the road...</td>\n",
       "      <td>find place drive road lunch car decide wednesd...</td>\n",
       "    </tr>\n",
       "    <tr>\n",
       "      <td>4</td>\n",
       "      <td>44YFU284Z3KDEy25QyVoUw</td>\n",
       "      <td>Nee House Chinese Restaurant</td>\n",
       "      <td>Phoenix</td>\n",
       "      <td>AZ</td>\n",
       "      <td>3.5</td>\n",
       "      <td>269</td>\n",
       "      <td>Chinese, Restaurants</td>\n",
       "      <td>zqzOcreb9KBTaESR6qbTSg</td>\n",
       "      <td>TPZbqNXMA2xMXLLd1zL_0A</td>\n",
       "      <td>4.0</td>\n",
       "      <td>2</td>\n",
       "      <td>We eat here on a regular basis.  It's like tha...</td>\n",
       "      <td>eat regular basis little hole_wall place tasty...</td>\n",
       "    </tr>\n",
       "  </tbody>\n",
       "</table>\n",
       "</div>"
      ],
      "text/plain": [
       "              business_id                          name     city state  \\\n",
       "0  44YFU284Z3KDEy25QyVoUw  Nee House Chinese Restaurant  Phoenix    AZ   \n",
       "1  44YFU284Z3KDEy25QyVoUw  Nee House Chinese Restaurant  Phoenix    AZ   \n",
       "2  44YFU284Z3KDEy25QyVoUw  Nee House Chinese Restaurant  Phoenix    AZ   \n",
       "3  44YFU284Z3KDEy25QyVoUw  Nee House Chinese Restaurant  Phoenix    AZ   \n",
       "4  44YFU284Z3KDEy25QyVoUw  Nee House Chinese Restaurant  Phoenix    AZ   \n",
       "\n",
       "   business_stars  review_count            categories               review_id  \\\n",
       "0             3.5           269  Chinese, Restaurants  QgV9RPyPUC3cAse1Wxqoow   \n",
       "1             3.5           269  Chinese, Restaurants  1ZTO6zFtVVxtXclHp4TvHQ   \n",
       "2             3.5           269  Chinese, Restaurants  h17ep5S7O8_JMKovooWoVA   \n",
       "3             3.5           269  Chinese, Restaurants  FVJaiFuf67Dzamax-zq1UQ   \n",
       "4             3.5           269  Chinese, Restaurants  zqzOcreb9KBTaESR6qbTSg   \n",
       "\n",
       "                  user_id  review_stars  useful  \\\n",
       "0  P3cMpkppvBuVpPD8LBTbBQ           4.0       2   \n",
       "1  b1yLsCdv4ZL_d3INMCZzoA           3.0       0   \n",
       "2  TaVuQWmXAhxy_LvIXBs9sg           5.0       0   \n",
       "3  aCY0jMl8Jsvx_HQL4D3tmw           4.0       2   \n",
       "4  TPZbqNXMA2xMXLLd1zL_0A           4.0       2   \n",
       "\n",
       "                                                text  \\\n",
       "0  Enjoyed Nee House immensely. No service issues...   \n",
       "1  I'm not sure how I rate this restaurant becaus...   \n",
       "2  The food from this place reminds me of home. I...   \n",
       "3  Found this place by just driving down the road...   \n",
       "4  We eat here on a regular basis.  It's like tha...   \n",
       "\n",
       "                                       cleansed_text  \n",
       "0  enjoy immensely service issue fantastic chines...  \n",
       "1  sure rate walk soup pm destroy need clear sinu...  \n",
       "2  food place remind home taiwanese little island...  \n",
       "3  find place drive road lunch car decide wednesd...  \n",
       "4  eat regular basis little hole_wall place tasty...  "
      ]
     },
     "execution_count": 34,
     "metadata": {},
     "output_type": "execute_result"
    }
   ],
   "source": [
    "%%time\n",
    "# Top 5 Reviews\n",
    "all_reviews.head()"
   ]
  },
  {
   "cell_type": "code",
   "execution_count": 140,
   "metadata": {},
   "outputs": [],
   "source": [
    "restaurant = all_restaurants.iloc[[1]].business_id.values[0]"
   ]
  },
  {
   "cell_type": "code",
   "execution_count": 141,
   "metadata": {},
   "outputs": [
    {
     "data": {
      "text/plain": [
       "'r8764MtYyt8JhxMvrfM_xQ'"
      ]
     },
     "execution_count": 141,
     "metadata": {},
     "output_type": "execute_result"
    }
   ],
   "source": [
    "restaurant"
   ]
  },
  {
   "cell_type": "code",
   "execution_count": 142,
   "metadata": {},
   "outputs": [],
   "source": [
    "reviews = all_reviews[all_reviews.business_id == restaurant].cleansed_text"
   ]
  },
  {
   "cell_type": "code",
   "execution_count": 143,
   "metadata": {},
   "outputs": [
    {
     "data": {
      "text/plain": [
       "285    disappoint recent visit vintage month always t...\n",
       "286    staff friendly excellent prepare traditional w...\n",
       "287    spouse find deal groupon plan great evening at...\n",
       "288    great live_music cozy fireplace recommend flat...\n",
       "289    table ready baby ve dinner drink never sunday ...\n",
       "                             ...                        \n",
       "609    great experience wife night groupon discount c...\n",
       "610    writing review ultimately return vintage impre...\n",
       "611    wife date saturday decide try vintage time awe...\n",
       "612    try vintage time friendly staff fun atmosphere...\n",
       "613    warm classy divine word describe food wine mus...\n",
       "Name: cleansed_text, Length: 329, dtype: object"
      ]
     },
     "execution_count": 143,
     "metadata": {},
     "output_type": "execute_result"
    }
   ],
   "source": [
    "reviews"
   ]
  },
  {
   "cell_type": "code",
   "execution_count": 144,
   "metadata": {},
   "outputs": [],
   "source": [
    "from sklearn.decomposition import NMF, LatentDirichletAllocation, TruncatedSVD\n",
    "from sklearn.feature_extraction.text import CountVectorizer\n",
    "from sklearn.manifold import TSNE\n",
    "import concurrent.futures"
   ]
  },
  {
   "cell_type": "code",
   "execution_count": 145,
   "metadata": {},
   "outputs": [],
   "source": [
    "# Creating a vectorizer\n",
    "vectorizer = CountVectorizer(min_df=5, max_df=0.9, stop_words='english', lowercase=True, token_pattern='[a-zA-Z\\-][a-zA-Z\\-]{2,}')\n",
    "data_vectorized = vectorizer.fit_transform(reviews)"
   ]
  },
  {
   "cell_type": "code",
   "execution_count": 146,
   "metadata": {},
   "outputs": [],
   "source": [
    "#pip install pyLDAvis"
   ]
  },
  {
   "cell_type": "code",
   "execution_count": 147,
   "metadata": {},
   "outputs": [],
   "source": [
    "warnings.filterwarnings('ignore')\n",
    "\n",
    "import pyLDAvis.sklearn\n",
    "from pylab import bone, pcolor, colorbar, plot, show, rcParams, savefig\n",
    "import warnings"
   ]
  },
  {
   "cell_type": "code",
   "execution_count": 148,
   "metadata": {},
   "outputs": [
    {
     "name": "stdout",
     "output_type": "stream",
     "text": [
      "iteration: 1 of max_iter: 10\n",
      "iteration: 2 of max_iter: 10\n",
      "iteration: 3 of max_iter: 10\n",
      "iteration: 4 of max_iter: 10\n",
      "iteration: 5 of max_iter: 10\n",
      "iteration: 6 of max_iter: 10\n",
      "iteration: 7 of max_iter: 10\n",
      "iteration: 8 of max_iter: 10\n",
      "iteration: 9 of max_iter: 10\n",
      "iteration: 10 of max_iter: 10\n"
     ]
    }
   ],
   "source": [
    "# Latent Dirichlet Allocation Model\n",
    "lda = LatentDirichletAllocation(n_components=NUM_TOPICS, max_iter=10, learning_method='online',verbose=True)\n",
    "data_lda = lda.fit_transform(data_vectorized)"
   ]
  },
  {
   "cell_type": "code",
   "execution_count": 149,
   "metadata": {},
   "outputs": [],
   "source": [
    "# Non-Negative Matrix Factorization Model\n",
    "nmf = NMF(n_components=NUM_TOPICS)\n",
    "data_nmf = nmf.fit_transform(data_vectorized) "
   ]
  },
  {
   "cell_type": "code",
   "execution_count": 150,
   "metadata": {},
   "outputs": [],
   "source": [
    "# Latent Semantic Indexing Model using Truncated SVD\n",
    "lsi = TruncatedSVD(n_components=NUM_TOPICS)\n",
    "data_lsi = lsi.fit_transform(data_vectorized)"
   ]
  },
  {
   "cell_type": "code",
   "execution_count": 164,
   "metadata": {},
   "outputs": [],
   "source": [
    "# Get Topic Name\n",
    "def get_topic_name(tok):\n",
    "    topic_name_toks = []\n",
    "    doc = nlp(\" \".join(tok))\n",
    "    pos = [token.pos_ for token in doc]\n",
    "    \n",
    "    def remove_at(j):\n",
    "        topic_name_toks.append(tok[j].capitalize())\n",
    "        pos.remove(pos[j])\n",
    "        tok.remove(tok[j])\n",
    "    for x in range(5):\n",
    "        i = 0\n",
    "        if x < 3:\n",
    "            if  (\"ADJ\"   in pos) : i = pos.index(\"ADJ\")\n",
    "            elif(\"PROPN\" in pos) : i = pos.index(\"PROPN\")\n",
    "            elif(\"NOUN\"  in pos) : i = pos.index(\"NOUN\")\n",
    "            elif(\"ADV\"   in pos) : i = pos.index(\"ADV\")\n",
    "            elif(\"VERB\"  in pos) : i = pos.index(\"VERB\")\n",
    "            else :i=0\n",
    "        elif x < 5:\n",
    "            if  (\"NOUN\"  in pos) : i = pos.index(\"NOUN\")\n",
    "            elif(\"PROPN\" in pos) : i = pos.index(\"PROPN\")\n",
    "            elif(\"VERB\"  in pos) : i = pos.index(\"VERB\")\n",
    "            elif(\"ADV\"   in pos) : i = pos.index(\"ADV\")\n",
    "            else :i=0\n",
    "        \n",
    "        remove_at(i)\n",
    "    \n",
    "    return \" \".join(topic_name_toks) "
   ]
  },
  {
   "cell_type": "code",
   "execution_count": 165,
   "metadata": {},
   "outputs": [],
   "source": [
    "# Functions for printing keywords for each topic\n",
    "def get_selected_topics(model, vectorizer, top_n=10):\n",
    "    topics = {}\n",
    "    for idx, topic in enumerate(model.components_):\n",
    "        print(\"Topic %d:\" % (idx))\n",
    "        name = get_topic_name([vectorizer.get_feature_names()[i] for i in topic.argsort()[:-top_n - 1:-1]])\n",
    "        print(\"Topic Name: \"+name)\n",
    "        print([(vectorizer.get_feature_names()[i], topic[i])\n",
    "                        for i in topic.argsort()[:-top_n - 1:-1]])\n",
    "        topics[idx]=name\n",
    "    return topics"
   ]
  },
  {
   "cell_type": "code",
   "execution_count": 166,
   "metadata": {},
   "outputs": [
    {
     "name": "stdout",
     "output_type": "stream",
     "text": [
      "LDA Model:\n",
      "Topic 0:\n",
      "Topic Name: Good Nice Wasnot Order\n",
      "[('good', 25.98302556810524), ('order', 22.1691985251735), ('flavor', 21.50529570204471), ('food', 20.531320253338517), ('cheese', 18.36329324832126), ('think', 17.39966940205284), ('bruschetta', 15.674235325877968), ('nice', 15.311505266730318), ('wasnot', 14.299653038398995), ('salad', 13.492548883425906)]\n",
      "Topic 1:\n",
      "Topic Name: Excellent Sweet Ahi Rice\n",
      "[('ahi', 6.436629421340358), ('great', 6.37391265879874), ('salmon', 6.269689521302305), ('rice', 5.255661172093214), ('pepper', 5.197534859885082), ('fry', 4.953689099863716), ('sauce', 4.635824396185133), ('excellent', 4.406948708543913), ('egg', 4.202498111740189), ('sweet', 4.136787232164157)]\n",
      "Topic 2:\n",
      "Topic Name: Wine Table Menu Place\n",
      "[('wine', 42.06875099901537), ('sit', 34.66057722246126), ('table', 19.799954391771102), ('want', 18.329674054499446), ('menu', 17.93468513120167), ('place', 15.332172421872936), ('hostess', 15.270652965046265), ('couch', 15.117142538034722), ('donot', 15.094921154817364), ('ask', 14.890302957691029)]\n",
      "Topic 3:\n",
      "Topic Name: Nice Good Wine Bottle\n",
      "[('wine', 20.241303314985608), ('bottle', 18.39586932322251), ('nice', 17.107529941266087), ('glass', 11.418839313588766), ('brie', 8.428557080733952), ('place', 6.356917031032857), ('come', 6.3451822326832605), ('good', 5.835790676193582), ('staff', 5.309331178615154), ('steak', 5.289646118468716)]\n",
      "Topic 4:\n",
      "Topic Name: Best Good Little Lunch\n",
      "[('little', 7.729184028224504), ('perfect', 5.717579613289117), ('lunch', 5.690685604813288), ('chandler', 5.6790352072142385), ('soup', 4.17826876191944), ('plate', 3.8176794181652567), ('come', 3.3701903896756096), ('best', 3.226776910259663), ('order', 2.3332633565108516), ('good', 2.3268966324802425)]\n",
      "Topic 5:\n",
      "Topic Name: Great Good Vintage Food\n",
      "[('great', 259.9562416759288), ('wine', 194.80305337368873), ('food', 175.50033858160162), ('place', 172.92882237974945), ('good', 162.79824452964226), ('service', 94.2937194441494), ('love', 91.85545413092603), ('atmosphere', 86.52369073162903), ('vintage', 78.84347159900535), ('night', 71.35860003540806)]\n",
      "Topic 6:\n",
      "Topic Name: Platter Enjoyable Flavorful Couple\n",
      "[('platter', 3.7580010371424772), ('couple', 2.0019844108734945), ('perfectly', 1.4339180599953734), ('cherry', 1.4180457072476091), ('enjoyable', 1.3794547995141984), ('option', 1.3370582656012755), ('dish', 1.1640174320747723), ('especially', 1.152886315865173), ('flavorful', 1.1139365944664377), ('charcuterie', 0.9508015011947437)]\n",
      "Topic 7:\n",
      "Topic Name: Best Perfect Management Request\n",
      "[('hold', 0.8765162815118004), ('recently', 0.8637228240530925), ('best', 0.8388162099544318), ('management', 0.7867419480933027), ('request', 0.7038313631772977), ('customer', 0.5999030175141873), ('event', 0.5998583526671787), ('friend', 0.2800010973527401), ('place', 0.24930213904285764), ('perfect', 0.24691086366891438)]\n",
      "Topic 8:\n",
      "Topic Name: Open Belly Tomato Smoke\n",
      "[('belly', 3.662493942820913), ('tomato', 3.005312409955807), ('smoke', 2.9941181731758464), ('meal', 2.8936879530675705), ('pork', 2.8163123099075618), ('table', 2.249629716121197), ('reservation', 1.9040396413154936), ('open', 1.8600293806442663), ('bisque', 1.6640313428089784), ('bowl', 1.6570119829293568)]\n",
      "Topic 9:\n",
      "Topic Name: Good Order Table Drink\n",
      "[('order', 76.7084188708603), ('table', 61.8024024609197), ('come', 59.877010245891256), ('good', 56.03159455198942), ('drink', 53.70376557496154), ('food', 45.34086070906985), ('time', 44.4487217249905), ('try', 38.59061156041799), ('wait', 37.383806423025376), ('waiter', 36.946007844480555)]\n"
     ]
    }
   ],
   "source": [
    "# Keywords for topics clustered by Latent Dirichlet Allocation\n",
    "print(\"LDA Model:\")\n",
    "selected_topics = get_selected_topics(lda, vectorizer)"
   ]
  },
  {
   "cell_type": "code",
   "execution_count": 167,
   "metadata": {},
   "outputs": [
    {
     "data": {
      "text/plain": [
       "{0: 'Good Nice Wasnot Order',\n",
       " 1: 'Excellent Sweet Ahi Rice',\n",
       " 2: 'Wine Table Menu Place',\n",
       " 3: 'Nice Good Wine Bottle',\n",
       " 4: 'Best Good Little Lunch',\n",
       " 5: 'Great Good Vintage Food',\n",
       " 6: 'Platter Enjoyable Flavorful Couple',\n",
       " 7: 'Best Perfect Management Request',\n",
       " 8: 'Open Belly Tomato Smoke',\n",
       " 9: 'Good Order Table Drink'}"
      ]
     },
     "execution_count": 167,
     "metadata": {},
     "output_type": "execute_result"
    }
   ],
   "source": [
    "selected_topics"
   ]
  },
  {
   "cell_type": "code",
   "execution_count": 155,
   "metadata": {},
   "outputs": [],
   "source": [
    "# to be continued"
   ]
  },
  {
   "cell_type": "code",
   "execution_count": null,
   "metadata": {},
   "outputs": [],
   "source": []
  }
 ],
 "metadata": {
  "kernelspec": {
   "display_name": "Python 3",
   "language": "python",
   "name": "python3"
  },
  "language_info": {
   "codemirror_mode": {
    "name": "ipython",
    "version": 3
   },
   "file_extension": ".py",
   "mimetype": "text/x-python",
   "name": "python",
   "nbconvert_exporter": "python",
   "pygments_lexer": "ipython3",
   "version": "3.7.3"
  }
 },
 "nbformat": 4,
 "nbformat_minor": 2
}
