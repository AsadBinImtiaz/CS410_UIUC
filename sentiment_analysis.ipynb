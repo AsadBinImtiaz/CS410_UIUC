{
 "cells": [
  {
   "cell_type": "code",
   "execution_count": 1,
   "metadata": {},
   "outputs": [],
   "source": [
    "import pandas as pd\n",
    "import numpy as np\n",
    "import matplotlib.pyplot as plt\n",
    "import seaborn as sns\n",
    "import nltk\n",
    "from nltk.corpus import stopwords\n",
    "import string\n",
    "import math\n",
    "from sklearn.feature_extraction.text import CountVectorizer\n",
    "from sklearn.model_selection import train_test_split, cross_val_score\n",
    "from sklearn.metrics import classification_report\n",
    "from sklearn.metrics import confusion_matrix, accuracy_score, roc_auc_score, roc_curve\n",
    "%matplotlib inline\n",
    "# nltk.download('stopwords')"
   ]
  },
  {
   "cell_type": "markdown",
   "metadata": {},
   "source": [
    "#### Install missing packages"
   ]
  },
  {
   "cell_type": "code",
   "execution_count": 2,
   "metadata": {},
   "outputs": [],
   "source": [
    "if 0 == 1:\n",
    "    import sys\n",
    "    !conda install --yes --prefix {sys.prefix} s3fs seaborn scikit-learn"
   ]
  },
  {
   "cell_type": "code",
   "execution_count": 3,
   "metadata": {},
   "outputs": [],
   "source": [
    "def read_s3_bucket(bucket, data_key):\n",
    "    data_location = 's3://{}/{}'.format(bucket, data_key)\n",
    "\n",
    "    chunksize = 1000000\n",
    "    chunk_list = []\n",
    "    df_chunk = pd.read_csv(data_location, chunksize=chunksize)\n",
    "    for chunk in df_chunk:\n",
    "        chunk_list.append(chunk)\n",
    "\n",
    "    df = pd.concat(chunk_list)\n",
    "    return df"
   ]
  },
  {
   "cell_type": "code",
   "execution_count": 25,
   "metadata": {},
   "outputs": [
    {
     "name": "stdout",
     "output_type": "stream",
     "text": [
      "CPU times: user 363 ms, sys: 144 ms, total: 507 ms\n",
      "Wall time: 9.33 s\n"
     ]
    }
   ],
   "source": [
    "%%time\n",
    "if 1 == 1:\n",
    "    \n",
    "    bucket = 'cs410-yelp'\n",
    "    data_key = 'processed_data/cleaned_reviews_il.csv'\n",
    "\n",
    "    df = read_s3_bucket(bucket, data_key)\n",
    "    df = df.drop(labels='Unnamed: 0', axis=1)\n",
    "    df['review_stars'] = df['review_stars'].astype(int)\n",
    "    df['sentiment_text'] = df['sentiment_text'].astype(str)"
   ]
  },
  {
   "cell_type": "code",
   "execution_count": 5,
   "metadata": {},
   "outputs": [
    {
     "data": {
      "text/html": [
       "<div>\n",
       "<style scoped>\n",
       "    .dataframe tbody tr th:only-of-type {\n",
       "        vertical-align: middle;\n",
       "    }\n",
       "\n",
       "    .dataframe tbody tr th {\n",
       "        vertical-align: top;\n",
       "    }\n",
       "\n",
       "    .dataframe thead th {\n",
       "        text-align: right;\n",
       "    }\n",
       "</style>\n",
       "<table border=\"1\" class=\"dataframe\">\n",
       "  <thead>\n",
       "    <tr style=\"text-align: right;\">\n",
       "      <th></th>\n",
       "      <th>business_id</th>\n",
       "      <th>name</th>\n",
       "      <th>review_count</th>\n",
       "      <th>business_stars</th>\n",
       "      <th>review_id</th>\n",
       "      <th>review_stars</th>\n",
       "      <th>text</th>\n",
       "      <th>useful</th>\n",
       "      <th>topic_text</th>\n",
       "      <th>sentiment_text</th>\n",
       "    </tr>\n",
       "  </thead>\n",
       "  <tbody>\n",
       "    <tr>\n",
       "      <td>0</td>\n",
       "      <td>mofOjB6flg-eAWOFbOkHfQ</td>\n",
       "      <td>ChinaTown Buffet</td>\n",
       "      <td>72</td>\n",
       "      <td>2.5</td>\n",
       "      <td>8MTptiOpUeuPUFZgtfk9Vw</td>\n",
       "      <td>1</td>\n",
       "      <td>I would have given this restaurant zero stars ...</td>\n",
       "      <td>1</td>\n",
       "      <td>give zero_star allow find roach lurch food buf...</td>\n",
       "      <td>give zero_star allow. disgusting. find roach l...</td>\n",
       "    </tr>\n",
       "    <tr>\n",
       "      <td>1</td>\n",
       "      <td>mofOjB6flg-eAWOFbOkHfQ</td>\n",
       "      <td>ChinaTown Buffet</td>\n",
       "      <td>72</td>\n",
       "      <td>2.5</td>\n",
       "      <td>ofpfzn8LV4nJ2pE6IlTVdg</td>\n",
       "      <td>1</td>\n",
       "      <td>So...no. Just...no. Before I picked up a plate...</td>\n",
       "      <td>1</td>\n",
       "      <td>pick plate start food notice roach buffet act ...</td>\n",
       "      <td>pick plate start food. notice roach buffet....</td>\n",
       "    </tr>\n",
       "    <tr>\n",
       "      <td>2</td>\n",
       "      <td>mofOjB6flg-eAWOFbOkHfQ</td>\n",
       "      <td>ChinaTown Buffet</td>\n",
       "      <td>72</td>\n",
       "      <td>2.5</td>\n",
       "      <td>O3yApCw95tbA0kodflQrpA</td>\n",
       "      <td>5</td>\n",
       "      <td>The best food I want to the a lot of the buffe...</td>\n",
       "      <td>0</td>\n",
       "      <td>want lot buffet</td>\n",
       "      <td>good_food want lot buffet best_eat great_service.</td>\n",
       "    </tr>\n",
       "    <tr>\n",
       "      <td>3</td>\n",
       "      <td>mofOjB6flg-eAWOFbOkHfQ</td>\n",
       "      <td>ChinaTown Buffet</td>\n",
       "      <td>72</td>\n",
       "      <td>2.5</td>\n",
       "      <td>fFTVZE7EENdl66SX9cgc0A</td>\n",
       "      <td>1</td>\n",
       "      <td>It's impressive how filthy this place is. Some...</td>\n",
       "      <td>0</td>\n",
       "      <td>puke bathroom mess sit smell condition floor a...</td>\n",
       "      <td>impressive filthy. puke. bathroom. mess sit sm...</td>\n",
       "    </tr>\n",
       "    <tr>\n",
       "      <td>4</td>\n",
       "      <td>mofOjB6flg-eAWOFbOkHfQ</td>\n",
       "      <td>ChinaTown Buffet</td>\n",
       "      <td>72</td>\n",
       "      <td>2.5</td>\n",
       "      <td>pDlIw6DLLjZ5G1vJnMzr9A</td>\n",
       "      <td>5</td>\n",
       "      <td>I was visiting the Champaign area with my fami...</td>\n",
       "      <td>0</td>\n",
       "      <td>visit champaign area family recently_move sugg...</td>\n",
       "      <td>visit champaign area family recently_move. sug...</td>\n",
       "    </tr>\n",
       "  </tbody>\n",
       "</table>\n",
       "</div>"
      ],
      "text/plain": [
       "              business_id              name  review_count  business_stars  \\\n",
       "0  mofOjB6flg-eAWOFbOkHfQ  ChinaTown Buffet            72             2.5   \n",
       "1  mofOjB6flg-eAWOFbOkHfQ  ChinaTown Buffet            72             2.5   \n",
       "2  mofOjB6flg-eAWOFbOkHfQ  ChinaTown Buffet            72             2.5   \n",
       "3  mofOjB6flg-eAWOFbOkHfQ  ChinaTown Buffet            72             2.5   \n",
       "4  mofOjB6flg-eAWOFbOkHfQ  ChinaTown Buffet            72             2.5   \n",
       "\n",
       "                review_id  review_stars  \\\n",
       "0  8MTptiOpUeuPUFZgtfk9Vw             1   \n",
       "1  ofpfzn8LV4nJ2pE6IlTVdg             1   \n",
       "2  O3yApCw95tbA0kodflQrpA             5   \n",
       "3  fFTVZE7EENdl66SX9cgc0A             1   \n",
       "4  pDlIw6DLLjZ5G1vJnMzr9A             5   \n",
       "\n",
       "                                                text  useful  \\\n",
       "0  I would have given this restaurant zero stars ...       1   \n",
       "1  So...no. Just...no. Before I picked up a plate...       1   \n",
       "2  The best food I want to the a lot of the buffe...       0   \n",
       "3  It's impressive how filthy this place is. Some...       0   \n",
       "4  I was visiting the Champaign area with my fami...       0   \n",
       "\n",
       "                                          topic_text  \\\n",
       "0  give zero_star allow find roach lurch food buf...   \n",
       "1  pick plate start food notice roach buffet act ...   \n",
       "2                                    want lot buffet   \n",
       "3  puke bathroom mess sit smell condition floor a...   \n",
       "4  visit champaign area family recently_move sugg...   \n",
       "\n",
       "                                      sentiment_text  \n",
       "0  give zero_star allow. disgusting. find roach l...  \n",
       "1     pick plate start food. notice roach buffet....  \n",
       "2  good_food want lot buffet best_eat great_service.  \n",
       "3  impressive filthy. puke. bathroom. mess sit sm...  \n",
       "4  visit champaign area family recently_move. sug...  "
      ]
     },
     "execution_count": 5,
     "metadata": {},
     "output_type": "execute_result"
    },
    {
     "data": {
      "text/plain": [
       "19220"
      ]
     },
     "execution_count": 5,
     "metadata": {},
     "output_type": "execute_result"
    }
   ],
   "source": [
    "df.head()\n",
    "len(df.index)"
   ]
  },
  {
   "cell_type": "code",
   "execution_count": 6,
   "metadata": {},
   "outputs": [
    {
     "data": {
      "text/html": [
       "<div>\n",
       "<style scoped>\n",
       "    .dataframe tbody tr th:only-of-type {\n",
       "        vertical-align: middle;\n",
       "    }\n",
       "\n",
       "    .dataframe tbody tr th {\n",
       "        vertical-align: top;\n",
       "    }\n",
       "\n",
       "    .dataframe thead th {\n",
       "        text-align: right;\n",
       "    }\n",
       "</style>\n",
       "<table border=\"1\" class=\"dataframe\">\n",
       "  <thead>\n",
       "    <tr style=\"text-align: right;\">\n",
       "      <th></th>\n",
       "      <th>review_count</th>\n",
       "      <th>business_stars</th>\n",
       "      <th>useful</th>\n",
       "    </tr>\n",
       "    <tr>\n",
       "      <th>review_stars</th>\n",
       "      <th></th>\n",
       "      <th></th>\n",
       "      <th></th>\n",
       "    </tr>\n",
       "  </thead>\n",
       "  <tbody>\n",
       "    <tr>\n",
       "      <td>1</td>\n",
       "      <td>150.897895</td>\n",
       "      <td>3.413684</td>\n",
       "      <td>1.790526</td>\n",
       "    </tr>\n",
       "    <tr>\n",
       "      <td>2</td>\n",
       "      <td>166.664529</td>\n",
       "      <td>3.553527</td>\n",
       "      <td>1.516527</td>\n",
       "    </tr>\n",
       "    <tr>\n",
       "      <td>3</td>\n",
       "      <td>182.922291</td>\n",
       "      <td>3.634258</td>\n",
       "      <td>0.883619</td>\n",
       "    </tr>\n",
       "    <tr>\n",
       "      <td>4</td>\n",
       "      <td>204.313246</td>\n",
       "      <td>3.781063</td>\n",
       "      <td>0.832649</td>\n",
       "    </tr>\n",
       "    <tr>\n",
       "      <td>5</td>\n",
       "      <td>245.093020</td>\n",
       "      <td>3.934302</td>\n",
       "      <td>0.934650</td>\n",
       "    </tr>\n",
       "  </tbody>\n",
       "</table>\n",
       "</div>"
      ],
      "text/plain": [
       "              review_count  business_stars    useful\n",
       "review_stars                                        \n",
       "1               150.897895        3.413684  1.790526\n",
       "2               166.664529        3.553527  1.516527\n",
       "3               182.922291        3.634258  0.883619\n",
       "4               204.313246        3.781063  0.832649\n",
       "5               245.093020        3.934302  0.934650"
      ]
     },
     "execution_count": 6,
     "metadata": {},
     "output_type": "execute_result"
    }
   ],
   "source": [
    "stval = df.groupby('review_stars').mean()\n",
    "stval"
   ]
  },
  {
   "cell_type": "code",
   "execution_count": 7,
   "metadata": {},
   "outputs": [
    {
     "data": {
      "text/html": [
       "<div>\n",
       "<style scoped>\n",
       "    .dataframe tbody tr th:only-of-type {\n",
       "        vertical-align: middle;\n",
       "    }\n",
       "\n",
       "    .dataframe tbody tr th {\n",
       "        vertical-align: top;\n",
       "    }\n",
       "\n",
       "    .dataframe thead th {\n",
       "        text-align: right;\n",
       "    }\n",
       "</style>\n",
       "<table border=\"1\" class=\"dataframe\">\n",
       "  <thead>\n",
       "    <tr style=\"text-align: right;\">\n",
       "      <th></th>\n",
       "      <th>business_id</th>\n",
       "      <th>name</th>\n",
       "      <th>review_count</th>\n",
       "      <th>business_stars</th>\n",
       "      <th>review_id</th>\n",
       "      <th>review_stars</th>\n",
       "      <th>text</th>\n",
       "      <th>useful</th>\n",
       "      <th>topic_text</th>\n",
       "      <th>sentiment_text</th>\n",
       "    </tr>\n",
       "  </thead>\n",
       "  <tbody>\n",
       "    <tr>\n",
       "      <td>0</td>\n",
       "      <td>mofOjB6flg-eAWOFbOkHfQ</td>\n",
       "      <td>ChinaTown Buffet</td>\n",
       "      <td>72</td>\n",
       "      <td>2.5</td>\n",
       "      <td>8MTptiOpUeuPUFZgtfk9Vw</td>\n",
       "      <td>1</td>\n",
       "      <td>I would have given this restaurant zero stars ...</td>\n",
       "      <td>1</td>\n",
       "      <td>give zero_star allow find roach lurch food buf...</td>\n",
       "      <td>give zero_star allow. disgusting. find roach l...</td>\n",
       "    </tr>\n",
       "    <tr>\n",
       "      <td>1</td>\n",
       "      <td>mofOjB6flg-eAWOFbOkHfQ</td>\n",
       "      <td>ChinaTown Buffet</td>\n",
       "      <td>72</td>\n",
       "      <td>2.5</td>\n",
       "      <td>ofpfzn8LV4nJ2pE6IlTVdg</td>\n",
       "      <td>1</td>\n",
       "      <td>So...no. Just...no. Before I picked up a plate...</td>\n",
       "      <td>1</td>\n",
       "      <td>pick plate start food notice roach buffet act ...</td>\n",
       "      <td>pick plate start food. notice roach buffet....</td>\n",
       "    </tr>\n",
       "    <tr>\n",
       "      <td>2</td>\n",
       "      <td>mofOjB6flg-eAWOFbOkHfQ</td>\n",
       "      <td>ChinaTown Buffet</td>\n",
       "      <td>72</td>\n",
       "      <td>2.5</td>\n",
       "      <td>O3yApCw95tbA0kodflQrpA</td>\n",
       "      <td>5</td>\n",
       "      <td>The best food I want to the a lot of the buffe...</td>\n",
       "      <td>0</td>\n",
       "      <td>want lot buffet</td>\n",
       "      <td>good_food want lot buffet best_eat great_service.</td>\n",
       "    </tr>\n",
       "    <tr>\n",
       "      <td>3</td>\n",
       "      <td>mofOjB6flg-eAWOFbOkHfQ</td>\n",
       "      <td>ChinaTown Buffet</td>\n",
       "      <td>72</td>\n",
       "      <td>2.5</td>\n",
       "      <td>fFTVZE7EENdl66SX9cgc0A</td>\n",
       "      <td>1</td>\n",
       "      <td>It's impressive how filthy this place is. Some...</td>\n",
       "      <td>0</td>\n",
       "      <td>puke bathroom mess sit smell condition floor a...</td>\n",
       "      <td>impressive filthy. puke. bathroom. mess sit sm...</td>\n",
       "    </tr>\n",
       "    <tr>\n",
       "      <td>4</td>\n",
       "      <td>mofOjB6flg-eAWOFbOkHfQ</td>\n",
       "      <td>ChinaTown Buffet</td>\n",
       "      <td>72</td>\n",
       "      <td>2.5</td>\n",
       "      <td>pDlIw6DLLjZ5G1vJnMzr9A</td>\n",
       "      <td>5</td>\n",
       "      <td>I was visiting the Champaign area with my fami...</td>\n",
       "      <td>0</td>\n",
       "      <td>visit champaign area family recently_move sugg...</td>\n",
       "      <td>visit champaign area family recently_move. sug...</td>\n",
       "    </tr>\n",
       "  </tbody>\n",
       "</table>\n",
       "</div>"
      ],
      "text/plain": [
       "              business_id              name  review_count  business_stars  \\\n",
       "0  mofOjB6flg-eAWOFbOkHfQ  ChinaTown Buffet            72             2.5   \n",
       "1  mofOjB6flg-eAWOFbOkHfQ  ChinaTown Buffet            72             2.5   \n",
       "2  mofOjB6flg-eAWOFbOkHfQ  ChinaTown Buffet            72             2.5   \n",
       "3  mofOjB6flg-eAWOFbOkHfQ  ChinaTown Buffet            72             2.5   \n",
       "4  mofOjB6flg-eAWOFbOkHfQ  ChinaTown Buffet            72             2.5   \n",
       "\n",
       "                review_id  review_stars  \\\n",
       "0  8MTptiOpUeuPUFZgtfk9Vw             1   \n",
       "1  ofpfzn8LV4nJ2pE6IlTVdg             1   \n",
       "2  O3yApCw95tbA0kodflQrpA             5   \n",
       "3  fFTVZE7EENdl66SX9cgc0A             1   \n",
       "4  pDlIw6DLLjZ5G1vJnMzr9A             5   \n",
       "\n",
       "                                                text  useful  \\\n",
       "0  I would have given this restaurant zero stars ...       1   \n",
       "1  So...no. Just...no. Before I picked up a plate...       1   \n",
       "2  The best food I want to the a lot of the buffe...       0   \n",
       "3  It's impressive how filthy this place is. Some...       0   \n",
       "4  I was visiting the Champaign area with my fami...       0   \n",
       "\n",
       "                                          topic_text  \\\n",
       "0  give zero_star allow find roach lurch food buf...   \n",
       "1  pick plate start food notice roach buffet act ...   \n",
       "2                                    want lot buffet   \n",
       "3  puke bathroom mess sit smell condition floor a...   \n",
       "4  visit champaign area family recently_move sugg...   \n",
       "\n",
       "                                      sentiment_text  \n",
       "0  give zero_star allow. disgusting. find roach l...  \n",
       "1     pick plate start food. notice roach buffet....  \n",
       "2  good_food want lot buffet best_eat great_service.  \n",
       "3  impressive filthy. puke. bathroom. mess sit sm...  \n",
       "4  visit champaign area family recently_move. sug...  "
      ]
     },
     "execution_count": 7,
     "metadata": {},
     "output_type": "execute_result"
    },
    {
     "name": "stdout",
     "output_type": "stream",
     "text": [
      "(11833, 10)\n",
      "0    give zero_star allow. disgusting. find roach l...\n",
      "1       pick plate start food. notice roach buffet....\n",
      "2    good_food want lot buffet best_eat great_service.\n",
      "3    impressive filthy. puke. bathroom. mess sit sm...\n",
      "4    visit champaign area family recently_move. sug...\n",
      "Name: sentiment_text, dtype: object\n",
      "0    1\n",
      "1    1\n",
      "2    5\n",
      "3    1\n",
      "4    5\n",
      "Name: review_stars, dtype: int64\n"
     ]
    }
   ],
   "source": [
    "# CLASSIFICATION\n",
    "df_classes = df[(df['review_stars'] == 1) | (df['review_stars'] == 3) | (df['review_stars'] == 5)]\n",
    "df_classes.head()\n",
    "print(df_classes.shape)\n",
    "\n",
    "# Seperate the data set into X and Y for prediction\n",
    "x = df_classes['sentiment_text']\n",
    "y = df_classes['review_stars']\n",
    "print(x.head())\n",
    "print(y.head())"
   ]
  },
  {
   "cell_type": "code",
   "execution_count": 8,
   "metadata": {},
   "outputs": [],
   "source": [
    "def text_process(text):\n",
    "    nopunc = [char for char in text if char not in string.punctuation]\n",
    "    nopunc = ''.join(nopunc)\n",
    "    return [word for word in nopunc.split() if word.lower() not in stopwords.words('english')]"
   ]
  },
  {
   "cell_type": "code",
   "execution_count": 9,
   "metadata": {},
   "outputs": [
    {
     "name": "stdout",
     "output_type": "stream",
     "text": [
      "56794\n",
      "give zero_star allow. disgusting. find roach lurch food. clean_dish buffet item dirty. look plate inspect authority.\n",
      "  (0, 1346)\t1\n",
      "  (0, 2985)\t1\n",
      "  (0, 5913)\t1\n",
      "  (0, 7983)\t1\n",
      "  (0, 12540)\t1\n",
      "  (0, 12774)\t1\n",
      "  (0, 17324)\t1\n",
      "  (0, 17873)\t1\n",
      "  (0, 19757)\t1\n",
      "  (0, 25528)\t1\n",
      "  (0, 26191)\t1\n",
      "  (0, 29235)\t1\n",
      "  (0, 29658)\t1\n",
      "  (0, 39861)\t1\n",
      "  (0, 44117)\t1\n",
      "  (0, 56764)\t1\n",
      "CPU times: user 38.7 s, sys: 7.32 s, total: 46 s\n",
      "Wall time: 46.1 s\n"
     ]
    }
   ],
   "source": [
    "%%time\n",
    "vocab = CountVectorizer(analyzer=text_process).fit(x)\n",
    "print(len(vocab.vocabulary_))\n",
    "r0 = x[0]\n",
    "print(r0)\n",
    "vocab0 = vocab.transform([r0])\n",
    "print(vocab0)"
   ]
  },
  {
   "cell_type": "markdown",
   "metadata": {},
   "source": [
    "#### Vectorization of the whole review set and and checking the sparse matrix:"
   ]
  },
  {
   "cell_type": "code",
   "execution_count": 10,
   "metadata": {},
   "outputs": [
    {
     "name": "stdout",
     "output_type": "stream",
     "text": [
      "Shape of the sparse matrix: (11833, 56794)\n",
      "Non-Zero occurences: 347383\n",
      "Density of the matrix: 0.05169056030699637\n",
      "CPU times: user 38.2 s, sys: 7.15 s, total: 45.4 s\n",
      "Wall time: 45.5 s\n"
     ]
    }
   ],
   "source": [
    "%%time\n",
    "x = vocab.transform(x)\n",
    "#Shape of the matrix:\n",
    "print(\"Shape of the sparse matrix: {}\".format(x.shape))\n",
    "#Non-zero occurences:\n",
    "print(\"Non-Zero occurences: {}\".format(x.nnz))\n",
    "\n",
    "# DENSITY OF THE MATRIX\n",
    "density = (x.nnz / (x.shape[0] * x.shape[1])) * 100\n",
    "print(\"Density of the matrix: {}\".format(density))"
   ]
  },
  {
   "cell_type": "markdown",
   "metadata": {},
   "source": [
    "#### Splitting data set into training and testing set:"
   ]
  },
  {
   "cell_type": "code",
   "execution_count": 11,
   "metadata": {},
   "outputs": [],
   "source": [
    "x_train,x_test,y_train,y_test = train_test_split(x, y, test_size=0.2, random_state=101)"
   ]
  },
  {
   "cell_type": "code",
   "execution_count": 12,
   "metadata": {},
   "outputs": [],
   "source": [
    "def print_results(y_true, y_pred, classifier_name):\n",
    "    print(\"Confusion Matrix for {}:\".format(classifier_name))\n",
    "    print(confusion_matrix(y_true, y_pred))\n",
    "    print(\"\\nClassification Report:\")\n",
    "    print(classification_report(y_true, y_pred, target_names=['1-Star', '3-Star', '5-Star']))\n",
    "    print(\"\\nScore: {}\".format(round(accuracy_score(y_true, y_pred)*100, 2)))"
   ]
  },
  {
   "cell_type": "markdown",
   "metadata": {},
   "source": [
    "### Multinomial Naive Bayes"
   ]
  },
  {
   "cell_type": "code",
   "execution_count": 13,
   "metadata": {},
   "outputs": [
    {
     "name": "stdout",
     "output_type": "stream",
     "text": [
      "Confusion Matrix for Multinomial Naive Bayes:\n",
      "[[ 246   70   58]\n",
      " [  53  251  283]\n",
      " [   7   39 1360]]\n",
      "\n",
      "Classification Report:\n",
      "              precision    recall  f1-score   support\n",
      "\n",
      "      1-Star       0.80      0.66      0.72       374\n",
      "      3-Star       0.70      0.43      0.53       587\n",
      "      5-Star       0.80      0.97      0.88      1406\n",
      "\n",
      "    accuracy                           0.78      2367\n",
      "   macro avg       0.77      0.68      0.71      2367\n",
      "weighted avg       0.77      0.78      0.77      2367\n",
      "\n",
      "\n",
      "Score: 78.45\n",
      "CPU times: user 21.2 ms, sys: 3.84 ms, total: 25.1 ms\n",
      "Wall time: 23.5 ms\n"
     ]
    }
   ],
   "source": [
    "%%time\n",
    "from sklearn.naive_bayes import MultinomialNB\n",
    "mnb = MultinomialNB()\n",
    "mnb.fit(x_train, y_train)\n",
    "predmnb = mnb.predict(x_test)\n",
    "print_results(y_test, predmnb, \"Multinomial Naive Bayes\")"
   ]
  },
  {
   "cell_type": "markdown",
   "metadata": {},
   "source": [
    "### RandomForestClassifier"
   ]
  },
  {
   "cell_type": "code",
   "execution_count": 14,
   "metadata": {},
   "outputs": [
    {
     "name": "stderr",
     "output_type": "stream",
     "text": [
      "/anaconda3/envs/project/lib/python3.7/site-packages/sklearn/ensemble/forest.py:245: FutureWarning: The default value of n_estimators will change from 10 in version 0.20 to 100 in 0.22.\n",
      "  \"10 in version 0.20 to 100 in 0.22.\", FutureWarning)\n"
     ]
    },
    {
     "name": "stdout",
     "output_type": "stream",
     "text": [
      "Confusion Matrix for Random Forest Classifier:\n",
      "[[ 188   65  121]\n",
      " [  78  155  354]\n",
      " [  45   81 1280]]\n",
      "\n",
      "Classification Report:\n",
      "              precision    recall  f1-score   support\n",
      "\n",
      "      1-Star       0.60      0.50      0.55       374\n",
      "      3-Star       0.51      0.26      0.35       587\n",
      "      5-Star       0.73      0.91      0.81      1406\n",
      "\n",
      "    accuracy                           0.69      2367\n",
      "   macro avg       0.62      0.56      0.57      2367\n",
      "weighted avg       0.66      0.69      0.65      2367\n",
      "\n",
      "\n",
      "Score: 68.57\n",
      "CPU times: user 4.01 s, sys: 25.9 ms, total: 4.03 s\n",
      "Wall time: 4.04 s\n"
     ]
    }
   ],
   "source": [
    "%%time\n",
    "from sklearn.ensemble import RandomForestClassifier\n",
    "rmfr = RandomForestClassifier()\n",
    "rmfr.fit(x_train, y_train)\n",
    "p = rmfr.predict(x_test)\n",
    "print_results(y_test, p, \"Random Forest Classifier\")"
   ]
  },
  {
   "cell_type": "markdown",
   "metadata": {},
   "source": [
    "### Decision Tree"
   ]
  },
  {
   "cell_type": "code",
   "execution_count": 15,
   "metadata": {},
   "outputs": [
    {
     "name": "stdout",
     "output_type": "stream",
     "text": [
      "Confusion Matrix for Decision Tree:\n",
      "[[ 183   89  102]\n",
      " [  89  211  287]\n",
      " [  91  158 1157]]\n",
      "\n",
      "Classification Report:\n",
      "              precision    recall  f1-score   support\n",
      "\n",
      "      1-Star       0.50      0.49      0.50       374\n",
      "      3-Star       0.46      0.36      0.40       587\n",
      "      5-Star       0.75      0.82      0.78      1406\n",
      "\n",
      "    accuracy                           0.66      2367\n",
      "   macro avg       0.57      0.56      0.56      2367\n",
      "weighted avg       0.64      0.66      0.64      2367\n",
      "\n",
      "\n",
      "Score: 65.53\n",
      "CPU times: user 4.41 s, sys: 14 ms, total: 4.43 s\n",
      "Wall time: 4.44 s\n"
     ]
    }
   ],
   "source": [
    "%%time\n",
    "from sklearn.tree import DecisionTreeClassifier\n",
    "dt = DecisionTreeClassifier()\n",
    "dt.fit(x_train,y_train)\n",
    "p = dt.predict(x_test)\n",
    "print_results(y_test, p, \"Decision Tree\")"
   ]
  },
  {
   "cell_type": "markdown",
   "metadata": {},
   "source": [
    "### Support Vector Machines"
   ]
  },
  {
   "cell_type": "code",
   "execution_count": 16,
   "metadata": {},
   "outputs": [
    {
     "name": "stderr",
     "output_type": "stream",
     "text": [
      "/anaconda3/envs/project/lib/python3.7/site-packages/sklearn/svm/base.py:193: FutureWarning: The default value of gamma will change from 'auto' to 'scale' in version 0.22 to account better for unscaled features. Set gamma explicitly to 'auto' or 'scale' to avoid this warning.\n",
      "  \"avoid this warning.\", FutureWarning)\n"
     ]
    },
    {
     "name": "stdout",
     "output_type": "stream",
     "text": [
      "Confusion Matrix for SVM:\n",
      "[[   0    0  374]\n",
      " [   0    0  587]\n",
      " [   0    0 1406]]\n",
      "\n",
      "Classification Report:\n",
      "              precision    recall  f1-score   support\n",
      "\n",
      "      1-Star       0.00      0.00      0.00       374\n",
      "      3-Star       0.00      0.00      0.00       587\n",
      "      5-Star       0.59      1.00      0.75      1406\n",
      "\n",
      "    accuracy                           0.59      2367\n",
      "   macro avg       0.20      0.33      0.25      2367\n",
      "weighted avg       0.35      0.59      0.44      2367\n",
      "\n",
      "\n",
      "Score: 59.4\n",
      "CPU times: user 22.5 s, sys: 200 ms, total: 22.7 s\n",
      "Wall time: 22.8 s\n"
     ]
    },
    {
     "name": "stderr",
     "output_type": "stream",
     "text": [
      "/anaconda3/envs/project/lib/python3.7/site-packages/sklearn/metrics/classification.py:1437: UndefinedMetricWarning: Precision and F-score are ill-defined and being set to 0.0 in labels with no predicted samples.\n",
      "  'precision', 'predicted', average, warn_for)\n"
     ]
    }
   ],
   "source": [
    "%%time\n",
    "from sklearn.svm import SVC\n",
    "svm = SVC(random_state=101)\n",
    "svm.fit(x_train,y_train)\n",
    "p = svm.predict(x_test)\n",
    "print_results(y_test, p, \"SVM\")"
   ]
  },
  {
   "cell_type": "markdown",
   "metadata": {},
   "source": [
    "### K - Nearest Neighbor Classifier"
   ]
  },
  {
   "cell_type": "code",
   "execution_count": 17,
   "metadata": {},
   "outputs": [
    {
     "name": "stdout",
     "output_type": "stream",
     "text": [
      "Confusion Matrix for kNN:\n",
      "[[238  17 119]\n",
      " [212  48 327]\n",
      " [382  26 998]]\n",
      "\n",
      "Classification Report:\n",
      "              precision    recall  f1-score   support\n",
      "\n",
      "      1-Star       0.29      0.64      0.39       374\n",
      "      3-Star       0.53      0.08      0.14       587\n",
      "      5-Star       0.69      0.71      0.70      1406\n",
      "\n",
      "    accuracy                           0.54      2367\n",
      "   macro avg       0.50      0.48      0.41      2367\n",
      "weighted avg       0.59      0.54      0.51      2367\n",
      "\n",
      "\n",
      "Score: 54.25\n",
      "CPU times: user 717 ms, sys: 169 ms, total: 886 ms\n",
      "Wall time: 887 ms\n"
     ]
    }
   ],
   "source": [
    "%%time\n",
    "from sklearn.neighbors import KNeighborsClassifier\n",
    "knn = KNeighborsClassifier(n_neighbors=10)\n",
    "knn.fit(x_train,y_train)\n",
    "p = knn.predict(x_test)\n",
    "print_results(y_test, p, \"kNN\")"
   ]
  },
  {
   "cell_type": "markdown",
   "metadata": {},
   "source": [
    "### Multilayer Perceptron"
   ]
  },
  {
   "cell_type": "code",
   "execution_count": 18,
   "metadata": {},
   "outputs": [
    {
     "name": "stdout",
     "output_type": "stream",
     "text": [
      "Confusion Matrix for Multilayer Perceptron:\n",
      "[[ 279   54   41]\n",
      " [  67  329  191]\n",
      " [  16   95 1295]]\n",
      "\n",
      "Classification Report:\n",
      "              precision    recall  f1-score   support\n",
      "\n",
      "      1-Star       0.77      0.75      0.76       374\n",
      "      3-Star       0.69      0.56      0.62       587\n",
      "      5-Star       0.85      0.92      0.88      1406\n",
      "\n",
      "    accuracy                           0.80      2367\n",
      "   macro avg       0.77      0.74      0.75      2367\n",
      "weighted avg       0.80      0.80      0.80      2367\n",
      "\n",
      "\n",
      "Score: 80.4\n",
      "CPU times: user 10min 6s, sys: 1min 43s, total: 11min 50s\n",
      "Wall time: 4min 1s\n"
     ]
    }
   ],
   "source": [
    "%%time\n",
    "from sklearn.neural_network import MLPClassifier\n",
    "mlp = MLPClassifier()\n",
    "mlp.fit(x_train,y_train)\n",
    "p = mlp.predict(x_test)\n",
    "print_results(y_test, p, \"Multilayer Perceptron\")"
   ]
  },
  {
   "cell_type": "code",
   "execution_count": 27,
   "metadata": {},
   "outputs": [
    {
     "name": "stdout",
     "output_type": "stream",
     "text": [
      " suppose care hunger. will probably not.\n",
      "\n",
      "Actual Rating: 3\n",
      "Predicted Rating: 3\n"
     ]
    }
   ],
   "source": [
    "item = 11\n",
    "pr = df['sentiment_text'][item]\n",
    "print(pr)\n",
    "print(\"\\nActual Rating: {}\".format(df['review_stars'][item]))\n",
    "pr_t = vocab.transform([pr])\n",
    "print(\"Predicted Rating: {}\".format(mlp.predict(pr_t)[0]))"
   ]
  }
 ],
 "metadata": {
  "kernelspec": {
   "display_name": "Python 3",
   "language": "python",
   "name": "python3"
  },
  "language_info": {
   "codemirror_mode": {
    "name": "ipython",
    "version": 3
   },
   "file_extension": ".py",
   "mimetype": "text/x-python",
   "name": "python",
   "nbconvert_exporter": "python",
   "pygments_lexer": "ipython3",
   "version": "3.7.4"
  }
 },
 "nbformat": 4,
 "nbformat_minor": 2
}
