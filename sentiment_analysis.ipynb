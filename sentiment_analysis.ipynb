{
 "cells": [
  {
   "cell_type": "code",
   "execution_count": null,
   "metadata": {},
   "outputs": [],
   "source": [
    "import pandas as pd\n",
    "import numpy as np\n",
    "import nltk\n",
    "from nltk.corpus import stopwords\n",
    "import string\n",
    "import math\n",
    "import pickle\n",
    "import os\n",
    "from sklearn.feature_extraction.text import CountVectorizer\n",
    "from sklearn.model_selection import train_test_split, cross_val_score\n",
    "from sklearn.metrics import classification_report\n",
    "from sklearn.metrics import confusion_matrix, accuracy_score, roc_auc_score, roc_curve\n",
    "# nltk.download('stopwords')"
   ]
  },
  {
   "cell_type": "code",
   "execution_count": null,
   "metadata": {},
   "outputs": [],
   "source": [
    "pickle_dir = os.path.join('pickles/sentiment_analysis')\n",
    "cleaned_reviews_file = os.path.join(pickle_dir, 'cleaned_reviews_df.pkl')\n",
    "df_classes_file = os.path.join(pickle_dir, 'df_classes.pkl')\n",
    "vocab_file = os.path.join(pickle_dir, 'cleaned_reviews_vocab.pkl')\n",
    "transformed_sentiment_file = os.path.join(pickle_dir, 'cleaned_reviews_x_sentiment.pkl')\n",
    "classifier_file = os.path.join(pickle_dir, 'mnb_classifier.pkl')"
   ]
  },
  {
   "cell_type": "markdown",
   "metadata": {},
   "source": [
    "#### Install missing packages"
   ]
  },
  {
   "cell_type": "code",
   "execution_count": null,
   "metadata": {},
   "outputs": [],
   "source": [
    "if 0 == 1:\n",
    "    import sys\n",
    "    !conda install --yes --prefix {sys.prefix} s3fs seaborn scikit-learn"
   ]
  },
  {
   "cell_type": "code",
   "execution_count": null,
   "metadata": {},
   "outputs": [],
   "source": [
    "def read_s3_bucket(bucket, data_key):\n",
    "    data_location = 's3://{}/{}'.format(bucket, data_key)\n",
    "\n",
    "    chunksize = 1000000\n",
    "    chunk_list = []\n",
    "    df_chunk = pd.read_csv(data_location, chunksize=chunksize)\n",
    "    for chunk in df_chunk:\n",
    "        chunk_list.append(chunk)\n",
    "\n",
    "    df = pd.concat(chunk_list)\n",
    "    return df"
   ]
  },
  {
   "cell_type": "code",
   "execution_count": null,
   "metadata": {},
   "outputs": [],
   "source": [
    "%%time\n",
    "if 1 == 1:\n",
    "    \n",
    "    bucket = 'cs410-yelp'\n",
    "    data_key = 'processed_data/cleaned_reviews.csv'\n",
    "\n",
    "    df = read_s3_bucket(bucket, data_key)\n",
    "    df = df.drop(labels='Unnamed: 0', axis=1)\n",
    "    df['review_stars']   = df['review_stars'].astype(int)\n",
    "    df['sentiment_text'] = df['sentiment_text'].astype(str)"
   ]
  },
  {
   "cell_type": "code",
   "execution_count": null,
   "metadata": {},
   "outputs": [],
   "source": [
    "df.head()\n",
    "len(df.index)"
   ]
  },
  {
   "cell_type": "code",
   "execution_count": null,
   "metadata": {},
   "outputs": [],
   "source": [
    "stval = df.groupby('review_stars').mean()\n",
    "stval"
   ]
  },
  {
   "cell_type": "code",
   "execution_count": null,
   "metadata": {},
   "outputs": [],
   "source": [
    "stop_words = [line.rstrip('\\n') for line in open('config/stopwords.txt', 'r', encoding='utf-8')] "
   ]
  },
  {
   "cell_type": "code",
   "execution_count": null,
   "metadata": {},
   "outputs": [],
   "source": [
    "stopwords = frozenset(stop_words)"
   ]
  },
  {
   "cell_type": "code",
   "execution_count": null,
   "metadata": {},
   "outputs": [],
   "source": [
    "%%time\n",
    "# CLASSIFICATION\n",
    "df_classes = df[(df['review_stars'] == 1) | (df['review_stars'] == 3) | (df['review_stars'] == 5)]\n",
    "df_classes = df_classes[(df_classes['useful'] == 1)]\n",
    "df_classes.head()\n",
    "print(df_classes.shape)\n",
    "\n",
    "# Seperate the data set into X and Y for prediction\n",
    "x = df_classes['sentiment_text']\n",
    "y = df_classes['review_stars']\n",
    "print(x.head())\n",
    "print(y.head())"
   ]
  },
  {
   "cell_type": "code",
   "execution_count": null,
   "metadata": {},
   "outputs": [],
   "source": [
    "def text_process(text):\n",
    "    nopunc = [char for char in text if char not in string.punctuation]\n",
    "    nopunc = ''.join(nopunc)\n",
    "    return [word for word in nopunc.split() if word.lower() not in stopwords]"
   ]
  },
  {
   "cell_type": "code",
   "execution_count": null,
   "metadata": {},
   "outputs": [],
   "source": [
    "%%time\n",
    "r0 = x[3]\n",
    "print(r0)\n",
    "vocab = CountVectorizer(analyzer=text_process,stop_words=stopwords).fit(x)\n",
    "print(len(vocab.vocabulary_))\n",
    "vocab0 = vocab.transform([r0])\n",
    "print(vocab0)"
   ]
  },
  {
   "cell_type": "markdown",
   "metadata": {},
   "source": [
    "#### Vectorization of the whole review set and and checking the sparse matrix:"
   ]
  },
  {
   "cell_type": "code",
   "execution_count": null,
   "metadata": {},
   "outputs": [],
   "source": [
    "%%time\n",
    "x = vocab.transform(x)\n",
    "#Shape of the matrix:\n",
    "print(\"Shape of the sparse matrix: {}\".format(x.shape))\n",
    "#Non-zero occurences:\n",
    "print(\"Non-Zero occurences: {}\".format(x.nnz))\n",
    "\n",
    "# DENSITY OF THE MATRIX\n",
    "density = (x.nnz / (x.shape[0] * x.shape[1])) * 100\n",
    "print(\"Density of the matrix: {}\".format(density))"
   ]
  },
  {
   "cell_type": "markdown",
   "metadata": {},
   "source": [
    "#### Splitting data set into training and testing set:"
   ]
  },
  {
   "cell_type": "code",
   "execution_count": null,
   "metadata": {},
   "outputs": [],
   "source": [
    "x_train,x_test,y_train,y_test = train_test_split(x, y, test_size=0.2, random_state=101)"
   ]
  },
  {
   "cell_type": "code",
   "execution_count": null,
   "metadata": {},
   "outputs": [],
   "source": [
    "def print_results(y_true, y_pred, classifier_name):\n",
    "    print(\"Confusion Matrix for {}:\".format(classifier_name))\n",
    "    print(confusion_matrix(y_true, y_pred))\n",
    "    print(\"\\nClassification Report:\")\n",
    "    print(classification_report(y_true, y_pred, target_names=['1-Star', '3-Star', '5-Star']))\n",
    "    print(\"\\nScore: {}\".format(round(accuracy_score(y_true, y_pred)*100, 2)))"
   ]
  },
  {
   "cell_type": "markdown",
   "metadata": {},
   "source": [
    "### Multinomial Naive Bayes"
   ]
  },
  {
   "cell_type": "code",
   "execution_count": null,
   "metadata": {},
   "outputs": [],
   "source": [
    "%%time\n",
    "from sklearn.naive_bayes import MultinomialNB\n",
    "mnb = MultinomialNB()\n",
    "mnb.fit(x_train, y_train)\n",
    "predmnb = mnb.predict(x_test)\n",
    "print_results(y_test, predmnb, \"Multinomial Naive Bayes\")"
   ]
  },
  {
   "cell_type": "markdown",
   "metadata": {},
   "source": [
    "### RandomForestClassifier"
   ]
  },
  {
   "cell_type": "code",
   "execution_count": null,
   "metadata": {},
   "outputs": [],
   "source": [
    "%%time\n",
    "if 0 == 1:\n",
    "    from sklearn.ensemble import RandomForestClassifier\n",
    "    rmfr = RandomForestClassifier()\n",
    "    rmfr.fit(x_train, y_train)\n",
    "    p = rmfr.predict(x_test)\n",
    "    print_results(y_test, p, \"Random Forest Classifier\")"
   ]
  },
  {
   "cell_type": "markdown",
   "metadata": {},
   "source": [
    "### Decision Tree"
   ]
  },
  {
   "cell_type": "code",
   "execution_count": null,
   "metadata": {},
   "outputs": [],
   "source": [
    "%%time\n",
    "if 0 == 1:\n",
    "    from sklearn.tree import DecisionTreeClassifier\n",
    "    dt = DecisionTreeClassifier()\n",
    "    dt.fit(x_train,y_train)\n",
    "    p = dt.predict(x_test)\n",
    "    print_results(y_test, p, \"Decision Tree\")"
   ]
  },
  {
   "cell_type": "markdown",
   "metadata": {},
   "source": [
    "### Support Vector Machines"
   ]
  },
  {
   "cell_type": "code",
   "execution_count": null,
   "metadata": {},
   "outputs": [],
   "source": [
    "%%time\n",
    "if 0 == 1:\n",
    "    from sklearn.svm import SVC\n",
    "    svm = SVC(random_state=101)\n",
    "    svm.fit(x_train,y_train)\n",
    "    p = svm.predict(x_test)\n",
    "    print_results(y_test, p, \"SVM\")"
   ]
  },
  {
   "cell_type": "markdown",
   "metadata": {},
   "source": [
    "### K - Nearest Neighbor Classifier"
   ]
  },
  {
   "cell_type": "code",
   "execution_count": null,
   "metadata": {},
   "outputs": [],
   "source": [
    "%%time\n",
    "if 0 == 1:\n",
    "    from sklearn.neighbors import KNeighborsClassifier\n",
    "    knn = KNeighborsClassifier(n_neighbors=10)\n",
    "    knn.fit(x_train,y_train)\n",
    "    p = knn.predict(x_test)\n",
    "    print_results(y_test, p, \"kNN\")"
   ]
  },
  {
   "cell_type": "markdown",
   "metadata": {},
   "source": [
    "### Multilayer Perceptron"
   ]
  },
  {
   "cell_type": "code",
   "execution_count": null,
   "metadata": {},
   "outputs": [],
   "source": [
    "%%time\n",
    "if 0 == 1:\n",
    "    from sklearn.neural_network import MLPClassifier\n",
    "    mlp = MLPClassifier()\n",
    "    mlp.fit(x_train,y_train)\n",
    "    p = mlp.predict(x_test)\n",
    "    print_results(y_test, p, \"Multilayer Perceptron\")"
   ]
  },
  {
   "cell_type": "code",
   "execution_count": null,
   "metadata": {},
   "outputs": [],
   "source": [
    "item = 11\n",
    "pr = df['sentiment_text'][item]\n",
    "print(pr)\n",
    "print(\"\\nActual Rating: {}\".format(df['review_stars'][item]))\n",
    "pr_t = vocab.transform([pr])\n",
    "print(\"Predicted Rating: {}\".format(mnb.predict(pr_t)[0]))"
   ]
  },
  {
   "cell_type": "code",
   "execution_count": null,
   "metadata": {},
   "outputs": [],
   "source": [
    "%%time\n",
    "with open(cleaned_reviews_file, 'wb') as file:\n",
    "    pickle.dump(df, file)\n",
    "\n",
    "with open(df_classes_file, 'wb') as file:\n",
    "    pickle.dump(df_classes, file)\n",
    "\n",
    "with open(vocab_file, 'wb') as file:\n",
    "    pickle.dump(vocab, file)\n",
    "\n",
    "with open(transformed_sentiment_file, 'wb') as file:\n",
    "    pickle.dump(x, file)\n",
    "\n",
    "with open(classifier_file, 'wb') as file:\n",
    "    pickle.dump(mnb, file)"
   ]
  }
 ],
 "metadata": {
  "kernelspec": {
   "display_name": "Python 3",
   "language": "python",
   "name": "python3"
  },
  "language_info": {
   "codemirror_mode": {
    "name": "ipython",
    "version": 3
   },
   "file_extension": ".py",
   "mimetype": "text/x-python",
   "name": "python",
   "nbconvert_exporter": "python",
   "pygments_lexer": "ipython3",
   "version": "3.7.4"
  }
 },
 "nbformat": 4,
 "nbformat_minor": 2
}
