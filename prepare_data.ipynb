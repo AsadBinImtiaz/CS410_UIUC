{
 "cells": [
  {
   "cell_type": "code",
   "execution_count": 29,
   "metadata": {},
   "outputs": [],
   "source": [
    "#pip install pymongo\n",
    "#pip install gensim"
   ]
  },
  {
   "cell_type": "code",
   "execution_count": 31,
   "metadata": {},
   "outputs": [],
   "source": [
    "# Import necessary libs\n",
    "import pandas as pd\n",
    "import re\n",
    "import numpy as np\n",
    "import time\n",
    "from pprint import pprint\n",
    "\n",
    "# Gensim\n",
    "import gensim\n",
    "import gensim.corpora as corpora\n",
    "from gensim.utils import simple_preprocess\n",
    "from gensim.models import CoherenceModel\n",
    "\n",
    "# Spacy\n",
    "import spacy\n",
    "\n",
    "# Plotting\n",
    "import matplotlib.pyplot as plot\n",
    "\n",
    "# Mongo DB\n",
    "from pymongo import MongoClient"
   ]
  },
  {
   "cell_type": "code",
   "execution_count": 32,
   "metadata": {},
   "outputs": [],
   "source": [
    "# import data from MongoDB\n",
    "DBClient = MongoClient()\n",
    "yelp_data = DBClient.yelp"
   ]
  },
  {
   "cell_type": "code",
   "execution_count": 33,
   "metadata": {},
   "outputs": [],
   "source": [
    "# Select business having atleast 50 reviews\n",
    "min_review_count = 50\n",
    "\n",
    "# businesses to Analyse\n",
    "businesses_to_analyse = 'Restaurants'"
   ]
  },
  {
   "cell_type": "code",
   "execution_count": 28,
   "metadata": {},
   "outputs": [],
   "source": [
    "# Get all restaurant businesses\n",
    "Restaurant_business = pd.DataFrame(yelp_data.business.find({\"categories\":{\"$regex\" :\".*\"+businesses_to_analyse+\".*\"}, \"review_count\":{\"$gte\":min_review_count} },  {'business_id':1, 'name':1, 'city':1, 'state':1, 'stars':1, 'review_count':1, 'categories':1, '_id': 0}))"
   ]
  },
  {
   "cell_type": "code",
   "execution_count": 29,
   "metadata": {},
   "outputs": [],
   "source": [
    "# Get all reviews\n",
    "All_reviews = pd.DataFrame(yelp_data.review.find({},{'review_id':1, 'user_id':1, 'business_id':1, 'stars':1, 'useful':1, 'text':1, 'date':1, '_id': 0}))"
   ]
  },
  {
   "cell_type": "code",
   "execution_count": 7,
   "metadata": {},
   "outputs": [],
   "source": [
    "# Find all restaurant reviews\n",
    "#Restaurant_reviews = All_reviews[All_reviews.business_id.isin(Restaurant_business.business_id.values)]\n",
    "Restaurant_reviews = pd.merge(Restaurant_business,All_reviews, on='business_id').rename(columns={'stars_x':'business_stars', 'stars_y':'review_stars'})"
   ]
  },
  {
   "cell_type": "code",
   "execution_count": 8,
   "metadata": {},
   "outputs": [
    {
     "data": {
      "text/html": [
       "<div>\n",
       "<style scoped>\n",
       "    .dataframe tbody tr th:only-of-type {\n",
       "        vertical-align: middle;\n",
       "    }\n",
       "\n",
       "    .dataframe tbody tr th {\n",
       "        vertical-align: top;\n",
       "    }\n",
       "\n",
       "    .dataframe thead th {\n",
       "        text-align: right;\n",
       "    }\n",
       "</style>\n",
       "<table border=\"1\" class=\"dataframe\">\n",
       "  <thead>\n",
       "    <tr style=\"text-align: right;\">\n",
       "      <th></th>\n",
       "      <th>business_id</th>\n",
       "      <th>name</th>\n",
       "      <th>city</th>\n",
       "      <th>state</th>\n",
       "      <th>stars</th>\n",
       "      <th>review_count</th>\n",
       "      <th>categories</th>\n",
       "    </tr>\n",
       "  </thead>\n",
       "  <tbody>\n",
       "    <tr>\n",
       "      <td>0</td>\n",
       "      <td>QXAEGFB4oINsVuTFxEYKFQ</td>\n",
       "      <td>Emerald Chinese Restaurant</td>\n",
       "      <td>Mississauga</td>\n",
       "      <td>ON</td>\n",
       "      <td>2.5</td>\n",
       "      <td>128</td>\n",
       "      <td>Specialty Food, Restaurants, Dim Sum, Imported...</td>\n",
       "    </tr>\n",
       "    <tr>\n",
       "      <td>1</td>\n",
       "      <td>gnKjwL_1w79qoiV3IC_xQQ</td>\n",
       "      <td>Musashi Japanese Restaurant</td>\n",
       "      <td>Charlotte</td>\n",
       "      <td>NC</td>\n",
       "      <td>4.0</td>\n",
       "      <td>170</td>\n",
       "      <td>Sushi Bars, Restaurants, Japanese</td>\n",
       "    </tr>\n",
       "    <tr>\n",
       "      <td>2</td>\n",
       "      <td>tstimHoMcYbkSC4eBA1wEg</td>\n",
       "      <td>Maria's Mexican Restaurant &amp; Bakery</td>\n",
       "      <td>Las Vegas</td>\n",
       "      <td>NV</td>\n",
       "      <td>4.5</td>\n",
       "      <td>184</td>\n",
       "      <td>Mexican, Restaurants, Patisserie/Cake Shop, Fo...</td>\n",
       "    </tr>\n",
       "    <tr>\n",
       "      <td>3</td>\n",
       "      <td>NDuUMJfrWk52RA-H-OtrpA</td>\n",
       "      <td>Bolt Fresh Bar</td>\n",
       "      <td>Toronto</td>\n",
       "      <td>ON</td>\n",
       "      <td>3.0</td>\n",
       "      <td>57</td>\n",
       "      <td>Juice Bars &amp; Smoothies, Food, Restaurants, Fas...</td>\n",
       "    </tr>\n",
       "    <tr>\n",
       "      <td>4</td>\n",
       "      <td>dQj5DLZjeDK3KFysh1SYOQ</td>\n",
       "      <td>Apteka</td>\n",
       "      <td>Pittsburgh</td>\n",
       "      <td>PA</td>\n",
       "      <td>4.5</td>\n",
       "      <td>242</td>\n",
       "      <td>Nightlife, Bars, Polish, Modern European, Rest...</td>\n",
       "    </tr>\n",
       "  </tbody>\n",
       "</table>\n",
       "</div>"
      ],
      "text/plain": [
       "              business_id                                 name         city  \\\n",
       "0  QXAEGFB4oINsVuTFxEYKFQ           Emerald Chinese Restaurant  Mississauga   \n",
       "1  gnKjwL_1w79qoiV3IC_xQQ          Musashi Japanese Restaurant    Charlotte   \n",
       "2  tstimHoMcYbkSC4eBA1wEg  Maria's Mexican Restaurant & Bakery    Las Vegas   \n",
       "3  NDuUMJfrWk52RA-H-OtrpA                       Bolt Fresh Bar      Toronto   \n",
       "4  dQj5DLZjeDK3KFysh1SYOQ                               Apteka   Pittsburgh   \n",
       "\n",
       "  state  stars  review_count  \\\n",
       "0    ON    2.5           128   \n",
       "1    NC    4.0           170   \n",
       "2    NV    4.5           184   \n",
       "3    ON    3.0            57   \n",
       "4    PA    4.5           242   \n",
       "\n",
       "                                          categories  \n",
       "0  Specialty Food, Restaurants, Dim Sum, Imported...  \n",
       "1                  Sushi Bars, Restaurants, Japanese  \n",
       "2  Mexican, Restaurants, Patisserie/Cake Shop, Fo...  \n",
       "3  Juice Bars & Smoothies, Food, Restaurants, Fas...  \n",
       "4  Nightlife, Bars, Polish, Modern European, Rest...  "
      ]
     },
     "execution_count": 8,
     "metadata": {},
     "output_type": "execute_result"
    }
   ],
   "source": [
    "# Sample 5 Restaurant\n",
    "Restaurant_business.head(5)"
   ]
  },
  {
   "cell_type": "code",
   "execution_count": 9,
   "metadata": {},
   "outputs": [
    {
     "data": {
      "text/html": [
       "<div>\n",
       "<style scoped>\n",
       "    .dataframe tbody tr th:only-of-type {\n",
       "        vertical-align: middle;\n",
       "    }\n",
       "\n",
       "    .dataframe tbody tr th {\n",
       "        vertical-align: top;\n",
       "    }\n",
       "\n",
       "    .dataframe thead th {\n",
       "        text-align: right;\n",
       "    }\n",
       "</style>\n",
       "<table border=\"1\" class=\"dataframe\">\n",
       "  <thead>\n",
       "    <tr style=\"text-align: right;\">\n",
       "      <th></th>\n",
       "      <th>business_id</th>\n",
       "      <th>name</th>\n",
       "      <th>city</th>\n",
       "      <th>state</th>\n",
       "      <th>business_stars</th>\n",
       "      <th>review_count</th>\n",
       "      <th>categories</th>\n",
       "      <th>review_id</th>\n",
       "      <th>user_id</th>\n",
       "      <th>review_stars</th>\n",
       "      <th>useful</th>\n",
       "      <th>text</th>\n",
       "      <th>date</th>\n",
       "    </tr>\n",
       "  </thead>\n",
       "  <tbody>\n",
       "    <tr>\n",
       "      <td>0</td>\n",
       "      <td>QXAEGFB4oINsVuTFxEYKFQ</td>\n",
       "      <td>Emerald Chinese Restaurant</td>\n",
       "      <td>Mississauga</td>\n",
       "      <td>ON</td>\n",
       "      <td>2.5</td>\n",
       "      <td>128</td>\n",
       "      <td>Specialty Food, Restaurants, Dim Sum, Imported...</td>\n",
       "      <td>6W0MQHmasK0IsaoDo4bmkw</td>\n",
       "      <td>2K62MJ4CJ19L8Tp5pRfjfQ</td>\n",
       "      <td>3.0</td>\n",
       "      <td>3</td>\n",
       "      <td>My girlfriend and I went for dinner at Emerald...</td>\n",
       "      <td>2017-01-27 21:54:30</td>\n",
       "    </tr>\n",
       "    <tr>\n",
       "      <td>1</td>\n",
       "      <td>QXAEGFB4oINsVuTFxEYKFQ</td>\n",
       "      <td>Emerald Chinese Restaurant</td>\n",
       "      <td>Mississauga</td>\n",
       "      <td>ON</td>\n",
       "      <td>2.5</td>\n",
       "      <td>128</td>\n",
       "      <td>Specialty Food, Restaurants, Dim Sum, Imported...</td>\n",
       "      <td>BeeBfUxvzD4qNX4HxrgA5g</td>\n",
       "      <td>A0kENtCCoVT3m7T35zb2Vg</td>\n",
       "      <td>3.0</td>\n",
       "      <td>0</td>\n",
       "      <td>We've always been there on a Sunday so we were...</td>\n",
       "      <td>2013-06-24 23:11:30</td>\n",
       "    </tr>\n",
       "    <tr>\n",
       "      <td>2</td>\n",
       "      <td>QXAEGFB4oINsVuTFxEYKFQ</td>\n",
       "      <td>Emerald Chinese Restaurant</td>\n",
       "      <td>Mississauga</td>\n",
       "      <td>ON</td>\n",
       "      <td>2.5</td>\n",
       "      <td>128</td>\n",
       "      <td>Specialty Food, Restaurants, Dim Sum, Imported...</td>\n",
       "      <td>A1D2kUnZ0HTroFreAheNSg</td>\n",
       "      <td>SuOLY03LW5ZcnynKhbTydA</td>\n",
       "      <td>3.0</td>\n",
       "      <td>0</td>\n",
       "      <td>***No automatic doors, not baby friendly!*** I...</td>\n",
       "      <td>2016-01-04 12:59:22</td>\n",
       "    </tr>\n",
       "    <tr>\n",
       "      <td>3</td>\n",
       "      <td>QXAEGFB4oINsVuTFxEYKFQ</td>\n",
       "      <td>Emerald Chinese Restaurant</td>\n",
       "      <td>Mississauga</td>\n",
       "      <td>ON</td>\n",
       "      <td>2.5</td>\n",
       "      <td>128</td>\n",
       "      <td>Specialty Food, Restaurants, Dim Sum, Imported...</td>\n",
       "      <td>2pf45Stf-pNew-xgTababQ</td>\n",
       "      <td>lymyUak6KNcNKoDbK87MiQ</td>\n",
       "      <td>1.0</td>\n",
       "      <td>1</td>\n",
       "      <td>Horrible service,\\nI went there tonight with m...</td>\n",
       "      <td>2014-05-09 02:38:43</td>\n",
       "    </tr>\n",
       "    <tr>\n",
       "      <td>4</td>\n",
       "      <td>QXAEGFB4oINsVuTFxEYKFQ</td>\n",
       "      <td>Emerald Chinese Restaurant</td>\n",
       "      <td>Mississauga</td>\n",
       "      <td>ON</td>\n",
       "      <td>2.5</td>\n",
       "      <td>128</td>\n",
       "      <td>Specialty Food, Restaurants, Dim Sum, Imported...</td>\n",
       "      <td>RHhlmL07evgAdPaXQV8Omg</td>\n",
       "      <td>6vU0I5XgCv9OQHZ76rV6qw</td>\n",
       "      <td>4.0</td>\n",
       "      <td>2</td>\n",
       "      <td>One of the gauges of a good Chinese restaurant...</td>\n",
       "      <td>2011-03-21 14:39:55</td>\n",
       "    </tr>\n",
       "  </tbody>\n",
       "</table>\n",
       "</div>"
      ],
      "text/plain": [
       "              business_id                        name         city state  \\\n",
       "0  QXAEGFB4oINsVuTFxEYKFQ  Emerald Chinese Restaurant  Mississauga    ON   \n",
       "1  QXAEGFB4oINsVuTFxEYKFQ  Emerald Chinese Restaurant  Mississauga    ON   \n",
       "2  QXAEGFB4oINsVuTFxEYKFQ  Emerald Chinese Restaurant  Mississauga    ON   \n",
       "3  QXAEGFB4oINsVuTFxEYKFQ  Emerald Chinese Restaurant  Mississauga    ON   \n",
       "4  QXAEGFB4oINsVuTFxEYKFQ  Emerald Chinese Restaurant  Mississauga    ON   \n",
       "\n",
       "   business_stars  review_count  \\\n",
       "0             2.5           128   \n",
       "1             2.5           128   \n",
       "2             2.5           128   \n",
       "3             2.5           128   \n",
       "4             2.5           128   \n",
       "\n",
       "                                          categories               review_id  \\\n",
       "0  Specialty Food, Restaurants, Dim Sum, Imported...  6W0MQHmasK0IsaoDo4bmkw   \n",
       "1  Specialty Food, Restaurants, Dim Sum, Imported...  BeeBfUxvzD4qNX4HxrgA5g   \n",
       "2  Specialty Food, Restaurants, Dim Sum, Imported...  A1D2kUnZ0HTroFreAheNSg   \n",
       "3  Specialty Food, Restaurants, Dim Sum, Imported...  2pf45Stf-pNew-xgTababQ   \n",
       "4  Specialty Food, Restaurants, Dim Sum, Imported...  RHhlmL07evgAdPaXQV8Omg   \n",
       "\n",
       "                  user_id  review_stars  useful  \\\n",
       "0  2K62MJ4CJ19L8Tp5pRfjfQ           3.0       3   \n",
       "1  A0kENtCCoVT3m7T35zb2Vg           3.0       0   \n",
       "2  SuOLY03LW5ZcnynKhbTydA           3.0       0   \n",
       "3  lymyUak6KNcNKoDbK87MiQ           1.0       1   \n",
       "4  6vU0I5XgCv9OQHZ76rV6qw           4.0       2   \n",
       "\n",
       "                                                text                 date  \n",
       "0  My girlfriend and I went for dinner at Emerald...  2017-01-27 21:54:30  \n",
       "1  We've always been there on a Sunday so we were...  2013-06-24 23:11:30  \n",
       "2  ***No automatic doors, not baby friendly!*** I...  2016-01-04 12:59:22  \n",
       "3  Horrible service,\\nI went there tonight with m...  2014-05-09 02:38:43  \n",
       "4  One of the gauges of a good Chinese restaurant...  2011-03-21 14:39:55  "
      ]
     },
     "execution_count": 9,
     "metadata": {},
     "output_type": "execute_result"
    }
   ],
   "source": [
    "# Sample 5 Reviews\n",
    "Restaurant_reviews.head(5)"
   ]
  },
  {
   "cell_type": "code",
   "execution_count": 10,
   "metadata": {},
   "outputs": [],
   "source": [
    "# Write selected Restaurants to file\n",
    "Restaurant_reviews.to_csv('processed_data/restaurant_reviews.csv')"
   ]
  },
  {
   "cell_type": "code",
   "execution_count": 11,
   "metadata": {},
   "outputs": [],
   "source": [
    "# Write selected Restaurant-reviews to file\n",
    "Restaurant_business.to_csv('processed_data/restaurants.csv')"
   ]
  },
  {
   "cell_type": "code",
   "execution_count": 12,
   "metadata": {},
   "outputs": [
    {
     "data": {
      "text/plain": [
       "Text(0.5, 1.0, 'Number of Reviews Per Rating of Restaurants')"
      ]
     },
     "execution_count": 12,
     "metadata": {},
     "output_type": "execute_result"
    },
    {
     "data": {
      "image/png": "[encoded data removed]",
      "text/plain": [
       "<Figure size 576x360 with 1 Axes>"
      ]
     },
     "metadata": {
      "needs_background": "light"
     },
     "output_type": "display_data"
    }
   ],
   "source": [
    "# plot how many reviews we have of each star\n",
    "star_x = Restaurant_reviews.review_stars.value_counts().index\n",
    "star_y = Restaurant_reviews.review_stars.value_counts().values\n",
    "\n",
    "plot.figure(figsize=(8,5))\n",
    "# colors are in the order 5, 4, 3, 1, 2\n",
    "bar_colors = ['darkgreen', 'mediumseagreen', 'gold', 'crimson', 'orange']\n",
    "plot.bar(star_x, star_y, color=bar_colors, width=.6)\n",
    "plot.xlabel('Stars (Rating)')\n",
    "plot.ylabel('Number of Reviews')\n",
    "plot.title(f'Number of Reviews Per Rating of {businesses_to_analyse}')"
   ]
  },
  {
   "cell_type": "code",
   "execution_count": 13,
   "metadata": {},
   "outputs": [
    {
     "data": {
      "text/html": [
       "<div>\n",
       "<style scoped>\n",
       "    .dataframe tbody tr th:only-of-type {\n",
       "        vertical-align: middle;\n",
       "    }\n",
       "\n",
       "    .dataframe tbody tr th {\n",
       "        vertical-align: top;\n",
       "    }\n",
       "\n",
       "    .dataframe thead th {\n",
       "        text-align: right;\n",
       "    }\n",
       "</style>\n",
       "<table border=\"1\" class=\"dataframe\">\n",
       "  <thead>\n",
       "    <tr style=\"text-align: right;\">\n",
       "      <th></th>\n",
       "      <th>business_id</th>\n",
       "      <th>name</th>\n",
       "      <th>city</th>\n",
       "      <th>stars</th>\n",
       "      <th>review_count</th>\n",
       "      <th>categories</th>\n",
       "    </tr>\n",
       "    <tr>\n",
       "      <th>state</th>\n",
       "      <th></th>\n",
       "      <th></th>\n",
       "      <th></th>\n",
       "      <th></th>\n",
       "      <th></th>\n",
       "      <th></th>\n",
       "    </tr>\n",
       "  </thead>\n",
       "  <tbody>\n",
       "    <tr>\n",
       "      <td>AB</td>\n",
       "      <td>298</td>\n",
       "      <td>298</td>\n",
       "      <td>298</td>\n",
       "      <td>298</td>\n",
       "      <td>298</td>\n",
       "      <td>298</td>\n",
       "    </tr>\n",
       "    <tr>\n",
       "      <td>AZ</td>\n",
       "      <td>5216</td>\n",
       "      <td>5216</td>\n",
       "      <td>5216</td>\n",
       "      <td>5216</td>\n",
       "      <td>5216</td>\n",
       "      <td>5216</td>\n",
       "    </tr>\n",
       "    <tr>\n",
       "      <td>IL</td>\n",
       "      <td>157</td>\n",
       "      <td>157</td>\n",
       "      <td>157</td>\n",
       "      <td>157</td>\n",
       "      <td>157</td>\n",
       "      <td>157</td>\n",
       "    </tr>\n",
       "    <tr>\n",
       "      <td>NC</td>\n",
       "      <td>1405</td>\n",
       "      <td>1405</td>\n",
       "      <td>1405</td>\n",
       "      <td>1405</td>\n",
       "      <td>1405</td>\n",
       "      <td>1405</td>\n",
       "    </tr>\n",
       "    <tr>\n",
       "      <td>NV</td>\n",
       "      <td>3989</td>\n",
       "      <td>3989</td>\n",
       "      <td>3989</td>\n",
       "      <td>3989</td>\n",
       "      <td>3989</td>\n",
       "      <td>3989</td>\n",
       "    </tr>\n",
       "    <tr>\n",
       "      <td>OH</td>\n",
       "      <td>1262</td>\n",
       "      <td>1262</td>\n",
       "      <td>1262</td>\n",
       "      <td>1262</td>\n",
       "      <td>1262</td>\n",
       "      <td>1262</td>\n",
       "    </tr>\n",
       "    <tr>\n",
       "      <td>ON</td>\n",
       "      <td>3092</td>\n",
       "      <td>3092</td>\n",
       "      <td>3092</td>\n",
       "      <td>3092</td>\n",
       "      <td>3092</td>\n",
       "      <td>3092</td>\n",
       "    </tr>\n",
       "    <tr>\n",
       "      <td>PA</td>\n",
       "      <td>1063</td>\n",
       "      <td>1063</td>\n",
       "      <td>1063</td>\n",
       "      <td>1063</td>\n",
       "      <td>1063</td>\n",
       "      <td>1063</td>\n",
       "    </tr>\n",
       "    <tr>\n",
       "      <td>QC</td>\n",
       "      <td>591</td>\n",
       "      <td>591</td>\n",
       "      <td>591</td>\n",
       "      <td>591</td>\n",
       "      <td>591</td>\n",
       "      <td>591</td>\n",
       "    </tr>\n",
       "    <tr>\n",
       "      <td>SC</td>\n",
       "      <td>82</td>\n",
       "      <td>82</td>\n",
       "      <td>82</td>\n",
       "      <td>82</td>\n",
       "      <td>82</td>\n",
       "      <td>82</td>\n",
       "    </tr>\n",
       "    <tr>\n",
       "      <td>TX</td>\n",
       "      <td>1</td>\n",
       "      <td>1</td>\n",
       "      <td>1</td>\n",
       "      <td>1</td>\n",
       "      <td>1</td>\n",
       "      <td>1</td>\n",
       "    </tr>\n",
       "    <tr>\n",
       "      <td>WI</td>\n",
       "      <td>524</td>\n",
       "      <td>524</td>\n",
       "      <td>524</td>\n",
       "      <td>524</td>\n",
       "      <td>524</td>\n",
       "      <td>524</td>\n",
       "    </tr>\n",
       "  </tbody>\n",
       "</table>\n",
       "</div>"
      ],
      "text/plain": [
       "       business_id  name  city  stars  review_count  categories\n",
       "state                                                          \n",
       "AB             298   298   298    298           298         298\n",
       "AZ            5216  5216  5216   5216          5216        5216\n",
       "IL             157   157   157    157           157         157\n",
       "NC            1405  1405  1405   1405          1405        1405\n",
       "NV            3989  3989  3989   3989          3989        3989\n",
       "OH            1262  1262  1262   1262          1262        1262\n",
       "ON            3092  3092  3092   3092          3092        3092\n",
       "PA            1063  1063  1063   1063          1063        1063\n",
       "QC             591   591   591    591           591         591\n",
       "SC              82    82    82     82            82          82\n",
       "TX               1     1     1      1             1           1\n",
       "WI             524   524   524    524           524         524"
      ]
     },
     "execution_count": 13,
     "metadata": {},
     "output_type": "execute_result"
    }
   ],
   "source": [
    "Restaurant_business.groupby('state').count()"
   ]
  },
  {
   "cell_type": "code",
   "execution_count": 14,
   "metadata": {},
   "outputs": [],
   "source": [
    "restaurants_per_state = Restaurant_business.groupby('state').count()[['business_id']].rename(columns={'state': 'State', 'business_id': 'Restaurants'})"
   ]
  },
  {
   "cell_type": "code",
   "execution_count": 16,
   "metadata": {},
   "outputs": [
    {
     "data": {
      "text/plain": [
       "<matplotlib.axes._subplots.AxesSubplot at 0x23b9128c4e0>"
      ]
     },
     "execution_count": 16,
     "metadata": {},
     "output_type": "execute_result"
    },
    {
     "data": {
      "image/png": "[encoded data removed]",
      "text/plain": [
       "<Figure size 720x720 with 1 Axes>"
      ]
     },
     "metadata": {
      "needs_background": "light"
     },
     "output_type": "display_data"
    }
   ],
   "source": [
    "restaurants_per_state.sort_values(by='Restaurants').plot.bar(figsize=(10,10))"
   ]
  },
  {
   "cell_type": "code",
   "execution_count": 17,
   "metadata": {},
   "outputs": [],
   "source": [
    "Restaurant_AZ = pd.DataFrame(yelp_data.business.find({\"categories\":{\"$regex\" :\".*\"+businesses_to_analyse+\".*\"}, \"review_count\":{\"$gte\":min_review_count}, \"state\":\"AZ\" },  {'business_id':1, 'name':1, 'city':1, 'state':1, 'stars':1, 'review_count':1, 'categories':1, '_id': 0}))"
   ]
  },
  {
   "cell_type": "code",
   "execution_count": 18,
   "metadata": {},
   "outputs": [],
   "source": [
    "Restaurant_AZ_reviews = pd.merge(Restaurant_AZ,All_reviews, on='business_id').rename(columns={'stars_x':'business_stars', 'stars_y':'review_stars'})"
   ]
  },
  {
   "cell_type": "code",
   "execution_count": 19,
   "metadata": {},
   "outputs": [],
   "source": [
    "Restaurant_AZ_reviews.to_csv('processed_data/restaurant_az_reviews.csv')"
   ]
  },
  {
   "cell_type": "code",
   "execution_count": 20,
   "metadata": {},
   "outputs": [],
   "source": [
    "Restaurant_AZ.to_csv('processed_data/restaurants_az.csv')"
   ]
  },
  {
   "cell_type": "code",
   "execution_count": 21,
   "metadata": {},
   "outputs": [
    {
     "data": {
      "text/plain": [
       "(1075198, 13)"
      ]
     },
     "execution_count": 21,
     "metadata": {},
     "output_type": "execute_result"
    }
   ],
   "source": [
    "Restaurant_AZ_reviews.shape"
   ]
  },
  {
   "cell_type": "code",
   "execution_count": 22,
   "metadata": {},
   "outputs": [
    {
     "data": {
      "text/plain": [
       "Text(0.5, 1.0, 'Number of Reviews Per Rating of Restaurants')"
      ]
     },
     "execution_count": 22,
     "metadata": {},
     "output_type": "execute_result"
    },
    {
     "data": {
      "image/png": "[encoded data removed]",
      "text/plain": [
       "<Figure size 576x360 with 1 Axes>"
      ]
     },
     "metadata": {
      "needs_background": "light"
     },
     "output_type": "display_data"
    }
   ],
   "source": [
    "# plot how many reviews we have of each star\n",
    "star_x = Restaurant_AZ_reviews.review_stars.value_counts().index\n",
    "star_y = Restaurant_AZ_reviews.review_stars.value_counts().values\n",
    "\n",
    "plot.figure(figsize=(8,5))\n",
    "# colors are in the order 5, 4, 3, 1, 2\n",
    "bar_colors = ['darkgreen', 'mediumseagreen', 'gold', 'crimson', 'orange']\n",
    "plot.bar(star_x, star_y, color=bar_colors, width=.6)\n",
    "plot.xlabel('Stars (Rating)')\n",
    "plot.ylabel('Number of Reviews')\n",
    "plot.title(f'Number of Reviews Per Rating of {businesses_to_analyse}')"
   ]
  },
  {
   "cell_type": "code",
   "execution_count": 87,
   "metadata": {},
   "outputs": [],
   "source": [
    "# for now we restrich Restaurants to this number to develop the code\n",
    "sample_restaurants_to_load = 10\n",
    "\n",
    "# Only Arizona Businesses, Change if needed\n",
    "restaurant_file='processed_data/restaurants_az.csv'\n",
    "reviews_file   ='processed_data/restaurant_az_reviews.csv'\n",
    "\n",
    "# Number of topic\n",
    "NUM_TOPICS = 10"
   ]
  },
  {
   "cell_type": "code",
   "execution_count": 88,
   "metadata": {},
   "outputs": [
    {
     "name": "stdout",
     "output_type": "stream",
     "text": [
      "Wall time: 11 s\n"
     ]
    }
   ],
   "source": [
    "%%time\n",
    "# SPACY\n",
    "# This is the large Spacy English Library\n",
    "nlp = spacy.load('en_core_web_lg')"
   ]
  },
  {
   "cell_type": "code",
   "execution_count": 89,
   "metadata": {},
   "outputs": [],
   "source": [
    "# Stopwords for topic mining\n",
    "stopwords = [line.rstrip('\\n') for line in open('config/stopwords.txt', 'r')]"
   ]
  },
  {
   "cell_type": "code",
   "execution_count": 90,
   "metadata": {},
   "outputs": [],
   "source": [
    "# The words that appear in names of the Restaurants\n",
    "# Restaurants name may appear multiple time in review, increasing its word frequenty\n",
    "# For topic mining per restaurant, it is not useful and should be removed\n",
    "# However words such as 'chicken' when come in restaurant name should be retained\n",
    "stopnames = [line.rstrip('\\n').lower() for line in open('config/names.txt', 'r')]"
   ]
  },
  {
   "cell_type": "code",
   "execution_count": 91,
   "metadata": {},
   "outputs": [
    {
     "name": "stdout",
     "output_type": "stream",
     "text": [
      "Wall time: 22 ms\n"
     ]
    }
   ],
   "source": [
    "%%time\n",
    "# Read Businesses\n",
    "all_restaurants = pd.read_csv(restaurant_file).drop(labels='Unnamed: 0', axis=1).head(sample_restaurants_to_load)"
   ]
  },
  {
   "cell_type": "code",
   "execution_count": 92,
   "metadata": {},
   "outputs": [
    {
     "name": "stdout",
     "output_type": "stream",
     "text": [
      "Wall time: 11.2 s\n"
     ]
    }
   ],
   "source": [
    "%%time\n",
    "# Read all reviews\n",
    "all_reviews = pd.read_csv(reviews_file).drop(labels='Unnamed: 0', axis=1)"
   ]
  },
  {
   "cell_type": "code",
   "execution_count": 93,
   "metadata": {},
   "outputs": [
    {
     "name": "stdout",
     "output_type": "stream",
     "text": [
      "Wall time: 363 ms\n"
     ]
    }
   ],
   "source": [
    "%%time\n",
    "# Retain reviews of selected Businesses\n",
    "all_reviews = all_reviews[all_reviews.business_id.isin(all_restaurants.business_id)]"
   ]
  },
  {
   "cell_type": "code",
   "execution_count": 94,
   "metadata": {},
   "outputs": [
    {
     "name": "stdout",
     "output_type": "stream",
     "text": [
      "Wall time: 0 ns\n"
     ]
    },
    {
     "data": {
      "text/html": [
       "<div>\n",
       "<style scoped>\n",
       "    .dataframe tbody tr th:only-of-type {\n",
       "        vertical-align: middle;\n",
       "    }\n",
       "\n",
       "    .dataframe tbody tr th {\n",
       "        vertical-align: top;\n",
       "    }\n",
       "\n",
       "    .dataframe thead th {\n",
       "        text-align: right;\n",
       "    }\n",
       "</style>\n",
       "<table border=\"1\" class=\"dataframe\">\n",
       "  <thead>\n",
       "    <tr style=\"text-align: right;\">\n",
       "      <th></th>\n",
       "      <th>business_id</th>\n",
       "      <th>name</th>\n",
       "      <th>city</th>\n",
       "      <th>state</th>\n",
       "      <th>business_stars</th>\n",
       "      <th>review_count</th>\n",
       "      <th>categories</th>\n",
       "      <th>review_id</th>\n",
       "      <th>user_id</th>\n",
       "      <th>review_stars</th>\n",
       "      <th>useful</th>\n",
       "      <th>text</th>\n",
       "      <th>date</th>\n",
       "    </tr>\n",
       "  </thead>\n",
       "  <tbody>\n",
       "    <tr>\n",
       "      <td>0</td>\n",
       "      <td>44YFU284Z3KDEy25QyVoUw</td>\n",
       "      <td>Nee House Chinese Restaurant</td>\n",
       "      <td>Phoenix</td>\n",
       "      <td>AZ</td>\n",
       "      <td>3.5</td>\n",
       "      <td>269</td>\n",
       "      <td>Chinese, Restaurants</td>\n",
       "      <td>QgV9RPyPUC3cAse1Wxqoow</td>\n",
       "      <td>P3cMpkppvBuVpPD8LBTbBQ</td>\n",
       "      <td>4.0</td>\n",
       "      <td>2</td>\n",
       "      <td>Enjoyed Nee House immensely. No service issues...</td>\n",
       "      <td>2012-04-28 21:08:22</td>\n",
       "    </tr>\n",
       "    <tr>\n",
       "      <td>1</td>\n",
       "      <td>44YFU284Z3KDEy25QyVoUw</td>\n",
       "      <td>Nee House Chinese Restaurant</td>\n",
       "      <td>Phoenix</td>\n",
       "      <td>AZ</td>\n",
       "      <td>3.5</td>\n",
       "      <td>269</td>\n",
       "      <td>Chinese, Restaurants</td>\n",
       "      <td>1ZTO6zFtVVxtXclHp4TvHQ</td>\n",
       "      <td>b1yLsCdv4ZL_d3INMCZzoA</td>\n",
       "      <td>3.0</td>\n",
       "      <td>0</td>\n",
       "      <td>I'm not sure how I rate this restaurant becaus...</td>\n",
       "      <td>2017-02-09 05:15:25</td>\n",
       "    </tr>\n",
       "    <tr>\n",
       "      <td>2</td>\n",
       "      <td>44YFU284Z3KDEy25QyVoUw</td>\n",
       "      <td>Nee House Chinese Restaurant</td>\n",
       "      <td>Phoenix</td>\n",
       "      <td>AZ</td>\n",
       "      <td>3.5</td>\n",
       "      <td>269</td>\n",
       "      <td>Chinese, Restaurants</td>\n",
       "      <td>h17ep5S7O8_JMKovooWoVA</td>\n",
       "      <td>TaVuQWmXAhxy_LvIXBs9sg</td>\n",
       "      <td>5.0</td>\n",
       "      <td>0</td>\n",
       "      <td>The food from this place reminds me of home. I...</td>\n",
       "      <td>2016-08-12 21:38:55</td>\n",
       "    </tr>\n",
       "    <tr>\n",
       "      <td>3</td>\n",
       "      <td>44YFU284Z3KDEy25QyVoUw</td>\n",
       "      <td>Nee House Chinese Restaurant</td>\n",
       "      <td>Phoenix</td>\n",
       "      <td>AZ</td>\n",
       "      <td>3.5</td>\n",
       "      <td>269</td>\n",
       "      <td>Chinese, Restaurants</td>\n",
       "      <td>FVJaiFuf67Dzamax-zq1UQ</td>\n",
       "      <td>aCY0jMl8Jsvx_HQL4D3tmw</td>\n",
       "      <td>4.0</td>\n",
       "      <td>2</td>\n",
       "      <td>Found this place by just driving down the road...</td>\n",
       "      <td>2011-08-24 22:35:28</td>\n",
       "    </tr>\n",
       "    <tr>\n",
       "      <td>4</td>\n",
       "      <td>44YFU284Z3KDEy25QyVoUw</td>\n",
       "      <td>Nee House Chinese Restaurant</td>\n",
       "      <td>Phoenix</td>\n",
       "      <td>AZ</td>\n",
       "      <td>3.5</td>\n",
       "      <td>269</td>\n",
       "      <td>Chinese, Restaurants</td>\n",
       "      <td>zqzOcreb9KBTaESR6qbTSg</td>\n",
       "      <td>TPZbqNXMA2xMXLLd1zL_0A</td>\n",
       "      <td>4.0</td>\n",
       "      <td>2</td>\n",
       "      <td>We eat here on a regular basis.  It's like tha...</td>\n",
       "      <td>2013-04-11 02:26:52</td>\n",
       "    </tr>\n",
       "  </tbody>\n",
       "</table>\n",
       "</div>"
      ],
      "text/plain": [
       "              business_id                          name     city state  \\\n",
       "0  44YFU284Z3KDEy25QyVoUw  Nee House Chinese Restaurant  Phoenix    AZ   \n",
       "1  44YFU284Z3KDEy25QyVoUw  Nee House Chinese Restaurant  Phoenix    AZ   \n",
       "2  44YFU284Z3KDEy25QyVoUw  Nee House Chinese Restaurant  Phoenix    AZ   \n",
       "3  44YFU284Z3KDEy25QyVoUw  Nee House Chinese Restaurant  Phoenix    AZ   \n",
       "4  44YFU284Z3KDEy25QyVoUw  Nee House Chinese Restaurant  Phoenix    AZ   \n",
       "\n",
       "   business_stars  review_count            categories               review_id  \\\n",
       "0             3.5           269  Chinese, Restaurants  QgV9RPyPUC3cAse1Wxqoow   \n",
       "1             3.5           269  Chinese, Restaurants  1ZTO6zFtVVxtXclHp4TvHQ   \n",
       "2             3.5           269  Chinese, Restaurants  h17ep5S7O8_JMKovooWoVA   \n",
       "3             3.5           269  Chinese, Restaurants  FVJaiFuf67Dzamax-zq1UQ   \n",
       "4             3.5           269  Chinese, Restaurants  zqzOcreb9KBTaESR6qbTSg   \n",
       "\n",
       "                  user_id  review_stars  useful  \\\n",
       "0  P3cMpkppvBuVpPD8LBTbBQ           4.0       2   \n",
       "1  b1yLsCdv4ZL_d3INMCZzoA           3.0       0   \n",
       "2  TaVuQWmXAhxy_LvIXBs9sg           5.0       0   \n",
       "3  aCY0jMl8Jsvx_HQL4D3tmw           4.0       2   \n",
       "4  TPZbqNXMA2xMXLLd1zL_0A           4.0       2   \n",
       "\n",
       "                                                text                 date  \n",
       "0  Enjoyed Nee House immensely. No service issues...  2012-04-28 21:08:22  \n",
       "1  I'm not sure how I rate this restaurant becaus...  2017-02-09 05:15:25  \n",
       "2  The food from this place reminds me of home. I...  2016-08-12 21:38:55  \n",
       "3  Found this place by just driving down the road...  2011-08-24 22:35:28  \n",
       "4  We eat here on a regular basis.  It's like tha...  2013-04-11 02:26:52  "
      ]
     },
     "execution_count": 94,
     "metadata": {},
     "output_type": "execute_result"
    }
   ],
   "source": [
    "%%time\n",
    "# Top 5 Reviews\n",
    "all_reviews.head()"
   ]
  },
  {
   "cell_type": "code",
   "execution_count": 95,
   "metadata": {},
   "outputs": [],
   "source": [
    "def tokenize_docs(sentences):\n",
    "    for sentence in sentences:\n",
    "        yield(gensim.utils.simple_preprocess(str(sentence), deacc=True))  # deacc=True re"
   ]
  },
  {
   "cell_type": "code",
   "execution_count": 96,
   "metadata": {},
   "outputs": [],
   "source": [
    "# String List cleaning, removes spaces, new lines\n",
    "def clean_string(data):\n",
    "    data = [re.sub('\\s+', ' '  , sent) for sent in data]\n",
    "    data = [re.sub(\"n't\", 'not', sent) for sent in data]\n",
    "    data = [sent.lower()               for sent in data]\n",
    "    data = list(tokenize_docs(data))\n",
    "    data = [[tok for tok in sent if tok not in stopwords ] for sent in data]\n",
    "    return data"
   ]
  },
  {
   "cell_type": "code",
   "execution_count": 106,
   "metadata": {},
   "outputs": [],
   "source": [
    "def clean_name(name):\n",
    "    name_toks = []\n",
    "    \n",
    "    # Nlp doc from Name\n",
    "    name_doc = nlp(name)\n",
    "    for token in name_doc:\n",
    "        \n",
    "        # Retain Proper nouns in Name\n",
    "        if token.pos_ == 'PROPN' or token.like_num:\n",
    "        \n",
    "            # Lose stop words in Name\n",
    "            if token.text.lower() not in stopnames:\n",
    "            \n",
    "                # All Restaurant name tokens to be remoed from reviews of this reataurant\n",
    "                name_toks.append(token.text.lower())\n",
    "    \n",
    "    # Bigrams\n",
    "    for i in range(len(name_toks)-1):\n",
    "        name_toks.append(name_toks[i]+\"_\"+name_toks[i+1])\n",
    "        \n",
    "    return name_toks"
   ]
  },
  {
   "cell_type": "code",
   "execution_count": 107,
   "metadata": {},
   "outputs": [],
   "source": [
    "def clean_doc(doc,name_toks):\n",
    "    \n",
    "    # Remove punctuation, symbols (#) and stopwords\n",
    "    allowed_postags=['PROPN', 'NOUN', 'ADJ', 'VERB', 'ADV']\n",
    "    \n",
    "    #doc = [tok.text for tok in doc if (tok.text.lower() not in stopwords and tok.pos_ != \"PUNCT\" and tok.pos_ != \"SYM\")]\n",
    "    toks = [tok.lemma_.lower().strip() for tok in doc \n",
    "                if (tok.text.lower().strip() not in stopwords \n",
    "                    and tok.text.lower() not in name_toks \n",
    "                    and tok.pos_ in allowed_postags)]\n",
    "    return \" \".join(toks)"
   ]
  },
  {
   "cell_type": "code",
   "execution_count": 108,
   "metadata": {},
   "outputs": [],
   "source": [
    "def tokenize_docs(sentences):\n",
    "    for sentence in sentences:\n",
    "        yield(gensim.utils.simple_preprocess(str(sentence), deacc=True))  # deacc=True re"
   ]
  },
  {
   "cell_type": "code",
   "execution_count": 109,
   "metadata": {},
   "outputs": [
    {
     "name": "stdout",
     "output_type": "stream",
     "text": [
      "Cleaning reviews [    1/   10]\n",
      "Wall time: 48.4 s\n"
     ]
    }
   ],
   "source": [
    "%%time\n",
    "total = len(all_restaurants)\n",
    "cleansed_text = []\n",
    "for index, restaurant in all_restaurants.iterrows():\n",
    "    #print(f'Cleaning reviews for restaurant: \"{restaurant[\"name\"]:<{40}}\" [{index+1:>{5}}/{total:>{5}}]')\n",
    "    if index % 100 == 0:\n",
    "        print(f'Cleaning reviews [{index+1:>{5}}/{total:>{5}}]')\n",
    "    \n",
    "    # Convert to list\n",
    "    data = all_reviews.query(' business_id == \"'+restaurant['business_id']+'\" ')['text']\n",
    "    \n",
    "    # Remove new lines, spaces, etc. Remove stopwords\n",
    "    data = clean_string(data)\n",
    "    \n",
    "    # Build the bigram and trigram models\n",
    "    bigram  = gensim.models.Phrases(data, min_count=5, threshold=100) # higher threshold fewer phrases.\n",
    "    trigram = gensim.models.Phrases(bigram[data], threshold=100)  \n",
    "\n",
    "    # Faster way to get a sentence clubbed as a trigram/bigram\n",
    "    bigram_mod  = gensim.models.phrases.Phraser(bigram)\n",
    "    trigram_mod = gensim.models.phrases.Phraser(trigram)\n",
    "    \n",
    "    bigrams  = [bigram_mod[doc] for doc in data]\n",
    "    trigrams = [trigram_mod[bigram_mod[doc]] for doc in data]\n",
    "    \n",
    "    data = [\" \".join(trigram) for trigram in trigrams]\n",
    "    \n",
    "    # iterate list, clean sentences\n",
    "    for parsed_review in nlp.pipe(iter(data), batch_size=1000, n_threads=8):\n",
    "        cleansed_text.append(clean_doc(parsed_review,clean_name(restaurant[\"name\"])))\n",
    "\n"
   ]
  },
  {
   "cell_type": "code",
   "execution_count": 110,
   "metadata": {},
   "outputs": [],
   "source": [
    "all_reviews['cleansed_text'] = cleansed_text\n",
    "all_reviews.to_csv('processed_data/cleaned_reviews.csv')\n",
    "all_restaurants.to_csv('processed_data/cleaned_restaurants.csv')"
   ]
  },
  {
   "cell_type": "code",
   "execution_count": null,
   "metadata": {},
   "outputs": [],
   "source": [
    "#END"
   ]
  }
 ],
 "metadata": {
  "kernelspec": {
   "display_name": "Python 3",
   "language": "python",
   "name": "python3"
  },
  "language_info": {
   "codemirror_mode": {
    "name": "ipython",
    "version": 3
   },
   "file_extension": ".py",
   "mimetype": "text/x-python",
   "name": "python",
   "nbconvert_exporter": "python",
   "pygments_lexer": "ipython3",
   "version": "3.7.3"
  }
 },
 "nbformat": 4,
 "nbformat_minor": 2
}
