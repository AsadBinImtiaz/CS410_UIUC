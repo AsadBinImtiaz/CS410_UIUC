{
 "cells": [
  {
   "cell_type": "code",
   "execution_count": 1,
   "metadata": {},
   "outputs": [],
   "source": [
    "#pip install pymongo"
   ]
  },
  {
   "cell_type": "code",
   "execution_count": 2,
   "metadata": {},
   "outputs": [],
   "source": [
    "# Import necessary libs\n",
    "from pymongo import MongoClient\n",
    "import pandas as pd"
   ]
  },
  {
   "cell_type": "code",
   "execution_count": 3,
   "metadata": {},
   "outputs": [],
   "source": [
    "# import data from MongoDB\n",
    "DBClient = MongoClient()\n",
    "yelp_data = DBClient.yelp"
   ]
  },
  {
   "cell_type": "code",
   "execution_count": 4,
   "metadata": {},
   "outputs": [],
   "source": [
    "# Select business having atleast 50 reviews\n",
    "min_review_count = 50\n",
    "\n",
    "# businesses to Analyse\n",
    "businesses_to_analyse = 'Restaurants'"
   ]
  },
  {
   "cell_type": "code",
   "execution_count": 5,
   "metadata": {},
   "outputs": [],
   "source": [
    "# Get all restaurant businesses\n",
    "Restaurant_business = pd.DataFrame(yelp_data.business.find({\"categories\":{\"$regex\" :\".*\"+businesses_to_analyse+\".*\"}, \"review_count\":{\"$gte\":min_review_count} },  {'business_id':1, 'name':1, 'stars':1, 'review_count':1, 'categories':1, '_id': 0}))"
   ]
  },
  {
   "cell_type": "code",
   "execution_count": 6,
   "metadata": {},
   "outputs": [],
   "source": [
    "# Get all reviews\n",
    "All_reviews = pd.DataFrame(yelp_data.review.find({},{'review_id':1, 'user_id':1, 'business_id':1, 'stars':1, 'useful':1, 'text':1, 'date':1, '_id': 0}))"
   ]
  },
  {
   "cell_type": "code",
   "execution_count": 7,
   "metadata": {},
   "outputs": [],
   "source": [
    "# Find all restaurant reviews\n",
    "#Restaurant_reviews = All_reviews[All_reviews.business_id.isin(Restaurant_business.business_id.values)]\n",
    "Restaurant_reviews = pd.merge(Restaurant_business,All_reviews, on='business_id').rename(columns={'stars_x':'business_stars', 'stars_y':'review_stars'})"
   ]
  },
  {
   "cell_type": "code",
   "execution_count": 8,
   "metadata": {},
   "outputs": [
    {
     "data": {
      "text/html": [
       "<div>\n",
       "<style scoped>\n",
       "    .dataframe tbody tr th:only-of-type {\n",
       "        vertical-align: middle;\n",
       "    }\n",
       "\n",
       "    .dataframe tbody tr th {\n",
       "        vertical-align: top;\n",
       "    }\n",
       "\n",
       "    .dataframe thead th {\n",
       "        text-align: right;\n",
       "    }\n",
       "</style>\n",
       "<table border=\"1\" class=\"dataframe\">\n",
       "  <thead>\n",
       "    <tr style=\"text-align: right;\">\n",
       "      <th></th>\n",
       "      <th>business_id</th>\n",
       "      <th>categories</th>\n",
       "      <th>name</th>\n",
       "      <th>review_count</th>\n",
       "      <th>stars</th>\n",
       "    </tr>\n",
       "  </thead>\n",
       "  <tbody>\n",
       "    <tr>\n",
       "      <th>0</th>\n",
       "      <td>tstimHoMcYbkSC4eBA1wEg</td>\n",
       "      <td>Mexican, Restaurants, Patisserie/Cake Shop, Fo...</td>\n",
       "      <td>Maria's Mexican Restaurant &amp; Bakery</td>\n",
       "      <td>184</td>\n",
       "      <td>4.5</td>\n",
       "    </tr>\n",
       "    <tr>\n",
       "      <th>1</th>\n",
       "      <td>gnKjwL_1w79qoiV3IC_xQQ</td>\n",
       "      <td>Sushi Bars, Restaurants, Japanese</td>\n",
       "      <td>Musashi Japanese Restaurant</td>\n",
       "      <td>170</td>\n",
       "      <td>4.0</td>\n",
       "    </tr>\n",
       "    <tr>\n",
       "      <th>2</th>\n",
       "      <td>QXAEGFB4oINsVuTFxEYKFQ</td>\n",
       "      <td>Specialty Food, Restaurants, Dim Sum, Imported...</td>\n",
       "      <td>Emerald Chinese Restaurant</td>\n",
       "      <td>128</td>\n",
       "      <td>2.5</td>\n",
       "    </tr>\n",
       "    <tr>\n",
       "      <th>3</th>\n",
       "      <td>NDuUMJfrWk52RA-H-OtrpA</td>\n",
       "      <td>Juice Bars &amp; Smoothies, Food, Restaurants, Fas...</td>\n",
       "      <td>Bolt Fresh Bar</td>\n",
       "      <td>57</td>\n",
       "      <td>3.0</td>\n",
       "    </tr>\n",
       "    <tr>\n",
       "      <th>4</th>\n",
       "      <td>dQj5DLZjeDK3KFysh1SYOQ</td>\n",
       "      <td>Nightlife, Bars, Polish, Modern European, Rest...</td>\n",
       "      <td>Apteka</td>\n",
       "      <td>242</td>\n",
       "      <td>4.5</td>\n",
       "    </tr>\n",
       "  </tbody>\n",
       "</table>\n",
       "</div>"
      ],
      "text/plain": [
       "              business_id                                         categories  \\\n",
       "0  tstimHoMcYbkSC4eBA1wEg  Mexican, Restaurants, Patisserie/Cake Shop, Fo...   \n",
       "1  gnKjwL_1w79qoiV3IC_xQQ                  Sushi Bars, Restaurants, Japanese   \n",
       "2  QXAEGFB4oINsVuTFxEYKFQ  Specialty Food, Restaurants, Dim Sum, Imported...   \n",
       "3  NDuUMJfrWk52RA-H-OtrpA  Juice Bars & Smoothies, Food, Restaurants, Fas...   \n",
       "4  dQj5DLZjeDK3KFysh1SYOQ  Nightlife, Bars, Polish, Modern European, Rest...   \n",
       "\n",
       "                                  name  review_count  stars  \n",
       "0  Maria's Mexican Restaurant & Bakery           184    4.5  \n",
       "1          Musashi Japanese Restaurant           170    4.0  \n",
       "2           Emerald Chinese Restaurant           128    2.5  \n",
       "3                       Bolt Fresh Bar            57    3.0  \n",
       "4                               Apteka           242    4.5  "
      ]
     },
     "execution_count": 8,
     "metadata": {},
     "output_type": "execute_result"
    }
   ],
   "source": [
    "Restaurant_business.head(5)"
   ]
  },
  {
   "cell_type": "code",
   "execution_count": 9,
   "metadata": {},
   "outputs": [
    {
     "data": {
      "text/html": [
       "<div>\n",
       "<style scoped>\n",
       "    .dataframe tbody tr th:only-of-type {\n",
       "        vertical-align: middle;\n",
       "    }\n",
       "\n",
       "    .dataframe tbody tr th {\n",
       "        vertical-align: top;\n",
       "    }\n",
       "\n",
       "    .dataframe thead th {\n",
       "        text-align: right;\n",
       "    }\n",
       "</style>\n",
       "<table border=\"1\" class=\"dataframe\">\n",
       "  <thead>\n",
       "    <tr style=\"text-align: right;\">\n",
       "      <th></th>\n",
       "      <th>business_id</th>\n",
       "      <th>categories</th>\n",
       "      <th>name</th>\n",
       "      <th>review_count</th>\n",
       "      <th>business_stars</th>\n",
       "      <th>date</th>\n",
       "      <th>review_id</th>\n",
       "      <th>review_stars</th>\n",
       "      <th>text</th>\n",
       "      <th>useful</th>\n",
       "      <th>user_id</th>\n",
       "    </tr>\n",
       "  </thead>\n",
       "  <tbody>\n",
       "    <tr>\n",
       "      <th>0</th>\n",
       "      <td>tstimHoMcYbkSC4eBA1wEg</td>\n",
       "      <td>Mexican, Restaurants, Patisserie/Cake Shop, Fo...</td>\n",
       "      <td>Maria's Mexican Restaurant &amp; Bakery</td>\n",
       "      <td>184</td>\n",
       "      <td>4.5</td>\n",
       "      <td>2014-01-17 00:59:36</td>\n",
       "      <td>iWFBGYotfzwiLsOka0e1Rw</td>\n",
       "      <td>4.0</td>\n",
       "      <td>We found out about this gem from The Man's co-...</td>\n",
       "      <td>0</td>\n",
       "      <td>Gvv5hQR8BYj5f-APtKwImQ</td>\n",
       "    </tr>\n",
       "    <tr>\n",
       "      <th>1</th>\n",
       "      <td>tstimHoMcYbkSC4eBA1wEg</td>\n",
       "      <td>Mexican, Restaurants, Patisserie/Cake Shop, Fo...</td>\n",
       "      <td>Maria's Mexican Restaurant &amp; Bakery</td>\n",
       "      <td>184</td>\n",
       "      <td>4.5</td>\n",
       "      <td>2014-08-24 21:52:27</td>\n",
       "      <td>QhiVo4F8MFSoz1T7YggcXA</td>\n",
       "      <td>3.0</td>\n",
       "      <td>The \"chips\" are a fried corn tortilla which we...</td>\n",
       "      <td>0</td>\n",
       "      <td>b-y736LEcRWXoNFj82AcOw</td>\n",
       "    </tr>\n",
       "    <tr>\n",
       "      <th>2</th>\n",
       "      <td>tstimHoMcYbkSC4eBA1wEg</td>\n",
       "      <td>Mexican, Restaurants, Patisserie/Cake Shop, Fo...</td>\n",
       "      <td>Maria's Mexican Restaurant &amp; Bakery</td>\n",
       "      <td>184</td>\n",
       "      <td>4.5</td>\n",
       "      <td>2011-09-26 01:53:09</td>\n",
       "      <td>FUv-c5CkLy71yFTGLrp2ag</td>\n",
       "      <td>4.0</td>\n",
       "      <td>The pollo mole is well worth the trip out here...</td>\n",
       "      <td>1</td>\n",
       "      <td>_7_Bh8VaUTUgFhmQ59ml0g</td>\n",
       "    </tr>\n",
       "    <tr>\n",
       "      <th>3</th>\n",
       "      <td>tstimHoMcYbkSC4eBA1wEg</td>\n",
       "      <td>Mexican, Restaurants, Patisserie/Cake Shop, Fo...</td>\n",
       "      <td>Maria's Mexican Restaurant &amp; Bakery</td>\n",
       "      <td>184</td>\n",
       "      <td>4.5</td>\n",
       "      <td>2017-03-27 21:03:02</td>\n",
       "      <td>lJfGtkCc4in6Xcq-_Wtfwg</td>\n",
       "      <td>3.0</td>\n",
       "      <td>I've ordered Caldo de Rez from here twice and ...</td>\n",
       "      <td>0</td>\n",
       "      <td>PFdPopcevMX7_2cx27rJKA</td>\n",
       "    </tr>\n",
       "    <tr>\n",
       "      <th>4</th>\n",
       "      <td>tstimHoMcYbkSC4eBA1wEg</td>\n",
       "      <td>Mexican, Restaurants, Patisserie/Cake Shop, Fo...</td>\n",
       "      <td>Maria's Mexican Restaurant &amp; Bakery</td>\n",
       "      <td>184</td>\n",
       "      <td>4.5</td>\n",
       "      <td>2014-02-06 03:59:50</td>\n",
       "      <td>BKoH9aG1ZjUjy2brzkxzJw</td>\n",
       "      <td>5.0</td>\n",
       "      <td>My boyfriend doesn't like Mexican food yet he ...</td>\n",
       "      <td>0</td>\n",
       "      <td>IxBVL9K2K9aur-_zKvIJiw</td>\n",
       "    </tr>\n",
       "  </tbody>\n",
       "</table>\n",
       "</div>"
      ],
      "text/plain": [
       "              business_id                                         categories  \\\n",
       "0  tstimHoMcYbkSC4eBA1wEg  Mexican, Restaurants, Patisserie/Cake Shop, Fo...   \n",
       "1  tstimHoMcYbkSC4eBA1wEg  Mexican, Restaurants, Patisserie/Cake Shop, Fo...   \n",
       "2  tstimHoMcYbkSC4eBA1wEg  Mexican, Restaurants, Patisserie/Cake Shop, Fo...   \n",
       "3  tstimHoMcYbkSC4eBA1wEg  Mexican, Restaurants, Patisserie/Cake Shop, Fo...   \n",
       "4  tstimHoMcYbkSC4eBA1wEg  Mexican, Restaurants, Patisserie/Cake Shop, Fo...   \n",
       "\n",
       "                                  name  review_count  business_stars  \\\n",
       "0  Maria's Mexican Restaurant & Bakery           184             4.5   \n",
       "1  Maria's Mexican Restaurant & Bakery           184             4.5   \n",
       "2  Maria's Mexican Restaurant & Bakery           184             4.5   \n",
       "3  Maria's Mexican Restaurant & Bakery           184             4.5   \n",
       "4  Maria's Mexican Restaurant & Bakery           184             4.5   \n",
       "\n",
       "                  date               review_id  review_stars  \\\n",
       "0  2014-01-17 00:59:36  iWFBGYotfzwiLsOka0e1Rw           4.0   \n",
       "1  2014-08-24 21:52:27  QhiVo4F8MFSoz1T7YggcXA           3.0   \n",
       "2  2011-09-26 01:53:09  FUv-c5CkLy71yFTGLrp2ag           4.0   \n",
       "3  2017-03-27 21:03:02  lJfGtkCc4in6Xcq-_Wtfwg           3.0   \n",
       "4  2014-02-06 03:59:50  BKoH9aG1ZjUjy2brzkxzJw           5.0   \n",
       "\n",
       "                                                text  useful  \\\n",
       "0  We found out about this gem from The Man's co-...       0   \n",
       "1  The \"chips\" are a fried corn tortilla which we...       0   \n",
       "2  The pollo mole is well worth the trip out here...       1   \n",
       "3  I've ordered Caldo de Rez from here twice and ...       0   \n",
       "4  My boyfriend doesn't like Mexican food yet he ...       0   \n",
       "\n",
       "                  user_id  \n",
       "0  Gvv5hQR8BYj5f-APtKwImQ  \n",
       "1  b-y736LEcRWXoNFj82AcOw  \n",
       "2  _7_Bh8VaUTUgFhmQ59ml0g  \n",
       "3  PFdPopcevMX7_2cx27rJKA  \n",
       "4  IxBVL9K2K9aur-_zKvIJiw  "
      ]
     },
     "execution_count": 9,
     "metadata": {},
     "output_type": "execute_result"
    }
   ],
   "source": [
    "Restaurant_reviews.head(5)"
   ]
  },
  {
   "cell_type": "code",
   "execution_count": 10,
   "metadata": {},
   "outputs": [],
   "source": [
    "Restaurant_reviews.to_csv('processed_data/restaurant_reviews.csv')"
   ]
  },
  {
   "cell_type": "code",
   "execution_count": 11,
   "metadata": {},
   "outputs": [],
   "source": [
    "Restaurant_business.to_csv('processed_data/restaurants.csv')"
   ]
  },
  {
   "cell_type": "code",
   "execution_count": 21,
   "metadata": {},
   "outputs": [
    {
     "data": {
      "text/plain": [
       "189"
      ]
     },
     "execution_count": 21,
     "metadata": {},
     "output_type": "execute_result"
    }
   ],
   "source": [
    "#Restaurant_reviews.query(' business_id == \"tstimHoMcYbkSC4eBA1wEg\" ').shape[0]"
   ]
  },
  {
   "cell_type": "code",
   "execution_count": 12,
   "metadata": {},
   "outputs": [],
   "source": [
    "import matplotlib.pyplot as plot"
   ]
  },
  {
   "cell_type": "code",
   "execution_count": null,
   "metadata": {},
   "outputs": [],
   "source": [
    "# plot how many reviews we have of each star\n",
    "star_x = Restaurant_reviews.review_stars.value_counts().index\n",
    "star_y = Restaurant_reviews.review_stars.value_counts().values\n",
    "\n",
    "plot.figure(figsize=(8,5))\n",
    "# colors are in the order 5, 4, 3, 1, 2\n",
    "bar_colors = ['darkgreen', 'mediumseagreen', 'gold', 'crimson', 'orange']\n",
    "plot.bar(star_x, star_y, color=bar_colors, width=.6)\n",
    "plot.xlabel('Stars (Rating)')\n",
    "plot.ylabel('Number of Reviews')\n",
    "plot.title(f'Number of Reviews Per Rating of {businesses_to_analyse}')"
   ]
  },
  {
   "cell_type": "code",
   "execution_count": null,
   "metadata": {},
   "outputs": [],
   "source": [
    "#END"
   ]
  }
 ],
 "metadata": {
  "kernelspec": {
   "display_name": "Python 3",
   "language": "python",
   "name": "python3"
  },
  "language_info": {
   "codemirror_mode": {
    "name": "ipython",
    "version": 3
   },
   "file_extension": ".py",
   "mimetype": "text/x-python",
   "name": "python",
   "nbconvert_exporter": "python",
   "pygments_lexer": "ipython3",
   "version": "3.7.3"
  }
 },
 "nbformat": 4,
 "nbformat_minor": 2
}
