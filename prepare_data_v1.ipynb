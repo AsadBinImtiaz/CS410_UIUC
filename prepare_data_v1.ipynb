{
 "cells": [
  {
   "cell_type": "code",
   "execution_count": 1,
   "metadata": {},
   "outputs": [],
   "source": [
    "import os\n",
    "import boto3\n",
    "import codecs\n",
    "import json\n",
    "import time\n",
    "import datetime"
   ]
  },
  {
   "cell_type": "markdown",
   "metadata": {},
   "source": [
    "#### Define constants"
   ]
  },
  {
   "cell_type": "code",
   "execution_count": 2,
   "metadata": {},
   "outputs": [],
   "source": [
    "bucket = 'yummy-nlp'\n",
    "data_dir = os.path.join('data')\n",
    "review_filepath = os.path.join(data_dir, 'review.json')\n",
    "business_filepath = os.path.join(data_dir, 'business.json')\n",
    "restaurants_filepath = os.path.join(data_dir, 'restaurants.json')\n",
    "review_txt_filepath = os.path.join(data_dir, 'review_txt_az.txt')\n",
    "review_txt50_filepath = os.path.join(data_dir, 'review_txt_az50.txt')"
   ]
  },
  {
   "cell_type": "markdown",
   "metadata": {},
   "source": [
    "### Function to Download file from an S3 bucket\n",
    "Function takes **3** inputs:\n",
    "- `bucket` name of the S3 bucket to download from\n",
    "- `s3_filename` name of the file inside the bucket. For example to download `s3://tasty-nlp/data/review.json`, set `s3_filename` to _data/review.json_\n",
    "- `local_filename` name of the file locally. To download file into a sub-directory prefix filename with the sub-directory name. For example, if you want to download it to `data` sub-directory, set `local_filename` to `'data/review.json'`\n",
    "\n",
    "**Note:** Directory must exists before downloading the file"
   ]
  },
  {
   "cell_type": "code",
   "execution_count": 3,
   "metadata": {},
   "outputs": [],
   "source": [
    "def download_s3_file(bucket, s3_filename, local_filename):\n",
    "    s3 = boto3.resource('s3')\n",
    "    my_bucket = s3.Bucket(bucket)\n",
    "    my_bucket.download_file(s3_filename, local_filename)"
   ]
  },
  {
   "cell_type": "markdown",
   "metadata": {},
   "source": [
    "### Download Business json file\n",
    "This file contains information regarding a business. Lets download it from `s3://yummy-nlp/business.json` and save it locally in `data` directory"
   ]
  },
  {
   "cell_type": "code",
   "execution_count": 4,
   "metadata": {},
   "outputs": [
    {
     "name": "stdout",
     "output_type": "stream",
     "text": [
      "s3://yummy-nlp/business.json file downloaded successfully: True\n"
     ]
    }
   ],
   "source": [
    "s3_filename = 'business.json'\n",
    "local_filename = 'data/business.json'\n",
    "\n",
    "download_s3_file(bucket, s3_filename, local_filename)\n",
    "print(\"s3://{}/{} file downloaded successfully: {}\"\n",
    "      .format(bucket, s3_filename, os.path.exists(local_filename)))"
   ]
  },
  {
   "cell_type": "markdown",
   "metadata": {},
   "source": [
    "#### Read the first business record to see what information it has"
   ]
  },
  {
   "cell_type": "code",
   "execution_count": 5,
   "metadata": {},
   "outputs": [
    {
     "name": "stdout",
     "output_type": "stream",
     "text": [
      "{\"business_id\":\"1SWheh84yJXfytovILXOAQ\",\"name\":\"Arizona Biltmore Golf Club\",\"address\":\"2818 E Camino Acequia Drive\",\"city\":\"Phoenix\",\"state\":\"AZ\",\"postal_code\":\"85016\",\"latitude\":33.5221425,\"longitude\":-112.0184807,\"stars\":3.0,\"review_count\":5,\"is_open\":0,\"attributes\":{\"GoodForKids\":\"False\"},\"categories\":\"Golf, Active Life\",\"hours\":null}\n",
      "\n"
     ]
    }
   ],
   "source": [
    "with codecs.open(business_filepath, encoding='utf-8') as f:\n",
    "    first_rec = f.readline()\n",
    "\n",
    "print(first_rec)"
   ]
  },
  {
   "cell_type": "markdown",
   "metadata": {},
   "source": [
    "### Download Review json file\n",
    "This file contains information regarding a review. Lets download it from `s3://yummy-nlp/review.json` and save it locally in `data` directory\n",
    "\n",
    "**Note:** This file is **5GB** in size"
   ]
  },
  {
   "cell_type": "code",
   "execution_count": 6,
   "metadata": {},
   "outputs": [
    {
     "name": "stdout",
     "output_type": "stream",
     "text": [
      "s3://yummy-nlp/review.json file downloaded successfully: True\n",
      "CPU times: user 30.2 s, sys: 27.6 s, total: 57.8 s\n",
      "Wall time: 4min 51s\n"
     ]
    }
   ],
   "source": [
    "%%time\n",
    "s3_filename = 'review.json'\n",
    "local_filename = 'data/review.json'\n",
    "\n",
    "download_s3_file(bucket, s3_filename, local_filename)\n",
    "print(\"s3://{}/{} file downloaded successfully: {}\"\n",
    "      .format(bucket, s3_filename, os.path.exists(local_filename)))"
   ]
  },
  {
   "cell_type": "markdown",
   "metadata": {},
   "source": [
    "#### Read the first review record to see what information it has"
   ]
  },
  {
   "cell_type": "code",
   "execution_count": 7,
   "metadata": {},
   "outputs": [
    {
     "name": "stdout",
     "output_type": "stream",
     "text": [
      "{\"review_id\":\"Q1sbwvVQXV2734tPgoKj4Q\",\"user_id\":\"hG7b0MtEbXx5QzbzE6C_VA\",\"business_id\":\"ujmEBvifdJM6h6RLv4wQIg\",\"stars\":1.0,\"useful\":6,\"funny\":1,\"cool\":0,\"text\":\"Total bill for this horrible service? Over $8Gs. These crooks actually had the nerve to charge us $69 for 3 pills. I checked online the pills can be had for 19 cents EACH! Avoid Hospital ERs at all costs.\",\"date\":\"2013-05-07 04:34:36\"}\n",
      "\n"
     ]
    }
   ],
   "source": [
    "with codecs.open(review_filepath, encoding='utf-8') as f:\n",
    "    first_rec = f.readline()\n",
    "\n",
    "print(first_rec)"
   ]
  },
  {
   "cell_type": "markdown",
   "metadata": {},
   "source": [
    "### Create restaurants.json\n",
    "From `business.json` filter out information for all restaurants and create `restaurants.json`. We can then use this file to filter further based on _state_ or _stars_ etc. This file will contain information related to restaurants only."
   ]
  },
  {
   "cell_type": "markdown",
   "metadata": {},
   "source": [
    "1. Read in each business record and convert it to python dict\n",
    "2. Filter out business records that aren't about restaurants\n",
    "3. Create a set of restaurant ids"
   ]
  },
  {
   "cell_type": "code",
   "execution_count": 8,
   "metadata": {},
   "outputs": [
    {
     "name": "stdout",
     "output_type": "stream",
     "text": [
      "59371 restaurants in the dataset\n",
      "CPU times: user 4.99 s, sys: 319 ms, total: 5.31 s\n",
      "Wall time: 5.35 s\n"
     ]
    }
   ],
   "source": [
    "%%time\n",
    "if 1 == 1:\n",
    "    restaurant_ids = set()\n",
    "\n",
    "    with codecs.open(restaurants_filepath, 'w', encoding='utf-8') as restaurants_file:\n",
    "        with codecs.open(business_filepath, encoding='utf-8') as f:\n",
    "            for business_json in f:\n",
    "                #convert the json record to a python dict\n",
    "                business = json.loads(business_json)\n",
    "\n",
    "                # if category is present and is of type Restaurants\n",
    "                if business[u'categories'] and u'Restaurants' in business[u'categories']:\n",
    "                    restaurants_file.write(business_json)\n",
    "                    restaurant_ids.add(business[u'business_id'])\n",
    "\n",
    "    print(\"{} restaurants in the dataset\".format(len(restaurant_ids)))"
   ]
  },
  {
   "cell_type": "markdown",
   "metadata": {},
   "source": [
    "### Find restaurants in a particular state (AZ)"
   ]
  },
  {
   "cell_type": "code",
   "execution_count": 9,
   "metadata": {},
   "outputs": [
    {
     "name": "stdout",
     "output_type": "stream",
     "text": [
      "11465 restaurants in AZ\n",
      "CPU times: user 1.79 s, sys: 38 ms, total: 1.83 s\n",
      "Wall time: 1.83 s\n"
     ]
    }
   ],
   "source": [
    "%%time\n",
    "az_restaurant_ids = set()\n",
    "\n",
    "with codecs.open(restaurants_filepath, encoding='utf-8') as f:\n",
    "    for restaurant_json in f:\n",
    "        #convert the json record to a python dict\n",
    "        restaurant = json.loads(restaurant_json)\n",
    "        \n",
    "        if restaurant[u'state'].upper() == 'AZ':\n",
    "            az_restaurant_ids.add(restaurant[u'business_id'])\n",
    "\n",
    "print(\"{} restaurants in AZ\".format(len(az_restaurant_ids)))"
   ]
  },
  {
   "cell_type": "markdown",
   "metadata": {},
   "source": [
    "### Get reviews of restaurants in AZ\n",
    "From `reviews.json` file read each review, check if the restaurant id of the review is in **az_restaurant_ids** set that was created in the previous step. If the review's restaurant id is in the list then, write the review text to `review_txt_az.txt` file."
   ]
  },
  {
   "cell_type": "code",
   "execution_count": 10,
   "metadata": {},
   "outputs": [
    {
     "name": "stdout",
     "output_type": "stream",
     "text": [
      "Text from 1191691 restaurant reviews written to the text file data/review_txt_az.txt\n",
      "CPU times: user 2min 4s, sys: 5.64 s, total: 2min 10s\n",
      "Wall time: 2min 12s\n"
     ]
    }
   ],
   "source": [
    "%%time\n",
    "review_txt_filepath = os.path.join(data_dir, 'review_txt_az.txt')\n",
    "\n",
    "if 1 == 1:\n",
    "    review_count = 0\n",
    "\n",
    "    with codecs.open(review_txt_filepath, 'w', encoding='utf-8') as review_txt_file:\n",
    "        with codecs.open(review_filepath, encoding='utf-8') as review_json_file:\n",
    "            for review_json in review_json_file:\n",
    "                review = json.loads(review_json)\n",
    "\n",
    "                if review[u'business_id'] in az_restaurant_ids:\n",
    "                    review_txt_file.write(review[u'text'].replace('\\n', '').strip())\n",
    "                    review_txt_file.write('\\n')\n",
    "                    review_count += 1\n",
    "\n",
    "    print(\"Text from {} restaurant reviews written to the text file {}\".format(review_count, review_txt_filepath))"
   ]
  },
  {
   "cell_type": "markdown",
   "metadata": {},
   "source": [
    "### Restaurants in AZ, with 50 or more reviews"
   ]
  },
  {
   "cell_type": "code",
   "execution_count": 11,
   "metadata": {},
   "outputs": [
    {
     "name": "stdout",
     "output_type": "stream",
     "text": [
      "5216 restaurants in AZ with 50 or more reviews\n",
      "CPU times: user 1.72 s, sys: 53.9 ms, total: 1.78 s\n",
      "Wall time: 1.79 s\n"
     ]
    }
   ],
   "source": [
    "%%time\n",
    "az50_restaurant_ids = set()\n",
    "\n",
    "with codecs.open(restaurants_filepath, encoding='utf-8') as f:\n",
    "    for restaurant_json in f:\n",
    "        #convert the json record to a python dict\n",
    "        restaurant = json.loads(restaurant_json)\n",
    "        \n",
    "        if restaurant[u'state'].upper() == 'AZ' and restaurant[u'review_count'] >= 50:\n",
    "            az50_restaurant_ids.add(restaurant[u'business_id'])\n",
    "\n",
    "print(\"{} restaurants in AZ with 50 or more reviews\".format(len(az50_restaurant_ids)))"
   ]
  },
  {
   "cell_type": "code",
   "execution_count": 12,
   "metadata": {},
   "outputs": [
    {
     "name": "stdout",
     "output_type": "stream",
     "text": [
      "Text from 1075198 restaurant reviews written to the text file data/review_txt_az50.txt\n",
      "CPU times: user 2min 13s, sys: 7.37 s, total: 2min 20s\n",
      "Wall time: 2min 22s\n"
     ]
    }
   ],
   "source": [
    "%%time\n",
    "review_txt_filepath = os.path.join(data_dir, 'review_txt_az50.txt')\n",
    "\n",
    "if 1 == 1:\n",
    "    review_count = 0\n",
    "\n",
    "    with codecs.open(review_txt_filepath, 'w', encoding='utf-8') as review_txt_file:\n",
    "        with codecs.open(review_filepath, encoding='utf-8') as review_json_file:\n",
    "            for review_json in review_json_file:\n",
    "                review = json.loads(review_json)\n",
    "\n",
    "                if review[u'business_id'] in az50_restaurant_ids:\n",
    "                    review_txt_file.write(review[u'text'].replace('\\n', '').strip())\n",
    "                    review_txt_file.write('\\n')\n",
    "                    review_count += 1\n",
    "\n",
    "    print(\"Text from {} restaurant reviews written to the text file {}\".format(review_count, review_txt_filepath))"
   ]
  }
 ],
 "metadata": {
  "kernelspec": {
   "display_name": "Python 3",
   "language": "python",
   "name": "python3"
  },
  "language_info": {
   "codemirror_mode": {
    "name": "ipython",
    "version": 3
   },
   "file_extension": ".py",
   "mimetype": "text/x-python",
   "name": "python",
   "nbconvert_exporter": "python",
   "pygments_lexer": "ipython3",
   "version": "3.7.4"
  }
 },
 "nbformat": 4,
 "nbformat_minor": 2
}
