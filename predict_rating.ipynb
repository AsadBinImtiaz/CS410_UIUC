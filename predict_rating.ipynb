{
 "cells": [
  {
   "cell_type": "code",
   "execution_count": null,
   "metadata": {},
   "outputs": [],
   "source": [
    "import os\n",
    "import pickle\n",
    "import string\n",
    "from nltk.corpus import stopwords"
   ]
  },
  {
   "cell_type": "markdown",
   "metadata": {},
   "source": [
    "#### Constants"
   ]
  },
  {
   "cell_type": "code",
   "execution_count": null,
   "metadata": {},
   "outputs": [],
   "source": [
    "bucket = 'yummy-nlp'\n",
    "pickle_dir = os.path.join('pickles/sentiment_analysis')\n",
    "cleaned_reviews_df_file = os.path.join(pickle_dir, 'cleaned_reviews_df.pkl')\n",
    "vocab_file = os.path.join(pickle_dir, 'cleaned_reviews_vocab.pkl')\n",
    "transformed_sentiment_file = os.path.join(pickle_dir, 'cleaned_reviews_x_sentiment.pkl')\n",
    "classifier_file = os.path.join(pickle_dir, 'mnb_classifier.pkl')"
   ]
  },
  {
   "cell_type": "code",
   "execution_count": null,
   "metadata": {},
   "outputs": [],
   "source": [
    "def read_pkl_file(filename):\n",
    "    with open(filename, 'rb') as file:\n",
    "        result = pickle.load(file)\n",
    "    return result"
   ]
  },
  {
   "cell_type": "code",
   "execution_count": null,
   "metadata": {},
   "outputs": [],
   "source": [
    "def text_process(text):\n",
    "    nopunc = [char for char in text if char not in string.punctuation]\n",
    "    nopunc = ''.join(nopunc)\n",
    "    return [word for word in nopunc.split() if word.lower() not in stopwords]"
   ]
  },
  {
   "cell_type": "code",
   "execution_count": null,
   "metadata": {},
   "outputs": [],
   "source": [
    "def predict_rating(actual_rating_text):\n",
    "    df = read_pkl_file(cleaned_reviews_df_file)\n",
    "    print(\"Actual rating text:\")\n",
    "    print(actual_rating_text)\n",
    "    \n",
    "    vocab = read_pkl_file(vocab_file)\n",
    "    print(\"Vocab type: {}\".format(type(vocab)))\n",
    "    result = vocab.transform([actual_rating_text])\n",
    "    \n",
    "    classifier = read_pkl_file(classifier_file)\n",
    "    print('Predicted Rating: {}'.format(classifier.predict(result)[0]))"
   ]
  },
  {
   "cell_type": "code",
   "execution_count": null,
   "metadata": {},
   "outputs": [],
   "source": [
    "%%time\n",
    "review_text = \"weekday-morning avoid weekend crowd definitely-enjoy experience food bunch_staple. lotus leaf_wrap sausage. sticky-rice preserve egg congee. egg-yolk bun. pretty-bomb. employee walk cart dim-sum. super cantonese-style item cart menu service super friendly funny_staff. willing-explain despite language-barrier environment bit outdated-lobby washroom particularly sketchy overall-will return tell weekend more-variety dim_sum.\"\n",
    "predict_rating(review_text)"
   ]
  },
  {
   "cell_type": "code",
   "execution_count": null,
   "metadata": {},
   "outputs": [],
   "source": []
  }
 ],
 "metadata": {
  "kernelspec": {
   "display_name": "Python 3",
   "language": "python",
   "name": "python3"
  },
  "language_info": {
   "codemirror_mode": {
    "name": "ipython",
    "version": 3
   },
   "file_extension": ".py",
   "mimetype": "text/x-python",
   "name": "python",
   "nbconvert_exporter": "python",
   "pygments_lexer": "ipython3",
   "version": "3.7.3"
  }
 },
 "nbformat": 4,
 "nbformat_minor": 2
}
