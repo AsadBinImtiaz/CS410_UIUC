{
 "cells": [
  {
   "cell_type": "code",
   "execution_count": 16,
   "metadata": {},
   "outputs": [],
   "source": [
    "# imports needed libs\n",
    "import gensim \n",
    "import pandas as pd\n",
    "import pickle\n",
    "import itertools\n",
    "import spacy"
   ]
  },
  {
   "cell_type": "code",
   "execution_count": 17,
   "metadata": {},
   "outputs": [],
   "source": [
    "nlp = spacy.load('en_core_web_sm', disable=[\"ner\"])"
   ]
  },
  {
   "cell_type": "code",
   "execution_count": 2,
   "metadata": {},
   "outputs": [],
   "source": [
    "def read_topic_data():\n",
    "    return pd.read_csv('processed_data/cleaned_reviews.csv', usecols = [\"business_id\", \"name\", \"review_id\",\"text\",\"topic_text\",\"sentiment_text\"])"
   ]
  },
  {
   "cell_type": "code",
   "execution_count": 3,
   "metadata": {},
   "outputs": [],
   "source": [
    "data = read_topic_data()"
   ]
  },
  {
   "cell_type": "code",
   "execution_count": 37,
   "metadata": {},
   "outputs": [],
   "source": [
    "stop_words = [line.rstrip('\\n') for line in open('config/stopwords.txt', 'r', encoding='utf-8')] \n",
    "neg_words  = [line.rstrip('\\n') for line in open('config/negations.txt', 'r', encoding='utf-8')]\n",
    "stopwords = stop_words + neg_words"
   ]
  },
  {
   "cell_type": "code",
   "execution_count": 5,
   "metadata": {},
   "outputs": [],
   "source": [
    "def list_diff(list1,list2):\n",
    "    return list(itertools.filterfalse(set(list2).__contains__, list1)) "
   ]
  },
  {
   "cell_type": "code",
   "execution_count": 6,
   "metadata": {},
   "outputs": [],
   "source": [
    "def split_phrases(str_list):\n",
    "    new_list = []\n",
    "    for tok in str_list:\n",
    "        if '-' in tok:\n",
    "            new_list += tok.split('-')\n",
    "        new_list.append(tok)\n",
    "    return list_diff(new_list,stop_words)"
   ]
  },
  {
   "cell_type": "code",
   "execution_count": 7,
   "metadata": {},
   "outputs": [],
   "source": [
    "topic_set = [split_phrases((u''+str(txt)).replace('.','').split()) for txt in data.topic_text]"
   ]
  },
  {
   "cell_type": "code",
   "execution_count": 8,
   "metadata": {},
   "outputs": [],
   "source": [
    "senti_set = [split_phrases((u''+str(txt)).replace('.','').split()) for txt in data.sentiment_text]"
   ]
  },
  {
   "cell_type": "code",
   "execution_count": null,
   "metadata": {},
   "outputs": [],
   "source": []
  },
  {
   "cell_type": "code",
   "execution_count": null,
   "metadata": {},
   "outputs": [],
   "source": [
    "%%time\n",
    "#build vocabulary and train model\n",
    "topic_model = gensim.models.Word2Vec(\n",
    "        topic_set,\n",
    "        size=100,\n",
    "        window=10,\n",
    "        min_count=100,\n",
    "        workers=100,\n",
    "        iter=10)\n",
    "\n",
    "#  Stats\n",
    "## NC (0250 MB): Wall time:   14.8 s /   22 s\n",
    "## ALL         : 4min 34s"
   ]
  },
  {
   "cell_type": "code",
   "execution_count": null,
   "metadata": {},
   "outputs": [],
   "source": [
    "%%time\n",
    "#build vocabulary and train model\n",
    "senti_model = gensim.models.Word2Vec(\n",
    "        senti_set,\n",
    "        size=100,\n",
    "        window=15,\n",
    "        min_count=100,\n",
    "        workers=100,\n",
    "        iter=20)\n",
    "\n",
    "#  Stats\n",
    "## NC (0250 MB): Wall time:   14.8 s /   22 s\n",
    "## ALL         : Wall time: 17min 19s"
   ]
  },
  {
   "cell_type": "code",
   "execution_count": null,
   "metadata": {},
   "outputs": [],
   "source": [
    "#with open('pickles/aspect_topic_model.pk', 'wb') as fin:\n",
    "#    pickle.dump(topic_model, fin)\n",
    "#with open('pickles/aspect_senti_model.pk', 'wb') as fin:\n",
    "#    pickle.dump(senti_model, fin)"
   ]
  },
  {
   "cell_type": "code",
   "execution_count": 7,
   "metadata": {},
   "outputs": [],
   "source": [
    "with open('pickles/aspect_topic_model.pk', 'rb') as fin:\n",
    "    topic_model = pickle.load(fin)\n",
    "with open('pickles/aspect_senti_model.pk', 'rb') as fin:\n",
    "    senti_model = pickle.load(fin)"
   ]
  },
  {
   "cell_type": "code",
   "execution_count": 4,
   "metadata": {},
   "outputs": [
    {
     "data": {
      "text/plain": [
       "[('cuisine', 0.7098367810249329),\n",
       " ('thailand', 0.6114474534988403),\n",
       " ('laos', 0.607699453830719),\n",
       " ('authenticity', 0.5937446355819702),\n",
       " ('region', 0.5881584882736206)]"
      ]
     },
     "execution_count": 4,
     "metadata": {},
     "output_type": "execute_result"
    }
   ],
   "source": [
    "topic_model.wv.most_similar(positive='cusine',topn=5)"
   ]
  },
  {
   "cell_type": "code",
   "execution_count": 5,
   "metadata": {},
   "outputs": [
    {
     "data": {
      "text/plain": [
       "[('superior-food', 0.6407245397567749),\n",
       " ('superior-service', 0.5888615846633911)]"
      ]
     },
     "execution_count": 5,
     "metadata": {},
     "output_type": "execute_result"
    }
   ],
   "source": [
    "senti_model.wv.most_similar(positive='far',topn=2)"
   ]
  },
  {
   "cell_type": "code",
   "execution_count": 7,
   "metadata": {},
   "outputs": [
    {
     "data": {
      "text/plain": [
       "0.22458847"
      ]
     },
     "execution_count": 7,
     "metadata": {},
     "output_type": "execute_result"
    }
   ],
   "source": [
    "senti_model.wv.similarity(w1='location',w2='far')"
   ]
  },
  {
   "cell_type": "code",
   "execution_count": 66,
   "metadata": {},
   "outputs": [
    {
     "data": {
      "text/plain": [
       "0.016833797"
      ]
     },
     "execution_count": 66,
     "metadata": {},
     "output_type": "execute_result"
    }
   ],
   "source": [
    "senti_model.wv.similarity(w1='staff',w2='far')"
   ]
  },
  {
   "cell_type": "code",
   "execution_count": 68,
   "metadata": {},
   "outputs": [
    {
     "data": {
      "text/plain": [
       "0.0422838"
      ]
     },
     "execution_count": 68,
     "metadata": {},
     "output_type": "execute_result"
    }
   ],
   "source": [
    "senti_model.wv.similarity(w1='atmosphere',w2='far')"
   ]
  },
  {
   "cell_type": "code",
   "execution_count": 69,
   "metadata": {},
   "outputs": [
    {
     "data": {
      "text/plain": [
       "0.05009885"
      ]
     },
     "execution_count": 69,
     "metadata": {},
     "output_type": "execute_result"
    }
   ],
   "source": [
    "senti_model.wv.similarity(w1='price',w2='far')"
   ]
  },
  {
   "cell_type": "code",
   "execution_count": 8,
   "metadata": {},
   "outputs": [
    {
     "data": {
      "text/plain": [
       "0.073056154"
      ]
     },
     "execution_count": 8,
     "metadata": {},
     "output_type": "execute_result"
    }
   ],
   "source": [
    "senti_model.wv.similarity(w1='service',w2='far')"
   ]
  },
  {
   "cell_type": "code",
   "execution_count": null,
   "metadata": {},
   "outputs": [],
   "source": []
  },
  {
   "cell_type": "code",
   "execution_count": 9,
   "metadata": {},
   "outputs": [],
   "source": [
    "Aspect_Terms = ['~Ambiance','~Food','~Staff','~Service','~Location','~Value','~Cusine','~Street','~Area','~Cusine','~Employee','Lunch','Dinner','Breakfast','Chef','Manager','Waiter','Bartender','Attitude','behavior',]"
   ]
  },
  {
   "cell_type": "code",
   "execution_count": 8,
   "metadata": {},
   "outputs": [],
   "source": [
    "def get_all_topics_map():\n",
    "    with open('config/all_topics.txt', 'r') as f:\n",
    "         ret = {line.split(';')[0]: line.split(';')[1].replace('\\n','') for line in f.readlines()}\n",
    "    return ret"
   ]
  },
  {
   "cell_type": "code",
   "execution_count": 9,
   "metadata": {},
   "outputs": [],
   "source": [
    "topic_map = get_all_topics_map()"
   ]
  },
  {
   "cell_type": "code",
   "execution_count": 15,
   "metadata": {},
   "outputs": [],
   "source": [
    "vocab = []\n",
    "for x in topic_map.values():\n",
    "    for y in x.split('/'):\n",
    "        vocab.append(y)"
   ]
  },
  {
   "cell_type": "code",
   "execution_count": 10,
   "metadata": {},
   "outputs": [],
   "source": [
    "def get_aspect_map():\n",
    "    with open('config/aspect_map.txt', 'r') as f:\n",
    "        ret = {line.split(';')[0]: line.split(';')[1].replace('\\n','') for line in f.readlines()}\n",
    "    return ret"
   ]
  },
  {
   "cell_type": "code",
   "execution_count": 68,
   "metadata": {},
   "outputs": [],
   "source": [
    "aspect_map = get_aspect_map()"
   ]
  },
  {
   "cell_type": "code",
   "execution_count": 69,
   "metadata": {},
   "outputs": [
    {
     "data": {
      "text/plain": [
       "dict_keys(['food', 'atmosphere', 'staff', 'value', 'cent', 'location', 'appetizer', 'area', 'attentive', 'bacon', 'bartender', 'beer', 'bill', 'bland', 'bread', 'breakfast', 'brunch', 'buffet', 'burger', 'burrito', 'caesar', 'charge', 'check', 'cheese', 'chef', 'chicken', 'clean', 'coffee', 'cook', 'couple', 'crust', 'customer', 'service', 'delicious', 'dessert', 'dinner', 'dish', 'dollar', 'dress', 'drink', 'drive', 'employee', 'fast', 'fish', 'flavor', 'friendly', 'friendly-staff', 'great-atmosphere', 'great-customer', 'great-food', 'great-service', 'grill', 'happy-hour', 'helpful', 'hotel', 'hour', 'inside', 'lobster', 'lunch', 'manager', 'meal', 'meat', 'minute', 'noodle', 'not-wait', 'offer', 'option', 'outside', 'pancake', 'pasta', 'people', 'pizza', 'portion', 'price', 'bad', 'overprice', 'money', 'quality', 'refill', 'reservation', 'review', 'selection', 'server', 'slow', 'special', 'star', 'street', 'tasty', 'town', 'parking', 'kitchen', 'table', 'chair', 'vegas', 'visit', 'wait', 'waiter', 'wine', 'wing', 'yummy'])"
      ]
     },
     "execution_count": 69,
     "metadata": {},
     "output_type": "execute_result"
    }
   ],
   "source": [
    "aspect_map.keys()"
   ]
  },
  {
   "cell_type": "code",
   "execution_count": 74,
   "metadata": {},
   "outputs": [],
   "source": [
    "def assign_aspect(sent,aspect_map):\n",
    "    dicty = {}\n",
    "    \n",
    "    for word in nlp(sent.lower()):\n",
    "        if word.lemma_ not in stopwords:\n",
    "            score = 0\n",
    "            aspec = None\n",
    "            for asp in aspect_map.keys():\n",
    "                try:\n",
    "                    sco = senti_model.wv.similarity(w1=asp,w2=word.lemma_)\n",
    "                    if sco > score:\n",
    "                        score=sco\n",
    "                        aspec=asp\n",
    "                except:\n",
    "                    continue\n",
    "            dicty[aspec]= dicty.setdefault(asp, 0) + score    \n",
    "    if len(dicty)==0:\n",
    "        return None\n",
    "    \n",
    "    ret = max(dicty.items(), key=lambda k: k[1])\n",
    "    \n",
    "    return aspect_map[ret[0]]"
   ]
  },
  {
   "cell_type": "code",
   "execution_count": null,
   "metadata": {},
   "outputs": [
    {
     "name": "stdout",
     "output_type": "stream",
     "text": [
      "2019-12-03 03:57:05: Clustered [10001/3527902 ] -    797.92 secs\n",
      "2019-12-03 04:10:35: Clustered [20001/3527902 ] -    810.40 secs\n",
      "2019-12-03 04:23:30: Clustered [30001/3527902 ] -    775.14 secs\n",
      "2019-12-03 04:37:25: Clustered [40001/3527902 ] -    835.21 secs\n",
      "2019-12-03 04:51:53: Clustered [50001/3527902 ] -    867.99 secs\n",
      "2019-12-03 05:05:32: Clustered [60001/3527902 ] -    818.44 secs\n",
      "2019-12-03 05:18:26: Clustered [70001/3527902 ] -    774.64 secs\n",
      "2019-12-03 05:32:18: Clustered [80001/3527902 ] -    831.49 secs\n",
      "2019-12-03 05:45:05: Clustered [90001/3527902 ] -    767.17 secs\n",
      "2019-12-03 05:58:22: Clustered [100001/3527902 ] -    796.67 secs\n",
      "2019-12-03 06:10:10: Clustered [110001/3527902 ] -    708.43 secs\n",
      "2019-12-03 06:22:45: Clustered [120001/3527902 ] -    755.26 secs\n",
      "2019-12-03 06:36:43: Clustered [130001/3527902 ] -    837.67 secs\n",
      "2019-12-03 06:50:19: Clustered [140001/3527902 ] -    815.43 secs\n",
      "2019-12-03 07:03:58: Clustered [150001/3527902 ] -    819.07 secs\n",
      "2019-12-03 07:18:08: Clustered [160001/3527902 ] -    850.40 secs\n",
      "2019-12-03 07:32:44: Clustered [170001/3527902 ] -    876.04 secs\n",
      "2019-12-03 07:46:32: Clustered [180001/3527902 ] -    827.81 secs\n",
      "2019-12-03 08:00:50: Clustered [190001/3527902 ] -    857.92 secs\n",
      "2019-12-03 08:14:27: Clustered [200001/3527902 ] -    817.39 secs\n",
      "2019-12-03 08:28:44: Clustered [210001/3527902 ] -    857.03 secs\n",
      "2019-12-03 08:41:21: Clustered [220001/3527902 ] -    756.43 secs\n",
      "2019-12-03 08:54:40: Clustered [230001/3527902 ] -    799.04 secs\n",
      "2019-12-03 09:08:45: Clustered [240001/3527902 ] -    845.52 secs\n",
      "2019-12-03 09:22:23: Clustered [250001/3527902 ] -    817.90 secs\n",
      "2019-12-03 09:36:13: Clustered [260001/3527902 ] -    829.77 secs\n",
      "2019-12-03 09:49:40: Clustered [270001/3527902 ] -    807.45 secs\n",
      "2019-12-03 10:48:27: Clustered [280001/3527902 ] -    3526.1 secs\n",
      "2019-12-03 11:49:05: Clustered [290001/3527902 ] -    3638.8 secs\n",
      "2019-12-03 12:05:51: Clustered [300001/3527902 ] -    1005.4 secs\n",
      "2019-12-03 12:20:09: Clustered [310001/3527902 ] -    858.37 secs\n",
      "2019-12-03 12:34:57: Clustered [320001/3527902 ] -    887.94 secs\n",
      "2019-12-03 12:49:53: Clustered [330001/3527902 ] -    896.08 secs\n",
      "2019-12-03 13:03:59: Clustered [340001/3527902 ] -    846.04 secs\n",
      "2019-12-03 13:18:07: Clustered [350001/3527902 ] -    847.27 secs\n",
      "2019-12-03 13:32:23: Clustered [360001/3527902 ] -    856.11 secs\n",
      "2019-12-03 13:46:15: Clustered [370001/3527902 ] -    831.83 secs\n",
      "2019-12-03 14:01:13: Clustered [380001/3527902 ] -    898.10 secs\n",
      "2019-12-03 14:15:16: Clustered [390001/3527902 ] -    843.30 secs\n",
      "2019-12-03 14:30:16: Clustered [400001/3527902 ] -    900.09 secs\n"
     ]
    }
   ],
   "source": [
    "lst = []\n",
    "start = time.time()\n",
    "total = len(data)\n",
    "for index,txt in enumerate(data.text[:1000000]):\n",
    "    mydict = {}\n",
    "    for x in txt.replace('\\\\n','.').replace('\\n','.').split('.'):\n",
    "        if(len(x)>0):\n",
    "            y = assign_aspect(x,aspect_map)\n",
    "            mydict[y] = mydict.setdefault(y, '') + x +'\\n' \n",
    "    mydict.pop(None, None)\n",
    "    lst.append(mydict)\n",
    "    \n",
    "    if index%10000 == 0 and index > 0:\n",
    "        end = time.time()\n",
    "        printTS(f'Clustered [{index+1:>{5}}/{total:>{5}} ] - {str(end-start):>{9.6}} secs')\n",
    "        start = time.time()"
   ]
  },
  {
   "cell_type": "code",
   "execution_count": 78,
   "metadata": {},
   "outputs": [
    {
     "data": {
      "text/plain": [
       "3527902"
      ]
     },
     "execution_count": 78,
     "metadata": {},
     "output_type": "execute_result"
    }
   ],
   "source": [
    "len(data)"
   ]
  },
  {
   "cell_type": "code",
   "execution_count": null,
   "metadata": {},
   "outputs": [],
   "source": []
  },
  {
   "cell_type": "code",
   "execution_count": null,
   "metadata": {},
   "outputs": [],
   "source": []
  },
  {
   "cell_type": "code",
   "execution_count": null,
   "metadata": {},
   "outputs": [],
   "source": []
  },
  {
   "cell_type": "code",
   "execution_count": null,
   "metadata": {},
   "outputs": [],
   "source": []
  },
  {
   "cell_type": "code",
   "execution_count": null,
   "metadata": {},
   "outputs": [],
   "source": []
  },
  {
   "cell_type": "code",
   "execution_count": null,
   "metadata": {},
   "outputs": [],
   "source": []
  },
  {
   "cell_type": "code",
   "execution_count": null,
   "metadata": {},
   "outputs": [],
   "source": []
  },
  {
   "cell_type": "code",
   "execution_count": null,
   "metadata": {},
   "outputs": [],
   "source": []
  },
  {
   "cell_type": "code",
   "execution_count": null,
   "metadata": {},
   "outputs": [],
   "source": []
  },
  {
   "cell_type": "code",
   "execution_count": null,
   "metadata": {},
   "outputs": [],
   "source": []
  }
 ],
 "metadata": {
  "kernelspec": {
   "display_name": "Python 3",
   "language": "python",
   "name": "python3"
  },
  "language_info": {
   "codemirror_mode": {
    "name": "ipython",
    "version": 3
   },
   "file_extension": ".py",
   "mimetype": "text/x-python",
   "name": "python",
   "nbconvert_exporter": "python",
   "pygments_lexer": "ipython3",
   "version": "3.7.3"
  }
 },
 "nbformat": 4,
 "nbformat_minor": 2
}
