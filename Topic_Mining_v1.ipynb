{
 "cells": [
  {
   "cell_type": "code",
   "execution_count": 1,
   "metadata": {},
   "outputs": [],
   "source": [
    "from pprint import pprint\n",
    "import pandas as pd\n",
    "import numpy as np\n",
    "import matplotlib.pyplot as plt\n",
    "%matplotlib inline\n",
    "import seaborn as sns\n",
    "sns.set()"
   ]
  },
  {
   "cell_type": "code",
   "execution_count": 2,
   "metadata": {},
   "outputs": [],
   "source": [
    "#read the reviews\n",
    "restaurant_file = pd.read_csv('processed_data/restaurants_az.csv')\n",
    "restaurant_file = restaurant_file.drop(labels=\"Unnamed: 0\", axis=1)\n",
    "review_file     = pd.read_csv('processed_data/reviews_az.csv')\n",
    "review_file     = review_file.drop(labels=\"Unnamed: 0\", axis=1) "
   ]
  },
  {
   "cell_type": "code",
   "execution_count": 3,
   "metadata": {},
   "outputs": [
    {
     "data": {
      "text/html": [
       "<div>\n",
       "<style scoped>\n",
       "    .dataframe tbody tr th:only-of-type {\n",
       "        vertical-align: middle;\n",
       "    }\n",
       "\n",
       "    .dataframe tbody tr th {\n",
       "        vertical-align: top;\n",
       "    }\n",
       "\n",
       "    .dataframe thead th {\n",
       "        text-align: right;\n",
       "    }\n",
       "</style>\n",
       "<table border=\"1\" class=\"dataframe\">\n",
       "  <thead>\n",
       "    <tr style=\"text-align: right;\">\n",
       "      <th></th>\n",
       "      <th>business_id</th>\n",
       "      <th>name</th>\n",
       "      <th>city</th>\n",
       "      <th>state</th>\n",
       "      <th>business_stars</th>\n",
       "      <th>review_count</th>\n",
       "      <th>categories</th>\n",
       "      <th>review_id</th>\n",
       "      <th>user_id</th>\n",
       "      <th>review_stars</th>\n",
       "      <th>useful</th>\n",
       "      <th>text</th>\n",
       "      <th>date</th>\n",
       "      <th>cleansed_text</th>\n",
       "    </tr>\n",
       "  </thead>\n",
       "  <tbody>\n",
       "    <tr>\n",
       "      <th>0</th>\n",
       "      <td>44YFU284Z3KDEy25QyVoUw</td>\n",
       "      <td>Nee House Chinese Restaurant</td>\n",
       "      <td>Phoenix</td>\n",
       "      <td>AZ</td>\n",
       "      <td>3.5</td>\n",
       "      <td>269</td>\n",
       "      <td>Chinese, Restaurants</td>\n",
       "      <td>QgV9RPyPUC3cAse1Wxqoow</td>\n",
       "      <td>P3cMpkppvBuVpPD8LBTbBQ</td>\n",
       "      <td>4.0</td>\n",
       "      <td>2</td>\n",
       "      <td>Enjoyed Nee House immensely. No service issues...</td>\n",
       "      <td>2012-04-28 21:08:22</td>\n",
       "      <td>enjoy immensely. no service issue fantastic ch...</td>\n",
       "    </tr>\n",
       "    <tr>\n",
       "      <th>1</th>\n",
       "      <td>44YFU284Z3KDEy25QyVoUw</td>\n",
       "      <td>Nee House Chinese Restaurant</td>\n",
       "      <td>Phoenix</td>\n",
       "      <td>AZ</td>\n",
       "      <td>3.5</td>\n",
       "      <td>269</td>\n",
       "      <td>Chinese, Restaurants</td>\n",
       "      <td>1ZTO6zFtVVxtXclHp4TvHQ</td>\n",
       "      <td>b1yLsCdv4ZL_d3INMCZzoA</td>\n",
       "      <td>3.0</td>\n",
       "      <td>0</td>\n",
       "      <td>I'm not sure how I rate this restaurant becaus...</td>\n",
       "      <td>2017-02-09 05:15:25</td>\n",
       "      <td>not sure rate because walk soup. 4 p.m. destro...</td>\n",
       "    </tr>\n",
       "    <tr>\n",
       "      <th>2</th>\n",
       "      <td>44YFU284Z3KDEy25QyVoUw</td>\n",
       "      <td>Nee House Chinese Restaurant</td>\n",
       "      <td>Phoenix</td>\n",
       "      <td>AZ</td>\n",
       "      <td>3.5</td>\n",
       "      <td>269</td>\n",
       "      <td>Chinese, Restaurants</td>\n",
       "      <td>h17ep5S7O8_JMKovooWoVA</td>\n",
       "      <td>TaVuQWmXAhxy_LvIXBs9sg</td>\n",
       "      <td>5.0</td>\n",
       "      <td>0</td>\n",
       "      <td>The food from this place reminds me of home. I...</td>\n",
       "      <td>2016-08-12 21:38:55</td>\n",
       "      <td>food place remind home. taiwanese little islan...</td>\n",
       "    </tr>\n",
       "  </tbody>\n",
       "</table>\n",
       "</div>"
      ],
      "text/plain": [
       "              business_id                          name     city state  \\\n",
       "0  44YFU284Z3KDEy25QyVoUw  Nee House Chinese Restaurant  Phoenix    AZ   \n",
       "1  44YFU284Z3KDEy25QyVoUw  Nee House Chinese Restaurant  Phoenix    AZ   \n",
       "2  44YFU284Z3KDEy25QyVoUw  Nee House Chinese Restaurant  Phoenix    AZ   \n",
       "\n",
       "   business_stars  review_count            categories               review_id  \\\n",
       "0             3.5           269  Chinese, Restaurants  QgV9RPyPUC3cAse1Wxqoow   \n",
       "1             3.5           269  Chinese, Restaurants  1ZTO6zFtVVxtXclHp4TvHQ   \n",
       "2             3.5           269  Chinese, Restaurants  h17ep5S7O8_JMKovooWoVA   \n",
       "\n",
       "                  user_id  review_stars  useful  \\\n",
       "0  P3cMpkppvBuVpPD8LBTbBQ           4.0       2   \n",
       "1  b1yLsCdv4ZL_d3INMCZzoA           3.0       0   \n",
       "2  TaVuQWmXAhxy_LvIXBs9sg           5.0       0   \n",
       "\n",
       "                                                text                 date  \\\n",
       "0  Enjoyed Nee House immensely. No service issues...  2012-04-28 21:08:22   \n",
       "1  I'm not sure how I rate this restaurant becaus...  2017-02-09 05:15:25   \n",
       "2  The food from this place reminds me of home. I...  2016-08-12 21:38:55   \n",
       "\n",
       "                                       cleansed_text  \n",
       "0  enjoy immensely. no service issue fantastic ch...  \n",
       "1  not sure rate because walk soup. 4 p.m. destro...  \n",
       "2  food place remind home. taiwanese little islan...  "
      ]
     },
     "execution_count": 3,
     "metadata": {},
     "output_type": "execute_result"
    }
   ],
   "source": [
    "#Check the review file\n",
    "review_file.head(3)"
   ]
  },
  {
   "cell_type": "code",
   "execution_count": 4,
   "metadata": {},
   "outputs": [
    {
     "data": {
      "text/html": [
       "<div>\n",
       "<style scoped>\n",
       "    .dataframe tbody tr th:only-of-type {\n",
       "        vertical-align: middle;\n",
       "    }\n",
       "\n",
       "    .dataframe tbody tr th {\n",
       "        vertical-align: top;\n",
       "    }\n",
       "\n",
       "    .dataframe thead th {\n",
       "        text-align: right;\n",
       "    }\n",
       "</style>\n",
       "<table border=\"1\" class=\"dataframe\">\n",
       "  <thead>\n",
       "    <tr style=\"text-align: right;\">\n",
       "      <th></th>\n",
       "      <th>business_id</th>\n",
       "      <th>name</th>\n",
       "      <th>city</th>\n",
       "      <th>state</th>\n",
       "      <th>stars</th>\n",
       "      <th>review_count</th>\n",
       "      <th>categories</th>\n",
       "    </tr>\n",
       "  </thead>\n",
       "  <tbody>\n",
       "    <tr>\n",
       "      <th>0</th>\n",
       "      <td>44YFU284Z3KDEy25QyVoUw</td>\n",
       "      <td>Nee House Chinese Restaurant</td>\n",
       "      <td>Phoenix</td>\n",
       "      <td>AZ</td>\n",
       "      <td>3.5</td>\n",
       "      <td>269</td>\n",
       "      <td>Chinese, Restaurants</td>\n",
       "    </tr>\n",
       "    <tr>\n",
       "      <th>1</th>\n",
       "      <td>r8764MtYyt8JhxMvrfM_xQ</td>\n",
       "      <td>Vintage 95</td>\n",
       "      <td>Chandler</td>\n",
       "      <td>AZ</td>\n",
       "      <td>4.0</td>\n",
       "      <td>320</td>\n",
       "      <td>American (New), Bars, Wine Bars, Nightlife, Re...</td>\n",
       "    </tr>\n",
       "    <tr>\n",
       "      <th>2</th>\n",
       "      <td>voZnDQs6Hs3YpNcS-9TALg</td>\n",
       "      <td>New Mexican Grill</td>\n",
       "      <td>Chandler</td>\n",
       "      <td>AZ</td>\n",
       "      <td>4.0</td>\n",
       "      <td>84</td>\n",
       "      <td>Restaurants, Mexican</td>\n",
       "    </tr>\n",
       "  </tbody>\n",
       "</table>\n",
       "</div>"
      ],
      "text/plain": [
       "              business_id                          name      city state  \\\n",
       "0  44YFU284Z3KDEy25QyVoUw  Nee House Chinese Restaurant   Phoenix    AZ   \n",
       "1  r8764MtYyt8JhxMvrfM_xQ                    Vintage 95  Chandler    AZ   \n",
       "2  voZnDQs6Hs3YpNcS-9TALg             New Mexican Grill  Chandler    AZ   \n",
       "\n",
       "   stars  review_count                                         categories  \n",
       "0    3.5           269                               Chinese, Restaurants  \n",
       "1    4.0           320  American (New), Bars, Wine Bars, Nightlife, Re...  \n",
       "2    4.0            84                               Restaurants, Mexican  "
      ]
     },
     "execution_count": 4,
     "metadata": {},
     "output_type": "execute_result"
    }
   ],
   "source": [
    "#check the restuarant file\n",
    "restaurant_file.head(3)"
   ]
  },
  {
   "cell_type": "code",
   "execution_count": 5,
   "metadata": {},
   "outputs": [
    {
     "data": {
      "text/html": [
       "<div>\n",
       "<style scoped>\n",
       "    .dataframe tbody tr th:only-of-type {\n",
       "        vertical-align: middle;\n",
       "    }\n",
       "\n",
       "    .dataframe tbody tr th {\n",
       "        vertical-align: top;\n",
       "    }\n",
       "\n",
       "    .dataframe thead th {\n",
       "        text-align: right;\n",
       "    }\n",
       "</style>\n",
       "<table border=\"1\" class=\"dataframe\">\n",
       "  <thead>\n",
       "    <tr style=\"text-align: right;\">\n",
       "      <th></th>\n",
       "      <th>business_id</th>\n",
       "      <th>name</th>\n",
       "      <th>city</th>\n",
       "      <th>state</th>\n",
       "      <th>business_stars</th>\n",
       "      <th>review_count</th>\n",
       "      <th>categories</th>\n",
       "      <th>review_id</th>\n",
       "      <th>user_id</th>\n",
       "      <th>review_stars</th>\n",
       "      <th>useful</th>\n",
       "      <th>text</th>\n",
       "      <th>date</th>\n",
       "      <th>cleansed_text</th>\n",
       "      <th>review_length</th>\n",
       "    </tr>\n",
       "  </thead>\n",
       "  <tbody>\n",
       "    <tr>\n",
       "      <th>0</th>\n",
       "      <td>44YFU284Z3KDEy25QyVoUw</td>\n",
       "      <td>Nee House Chinese Restaurant</td>\n",
       "      <td>Phoenix</td>\n",
       "      <td>AZ</td>\n",
       "      <td>3.5</td>\n",
       "      <td>269</td>\n",
       "      <td>Chinese, Restaurants</td>\n",
       "      <td>QgV9RPyPUC3cAse1Wxqoow</td>\n",
       "      <td>P3cMpkppvBuVpPD8LBTbBQ</td>\n",
       "      <td>4.0</td>\n",
       "      <td>2</td>\n",
       "      <td>Enjoyed Nee House immensely. No service issues...</td>\n",
       "      <td>2012-04-28 21:08:22</td>\n",
       "      <td>enjoy immensely. no service issue fantastic ch...</td>\n",
       "      <td>263</td>\n",
       "    </tr>\n",
       "  </tbody>\n",
       "</table>\n",
       "</div>"
      ],
      "text/plain": [
       "              business_id                          name     city state  \\\n",
       "0  44YFU284Z3KDEy25QyVoUw  Nee House Chinese Restaurant  Phoenix    AZ   \n",
       "\n",
       "   business_stars  review_count            categories               review_id  \\\n",
       "0             3.5           269  Chinese, Restaurants  QgV9RPyPUC3cAse1Wxqoow   \n",
       "\n",
       "                  user_id  review_stars  useful  \\\n",
       "0  P3cMpkppvBuVpPD8LBTbBQ           4.0       2   \n",
       "\n",
       "                                                text                 date  \\\n",
       "0  Enjoyed Nee House immensely. No service issues...  2012-04-28 21:08:22   \n",
       "\n",
       "                                       cleansed_text  review_length  \n",
       "0  enjoy immensely. no service issue fantastic ch...            263  "
      ]
     },
     "execution_count": 5,
     "metadata": {},
     "output_type": "execute_result"
    }
   ],
   "source": [
    "review_file['review_length'] = review_file.text.map(len)\n",
    "review_file.head(1)"
   ]
  },
  {
   "cell_type": "code",
   "execution_count": 6,
   "metadata": {
    "scrolled": true
   },
   "outputs": [
    {
     "data": {
      "text/plain": [
       "[Text(-14.45000000000001, 0.5, 'Number of Reviews')]"
      ]
     },
     "execution_count": 6,
     "metadata": {},
     "output_type": "execute_result"
    },
    {
     "data": {
      "image/png": "[encoded data removed]",
      "text/plain": [
       "<Figure size 1080x216 with 5 Axes>"
      ]
     },
     "metadata": {
      "needs_background": "light"
     },
     "output_type": "display_data"
    }
   ],
   "source": [
    "#let's check the distribution of the reviews by length of comments\n",
    "ax = sns.FacetGrid(data=review_file, col='review_stars', xlim=(0, 1000)).map(plt.hist, 'review_length', bins=50)\n",
    "ax.axes[0][0].set(ylabel='Number of Reviews')"
   ]
  },
  {
   "cell_type": "code",
   "execution_count": 7,
   "metadata": {},
   "outputs": [],
   "source": [
    "#It's interesting that five star reivews are more verbose\n",
    "#print(review_file.loc[review_file['review_stars']==1.0])\n"
   ]
  },
  {
   "cell_type": "code",
   "execution_count": 8,
   "metadata": {},
   "outputs": [
    {
     "name": "stdout",
     "output_type": "stream",
     "text": [
      "Postive  Reviews: 736,919\n",
      "Negative Reviews: 216,632\n"
     ]
    }
   ],
   "source": [
    "p_reviews = review_file.text[review_file.review_stars>3].values\n",
    "n_reviews = review_file.text[review_file.review_stars<3].values\n",
    "print('Postive  Reviews: {:,}'.format(len(p_reviews)))\n",
    "print('Negative Reviews: {:,}'.format(len(n_reviews)))"
   ]
  },
  {
   "cell_type": "code",
   "execution_count": 9,
   "metadata": {},
   "outputs": [],
   "source": [
    "#Take our additional stopwords\n",
    "from sklearn.feature_extraction import text\n",
    "extra_words = ['like','did','said','ok', 've', 'got']\n",
    "stop_words = text.ENGLISH_STOP_WORDS.union(extra_words)"
   ]
  },
  {
   "cell_type": "code",
   "execution_count": null,
   "metadata": {},
   "outputs": [],
   "source": []
  },
  {
   "cell_type": "code",
   "execution_count": 10,
   "metadata": {},
   "outputs": [
    {
     "name": "stdout",
     "output_type": "stream",
     "text": [
      "Wall time: 3.34 s\n"
     ]
    }
   ],
   "source": [
    "%%time\n",
    "#TF-IDF\n",
    "\n",
    "\n",
    "from sklearn.feature_extraction.text import TfidfVectorizer\n",
    "\n",
    "# Create a vectorizer object to generate term document counts\n",
    "tfidf_pos = TfidfVectorizer(stop_words=stop_words, min_df=10, max_df=0.5, \n",
    "                        ngram_range=(1,1), token_pattern='[a-z][a-z]+')\n",
    "\n",
    "tfidf_neg = TfidfVectorizer(stop_words=stop_words, min_df=10, max_df=0.5, \n",
    "                        ngram_range=(1,1), token_pattern='[a-z][a-z]+')\n",
    "\n",
    "# Get random subset of reviews\n",
    "np.random.seed(19)\n",
    "num_reviews = 20000\n",
    "random_neg = np.random.choice(n_reviews, size=num_reviews)\n",
    "random_pos = np.random.choice(p_reviews, size=num_reviews)\n",
    "\n",
    "dicty = {'pizzas':'pizza', 'burgers':'burger', 'ordered':'order',\n",
    "         'prices':'price', 'topping':'toppings'}\n",
    "def replace_words(text, dicty):\n",
    "    '''Returns text with word substitutions made according\n",
    "       to the passed `dicty` dictionary'''\n",
    "    for i,j in dicty.items():\n",
    "        text = text.replace(i,j)\n",
    "    return text\n",
    "\n",
    "random_n = [replace_words(w, dicty) for w in random_neg]\n",
    "random_p = [replace_words(w, dicty) for w in random_pos]\n",
    "\n",
    "# Get the vectors\n",
    "n_vectors = tfidf_neg.fit_transform(random_neg)\n",
    "p_vectors = tfidf_pos.fit_transform(random_pos)"
   ]
  },
  {
   "cell_type": "code",
   "execution_count": 11,
   "metadata": {},
   "outputs": [
    {
     "name": "stdout",
     "output_type": "stream",
     "text": [
      "Wall time: 28.6 s\n"
     ]
    }
   ],
   "source": [
    "%%time\n",
    "# Store TFIDF vectors in a Pandas DataFrame to investigate further\n",
    "n_df = pd.DataFrame(n_vectors.todense(), columns=[tfidf_neg.get_feature_names()])\n",
    "p_df = pd.DataFrame(p_vectors.todense(), columns=[tfidf_pos.get_feature_names()])\n",
    "\n",
    "# get mean for each column (word): highest means are most important words\n",
    "col_means_neg = {}\n",
    "for col in n_df:\n",
    "    col_means_neg[col] = n_df[col].mean()\n",
    "\n",
    "col_means_pos = {}\n",
    "for col in p_df:\n",
    "    col_means_pos[col] = p_df[col].mean()"
   ]
  },
  {
   "cell_type": "code",
   "execution_count": 12,
   "metadata": {},
   "outputs": [
    {
     "name": "stdout",
     "output_type": "stream",
     "text": [
      "Top 20 words in Positive reviews:[('great',), ('food',), ('good',), ('place',), ('service',), ('love',), ('best',), ('time',), ('delicious',), ('amazing',), ('really',), ('friendly',), ('just',), ('pizza',), ('staff',), ('nice',), ('chicken',), ('definitely',), ('try',), ('restaurant',)]\n",
      "Top 20 words in Negative reviews:[('place',), ('service',), ('good',), ('just',), ('time',), ('order',), ('ordered',), ('minutes',), ('came',), ('don',), ('chicken',), ('restaurant',), ('didn',), ('really',), ('great',), ('bad',), ('asked',), ('went',), ('pizza',), ('table',)]\n"
     ]
    }
   ],
   "source": [
    "no_top_words = 20\n",
    "print('Top %d words in Positive reviews:' %no_top_words, end='')\n",
    "print(sorted(col_means_pos, key=col_means_pos.get, reverse=True)[:no_top_words])\n",
    "print('Top %d words in Negative reviews:' %no_top_words, end='')\n",
    "print(sorted(col_means_neg, key=col_means_neg.get, reverse=True)[:no_top_words])"
   ]
  },
  {
   "cell_type": "code",
   "execution_count": 13,
   "metadata": {},
   "outputs": [],
   "source": [
    "# LSA\n",
    "from gensim import corpora, models, similarities, matutils\n",
    "\n",
    "# Convert sparse matrix of counts to a gensim corpus\n",
    "# Need to transpose it for gensim which wants terms by docs instead of docs by terms\n",
    "tfidf_pos_corpus = matutils.Sparse2Corpus(p_vectors.transpose())\n",
    "tfidf_neg_corpus = matutils.Sparse2Corpus(n_vectors.transpose())\n",
    "\n",
    "# Row indices\n",
    "id2word_pos = dict((v,k) for k,v in tfidf_pos.vocabulary_.items())\n",
    "id2word_neg = dict((v,k) for k,v in tfidf_neg.vocabulary_.items())\n",
    "\n",
    "# This is a hack for Python 3!\n",
    "id2word_pos = corpora.Dictionary.from_corpus(tfidf_pos_corpus, id2word=id2word_pos)\n",
    "id2word_neg = corpora.Dictionary.from_corpus(tfidf_neg_corpus, id2word=id2word_neg)"
   ]
  },
  {
   "cell_type": "code",
   "execution_count": 14,
   "metadata": {},
   "outputs": [],
   "source": [
    "# create LSA model\n",
    "num_topics = 10\n",
    "lsi_pos = models.LsiModel(tfidf_pos_corpus, id2word=id2word_pos, num_topics=num_topics)\n",
    "lsi_neg = models.LsiModel(tfidf_neg_corpus, id2word=id2word_neg, num_topics=num_topics)"
   ]
  },
  {
   "cell_type": "code",
   "execution_count": null,
   "metadata": {},
   "outputs": [],
   "source": []
  },
  {
   "cell_type": "code",
   "execution_count": 16,
   "metadata": {},
   "outputs": [
    {
     "name": "stdout",
     "output_type": "stream",
     "text": [
      "Top 5 topics for POSITIVE reviews\n",
      "---------------------------------\n",
      "[(0,\n",
      "  '0.285*\"great\" + 0.274*\"food\" + 0.241*\"good\" + 0.236*\"place\" + '\n",
      "  '0.188*\"service\" + 0.141*\"love\" + 0.128*\"time\" + 0.124*\"really\" + '\n",
      "  '0.119*\"friendly\" + 0.119*\"amazing\"'),\n",
      " (1,\n",
      "  '-0.566*\"great\" + 0.294*\"pizza\" + -0.293*\"food\" + -0.263*\"service\" + '\n",
      "  '0.155*\"good\" + 0.142*\"chicken\" + -0.125*\"atmosphere\" + 0.121*\"ordered\" + '\n",
      "  '0.115*\"just\" + 0.108*\"sauce\"'),\n",
      " (2,\n",
      "  '0.850*\"pizza\" + 0.210*\"great\" + 0.123*\"crust\" + -0.114*\"chicken\" + '\n",
      "  '-0.108*\"good\" + 0.102*\"wings\" + 0.089*\"love\" + -0.081*\"food\" + '\n",
      "  '-0.073*\"rice\" + -0.070*\"tacos\"'),\n",
      " (3,\n",
      "  '-0.531*\"good\" + 0.496*\"love\" + 0.248*\"place\" + 0.242*\"best\" + '\n",
      "  '0.219*\"amazing\" + -0.176*\"great\" + -0.165*\"really\" + -0.160*\"service\" + '\n",
      "  '0.144*\"favorite\" + 0.111*\"sushi\"'),\n",
      " (4,\n",
      "  '0.530*\"good\" + 0.367*\"love\" + 0.331*\"place\" + 0.206*\"sushi\" + '\n",
      "  '-0.199*\"great\" + 0.148*\"really\" + -0.148*\"amazing\" + -0.134*\"delicious\" + '\n",
      "  '-0.110*\"ordered\" + -0.098*\"service\"')]\n"
     ]
    }
   ],
   "source": [
    "topics_to_print = 5\n",
    "\n",
    "# look at top positive topics\n",
    "print('Top %d topics for POSITIVE reviews' %(topics_to_print))\n",
    "print('-'*33)\n",
    "pprint(lsi_pos.show_topics()[0:topics_to_print])"
   ]
  },
  {
   "cell_type": "code",
   "execution_count": 17,
   "metadata": {},
   "outputs": [
    {
     "name": "stdout",
     "output_type": "stream",
     "text": [
      "Top 5 topics for NEGATIVE reviews\n",
      "---------------------------------\n",
      "[(0,\n",
      "  '0.188*\"place\" + 0.188*\"service\" + 0.167*\"good\" + 0.163*\"just\" + '\n",
      "  '0.161*\"order\" + 0.160*\"time\" + 0.144*\"minutes\" + 0.131*\"ordered\" + '\n",
      "  '0.126*\"came\" + 0.111*\"didn\"'),\n",
      " (1,\n",
      "  '0.312*\"minutes\" + -0.256*\"chicken\" + 0.190*\"order\" + -0.174*\"good\" + '\n",
      "  '0.152*\"waited\" + -0.147*\"pizza\" + -0.143*\"sauce\" + 0.139*\"service\" + '\n",
      "  '0.131*\"table\" + 0.129*\"wait\"'),\n",
      " (2,\n",
      "  '0.892*\"pizza\" + 0.138*\"order\" + 0.137*\"crust\" + 0.095*\"wings\" + '\n",
      "  '-0.087*\"chicken\" + -0.079*\"sushi\" + 0.073*\"delivery\" + 0.067*\"cheese\" + '\n",
      "  '-0.065*\"rice\" + 0.061*\"toppings\"'),\n",
      " (3,\n",
      "  '0.361*\"service\" + -0.309*\"chicken\" + 0.289*\"place\" + -0.233*\"order\" + '\n",
      "  '-0.216*\"ordered\" + -0.207*\"minutes\" + -0.142*\"came\" + 0.137*\"good\" + '\n",
      "  '-0.136*\"salad\" + 0.125*\"customer\"'),\n",
      " (4,\n",
      "  '-0.464*\"order\" + 0.209*\"bar\" + 0.201*\"table\" + 0.195*\"server\" + '\n",
      "  '-0.179*\"customer\" + 0.172*\"pizza\" + -0.168*\"time\" + 0.155*\"came\" + '\n",
      "  '-0.150*\"chicken\" + -0.138*\"called\"')]\n"
     ]
    }
   ],
   "source": [
    "topics_to_print = 5\n",
    "# look at top negative topics\n",
    "print('Top %d topics for NEGATIVE reviews' %(topics_to_print))\n",
    "print('-'*33)\n",
    "pprint(lsi_neg.show_topics()[0:topics_to_print])"
   ]
  },
  {
   "cell_type": "code",
   "execution_count": 18,
   "metadata": {},
   "outputs": [
    {
     "name": "stdout",
     "output_type": "stream",
     "text": [
      "Wall time: 4.58 s\n"
     ]
    }
   ],
   "source": [
    "%%time\n",
    "# negative values in LSA topics are annoying\n",
    "# let's see if we can fix that with NMF\n",
    "from sklearn.decomposition import NMF\n",
    "\n",
    "# change num_topics\n",
    "num_topics = 6\n",
    "\n",
    "nmf_pos = NMF(n_components=num_topics)\n",
    "W_pos = nmf_pos.fit_transform(p_vectors)\n",
    "H_pos = nmf_pos.components_\n",
    "\n",
    "nmf_neg = NMF(n_components=num_topics)\n",
    "W_neg = nmf_neg.fit_transform(n_vectors)\n",
    "H_neg = nmf_neg.components_"
   ]
  },
  {
   "cell_type": "code",
   "execution_count": null,
   "metadata": {},
   "outputs": [],
   "source": []
  },
  {
   "cell_type": "code",
   "execution_count": null,
   "metadata": {},
   "outputs": [],
   "source": []
  },
  {
   "cell_type": "code",
   "execution_count": 19,
   "metadata": {},
   "outputs": [
    {
     "name": "stdout",
     "output_type": "stream",
     "text": [
      "Top topics + words for POSITIVE reviews\n",
      "---------------------------------------\n",
      "Topic 0:   0.938*chicken, 0.791*just, 0.786*time, 0.727*ordered, 0.636*delicious, 0.592*salad\n",
      "Topic 1:   2.567*great, 1.318*service, 1.214*food, 0.523*atmosphere, 0.435*excellent, 0.299*awesome\n",
      "Topic 2:   2.967*pizza, 0.450*crust, 0.326*wings, 0.184*pizzas, 0.176*toppings, 0.176*cheese\n",
      "Topic 3:   1.777*place, 1.668*love, 0.809*best, 0.757*staff, 0.735*amazing, 0.677*friendly\n",
      "Topic 4:   3.155*good, 1.063*really, 0.876*food, 0.471*place, 0.461*nice, 0.408*pretty\n",
      "Topic 5:   2.134*sushi, 0.972*happy, 0.908*hour, 0.542*rolls, 0.532*roll, 0.224*best\n",
      "\n",
      "Top topics + words for NEGATIVE reviews\n",
      "---------------------------------------\n",
      "Topic 0:   1.370*minutes, 1.110*table, 1.038*came, 0.898*server, 0.796*asked, 0.766*waited\n",
      "Topic 1:   1.288*chicken, 0.729*ordered, 0.581*sauce, 0.578*salad, 0.522*rice, 0.519*cheese\n",
      "Topic 2:   2.999*pizza, 0.478*crust, 0.301*wings, 0.277*cheese, 0.236*sauce, 0.213*toppings\n",
      "Topic 3:   1.620*place, 0.791*just, 0.737*good, 0.714*don, 0.682*really, 0.510*sushi\n",
      "Topic 4:   2.175*order, 0.712*time, 0.534*called, 0.445*told, 0.427*minutes, 0.369*phone\n",
      "Topic 5:   2.738*service, 0.961*horrible, 0.891*customer, 0.767*terrible, 0.653*slow, 0.567*rude\n"
     ]
    }
   ],
   "source": [
    "def display_topics(model, feature_names, num_topics, no_top_words):\n",
    "    for topic_idx, topic in enumerate(model.components_):\n",
    "        if topic_idx < num_topics:\n",
    "            print(\"{:11}\".format(\"Topic %d:\" %(topic_idx)), end='')\n",
    "            print(\", \".join(['{:04.3f}*'.format(topic[i])+feature_names[i] \\\n",
    "                             for i in topic.argsort()[:-no_top_words-1:-1]]))\n",
    "\n",
    "no_topics = num_topics\n",
    "no_top_words = 6\n",
    "\n",
    "print('Top topics + words for POSITIVE reviews')\n",
    "print('-'*39)\n",
    "display_topics(nmf_pos, tfidf_pos.get_feature_names(), no_topics, no_top_words)\n",
    "\n",
    "print('\\nTop topics + words for NEGATIVE reviews')\n",
    "print('-'*39)\n",
    "display_topics(nmf_neg, tfidf_neg.get_feature_names(), no_topics, no_top_words)"
   ]
  },
  {
   "cell_type": "code",
   "execution_count": 20,
   "metadata": {},
   "outputs": [
    {
     "name": "stdout",
     "output_type": "stream",
     "text": [
      "Positive Review\n",
      "8489\n",
      "There are 365 days in a year, and I am at Cabin Coffee for about 358 of them. I love this place! Every morning all the girls (and occasionally guys) get my ridiculous drink created with perfection and a great attitude! You will not find a better cup of caffeinated beverage then Cabin Coffee. And literally everything is good here. From my daily 5 shot espresso (which by the way is the smoothest and richest espresso I have ever had) to the \"honey bear\" or \"maple leaf\" lattes and even the amazing sweet treats like those yummy sticky buns. If you live in the north west valley and haven't been to Cabin Coffee then you need to. Go get that coffee right now! You will be treated with a great cup of joe   and an awesome and cozy environment, provided by an fantastic staff of baristas! Thanks guys.\n",
      "\n",
      "Negative Review\n",
      "9527\n",
      "We love the location on the west side and was very excited to try this place however it turned out to be the biggest disappointment. We didn't even get to try the food  The service is not very good. Our drinks remained empty as we watched other tables drinks get refilled. The staff very rarely checks up on you, but we were willing to wait. We waited 50 minutes and watched people who arrived after us who ordered the same entrees as us get served before us which was the final straw. We ended up just walking out because we were starving and desperately needed dinner at that point. Depending on how patient you are, I would say try with very extreme caution and lots of time to spare. This restaurant has a broken process and I wish them the best of luck because they'll need it...\n"
     ]
    }
   ],
   "source": [
    "# look at a random positive and negative reviews\n",
    "print('Positive Review')\n",
    "review_num = np.random.randint(0, high=len(random_pos))\n",
    "print(review_num)\n",
    "print(random_pos[review_num])\n",
    "\n",
    "print('\\nNegative Review')\n",
    "review_num = np.random.randint(0, high=len(random_neg))\n",
    "print(review_num)\n",
    "print(random_neg[review_num])\n"
   ]
  },
  {
   "cell_type": "code",
   "execution_count": 21,
   "metadata": {},
   "outputs": [],
   "source": [
    "# compute cosine similarities of this review with all other reviews in the new space\n",
    "import sklearn.metrics.pairwise as smp\n",
    "\n",
    "cosines = {}\n",
    "for ind, review in enumerate(W_pos):\n",
    "    similarity = smp.cosine_similarity(W_pos[review_num].reshape(1,-1), review.reshape(1,-1))\n",
    "    cosines[ind] = similarity[0][0]"
   ]
  },
  {
   "cell_type": "code",
   "execution_count": 22,
   "metadata": {},
   "outputs": [
    {
     "name": "stdout",
     "output_type": "stream",
     "text": [
      "--------------------------------------------------\n",
      ">> Similarity 0.962\n",
      "I'm torn between shouting from the rooftops about how much I love Arrivederci's happy hour and keeping it as my own little secret so it doesn't become overcrowded.  Well . . . here it goes, fingers crossed!\n",
      "\n",
      "We had been here for dinner a few times and were very pleased, we decided we needed to try their happy hour.  I'm so glad we did; this is one of my new favorite quiet happy hour spots.  Not quite as trendy as Va Bene, but that's a good thing.  Less of a singles scene, less noisy and the food is just as delicious!  Happy hour is M-F 5-7.\n",
      "\n",
      "We walked in a few minutes after 5 and were greeted by a very friendly bartender.  He kindly brought us menus and explained that during happy hour all wines by the glass are $5.  Wonderful!! He brought us some water (with a slice of cucumber, nice touch), took our drink orders, and gave us a few minutes to decide on food.\n",
      "\n",
      "In addition to the wine specials, there are happy hour food specials! Half off bruschetta, pizza, and other appetizers.  We went with the Calamari In Umido (large tube calamari sautéed in white wine & clam broth with a touch of tomato) and the Margherita pizza. They make their own mozzarella here, people!!\n",
      "\n",
      "Before we received the appetizers, the bartender gave us some fresh bread with oil and balsamic to snack on.  The calamari came out first and it was fabulous, as was using the free bread to sop up the amazing broth!  Then came the pizza and while it didn't blow me away, it was still very good and that mozzarella is so creamy and fresh!  \n",
      "\n",
      "As embarrassed as I am to admit it, we got three rounds of that yummy bread to use for that delicious broth of the calamari.  The best part, the bartender didn't seem to mind a bit that we were being a little greedy with the free bread!  What a nice guy!  Did I mention the bread and broth were delicious?\n",
      "\n",
      "The bar area is nice with a small-ish size bar and a few high-top tables.  My favorite part was the living room set up past the bar.  Some comfy couches and a projection screen.  I can't wait to plan a friendly group happy hour so we can lounge around on the couches drinking wine and snacking on appetizers.\n",
      "\n",
      "The service was great, the food was great, the price was right, and the atmosphere is cool and cozy.  What more can a girl ask for?  A couple more times like this, and this is a five star rating . . . easy!\n",
      "--------------------------------------------------\n",
      ">> Similarity 0.962\n",
      "Loved everything about this restaurant: location, bruschetta, ambience and customer service. The flatbread drizzled with balsamic was so great and was offered complimentary. The beautiful bruschetta planks were $5/off during Happy Hour as were our wine choices. We ended with a woodfired pizza and hot cookie dessert for our birthday girl. Our waitress was consistently attentive. We were happy to watch the Cubs game and drink some 312 beer as well\n",
      "--------------------------------------------------\n",
      ">> Similarity 0.956\n",
      "Favorite pizza place. Fun drinks and great happy hour. Can get pretty busy for dinner so plan to wait if you come around that time.\n",
      "--------------------------------------------------\n"
     ]
    }
   ],
   "source": [
    "# get top 3 matching reviews\n",
    "for n in sorted(cosines, key=cosines.get, reverse=True)[1:4]:\n",
    "    print('-'*50)\n",
    "    print('>> Similarity {:.3f}'.format(cosines[n]))\n",
    "    print(random_pos[n])\n",
    "print('-'*50)"
   ]
  },
  {
   "cell_type": "code",
   "execution_count": 23,
   "metadata": {},
   "outputs": [],
   "source": [
    "\n",
    "from sklearn.feature_extraction.text import CountVectorizer\n",
    "\n",
    "# Create a vectorizer object to generate term document counts\n",
    "cv_pos = CountVectorizer(stop_words=stop_words, min_df=10, max_df=0.5, \n",
    "                        ngram_range=(1,1), token_pattern='[a-z][a-z]+')\n",
    "\n",
    "cv_neg = CountVectorizer(stop_words=stop_words, min_df=10, max_df=0.5, \n",
    "                        ngram_range=(1,1), token_pattern='[a-z][a-z]+')\n",
    "\n",
    "# Get random subset of reviews\n",
    "np.random.seed(38)\n",
    "num_reviews = 15000\n",
    "cv_random_neg = np.random.choice(n_reviews, size=num_reviews)\n",
    "cv_random_pos = np.random.choice(p_reviews, size=num_reviews)\n",
    "\n",
    "# replace words from defined dictionary 'dicty'\n",
    "cv_random_neg = [replace_words(w, dicty) for w in cv_random_neg]\n",
    "cv_random_pos = [replace_words(w, dicty) for w in cv_random_pos]\n",
    "\n",
    "# Get the cv vectors\n",
    "cv_neg_vectors = cv_neg.fit_transform(cv_random_neg).transpose()\n",
    "cv_pos_vectors = cv_pos.fit_transform(cv_random_pos).transpose()"
   ]
  },
  {
   "cell_type": "code",
   "execution_count": 24,
   "metadata": {},
   "outputs": [],
   "source": [
    "\n",
    "# Convert sparse matrix of counts to a gensim corpus\n",
    "corpus_neg = matutils.Sparse2Corpus(cv_neg_vectors)\n",
    "corpus_pos = matutils.Sparse2Corpus(cv_pos_vectors)\n",
    "\n",
    "# save a mapping (dict) of row id to word (token) for later use by gensim \n",
    "id2word_cv_pos = dict((v, k) for k, v in cv_pos.vocabulary_.items())\n",
    "id2word_cv_neg = dict((v, k) for k, v in cv_neg.vocabulary_.items())"
   ]
  },
  {
   "cell_type": "code",
   "execution_count": 25,
   "metadata": {},
   "outputs": [
    {
     "name": "stdout",
     "output_type": "stream",
     "text": [
      "Postive Reviews:  736,919\n",
      "Negative Reviews:  216,632\n"
     ]
    }
   ],
   "source": [
    "print('Postive Reviews:  {:,}'.format(len(p_reviews)))\n",
    "print('Negative Reviews:  {:,}'.format(len(n_reviews)))"
   ]
  },
  {
   "cell_type": "code",
   "execution_count": 26,
   "metadata": {},
   "outputs": [
    {
     "name": "stdout",
     "output_type": "stream",
     "text": [
      "Wall time: 1min 18s\n"
     ]
    }
   ],
   "source": [
    "\n",
    "%%time\n",
    "# Create a vectorizer object to generate term document counts\n",
    "tfidf_pos = TfidfVectorizer(stop_words=stop_words, min_df=10, max_df=0.5, \n",
    "                        ngram_range=(1,1), token_pattern='[a-z][a-z]+')\n",
    "\n",
    "tfidf_neg = TfidfVectorizer(stop_words=stop_words, min_df=10, max_df=0.5, \n",
    "                        ngram_range=(1,1), token_pattern='[a-z][a-z]+')\n",
    "\n",
    "# replace words with defined dictionary 'dicty'\n",
    "pos_reviews = [replace_words(w, dicty) for w in p_reviews]\n",
    "neg_reviews = [replace_words(w, dicty) for w in n_reviews]\n",
    "\n",
    "# Get the vectors\n",
    "neg_vectors = tfidf_neg.fit_transform(n_reviews)\n",
    "pos_vectors = tfidf_pos.fit_transform(p_reviews)"
   ]
  },
  {
   "cell_type": "code",
   "execution_count": 27,
   "metadata": {},
   "outputs": [
    {
     "name": "stdout",
     "output_type": "stream",
     "text": [
      "Wall time: 2min 4s\n"
     ]
    }
   ],
   "source": [
    "%%time\n",
    "# NMF for all reviews\n",
    "from sklearn.decomposition import NMF\n",
    "\n",
    "# change num_topics\n",
    "num_topics = 6\n",
    "\n",
    "nmf_pos = NMF(n_components=num_topics)\n",
    "W_pos = nmf_pos.fit_transform(pos_vectors)\n",
    "H_pos = nmf_pos.components_\n",
    "\n",
    "nmf_neg = NMF(n_components=num_topics)\n",
    "W_neg = nmf_neg.fit_transform(neg_vectors)\n",
    "H_neg = nmf_neg.components_"
   ]
  },
  {
   "cell_type": "code",
   "execution_count": 28,
   "metadata": {},
   "outputs": [
    {
     "name": "stdout",
     "output_type": "stream",
     "text": [
      "Topics for POSITIVE reviews\n",
      "---------------------------------------\n",
      "Topic 0:   2.282*chicken, 1.877*time, 1.820*just, 1.761*ordered, 1.615*delicious, 1.420*salad\n",
      "Topic 1:   6.102*great, 3.160*service, 2.849*food, 1.256*atmosphere, 1.064*excellent, 0.762*awesome\n",
      "Topic 2:   7.048*pizza, 1.224*crust, 0.858*wings, 0.572*best, 0.424*pizzas, 0.419*cheese\n",
      "Topic 3:   4.346*place, 3.819*love, 1.889*amazing, 1.880*staff, 1.824*friendly, 1.786*best\n",
      "Topic 4:   7.635*good, 2.582*really, 1.904*food, 1.155*nice, 1.110*pretty, 1.042*service\n",
      "Topic 5:   4.489*sushi, 2.767*happy, 2.628*hour, 1.165*roll, 1.037*rolls, 0.487*bar\n",
      "\n",
      "Topics for NEGATIVE reviews\n",
      "---------------------------------------\n",
      "Topic 0:   3.203*place, 1.713*just, 1.696*good, 1.449*really, 1.397*don, 0.949*great\n",
      "Topic 1:   2.453*chicken, 1.442*ordered, 1.102*sauce, 1.099*salad, 1.002*rice, 0.914*cheese\n",
      "Topic 2:   5.358*pizza, 0.798*crust, 0.558*wings, 0.531*cheese, 0.373*sauce, 0.357*pizzas\n",
      "Topic 3:   2.437*minutes, 1.964*table, 1.707*came, 1.511*server, 1.328*waited, 1.269*asked\n",
      "Topic 4:   3.800*order, 1.261*time, 0.866*called, 0.720*wrong, 0.693*told, 0.688*location\n",
      "Topic 5:   4.488*service, 1.547*horrible, 1.277*customer, 1.240*terrible, 1.207*slow, 0.981*bad\n"
     ]
    }
   ],
   "source": [
    "\n",
    "no_topics = num_topics\n",
    "no_top_words = 6\n",
    "\n",
    "print('Topics for POSITIVE reviews')\n",
    "print('-'*39)\n",
    "display_topics(nmf_pos, tfidf_pos.get_feature_names(), no_topics, no_top_words)\n",
    "\n",
    "print('\\nTopics for NEGATIVE reviews')\n",
    "print('-'*39)\n",
    "display_topics(nmf_neg, tfidf_neg.get_feature_names(), no_topics, no_top_words)"
   ]
  },
  {
   "cell_type": "code",
   "execution_count": 29,
   "metadata": {},
   "outputs": [],
   "source": [
    "\n",
    "# create topic dictionaries to summarize the topic meanings\n",
    "pos_topics = {0:'time/order/service', 1:'service/atmosphere', 2:'service/pizza', \n",
    "              3:'serivce/atmosphere/staff', 4:'friendly_staff', 5:'bar/happy_hour'}\n",
    "\n",
    "neg_topics = {0:'beer/people', 1:'food/chicken/salad', 2:'food/pizza', \n",
    "              3:'wait/table', 4:'order/time/location', 5:'bad_service'}"
   ]
  },
  {
   "cell_type": "raw",
   "metadata": {},
   "source": []
  },
  {
   "cell_type": "code",
   "execution_count": 30,
   "metadata": {},
   "outputs": [],
   "source": [
    "# we create dataframes for positive & negative reviews that we can\n",
    "# later add topic information to\n",
    "df_pos = review_file[['business_id', 'review_stars', 'text', 'review_length']][review_file.review_stars>3].reset_index()\n",
    "df_neg = review_file[['business_id', 'review_stars', 'text', 'review_length']][review_file.review_stars<3].reset_index()\n",
    "df_pos.drop(labels='index', axis=1, inplace=True)\n",
    "df_neg.drop(labels='index', axis=1, inplace=True)"
   ]
  },
  {
   "cell_type": "code",
   "execution_count": 31,
   "metadata": {},
   "outputs": [
    {
     "name": "stdout",
     "output_type": "stream",
     "text": [
      "Topic weights :  [0.01274134 0.01938411 0.         0.00407995 0.0027115  0.        ]\n",
      "Sum of weights:  0.03891689170199594\n"
     ]
    }
   ],
   "source": [
    "\n",
    "print('Topic weights : ', W_pos[0])\n",
    "print('Sum of weights: ', W_pos[0].sum())"
   ]
  },
  {
   "cell_type": "code",
   "execution_count": 32,
   "metadata": {},
   "outputs": [
    {
     "name": "stdout",
     "output_type": "stream",
     "text": [
      "Normalized Topic weights :  [[0.32739864 0.49808983 0.         0.10483746 0.06967407 0.        ]]\n",
      "Sum of normalized weights:  1.0\n"
     ]
    }
   ],
   "source": [
    "\n",
    "from sklearn.preprocessing import normalize\n",
    "print('Normalized Topic weights : ', normalize(W_pos[0].reshape(1,-1), norm='l1'))\n",
    "print('Sum of normalized weights: ', normalize(W_pos[0].reshape(1,-1), norm='l1').sum())"
   ]
  },
  {
   "cell_type": "code",
   "execution_count": 33,
   "metadata": {},
   "outputs": [],
   "source": [
    "\n",
    "# add normalized topic weights to each review\n",
    "df_pos = pd.concat([df_pos, pd.DataFrame(normalize(W_pos, norm='l1'))], axis=1)\n",
    "df_neg = pd.concat([df_neg, pd.DataFrame(normalize(W_neg, norm='l1'))], axis=1)"
   ]
  },
  {
   "cell_type": "code",
   "execution_count": 34,
   "metadata": {},
   "outputs": [
    {
     "data": {
      "text/html": [
       "<div>\n",
       "<style scoped>\n",
       "    .dataframe tbody tr th:only-of-type {\n",
       "        vertical-align: middle;\n",
       "    }\n",
       "\n",
       "    .dataframe tbody tr th {\n",
       "        vertical-align: top;\n",
       "    }\n",
       "\n",
       "    .dataframe thead th {\n",
       "        text-align: right;\n",
       "    }\n",
       "</style>\n",
       "<table border=\"1\" class=\"dataframe\">\n",
       "  <thead>\n",
       "    <tr style=\"text-align: right;\">\n",
       "      <th></th>\n",
       "      <th>business_id</th>\n",
       "      <th>review_stars</th>\n",
       "      <th>text</th>\n",
       "      <th>review_length</th>\n",
       "      <th>0</th>\n",
       "      <th>1</th>\n",
       "      <th>2</th>\n",
       "      <th>3</th>\n",
       "      <th>4</th>\n",
       "      <th>5</th>\n",
       "    </tr>\n",
       "  </thead>\n",
       "  <tbody>\n",
       "    <tr>\n",
       "      <th>0</th>\n",
       "      <td>44YFU284Z3KDEy25QyVoUw</td>\n",
       "      <td>2.0</td>\n",
       "      <td>This 2 star rating is for the service. Althoug...</td>\n",
       "      <td>518</td>\n",
       "      <td>0.012415</td>\n",
       "      <td>0.013928</td>\n",
       "      <td>0.000000</td>\n",
       "      <td>0.760511</td>\n",
       "      <td>0.000000</td>\n",
       "      <td>0.213146</td>\n",
       "    </tr>\n",
       "    <tr>\n",
       "      <th>1</th>\n",
       "      <td>44YFU284Z3KDEy25QyVoUw</td>\n",
       "      <td>2.0</td>\n",
       "      <td>After reading many decent reviews and seeing h...</td>\n",
       "      <td>258</td>\n",
       "      <td>0.834317</td>\n",
       "      <td>0.071897</td>\n",
       "      <td>0.010393</td>\n",
       "      <td>0.000000</td>\n",
       "      <td>0.070177</td>\n",
       "      <td>0.013216</td>\n",
       "    </tr>\n",
       "    <tr>\n",
       "      <th>2</th>\n",
       "      <td>44YFU284Z3KDEy25QyVoUw</td>\n",
       "      <td>1.0</td>\n",
       "      <td>The service to grab a seat is slow like 20 min...</td>\n",
       "      <td>366</td>\n",
       "      <td>0.046787</td>\n",
       "      <td>0.004027</td>\n",
       "      <td>0.000404</td>\n",
       "      <td>0.405789</td>\n",
       "      <td>0.300758</td>\n",
       "      <td>0.242234</td>\n",
       "    </tr>\n",
       "    <tr>\n",
       "      <th>3</th>\n",
       "      <td>44YFU284Z3KDEy25QyVoUw</td>\n",
       "      <td>2.0</td>\n",
       "      <td>Very disappointed with the lack of flavor in t...</td>\n",
       "      <td>195</td>\n",
       "      <td>0.000000</td>\n",
       "      <td>0.813191</td>\n",
       "      <td>0.016033</td>\n",
       "      <td>0.000000</td>\n",
       "      <td>0.128457</td>\n",
       "      <td>0.042319</td>\n",
       "    </tr>\n",
       "    <tr>\n",
       "      <th>4</th>\n",
       "      <td>44YFU284Z3KDEy25QyVoUw</td>\n",
       "      <td>1.0</td>\n",
       "      <td>The wait staff is as nasty as the food. RUDE A...</td>\n",
       "      <td>448</td>\n",
       "      <td>0.039458</td>\n",
       "      <td>0.382742</td>\n",
       "      <td>0.000000</td>\n",
       "      <td>0.111113</td>\n",
       "      <td>0.000000</td>\n",
       "      <td>0.466687</td>\n",
       "    </tr>\n",
       "  </tbody>\n",
       "</table>\n",
       "</div>"
      ],
      "text/plain": [
       "              business_id  review_stars  \\\n",
       "0  44YFU284Z3KDEy25QyVoUw           2.0   \n",
       "1  44YFU284Z3KDEy25QyVoUw           2.0   \n",
       "2  44YFU284Z3KDEy25QyVoUw           1.0   \n",
       "3  44YFU284Z3KDEy25QyVoUw           2.0   \n",
       "4  44YFU284Z3KDEy25QyVoUw           1.0   \n",
       "\n",
       "                                                text  review_length         0  \\\n",
       "0  This 2 star rating is for the service. Althoug...            518  0.012415   \n",
       "1  After reading many decent reviews and seeing h...            258  0.834317   \n",
       "2  The service to grab a seat is slow like 20 min...            366  0.046787   \n",
       "3  Very disappointed with the lack of flavor in t...            195  0.000000   \n",
       "4  The wait staff is as nasty as the food. RUDE A...            448  0.039458   \n",
       "\n",
       "          1         2         3         4         5  \n",
       "0  0.013928  0.000000  0.760511  0.000000  0.213146  \n",
       "1  0.071897  0.010393  0.000000  0.070177  0.013216  \n",
       "2  0.004027  0.000404  0.405789  0.300758  0.242234  \n",
       "3  0.813191  0.016033  0.000000  0.128457  0.042319  \n",
       "4  0.382742  0.000000  0.111113  0.000000  0.466687  "
      ]
     },
     "execution_count": 34,
     "metadata": {},
     "output_type": "execute_result"
    }
   ],
   "source": [
    "\n",
    "# peek into a dataframe to ensure it worked right\n",
    "df_neg.head()"
   ]
  },
  {
   "cell_type": "code",
   "execution_count": 35,
   "metadata": {},
   "outputs": [],
   "source": [
    "\n",
    "# group by business_id and apply mean/count functions to columns\n",
    "df_pos_bsns = df_pos.groupby('business_id').agg({'review_stars':'mean', 'text':'count',\n",
    "                                                 'review_length':'mean',0:'mean', \n",
    "                                                 1:'mean', 2:'mean', 3:'mean',\n",
    "                                                 4:'mean', 5:'mean'}).reset_index()\n",
    "df_neg_bsns = df_neg.groupby('business_id').agg({'review_stars':'mean', 'text':'count',\n",
    "                                                 'review_length':'mean',0:'mean', \n",
    "                                                 1:'mean', 2:'mean', 3:'mean',\n",
    "                                                 4:'mean', 5:'mean'}).reset_index()"
   ]
  },
  {
   "cell_type": "code",
   "execution_count": 36,
   "metadata": {},
   "outputs": [
    {
     "data": {
      "text/html": [
       "<div>\n",
       "<style scoped>\n",
       "    .dataframe tbody tr th:only-of-type {\n",
       "        vertical-align: middle;\n",
       "    }\n",
       "\n",
       "    .dataframe tbody tr th {\n",
       "        vertical-align: top;\n",
       "    }\n",
       "\n",
       "    .dataframe thead th {\n",
       "        text-align: right;\n",
       "    }\n",
       "</style>\n",
       "<table border=\"1\" class=\"dataframe\">\n",
       "  <thead>\n",
       "    <tr style=\"text-align: right;\">\n",
       "      <th></th>\n",
       "      <th>business_id</th>\n",
       "      <th>review_stars</th>\n",
       "      <th>text</th>\n",
       "      <th>review_length</th>\n",
       "      <th>0</th>\n",
       "      <th>1</th>\n",
       "      <th>2</th>\n",
       "      <th>3</th>\n",
       "      <th>4</th>\n",
       "      <th>5</th>\n",
       "    </tr>\n",
       "  </thead>\n",
       "  <tbody>\n",
       "    <tr>\n",
       "      <th>0</th>\n",
       "      <td>-01XupAWZEXbdNbxNg5mEg</td>\n",
       "      <td>4.488889</td>\n",
       "      <td>45</td>\n",
       "      <td>593.666667</td>\n",
       "      <td>0.256016</td>\n",
       "      <td>0.254983</td>\n",
       "      <td>0.047231</td>\n",
       "      <td>0.163278</td>\n",
       "      <td>0.173443</td>\n",
       "      <td>0.105050</td>\n",
       "    </tr>\n",
       "    <tr>\n",
       "      <th>1</th>\n",
       "      <td>-050d_XIor1NpCuWkbIVaQ</td>\n",
       "      <td>4.545120</td>\n",
       "      <td>543</td>\n",
       "      <td>766.480663</td>\n",
       "      <td>0.385385</td>\n",
       "      <td>0.114889</td>\n",
       "      <td>0.013322</td>\n",
       "      <td>0.300914</td>\n",
       "      <td>0.143474</td>\n",
       "      <td>0.042015</td>\n",
       "    </tr>\n",
       "    <tr>\n",
       "      <th>2</th>\n",
       "      <td>-092wE7j5HZOogMLAh40zA</td>\n",
       "      <td>4.600000</td>\n",
       "      <td>55</td>\n",
       "      <td>539.727273</td>\n",
       "      <td>0.329510</td>\n",
       "      <td>0.152820</td>\n",
       "      <td>0.014533</td>\n",
       "      <td>0.258739</td>\n",
       "      <td>0.188905</td>\n",
       "      <td>0.055493</td>\n",
       "    </tr>\n",
       "    <tr>\n",
       "      <th>3</th>\n",
       "      <td>-0WegMt6Cy966qlDKhu6jA</td>\n",
       "      <td>4.307692</td>\n",
       "      <td>13</td>\n",
       "      <td>467.769231</td>\n",
       "      <td>0.291615</td>\n",
       "      <td>0.237132</td>\n",
       "      <td>0.018235</td>\n",
       "      <td>0.148809</td>\n",
       "      <td>0.220965</td>\n",
       "      <td>0.083244</td>\n",
       "    </tr>\n",
       "    <tr>\n",
       "      <th>4</th>\n",
       "      <td>-0tgMGl7D9B10YjSN2ujLA</td>\n",
       "      <td>4.421053</td>\n",
       "      <td>76</td>\n",
       "      <td>399.671053</td>\n",
       "      <td>0.187277</td>\n",
       "      <td>0.308735</td>\n",
       "      <td>0.018388</td>\n",
       "      <td>0.205323</td>\n",
       "      <td>0.201018</td>\n",
       "      <td>0.079258</td>\n",
       "    </tr>\n",
       "  </tbody>\n",
       "</table>\n",
       "</div>"
      ],
      "text/plain": [
       "              business_id  review_stars  text  review_length         0  \\\n",
       "0  -01XupAWZEXbdNbxNg5mEg      4.488889    45     593.666667  0.256016   \n",
       "1  -050d_XIor1NpCuWkbIVaQ      4.545120   543     766.480663  0.385385   \n",
       "2  -092wE7j5HZOogMLAh40zA      4.600000    55     539.727273  0.329510   \n",
       "3  -0WegMt6Cy966qlDKhu6jA      4.307692    13     467.769231  0.291615   \n",
       "4  -0tgMGl7D9B10YjSN2ujLA      4.421053    76     399.671053  0.187277   \n",
       "\n",
       "          1         2         3         4         5  \n",
       "0  0.254983  0.047231  0.163278  0.173443  0.105050  \n",
       "1  0.114889  0.013322  0.300914  0.143474  0.042015  \n",
       "2  0.152820  0.014533  0.258739  0.188905  0.055493  \n",
       "3  0.237132  0.018235  0.148809  0.220965  0.083244  \n",
       "4  0.308735  0.018388  0.205323  0.201018  0.079258  "
      ]
     },
     "execution_count": 36,
     "metadata": {},
     "output_type": "execute_result"
    }
   ],
   "source": [
    "df_pos_bsns.head(5)"
   ]
  },
  {
   "cell_type": "code",
   "execution_count": 37,
   "metadata": {},
   "outputs": [
    {
     "data": {
      "text/html": [
       "<div>\n",
       "<style scoped>\n",
       "    .dataframe tbody tr th:only-of-type {\n",
       "        vertical-align: middle;\n",
       "    }\n",
       "\n",
       "    .dataframe tbody tr th {\n",
       "        vertical-align: top;\n",
       "    }\n",
       "\n",
       "    .dataframe thead th {\n",
       "        text-align: right;\n",
       "    }\n",
       "</style>\n",
       "<table border=\"1\" class=\"dataframe\">\n",
       "  <thead>\n",
       "    <tr style=\"text-align: right;\">\n",
       "      <th></th>\n",
       "      <th>business_id</th>\n",
       "      <th>review_stars</th>\n",
       "      <th>text</th>\n",
       "      <th>review_length</th>\n",
       "      <th>0</th>\n",
       "      <th>1</th>\n",
       "      <th>2</th>\n",
       "      <th>3</th>\n",
       "      <th>4</th>\n",
       "      <th>5</th>\n",
       "    </tr>\n",
       "  </thead>\n",
       "  <tbody>\n",
       "    <tr>\n",
       "      <th>0</th>\n",
       "      <td>-01XupAWZEXbdNbxNg5mEg</td>\n",
       "      <td>1.421053</td>\n",
       "      <td>38</td>\n",
       "      <td>601.789474</td>\n",
       "      <td>0.365444</td>\n",
       "      <td>0.178131</td>\n",
       "      <td>0.037723</td>\n",
       "      <td>0.177224</td>\n",
       "      <td>0.080320</td>\n",
       "      <td>0.161158</td>\n",
       "    </tr>\n",
       "    <tr>\n",
       "      <th>1</th>\n",
       "      <td>-050d_XIor1NpCuWkbIVaQ</td>\n",
       "      <td>1.607143</td>\n",
       "      <td>84</td>\n",
       "      <td>922.940476</td>\n",
       "      <td>0.451230</td>\n",
       "      <td>0.150766</td>\n",
       "      <td>0.014057</td>\n",
       "      <td>0.204198</td>\n",
       "      <td>0.109618</td>\n",
       "      <td>0.070132</td>\n",
       "    </tr>\n",
       "    <tr>\n",
       "      <th>2</th>\n",
       "      <td>-092wE7j5HZOogMLAh40zA</td>\n",
       "      <td>1.294118</td>\n",
       "      <td>34</td>\n",
       "      <td>630.970588</td>\n",
       "      <td>0.157546</td>\n",
       "      <td>0.472303</td>\n",
       "      <td>0.013131</td>\n",
       "      <td>0.042274</td>\n",
       "      <td>0.219311</td>\n",
       "      <td>0.095435</td>\n",
       "    </tr>\n",
       "    <tr>\n",
       "      <th>3</th>\n",
       "      <td>-0WegMt6Cy966qlDKhu6jA</td>\n",
       "      <td>1.357143</td>\n",
       "      <td>70</td>\n",
       "      <td>639.171429</td>\n",
       "      <td>0.289390</td>\n",
       "      <td>0.072532</td>\n",
       "      <td>0.013121</td>\n",
       "      <td>0.280011</td>\n",
       "      <td>0.112165</td>\n",
       "      <td>0.232782</td>\n",
       "    </tr>\n",
       "    <tr>\n",
       "      <th>4</th>\n",
       "      <td>-0tgMGl7D9B10YjSN2ujLA</td>\n",
       "      <td>1.416667</td>\n",
       "      <td>36</td>\n",
       "      <td>541.527778</td>\n",
       "      <td>0.368271</td>\n",
       "      <td>0.092633</td>\n",
       "      <td>0.007106</td>\n",
       "      <td>0.265700</td>\n",
       "      <td>0.083006</td>\n",
       "      <td>0.183284</td>\n",
       "    </tr>\n",
       "  </tbody>\n",
       "</table>\n",
       "</div>"
      ],
      "text/plain": [
       "              business_id  review_stars  text  review_length         0  \\\n",
       "0  -01XupAWZEXbdNbxNg5mEg      1.421053    38     601.789474  0.365444   \n",
       "1  -050d_XIor1NpCuWkbIVaQ      1.607143    84     922.940476  0.451230   \n",
       "2  -092wE7j5HZOogMLAh40zA      1.294118    34     630.970588  0.157546   \n",
       "3  -0WegMt6Cy966qlDKhu6jA      1.357143    70     639.171429  0.289390   \n",
       "4  -0tgMGl7D9B10YjSN2ujLA      1.416667    36     541.527778  0.368271   \n",
       "\n",
       "          1         2         3         4         5  \n",
       "0  0.178131  0.037723  0.177224  0.080320  0.161158  \n",
       "1  0.150766  0.014057  0.204198  0.109618  0.070132  \n",
       "2  0.472303  0.013131  0.042274  0.219311  0.095435  \n",
       "3  0.072532  0.013121  0.280011  0.112165  0.232782  \n",
       "4  0.092633  0.007106  0.265700  0.083006  0.183284  "
      ]
     },
     "execution_count": 37,
     "metadata": {},
     "output_type": "execute_result"
    }
   ],
   "source": [
    "df_neg_bsns.head()"
   ]
  },
  {
   "cell_type": "code",
   "execution_count": 38,
   "metadata": {},
   "outputs": [],
   "source": [
    "# we can read in business info from a saved CSV file\n",
    "# and add that to our last dataframe\n",
    "\n",
    "az_df = pd.read_csv('processed_data/restaurants_az.csv')\n",
    "az_df.drop(labels='Unnamed: 0', axis=1, inplace=True)"
   ]
  },
  {
   "cell_type": "code",
   "execution_count": 39,
   "metadata": {},
   "outputs": [],
   "source": [
    "# merge business name/city with topic data\n",
    "df_pos_tot = df_pos_bsns.merge(az_df[['business_id', 'name', 'city', 'stars']], left_on='business_id', \n",
    "                               right_on='business_id')[['business_id', 'name', 'city', 'stars', 0, 1, 2, 3, 4, 5]]\n",
    "\n",
    "df_neg_tot = df_neg_bsns.merge(az_df[['business_id', 'name', 'city', 'stars']], left_on='business_id', \n",
    "                               right_on='business_id')[['business_id', 'name', 'city', 'stars', 0, 1, 2, 3, 4, 5]]"
   ]
  },
  {
   "cell_type": "code",
   "execution_count": 40,
   "metadata": {},
   "outputs": [
    {
     "data": {
      "text/html": [
       "<div>\n",
       "<style scoped>\n",
       "    .dataframe tbody tr th:only-of-type {\n",
       "        vertical-align: middle;\n",
       "    }\n",
       "\n",
       "    .dataframe tbody tr th {\n",
       "        vertical-align: top;\n",
       "    }\n",
       "\n",
       "    .dataframe thead th {\n",
       "        text-align: right;\n",
       "    }\n",
       "</style>\n",
       "<table border=\"1\" class=\"dataframe\">\n",
       "  <thead>\n",
       "    <tr style=\"text-align: right;\">\n",
       "      <th></th>\n",
       "      <th>business_id</th>\n",
       "      <th>name</th>\n",
       "      <th>city</th>\n",
       "      <th>stars</th>\n",
       "      <th>0</th>\n",
       "      <th>1</th>\n",
       "      <th>2</th>\n",
       "      <th>3</th>\n",
       "      <th>4</th>\n",
       "      <th>5</th>\n",
       "    </tr>\n",
       "  </thead>\n",
       "  <tbody>\n",
       "    <tr>\n",
       "      <th>0</th>\n",
       "      <td>-01XupAWZEXbdNbxNg5mEg</td>\n",
       "      <td>18 Degrees</td>\n",
       "      <td>Scottsdale</td>\n",
       "      <td>3.0</td>\n",
       "      <td>0.256016</td>\n",
       "      <td>0.254983</td>\n",
       "      <td>0.047231</td>\n",
       "      <td>0.163278</td>\n",
       "      <td>0.173443</td>\n",
       "      <td>0.105050</td>\n",
       "    </tr>\n",
       "    <tr>\n",
       "      <th>1</th>\n",
       "      <td>-050d_XIor1NpCuWkbIVaQ</td>\n",
       "      <td>Matt's Big Breakfast</td>\n",
       "      <td>Phoenix</td>\n",
       "      <td>4.0</td>\n",
       "      <td>0.385385</td>\n",
       "      <td>0.114889</td>\n",
       "      <td>0.013322</td>\n",
       "      <td>0.300914</td>\n",
       "      <td>0.143474</td>\n",
       "      <td>0.042015</td>\n",
       "    </tr>\n",
       "    <tr>\n",
       "      <th>2</th>\n",
       "      <td>-092wE7j5HZOogMLAh40zA</td>\n",
       "      <td>Wong's Jr</td>\n",
       "      <td>Peoria</td>\n",
       "      <td>3.0</td>\n",
       "      <td>0.329510</td>\n",
       "      <td>0.152820</td>\n",
       "      <td>0.014533</td>\n",
       "      <td>0.258739</td>\n",
       "      <td>0.188905</td>\n",
       "      <td>0.055493</td>\n",
       "    </tr>\n",
       "    <tr>\n",
       "      <th>3</th>\n",
       "      <td>-0WegMt6Cy966qlDKhu6jA</td>\n",
       "      <td>Game Seven Grill</td>\n",
       "      <td>Phoenix</td>\n",
       "      <td>2.0</td>\n",
       "      <td>0.291615</td>\n",
       "      <td>0.237132</td>\n",
       "      <td>0.018235</td>\n",
       "      <td>0.148809</td>\n",
       "      <td>0.220965</td>\n",
       "      <td>0.083244</td>\n",
       "    </tr>\n",
       "    <tr>\n",
       "      <th>4</th>\n",
       "      <td>-0tgMGl7D9B10YjSN2ujLA</td>\n",
       "      <td>Dubliner</td>\n",
       "      <td>Phoenix</td>\n",
       "      <td>3.5</td>\n",
       "      <td>0.187277</td>\n",
       "      <td>0.308735</td>\n",
       "      <td>0.018388</td>\n",
       "      <td>0.205323</td>\n",
       "      <td>0.201018</td>\n",
       "      <td>0.079258</td>\n",
       "    </tr>\n",
       "  </tbody>\n",
       "</table>\n",
       "</div>"
      ],
      "text/plain": [
       "              business_id                  name        city  stars         0  \\\n",
       "0  -01XupAWZEXbdNbxNg5mEg            18 Degrees  Scottsdale    3.0  0.256016   \n",
       "1  -050d_XIor1NpCuWkbIVaQ  Matt's Big Breakfast     Phoenix    4.0  0.385385   \n",
       "2  -092wE7j5HZOogMLAh40zA             Wong's Jr      Peoria    3.0  0.329510   \n",
       "3  -0WegMt6Cy966qlDKhu6jA      Game Seven Grill     Phoenix    2.0  0.291615   \n",
       "4  -0tgMGl7D9B10YjSN2ujLA              Dubliner     Phoenix    3.5  0.187277   \n",
       "\n",
       "          1         2         3         4         5  \n",
       "0  0.254983  0.047231  0.163278  0.173443  0.105050  \n",
       "1  0.114889  0.013322  0.300914  0.143474  0.042015  \n",
       "2  0.152820  0.014533  0.258739  0.188905  0.055493  \n",
       "3  0.237132  0.018235  0.148809  0.220965  0.083244  \n",
       "4  0.308735  0.018388  0.205323  0.201018  0.079258  "
      ]
     },
     "execution_count": 40,
     "metadata": {},
     "output_type": "execute_result"
    }
   ],
   "source": [
    "# peek into business/topic distributions\n",
    "df_pos_tot.head()"
   ]
  },
  {
   "cell_type": "code",
   "execution_count": 48,
   "metadata": {},
   "outputs": [
    {
     "name": "stdout",
     "output_type": "stream",
     "text": [
      "Dubliner - Positive Reviews\n",
      "------------------------------------\n",
      "Topic 0: time/order/service > 0.1873\n",
      "Topic 1: service/atmosphere > 0.3087\n",
      "Topic 2: service/pizza      > 0.0184\n",
      "Topic 3: serivce/atmosphere/staff > 0.2053\n",
      "Topic 4: friendly_staff     > 0.2010\n",
      "Topic 5: bar/happy_hour     > 0.0793\n"
     ]
    }
   ],
   "source": [
    "\n",
    "scores = df_pos_bsns[df_pos_bsns.business_id == '-0tgMGl7D9B10YjSN2ujLA'].iloc[:,-6:].values\n",
    "print(az_df[az_df.business_id == '-0tgMGl7D9B10YjSN2ujLA']['name'].values[0] + ' - Positive Reviews')\n",
    "print('-'*36)\n",
    "for n in pos_topics:\n",
    "    print('Topic {}: {:18} > {:.4f}'.format(n, pos_topics[n], scores[0][n]))"
   ]
  },
  {
   "cell_type": "code",
   "execution_count": 41,
   "metadata": {},
   "outputs": [
    {
     "name": "stdout",
     "output_type": "stream",
     "text": [
      "Wall time: 30 s\n"
     ]
    }
   ],
   "source": [
    "\n",
    "%%time\n",
    "# write to CSV\n",
    "df_pos_tot.to_csv('processed_data/pos_bsns.csv')\n",
    "df_neg_tot.to_csv('processed_data/neg_bsns.csv')\n",
    "df_pos.to_csv('processed_data/pos_reviews.csv')\n",
    "df_neg.to_csv('processed_data/neg_reviews.csv')"
   ]
  }
 ],
 "metadata": {
  "kernelspec": {
   "display_name": "Python 3",
   "language": "python",
   "name": "python3"
  },
  "language_info": {
   "codemirror_mode": {
    "name": "ipython",
    "version": 3
   },
   "file_extension": ".py",
   "mimetype": "text/x-python",
   "name": "python",
   "nbconvert_exporter": "python",
   "pygments_lexer": "ipython3",
   "version": "3.7.3"
  }
 },
 "nbformat": 4,
 "nbformat_minor": 2
}
