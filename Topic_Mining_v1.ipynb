{
 "cells": [
  {
   "cell_type": "code",
   "execution_count": 252,
   "metadata": {},
   "outputs": [],
   "source": [
    "from pprint import pprint\n",
    "import pandas as pd\n",
    "import numpy as np\n",
    "import matplotlib.pyplot as plt\n",
    "%matplotlib inline\n",
    "import seaborn as sns\n",
    "sns.set()\n",
    "import pickle as pickle\n",
    "import re\n",
    "from functools import reduce \n",
    "import operator\n",
    "from sklearn.feature_extraction.text import TfidfVectorizer\n"
   ]
  },
  {
   "cell_type": "code",
   "execution_count": 88,
   "metadata": {},
   "outputs": [
    {
     "name": "stdout",
     "output_type": "stream",
     "text": [
      "Wall time: 37 s\n"
     ]
    }
   ],
   "source": [
    "%%time\n",
    "# Read the Pre-Processed data\n",
    "restaurant_file = pd.read_csv('processed_data/cleaned_restaurants.csv')\n",
    "restaurant_file = restaurant_file.drop(labels=\"Unnamed: 0\", axis=1)\n",
    "review_file     = pd.read_csv('processed_data/cleaned_reviews.csv')\n",
    "review_file     = review_file.drop(labels=\"Unnamed: 0\", axis=1) "
   ]
  },
  {
   "cell_type": "code",
   "execution_count": 259,
   "metadata": {},
   "outputs": [
    {
     "name": "stdout",
     "output_type": "stream",
     "text": [
      "Wall time: 7.21 s\n"
     ]
    }
   ],
   "source": [
    "%%time\n",
    "# Convert in Unicode\n",
    "# seperate topic relavant data from sentiment relavent data\n",
    "review_file['topic_text'] = [u''+str(txt).replace('.','').replace('\\\\n','') for txt in review_file.topic_text]\n",
    "review_file['sentiment_text'] = [u''+str(txt).replace('.','').replace('\\\\n','') for txt in review_file.sentiment_text]\n",
    "review_file['text'] = [u''+str(txt) for txt in review_file.text]\n",
    "review_file['review_length'] = review_file.text.map(len)"
   ]
  },
  {
   "cell_type": "code",
   "execution_count": 260,
   "metadata": {
    "scrolled": true
   },
   "outputs": [
    {
     "data": {
      "text/plain": [
       "[Text(-12.415000000000013, 0.5, 'Number of Reviews')]"
      ]
     },
     "execution_count": 260,
     "metadata": {},
     "output_type": "execute_result"
    },
    {
     "data": {
      "image/png": "[encoded data removed]",
      "text/plain": [
       "<Figure size 1080x216 with 5 Axes>"
      ]
     },
     "metadata": {},
     "output_type": "display_data"
    }
   ],
   "source": [
    "#let's check the distribution of the reviews by length of comments\n",
    "ax = sns.FacetGrid(data=review_file, col='review_stars', xlim=(0, 1000)).map(plt.hist, 'review_length', bins=50)\n",
    "ax.axes[0][0].set(ylabel='Number of Reviews')"
   ]
  },
  {
   "cell_type": "code",
   "execution_count": 261,
   "metadata": {},
   "outputs": [],
   "source": [
    "#It's interesting that five star reivews are more verbose\n",
    "#print(review_file.loc[review_file['review_stars']==1.0])\n"
   ]
  },
  {
   "cell_type": "code",
   "execution_count": 262,
   "metadata": {},
   "outputs": [
    {
     "name": "stdout",
     "output_type": "stream",
     "text": [
      "Postive  Reviews: 2,373,347\n",
      "Negative Reviews: 693,326\n"
     ]
    }
   ],
   "source": [
    "pos_reviews_sent  = review_file.sentiment_text[review_file.review_stars>3].values\n",
    "neg_reviews_sent  = review_file.sentiment_text[review_file.review_stars<3].values\n",
    "pos_reviews_topic = review_file.topic_text[review_file.review_stars>3].values\n",
    "neg_reviews_topic = review_file.topic_text[review_file.review_stars<3].values\n",
    "\n",
    "all_reviews_topic = review_file.topic_text.values\n",
    "all_reviews_sent  = review_file.sentiment_text.values\n",
    "\n",
    "print('Postive  Reviews: {:,}'.format(len(pos_reviews_topic)))\n",
    "print('Negative Reviews: {:,}'.format(len(neg_reviews_topic)))"
   ]
  },
  {
   "cell_type": "code",
   "execution_count": 263,
   "metadata": {},
   "outputs": [],
   "source": [
    "pos_reviews_topic = pos_reviews_sent\n",
    "neg_reviews_topic = neg_reviews_sent\n",
    "all_reviews_topic = all_reviews_sent"
   ]
  },
  {
   "cell_type": "code",
   "execution_count": 264,
   "metadata": {},
   "outputs": [],
   "source": [
    "#Take our additional stopwords\n",
    "#from sklearn.feature_extraction import text\n",
    "#extra_words = ['like','did','said','ok', 've', 'got']\n",
    "#stop_words = text.ENGLISH_STOP_WORDS.union(extra_words)"
   ]
  },
  {
   "cell_type": "code",
   "execution_count": 265,
   "metadata": {},
   "outputs": [],
   "source": [
    "stop_words = [line.rstrip('\\n') for line in open('config/stopwords.txt', 'r', encoding='utf-8')] \n",
    "neg_words  = [line.rstrip('\\n') for line in open('config/stopwords.txt', 'r', encoding='utf-8')]\n",
    "stop_words = stop_words + neg_words"
   ]
  },
  {
   "cell_type": "code",
   "execution_count": 266,
   "metadata": {},
   "outputs": [],
   "source": [
    "# Set max features for data vertorication\n",
    "max_features=5000"
   ]
  },
  {
   "cell_type": "code",
   "execution_count": 267,
   "metadata": {},
   "outputs": [],
   "source": [
    "# Tokenize the text\n",
    "def tokenizer(x):\n",
    "    return ( w for w in str(x).split() if len(w) >3)"
   ]
  },
  {
   "cell_type": "code",
   "execution_count": 268,
   "metadata": {},
   "outputs": [
    {
     "name": "stdout",
     "output_type": "stream",
     "text": [
      "Wall time: 0 ns\n"
     ]
    }
   ],
   "source": [
    "%%time\n",
    "#TF-IDF\n",
    "# Create a vectorizer object to generate term document counts\n",
    "tfidf_pos = TfidfVectorizer(stop_words=stop_words, min_df=10, max_df=0.5,\n",
    "                        tokenizer = tokenizer,ngram_range=(1,1), max_features=max_features)\n",
    "                        #ngram_range=(1,1), token_pattern='[a-z][a-z]+', max_features=max_features)\n",
    "\n",
    "tfidf_neg = TfidfVectorizer(stop_words=stop_words, min_df=10, max_df=0.5, \n",
    "                        tokenizer = tokenizer,ngram_range=(1,1), max_features=max_features)\n",
    "                        #ngram_range=(1,1), token_pattern='[a-z][a-z]+', max_features=max_features)\n",
    "\n",
    "tfidf_all = TfidfVectorizer(stop_words=stop_words, min_df=10, max_df=0.5, \n",
    "                        tokenizer = tokenizer,ngram_range=(1,1), max_features=max_features)\n",
    "                        #ngram_range=(1,1), token_pattern='[a-z][a-z]+', max_features=max_features)\n",
    "\n",
    "#  Stats\n",
    "## Wall time: 2min 47s"
   ]
  },
  {
   "cell_type": "code",
   "execution_count": 269,
   "metadata": {},
   "outputs": [
    {
     "name": "stdout",
     "output_type": "stream",
     "text": [
      "Wall time: 2min 49s\n"
     ]
    }
   ],
   "source": [
    "%%time\n",
    "# Vectorize Data\n",
    "neg_vectors  = tfidf_neg.fit_transform(neg_reviews_topic)\n",
    "pos_vectors  = tfidf_pos.fit_transform(pos_reviews_topic)\n",
    "all_vectors  = tfidf_all.fit_transform(all_reviews_topic)\n",
    "\n",
    "#  Stats\n",
    "## Wall time: 1min 25s"
   ]
  },
  {
   "cell_type": "code",
   "execution_count": 270,
   "metadata": {},
   "outputs": [],
   "source": [
    "with open('pickles/topic_term_vector_all.pk','wb') as f:\n",
    "    pickle.dump(tfidf_all, f)\n",
    "with open('pickles/topic_term_vector_pos.pk','wb') as f:\n",
    "    pickle.dump(tfidf_pos, f)\n",
    "with open('pickles/topic_term_vector_neg.pk','wb') as f:\n",
    "    pickle.dump(tfidf_neg, f)"
   ]
  },
  {
   "cell_type": "code",
   "execution_count": 271,
   "metadata": {},
   "outputs": [],
   "source": [
    "neg_feature_names = np.array(tfidf_neg.get_feature_names())\n",
    "pos_feature_names = np.array(tfidf_pos.get_feature_names())\n",
    "all_feature_names = np.array(tfidf_all.get_feature_names())"
   ]
  },
  {
   "cell_type": "code",
   "execution_count": 272,
   "metadata": {},
   "outputs": [],
   "source": [
    "#with open('pickles/neg_topic_vectors_'+str(max_features)+'.pk', 'wb') as fin:\n",
    "#    pickle.dump(neg_vectors, fin)\n",
    "with open('pickles/neg_topic_features_'+str(max_features)+'.pk', 'wb') as fin:\n",
    "    pickle.dump(np.array(tfidf_neg.get_feature_names()), fin)    "
   ]
  },
  {
   "cell_type": "code",
   "execution_count": 273,
   "metadata": {},
   "outputs": [],
   "source": [
    "#with open('pickles/pos_topic_vectors_'+str(max_features)+'.pk', 'wb') as fin:\n",
    "#    pickle.dump(pos_vectors, fin)\n",
    "with open('pickles/pos_topic_features_'+str(max_features)+'.pk', 'wb') as fin:\n",
    "    pickle.dump(np.array(tfidf_pos.get_feature_names()), fin)    "
   ]
  },
  {
   "cell_type": "code",
   "execution_count": 274,
   "metadata": {},
   "outputs": [],
   "source": [
    "#with open('pickles/all_topic_vectors_'+str(max_features)+'.pk', 'wb') as fin:\n",
    "#    pickle.dump(all_vectors, fin)\n",
    "with open('pickles/all_topic_features_'+str(max_features)+'.pk', 'wb') as fin:\n",
    "    pickle.dump(np.array(tfidf_all.get_feature_names()), fin) "
   ]
  },
  {
   "cell_type": "code",
   "execution_count": 275,
   "metadata": {},
   "outputs": [],
   "source": [
    "#with open('pickles/neg_topic_vectors_'+str(max_features)+'.pk', 'rb') as fin:\n",
    "#    neg_vectors = pickle.load(fin)\n",
    "with open('pickles/neg_topic_features_'+str(max_features)+'.pk', 'rb') as fin:\n",
    "    neg_feature_names = pickle.load(fin)"
   ]
  },
  {
   "cell_type": "code",
   "execution_count": 276,
   "metadata": {},
   "outputs": [],
   "source": [
    "#with open('pickles/pos_topic_vectors_'+str(max_features)+'.pk', 'rb') as fin:\n",
    "#    pos_vectors = pickle.load(fin)\n",
    "with open('pickles/pos_topic_features_'+str(max_features)+'.pk', 'rb') as fin:\n",
    "    pos_feature_names = pickle.load(fin)"
   ]
  },
  {
   "cell_type": "code",
   "execution_count": 277,
   "metadata": {},
   "outputs": [],
   "source": [
    "#with open('pickles/all_topic_vectors_'+str(max_features)+'.pk', 'rb') as fin:\n",
    "#    all_vectors = pickle.load(fin)\n",
    "with open('pickles/all_topic_features_'+str(max_features)+'.pk', 'rb') as fin:\n",
    "    all_feature_names = pickle.load(fin)"
   ]
  },
  {
   "cell_type": "code",
   "execution_count": 278,
   "metadata": {},
   "outputs": [
    {
     "data": {
      "text/plain": [
       "(3527902, 5000)"
      ]
     },
     "execution_count": 278,
     "metadata": {},
     "output_type": "execute_result"
    }
   ],
   "source": [
    "all_vectors.get_shape()"
   ]
  },
  {
   "cell_type": "markdown",
   "metadata": {},
   "source": [
    "# LSA"
   ]
  },
  {
   "cell_type": "code",
   "execution_count": 285,
   "metadata": {},
   "outputs": [],
   "source": [
    "NUM_TOPICS = 50"
   ]
  },
  {
   "cell_type": "code",
   "execution_count": 286,
   "metadata": {},
   "outputs": [
    {
     "name": "stdout",
     "output_type": "stream",
     "text": [
      "Wall time: 1min 45s\n"
     ]
    }
   ],
   "source": [
    "%%time\n",
    "# LSA\n",
    "from gensim import corpora, models, similarities, matutils\n",
    "\n",
    "# Convert sparse matrix of counts to a gensim corpus\n",
    "# Need to transpose it for gensim which wants terms by docs instead of docs by terms\n",
    "tfidf_pos_corpus = matutils.Sparse2Corpus(pos_vectors.transpose())\n",
    "tfidf_neg_corpus = matutils.Sparse2Corpus(neg_vectors.transpose())\n",
    "tfidf_all_corpus = matutils.Sparse2Corpus(all_vectors.transpose())\n",
    "\n",
    "# Row indices\n",
    "id2word_pos = dict((v,k) for k,v in tfidf_pos.vocabulary_.items())\n",
    "id2word_neg = dict((v,k) for k,v in tfidf_neg.vocabulary_.items())\n",
    "id2word_all = dict((v,k) for k,v in tfidf_all.vocabulary_.items())\n",
    "\n",
    "# This is a hack for Python 3!\n",
    "id2word_pos = corpora.Dictionary.from_corpus(tfidf_pos_corpus, id2word=id2word_pos)\n",
    "id2word_neg = corpora.Dictionary.from_corpus(tfidf_neg_corpus, id2word=id2word_neg)\n",
    "id2word_all = corpora.Dictionary.from_corpus(tfidf_all_corpus, id2word=id2word_all)\n",
    "\n",
    "#  Stats\n",
    "## Wall time: 1min 21s"
   ]
  },
  {
   "cell_type": "code",
   "execution_count": 287,
   "metadata": {},
   "outputs": [
    {
     "name": "stdout",
     "output_type": "stream",
     "text": [
      "Wall time: 7min 33s\n"
     ]
    }
   ],
   "source": [
    "%%time\n",
    "# create LSA model\n",
    "lsi_pos = models.LsiModel(tfidf_pos_corpus, id2word=id2word_pos, num_topics=NUM_TOPICS)\n",
    "lsi_neg = models.LsiModel(tfidf_neg_corpus, id2word=id2word_neg, num_topics=NUM_TOPICS)\n",
    "lsi_all = models.LsiModel(tfidf_all_corpus, id2word=id2word_all, num_topics=NUM_TOPICS)\n",
    "\n",
    "#  Stats\n",
    "## Wall time: 13min 3s"
   ]
  },
  {
   "cell_type": "code",
   "execution_count": 288,
   "metadata": {},
   "outputs": [
    {
     "name": "stdout",
     "output_type": "stream",
     "text": [
      "Wall time: 0 ns\n"
     ]
    }
   ],
   "source": [
    "%%time\n",
    "# negative values in LSA topics are annoying\n",
    "# let's see if we can fix that with NMF\n",
    "from sklearn.decomposition import NMF"
   ]
  },
  {
   "cell_type": "code",
   "execution_count": 289,
   "metadata": {},
   "outputs": [],
   "source": [
    "%%time\n",
    "# change num_topics\n",
    "num_topics = NUM_TOPICS"
   ]
  },
  {
   "cell_type": "code",
   "execution_count": 290,
   "metadata": {},
   "outputs": [],
   "source": [
    "%%time\n",
    "nmf_pos = NMF(n_components=num_topics)\n",
    "W_pos = nmf_pos.fit_transform(pos_vectors)\n",
    "H_pos = nmf_pos.components_"
   ]
  },
  {
   "cell_type": "code",
   "execution_count": 291,
   "metadata": {},
   "outputs": [],
   "source": [
    "%%time\n",
    "nmf_neg = NMF(n_components=num_topics)\n",
    "W_neg = nmf_neg.fit_transform(neg_vectors)\n",
    "H_neg = nmf_neg.components_"
   ]
  },
  {
   "cell_type": "code",
   "execution_count": 292,
   "metadata": {},
   "outputs": [],
   "source": [
    "%%time\n",
    "nmf_all = NMF(n_components=num_topics)\n",
    "W_all = nmf_all.fit_transform(all_vectors)\n",
    "H_all = nmf_all.components_"
   ]
  },
  {
   "cell_type": "markdown",
   "metadata": {},
   "source": [
    "### Checkpointing: dump processed won in pickles"
   ]
  },
  {
   "cell_type": "code",
   "execution_count": 301,
   "metadata": {},
   "outputs": [],
   "source": [
    "# Save models for future use\n",
    "with open('pickles/neg_topic_model.pk', 'wb') as fin:\n",
    "    pickle.dump(lsi_neg, fin)\n",
    "with open('pickles/pos_topic_model.pk', 'wb') as fin:\n",
    "    pickle.dump(lsi_pos, fin)\n",
    "with open('pickles/all_topic_model.pk', 'wb') as fin:\n",
    "    pickle.dump(lsi_all, fin)        "
   ]
  },
  {
   "cell_type": "code",
   "execution_count": 302,
   "metadata": {},
   "outputs": [],
   "source": [
    "# Save models for future use\n",
    "with open('pickles/neg_nmf_model.pk', 'wb') as fin:\n",
    "    pickle.dump(nmf_neg, fin)\n",
    "with open('pickles/pos_nmf_model.pk', 'wb') as fin:\n",
    "    pickle.dump(nmf_pos, fin)\n",
    "with open('pickles/all_nmf_model.pk', 'wb') as fin:\n",
    "    pickle.dump(nmf_all, fin)"
   ]
  },
  {
   "cell_type": "markdown",
   "metadata": {},
   "source": [
    "##### Load saved pickles and resume"
   ]
  },
  {
   "cell_type": "code",
   "execution_count": 119,
   "metadata": {},
   "outputs": [],
   "source": [
    "max_features=2500\n",
    "num_topics  =100"
   ]
  },
  {
   "cell_type": "code",
   "execution_count": 120,
   "metadata": {},
   "outputs": [],
   "source": [
    "with open('pickles/all_topic_model.pk', 'rb') as fin:\n",
    "    lsi_all = pickle.load(fin)\n",
    "with open('pickles/pos_topic_model.pk', 'rb') as fin:\n",
    "    lsi_pos = pickle.load(fin)\n",
    "with open('pickles/neg_topic_model.pk', 'rb') as fin:\n",
    "    lsi_neg = pickle.load(fin)"
   ]
  },
  {
   "cell_type": "code",
   "execution_count": 121,
   "metadata": {},
   "outputs": [
    {
     "name": "stderr",
     "output_type": "stream",
     "text": [
      "C:\\Users\\asad_\\Anaconda3\\lib\\site-packages\\sklearn\\base.py:253: UserWarning: Trying to unpickle estimator NMF from version 0.21.3 when using version 0.20.3. This might lead to breaking code or invalid results. Use at your own risk.\n",
      "  UserWarning)\n",
      "C:\\Users\\asad_\\Anaconda3\\lib\\site-packages\\sklearn\\base.py:253: UserWarning: Trying to unpickle estimator NMF from version 0.21.3 when using version 0.20.3. This might lead to breaking code or invalid results. Use at your own risk.\n",
      "  UserWarning)\n",
      "C:\\Users\\asad_\\Anaconda3\\lib\\site-packages\\sklearn\\base.py:253: UserWarning: Trying to unpickle estimator NMF from version 0.21.3 when using version 0.20.3. This might lead to breaking code or invalid results. Use at your own risk.\n",
      "  UserWarning)\n"
     ]
    }
   ],
   "source": [
    "with open('pickles/neg_nmf_model.pk', 'rb') as fin:\n",
    "    nmf_neg = pickle.load(fin)\n",
    "with open('pickles/pos_nmf_model.pk', 'rb') as fin:\n",
    "    nmf_pos = pickle.load(fin)\n",
    "with open('pickles/all_nmf_model.pk', 'rb') as fin:\n",
    "    nmf_all = pickle.load(fin)"
   ]
  },
  {
   "cell_type": "code",
   "execution_count": 122,
   "metadata": {},
   "outputs": [],
   "source": [
    "with open('pickles/all_topic_features_'+str(max_features)+'.pk', 'rb') as fin:\n",
    "    all_feature_names = pickle.load(fin)"
   ]
  },
  {
   "cell_type": "code",
   "execution_count": 123,
   "metadata": {},
   "outputs": [],
   "source": [
    "with open('pickles/pos_topic_features_'+str(max_features)+'.pk', 'rb') as fin:\n",
    "    pos_feature_names = pickle.load(fin)"
   ]
  },
  {
   "cell_type": "code",
   "execution_count": 124,
   "metadata": {},
   "outputs": [],
   "source": [
    "with open('pickles/neg_topic_features_'+str(max_features)+'.pk', 'rb') as fin:\n",
    "    neg_feature_names = pickle.load(fin)"
   ]
  },
  {
   "cell_type": "code",
   "execution_count": 125,
   "metadata": {},
   "outputs": [],
   "source": [
    "with open('pickles/topic_term_vector.pk', 'rb') as fin:\n",
    "    term_vector = pickle.load(fin)"
   ]
  },
  {
   "cell_type": "code",
   "execution_count": 293,
   "metadata": {},
   "outputs": [],
   "source": [
    "def get_topic_list(model, feature_names, num_topics, no_top_words):\n",
    "    lst = []\n",
    "    for topic_idx, topic in enumerate(model.components_):\n",
    "        if topic_idx < num_topics:\n",
    "            #print(\"{:11}\".format(\"Topic %d:\" %(topic_idx)), end='')\n",
    "            #print(\", \".join(['{:04.3f}*'.format(topic[i])+feature_names[i] for i in topic.argsort()[:-no_top_words-1:-1]]))\n",
    "            lst.append('/'.join(sort_list([feature_names[i]+\" \" for i in topic.argsort()[:-no_top_words-1:-1]])))\n",
    "    return((list(sorted(set(lst)))))"
   ]
  },
  {
   "cell_type": "code",
   "execution_count": 294,
   "metadata": {},
   "outputs": [],
   "source": [
    "def get_topic_map(model, feature_names, num_topics, no_top_words):\n",
    "    dicty = {}\n",
    "    for topic_idx, topic in enumerate(model.components_):\n",
    "        if topic_idx < num_topics:\n",
    "            dicty[topic_idx]='/'.join(sort_list([feature_names[i]+\" \" for i in topic.argsort()[:-no_top_words-1:-1]]))\n",
    "    return dicty"
   ]
  },
  {
   "cell_type": "code",
   "execution_count": 295,
   "metadata": {},
   "outputs": [],
   "source": [
    "def display_topics(model, feature_names, num_topics, no_top_words):\n",
    "    for topic_idx, topic in enumerate(model.components_):\n",
    "        if topic_idx < num_topics:\n",
    "            print(\"{:11}\".format(\"Topic %d:\" %(topic_idx)), end='')\n",
    "            print(\", \".join(['{:04.3f}*'.format(topic[i])+feature_names[i] \\\n",
    "                             for i in topic.argsort()[:-no_top_words-1:-1]]))"
   ]
  },
  {
   "cell_type": "code",
   "execution_count": 296,
   "metadata": {},
   "outputs": [],
   "source": [
    "def topic_to_text(topic):\n",
    "    str = ''\n",
    "    for elem in list(topic)[1].split('+')[:6]:\n",
    "        str+= '/'.join(re.findall(r'\"([^\"]*)\"', elem))+' '\n",
    "    topics.append(str)"
   ]
  },
  {
   "cell_type": "code",
   "execution_count": 297,
   "metadata": {},
   "outputs": [],
   "source": [
    "def sort_list(lst):\n",
    "    return list(sorted(set(reduce(operator.concat, lst).split())))"
   ]
  },
  {
   "cell_type": "code",
   "execution_count": 298,
   "metadata": {},
   "outputs": [],
   "source": [
    "topic_list = []\n",
    "no_topics = num_topics\n",
    "no_top_words = 6\n",
    "\n",
    "topic_list.extend(get_topic_list(nmf_all, all_feature_names, no_topics, no_top_words))\n",
    "topic_list.extend(get_topic_list(nmf_pos, pos_feature_names, no_topics, no_top_words))\n",
    "topic_list.extend(get_topic_list(nmf_neg, neg_feature_names, no_topics, no_top_words))"
   ]
  },
  {
   "cell_type": "code",
   "execution_count": 299,
   "metadata": {},
   "outputs": [
    {
     "name": "stdout",
     "output_type": "stream",
     "text": [
      "Topic 0:   33.337*table, 5.764*seat, 3.771*waiter, 3.330*reservation, 2.421*bring, 2.232*waitress\n",
      "Topic 1:   21.926*love, 0.749*favorite, 0.729*atmosphere, 0.612*husband, 0.567*family, 0.444*year\n",
      "Topic 2:   17.797*food, 0.987*quality, 0.644*good-service, 0.490*atmosphere, 0.483*not-good, 0.364*great-service\n",
      "Topic 3:   12.232*pizza, 1.139*crust, 0.937*good-pizza, 0.929*slice, 0.683*pepperoni, 0.619*wing\n",
      "Topic 4:   12.691*good, 0.303*mexican-food, 0.232*not-great, 0.201*town, 0.179*chinese-food, 0.177*recommend\n",
      "Topic 5:   10.957*burger, 0.773*good-burger, 0.666*shake, 0.609*bacon, 0.574*patty, 0.461*sweet-potato\n",
      "Topic 6:   24.622*great, 0.568*atmosphere, 0.476*definitely, 0.397*highly-recommend, 0.375*friendly-service, 0.372*fantastic\n",
      "Topic 7:   13.027*sushi, 1.141*chef, 0.969*sashimi, 0.784*fish, 0.750*quality, 0.733*good-sushi\n",
      "Topic 8:   12.118*dollar, 0.899*charge, 0.665*bill, 0.599*spend, 0.574*cost, 0.457*person\n",
      "Topic 9:   20.075*taco, 1.211*shrimp, 1.145*tuesday, 1.138*street, 0.925*al-pastor, 0.873*carne\n",
      "Topic 10:  6.234*chip, 5.259*fish, 4.631*salsa, 3.989*burrito, 1.650*mexican-food, 1.405*bean\n",
      "Topic 11:  17.191*like, 3.683*feel, 1.813*more, 0.678*much, 0.652*home, 0.495*not-feel\n",
      "Topic 12:  11.849*chicken, 1.325*waffle, 0.648*wing, 0.531*rice, 0.462*curry, 0.397*tender\n",
      "Topic 13:  12.010*time, 0.805*visit, 0.444*couple, 0.388*second-time, 0.338*week, 0.316*year\n",
      "Topic 14:  13.629*service, 1.709*customer, 1.072*slow, 0.743*great-customer, 0.597*fast, 0.410*quick\n",
      "Topic 15:  18.743*sandwich, 1.836*bread, 1.158*turkey, 0.587*pulled-pork, 0.554*pastrami, 0.551*good-sandwich\n",
      "Topic 16:  11.716*staff, 9.748*friendly, 1.723*helpful, 1.571*attentive, 0.812*clean, 0.663*fast\n",
      "Topic 17:  11.589*amazing, 0.756*absolutely, 0.655*highly-recommend, 0.413*not-wait, 0.358*definitely, 0.325*thank\n",
      "Topic 18:  15.901*enjoy, 5.632*meal, 1.785*atmosphere, 1.461*experience, 1.335*dinner, 1.279*visit\n",
      "Topic 19:  18.048*delicious, 1.699*absolutely, 0.967*definitely, 0.930*highly-recommend, 0.557*husband, 0.554*not-wait\n",
      "Topic 20:  15.189*great-food, 9.976*great-service, 1.028*great-atmosphere, 0.861*highly-recommend, 0.818*great-price, 0.780*friendly-staff\n",
      "Topic 21:  8.703*tell, 7.330*people, 5.595*manager, 5.115*leave, 4.740*work, 4.581*walk\n",
      "Topic 22:  13.758*lunch, 2.992*dinner, 1.663*special, 1.308*today, 0.927*stop, 0.502*work\n",
      "Topic 23:  11.987*salad, 0.882*dress, 0.821*caesar, 0.681*pasta, 0.627*bread, 0.612*potato\n",
      "Topic 24:  10.748*soup, 9.707*dish, 8.646*rice, 6.310*noodle, 5.610*beef, 4.950*pork\n",
      "Topic 25:  19.569*wait, 11.386*minute, 3.233*hour, 2.684*line, 2.682*seat, 1.471*long\n",
      "Topic 26:  15.870*breakfast, 8.078*coffee, 3.700*pancake, 2.618*brunch, 2.610*bacon, 2.189*morning\n",
      "Topic 27:  16.935*menu, 3.574*item, 1.760*option, 0.847*offer, 0.830*more, 0.821*change\n",
      "Topic 28:  13.902*drink, 1.378*bartender, 0.901*night, 0.556*refill, 0.538*cocktail, 0.499*waitress\n",
      "Topic 29:  13.269*beer, 3.698*selection, 1.319*wine, 1.259*wing, 0.894*game, 0.808*bartender\n",
      "Topic 30:  15.794*server, 1.606*attentive, 0.930*bring, 0.926*check, 0.839*experience, 0.625*water\n",
      "Topic 31:  12.494*pretty, 1.008*much, 0.713*decent, 0.551*not-bad, 0.544*cool, 0.536*tasty\n",
      "Topic 32:  11.125*awesome, 0.402*thank, 0.339*highly-recommend, 0.306*definitely, 0.218*not-wait, 0.210*bartender\n",
      "Topic 33:  15.037*price, 2.029*quality, 1.911*reasonable, 1.161*portion, 1.116*high, 1.073*more\n",
      "Topic 34:  14.604*happy-hour, 2.122*special, 1.367*wing, 1.025*appetizer, 0.814*margarita, 0.703*bartender\n",
      "Topic 35:  12.655*nice, 1.233*clean, 0.805*inside, 0.628*outside, 0.534*atmosphere, 0.400*area\n",
      "Topic 36:  13.195*location, 1.893*visit, 0.847*area, 0.546*drive, 0.542*year, 0.438*open\n",
      "Topic 37:  11.845*steak, 2.255*cook, 1.575*dinner, 0.697*medium-rare, 0.693*lobster, 0.649*potato\n",
      "Topic 38:  11.636*cheese, 1.545*grill, 1.234*mac-n, 1.186*bacon, 0.854*bread, 0.803*cream\n",
      "Topic 39:  11.438*super, 0.814*yummy, 0.680*friendly-staff, 0.606*fast, 0.545*friendly, 0.445*cute\n",
      "Topic 40:  11.301*because, 7.495*star, 1.491*reason, 1.199*review, 0.554*rating, 0.465*maybe\n",
      "Topic 41:  10.515*good-food, 2.380*good-service, 0.606*friendly-staff, 0.481*recommend, 0.475*good-price, 0.391*great-service\n",
      "Topic 42:  11.667*roll, 1.092*lobster, 0.972*shrimp, 0.767*salmon, 0.676*tuna, 0.614*tempura\n",
      "Topic 43:  9.281*room, 4.920*stay, 3.233*night, 2.779*hotel, 1.783*strip, 1.543*area\n",
      "Topic 44:  12.104*taste, 1.082*flavor, 0.594*not-good, 0.529*bland, 0.478*water, 0.441*cake\n",
      "Topic 45:  10.073*friend, 1.960*recommend, 1.826*family, 1.457*night, 0.856*dinner, 0.781*visit\n",
      "Topic 46:  7.304*buffet, 5.503*vegas, 1.253*dessert, 0.858*line, 0.773*strip, 0.747*visit\n",
      "Topic 47:  10.067*excellent, 2.751*highly-recommend, 0.555*wife, 0.296*dinner, 0.249*wine, 0.230*visit\n",
      "Topic 48:  7.283*sauce, 4.633*meat, 1.368*flavor, 1.197*wing, 0.856*cook, 0.828*bread\n",
      "Topic 49:  9.883*fresh, 2.448*tasty, 0.784*clean, 0.653*fast, 0.425*ingredient, 0.365*flavorful\n"
     ]
    }
   ],
   "source": [
    "display_topics(nmf_all, all_feature_names, no_topics, no_top_words)"
   ]
  },
  {
   "cell_type": "code",
   "execution_count": 300,
   "metadata": {},
   "outputs": [
    {
     "data": {
      "text/plain": [
       "{0: 'bring/reservation/seat/table/waiter/waitress',\n",
       " 1: 'atmosphere/family/favorite/husband/love/year',\n",
       " 2: 'atmosphere/food/good-service/great-service/not-good/quality',\n",
       " 3: 'crust/good-pizza/pepperoni/pizza/slice/wing',\n",
       " 4: 'chinese-food/good/mexican-food/not-great/recommend/town',\n",
       " 5: 'bacon/burger/good-burger/patty/shake/sweet-potato',\n",
       " 6: 'atmosphere/definitely/fantastic/friendly-service/great/highly-recommend',\n",
       " 7: 'chef/fish/good-sushi/quality/sashimi/sushi',\n",
       " 8: 'bill/charge/cost/dollar/person/spend',\n",
       " 9: 'al-pastor/carne/shrimp/street/taco/tuesday',\n",
       " 10: 'bean/burrito/chip/fish/mexican-food/salsa',\n",
       " 11: 'feel/home/like/more/much/not-feel',\n",
       " 12: 'chicken/curry/rice/tender/waffle/wing',\n",
       " 13: 'couple/second-time/time/visit/week/year',\n",
       " 14: 'customer/fast/great-customer/quick/service/slow',\n",
       " 15: 'bread/good-sandwich/pastrami/pulled-pork/sandwich/turkey',\n",
       " 16: 'attentive/clean/fast/friendly/helpful/staff',\n",
       " 17: 'absolutely/amazing/definitely/highly-recommend/not-wait/thank',\n",
       " 18: 'atmosphere/dinner/enjoy/experience/meal/visit',\n",
       " 19: 'absolutely/definitely/delicious/highly-recommend/husband/not-wait',\n",
       " 20: 'friendly-staff/great-atmosphere/great-food/great-price/great-service/highly-recommend',\n",
       " 21: 'leave/manager/people/tell/walk/work',\n",
       " 22: 'dinner/lunch/special/stop/today/work',\n",
       " 23: 'bread/caesar/dress/pasta/potato/salad',\n",
       " 24: 'beef/dish/noodle/pork/rice/soup',\n",
       " 25: 'hour/line/long/minute/seat/wait',\n",
       " 26: 'bacon/breakfast/brunch/coffee/morning/pancake',\n",
       " 27: 'change/item/menu/more/offer/option',\n",
       " 28: 'bartender/cocktail/drink/night/refill/waitress',\n",
       " 29: 'bartender/beer/game/selection/wine/wing',\n",
       " 30: 'attentive/bring/check/experience/server/water',\n",
       " 31: 'cool/decent/much/not-bad/pretty/tasty',\n",
       " 32: 'awesome/bartender/definitely/highly-recommend/not-wait/thank',\n",
       " 33: 'high/more/portion/price/quality/reasonable',\n",
       " 34: 'appetizer/bartender/happy-hour/margarita/special/wing',\n",
       " 35: 'area/atmosphere/clean/inside/nice/outside',\n",
       " 36: 'area/drive/location/open/visit/year',\n",
       " 37: 'cook/dinner/lobster/medium-rare/potato/steak',\n",
       " 38: 'bacon/bread/cheese/cream/grill/mac-n',\n",
       " 39: 'cute/fast/friendly/friendly-staff/super/yummy',\n",
       " 40: 'because/maybe/rating/reason/review/star',\n",
       " 41: 'friendly-staff/good-food/good-price/good-service/great-service/recommend',\n",
       " 42: 'lobster/roll/salmon/shrimp/tempura/tuna',\n",
       " 43: 'area/hotel/night/room/stay/strip',\n",
       " 44: 'bland/cake/flavor/not-good/taste/water',\n",
       " 45: 'dinner/family/friend/night/recommend/visit',\n",
       " 46: 'buffet/dessert/line/strip/vegas/visit',\n",
       " 47: 'dinner/excellent/highly-recommend/visit/wife/wine',\n",
       " 48: 'bread/cook/flavor/meat/sauce/wing',\n",
       " 49: 'clean/fast/flavorful/fresh/ingredient/tasty'}"
      ]
     },
     "execution_count": 300,
     "metadata": {},
     "output_type": "execute_result"
    }
   ],
   "source": [
    "get_topic_map(nmf_all, all_feature_names, no_topics, no_top_words)"
   ]
  },
  {
   "cell_type": "code",
   "execution_count": null,
   "metadata": {},
   "outputs": [],
   "source": []
  },
  {
   "cell_type": "code",
   "execution_count": 162,
   "metadata": {},
   "outputs": [],
   "source": [
    "with open('config/all_topics.txt', 'w') as f:\n",
    "    f.write('\\n'.join([str(key)+\";\"+str(value) for key, value in get_topic_map(nmf_all, all_feature_names, no_topics, no_top_words).items()]))"
   ]
  },
  {
   "cell_type": "code",
   "execution_count": 163,
   "metadata": {},
   "outputs": [],
   "source": [
    "with open('config/neg_topics.txt', 'w') as f:\n",
    "    f.write('\\n'.join([str(key)+\";\"+str(value) for key, value in get_topic_map(nmf_neg, neg_feature_names, no_topics, no_top_words).items()]))"
   ]
  },
  {
   "cell_type": "code",
   "execution_count": 164,
   "metadata": {},
   "outputs": [],
   "source": [
    "with open('config/pos_topics.txt', 'w') as f:\n",
    "    f.write('\\n'.join([str(key)+\";\"+str(value) for key, value in get_topic_map(nmf_pos, pos_feature_names, no_topics, no_top_words).items()]))"
   ]
  },
  {
   "cell_type": "code",
   "execution_count": 63,
   "metadata": {},
   "outputs": [],
   "source": [
    "#with open('config/topics.csv', 'w+') as f:\n",
    "#    f.write('\\n'.join(topic_list))"
   ]
  },
  {
   "cell_type": "code",
   "execution_count": 187,
   "metadata": {},
   "outputs": [],
   "source": [
    "topic_desc_map = {}\n",
    "with open('config/topic_map.txt', 'r') as f:\n",
    "    topic_desc_map = {line.split(';')[0]: line.split(';')[1].replace('\\n','') for line in f.readlines()}\n",
    "\n",
    "neg_topic_map = {}\n",
    "pos_topic_map = {}\n",
    "all_topic_map = {}\n",
    "\n",
    "with open('config/pos_topics.txt', 'r') as f:\n",
    "    pos_topic_map = {line.split(';')[0]: line.split(';')[1].replace('\\n','') for line in f.readlines()}\n",
    "with open('config/neg_topics.txt', 'r') as f:\n",
    "    neg_topic_map = {line.split(';')[0]: line.split(';')[1].replace('\\n','') for line in f.readlines()}\n",
    "with open('config/all_topics.txt', 'r') as f:\n",
    "    all_topic_map = {line.split(';')[0]: line.split(';')[1].replace('\\n','') for line in f.readlines()}"
   ]
  },
  {
   "cell_type": "code",
   "execution_count": 241,
   "metadata": {},
   "outputs": [],
   "source": [
    "new_review_text = review_file['text'][5]\n",
    "new_topic_text  = review_file['topic_text'][5]"
   ]
  },
  {
   "cell_type": "code",
   "execution_count": 247,
   "metadata": {},
   "outputs": [
    {
     "name": "stdout",
     "output_type": "stream",
     "text": [
      "I've been a frequent at this place for years, enough that the managers pretty much recognize my whole family. And I have to say, this is probably my favorite Chinese place for lunch.\n",
      "\n",
      "First of all, the place is HUGE. My relatives have booked this place as a venue for weddings, events, gatherings, and we usually get a good experience. On some days when you come at a busy time, it's not that bad of a wait because of how many tables there are! I remember waiting in a line past the door a few times to be seated, but maybe this has changed?\n",
      "\n",
      "FOOD! I honestly think it's great here, though it is a bit expensive for what it offers. I prefer the lunch dim sum, letting them wheel carts as you take your pick. It's nice because I'm definitely not a decisive person, so I usually just get the tastiest looking stuff on the carts. A favorite is the crap shrimp ball things (? lol), the siu mai, dumplings, they're all very good. I also love the green vegetable plates or the scallops here, they're cooked well and I've never had any rubbery or overcooked meat.\n",
      "\n",
      "SERVICE is all pretty good too imo, a lot of the cart ladies speak broken English and a bit of a Vietnamese so it's not too hard for us. They're usually fast too, bringing drinks/sauces/plates when we ask right away. \n",
      "\n",
      "\n",
      "\n",
      "I would definitely recommend this place to people! The reason it's a 4 is because I find the dinner experience to be a bit disappointing; often our dishes are just warm or sometimes cool when we order them. However, I love coming back at lunch, I think the dim sum is a fun and tasty experience. Actually I go almost every week and I've not noticed any drop in quality, so this place will probably remain my goto Chinese lunch for now!\n"
     ]
    }
   ],
   "source": [
    "print(new_review_text.replace('\\\\n','\\n'))"
   ]
  },
  {
   "cell_type": "code",
   "execution_count": 248,
   "metadata": {},
   "outputs": [
    {
     "name": "stdout",
     "output_type": "stream",
     "text": [
      "manager family venue day wait table remember wait line door time seat food prefer lunch dim_sum wheel cart pick person stuff cart shrimp ball dumpling love plate scallop cook overcook meat service cart lady speak drink sauce plate ask people reason find dinner experience bit love lunch think fun drop quality will\n"
     ]
    }
   ],
   "source": [
    "print(new_topic_text.replace('\\\\n','\\n'))"
   ]
  },
  {
   "cell_type": "code",
   "execution_count": 243,
   "metadata": {},
   "outputs": [],
   "source": [
    "new_text_vec = term_vector.transform([new_topic_text])"
   ]
  },
  {
   "cell_type": "code",
   "execution_count": 250,
   "metadata": {},
   "outputs": [],
   "source": [
    "text_all = nmf_all.transform(new_text_vec)"
   ]
  },
  {
   "cell_type": "code",
   "execution_count": 251,
   "metadata": {},
   "outputs": [
    {
     "data": {
      "text/plain": [
       "98"
      ]
     },
     "execution_count": 251,
     "metadata": {},
     "output_type": "execute_result"
    }
   ],
   "source": [
    "np.argmax(text_all)"
   ]
  },
  {
   "cell_type": "code",
   "execution_count": 245,
   "metadata": {},
   "outputs": [
    {
     "data": {
      "text/plain": [
       "'combo/gyro/hummus/pita/plate/share'"
      ]
     },
     "execution_count": 245,
     "metadata": {},
     "output_type": "execute_result"
    }
   ],
   "source": [
    "all_topic_map[str(np.argmax(text_all))]"
   ]
  },
  {
   "cell_type": "code",
   "execution_count": 246,
   "metadata": {},
   "outputs": [
    {
     "data": {
      "text/plain": [
       "'Arabian Food'"
      ]
     },
     "execution_count": 246,
     "metadata": {},
     "output_type": "execute_result"
    }
   ],
   "source": [
    "topic_desc_map[all_topic_map[str(np.argmax(text_all))]]"
   ]
  },
  {
   "cell_type": "code",
   "execution_count": 229,
   "metadata": {},
   "outputs": [],
   "source": [
    "text_pos = nmf_pos.transform(new_text_vec)"
   ]
  },
  {
   "cell_type": "code",
   "execution_count": 233,
   "metadata": {},
   "outputs": [
    {
     "data": {
      "text/plain": [
       "'crust/delivery/pasta/pepperoni/pizza/slice'"
      ]
     },
     "execution_count": 233,
     "metadata": {},
     "output_type": "execute_result"
    }
   ],
   "source": [
    "all_topic_map[str(np.argmax(text_pos))]"
   ]
  },
  {
   "cell_type": "code",
   "execution_count": 235,
   "metadata": {},
   "outputs": [
    {
     "data": {
      "text/plain": [
       "'Pizza & Delivery'"
      ]
     },
     "execution_count": 235,
     "metadata": {},
     "output_type": "execute_result"
    }
   ],
   "source": [
    "topic_desc_map[all_topic_map[str(np.argmax(text_pos))]]"
   ]
  },
  {
   "cell_type": "code",
   "execution_count": 236,
   "metadata": {},
   "outputs": [],
   "source": [
    "text_neg = nmf_neg.transform(new_text_vec)"
   ]
  },
  {
   "cell_type": "code",
   "execution_count": 238,
   "metadata": {},
   "outputs": [
    {
     "data": {
      "text/plain": [
       "'combo/gyro/hummus/pita/plate/share'"
      ]
     },
     "execution_count": 238,
     "metadata": {},
     "output_type": "execute_result"
    }
   ],
   "source": [
    "all_topic_map[str(np.argmax(text_neg))]"
   ]
  },
  {
   "cell_type": "code",
   "execution_count": null,
   "metadata": {},
   "outputs": [],
   "source": []
  },
  {
   "cell_type": "code",
   "execution_count": null,
   "metadata": {},
   "outputs": [],
   "source": []
  },
  {
   "cell_type": "code",
   "execution_count": null,
   "metadata": {},
   "outputs": [],
   "source": []
  },
  {
   "cell_type": "code",
   "execution_count": 144,
   "metadata": {},
   "outputs": [],
   "source": [
    "topics = []\n",
    "for topic in lsi_all.show_topics():\n",
    "    str = ''\n",
    "    for elem in list(topic)[1].split('+')[:6]:\n",
    "        str+= '/'.join(re.findall(r'\"([^\"]*)\"', elem))+' '\n",
    "    topics.append(str)"
   ]
  },
  {
   "cell_type": "code",
   "execution_count": 145,
   "metadata": {},
   "outputs": [
    {
     "data": {
      "text/plain": [
       "['food service time love dollar wait ',\n",
       " 'food service love pizza chicken dollar ',\n",
       " 'love dollar wait food minute table ',\n",
       " 'pizza service chicken burger dollar taco ',\n",
       " 'service food pizza sushi staff customer ',\n",
       " 'time chicken wait minute pizza food ',\n",
       " 'burger sushi time roll chicken cheese ',\n",
       " 'time chicken dollar sushi drink price ',\n",
       " 'sushi time roll chicken wait dollar ',\n",
       " 'dollar sushi roll time wait staff ',\n",
       " 'staff wait minute chicken dollar menu ',\n",
       " 'taco sandwich fish dollar salsa salad ',\n",
       " 'dollar staff wait chicken menu server ',\n",
       " 'sandwich drink chicken taco lunch wait ',\n",
       " 'drink sandwich dish sushi chicken lunch ',\n",
       " 'lunch sandwich menu dinner salad cheese ',\n",
       " 'price salad dollar staff breakfast chicken ',\n",
       " 'price salad dollar drink breakfast lunch ',\n",
       " 'menu price salad vegas friend taste ',\n",
       " 'server drink menu taste lunch chicken ',\n",
       " 'server salad beer lunch drink taste ',\n",
       " 'salad location cheese friend enjoy look ',\n",
       " 'breakfast beer lunch vegas sandwich steak ',\n",
       " 'beer friend selection sandwich cheese recommend ',\n",
       " 'taste friend vegas location look beer ',\n",
       " 'location visit server wait enjoy dinner ',\n",
       " 'vegas location cheese enjoy server buffet ',\n",
       " 'taste location enjoy soup star friend ',\n",
       " 'star enjoy look cheese location atmosphere ',\n",
       " 'taste star enjoy friend cheese look ',\n",
       " 'look want star night recommend dinner ',\n",
       " 'enjoy look night breakfast dinner cheese ',\n",
       " 'want table visit recommend wait steak ',\n",
       " 'roll recommend cheese night dish sushi ',\n",
       " 'steak area look roll sauce night ',\n",
       " 'sauce recommend soup table cheese look ',\n",
       " 'recommend area visit roll cheese sauce ',\n",
       " 'visit roll sauce vegas soup sushi ',\n",
       " 'atmosphere recommend enjoy steak want visit ',\n",
       " 'steak want visit people area think ',\n",
       " 'area want recommend people atmosphere friend ',\n",
       " 'dish roll soup night think sauce ',\n",
       " 'meal visit people area table experience ',\n",
       " 'dinner dish night meat family steak ',\n",
       " 'think dish soup meat visit spot ',\n",
       " 'spot meat town experience visit night ',\n",
       " 'meat meal spot think town people ',\n",
       " 'meal people experience visit town enjoy ',\n",
       " 'experience rice feel minute soup spot ',\n",
       " 'spot town family dinner buffet year ',\n",
       " 'family town feel year rice minute ',\n",
       " 'experience rice town feel find buffet ',\n",
       " 'feel year town find rice quality ',\n",
       " 'find wing spot rice dish meat ',\n",
       " 'serve find meal coffee breakfast dish ',\n",
       " 'serve find year buffet wing spot ',\n",
       " 'family minute coffee find stop buffet ',\n",
       " 'wing sauce buffet rice year flavor ',\n",
       " 'family year feel thank minute coffee ',\n",
       " 'coffee buffet minute family thank breakfast ',\n",
       " 'quality husband room minute thank check ',\n",
       " 'thank husband customer people room need ',\n",
       " 'thank husband quality fish chip taco ',\n",
       " 'thank room chip fish check buffet ',\n",
       " 'quality husband chip know flavor fish ',\n",
       " 'work know husband need option coffee ',\n",
       " 'stop know coffee check wife fish ',\n",
       " 'waitress know flavor fish husband coffee ',\n",
       " 'shrimp work option need waitress husband ',\n",
       " 'flavor know stop waitress portion option ',\n",
       " 'waitress know customer waiter need option ',\n",
       " 'option shrimp portion flavor selection fish ',\n",
       " 'waiter portion flavor selection shrimp wine ',\n",
       " 'portion selection waiter shrimp option check ',\n",
       " 'beef burrito portion shrimp flavor rice ',\n",
       " 'need work selection waitress review customer ',\n",
       " 'check review need shrimp owner work ',\n",
       " 'selection portion buffet beer beef need ',\n",
       " 'beef shrimp check tell wife meat ',\n",
       " 'customer tell review dessert beef bread ',\n",
       " 'review check wife waiter dessert owner ',\n",
       " 'cook owner review fish customer beef ',\n",
       " 'wife cook owner bread tell dessert ',\n",
       " 'owner wife cook customer tell dessert ',\n",
       " 'brunch bread burrito dessert owner pancake ',\n",
       " 'bread dessert brunch cake check ice_cream ',\n",
       " 'burrito bread salsa review fish walk ',\n",
       " 'wine bread wife brunch review burrito ',\n",
       " 'wine waiter pork check review burrito ',\n",
       " 'seat walk bring burrito brunch waiter ',\n",
       " 'bring line noodle leave bowl wish ',\n",
       " 'pork bring beef noodle wish bread ',\n",
       " 'noodle pork bowl line bring broth ',\n",
       " 'pancake bring leave noodle cake brunch ',\n",
       " 'pancake line cake strip leave dessert ',\n",
       " 'waffle pancake line noodle wish leave ',\n",
       " 'crepe waffle dessert appetizer nutella strip ',\n",
       " 'game wish watch leave line bartender ',\n",
       " 'dim_sum leave line game bowl waffle ',\n",
       " 'bagel cream noodle bowl salmon ramen ']"
      ]
     },
     "execution_count": 145,
     "metadata": {},
     "output_type": "execute_result"
    }
   ],
   "source": [
    "with open ('config/topic_map1.csv','w+') as f:\n",
    "    f.write('\\n'.join(topics))"
   ]
  },
  {
   "cell_type": "code",
   "execution_count": 126,
   "metadata": {},
   "outputs": [
    {
     "data": {
      "text/plain": [
       "[(0,\n",
       "  '0.445*\"food\" + 0.266*\"service\" + 0.235*\"time\" + 0.217*\"love\" + 0.153*\"dollar\" + 0.141*\"wait\" + 0.138*\"chicken\" + 0.127*\"drink\" + 0.121*\"menu\" + 0.117*\"table\"'),\n",
       " (1,\n",
       "  '-0.764*\"food\" + -0.236*\"service\" + 0.223*\"love\" + 0.222*\"pizza\" + 0.166*\"chicken\" + 0.157*\"dollar\" + 0.127*\"salad\" + 0.120*\"burger\" + 0.104*\"cheese\" + 0.102*\"sauce\"'),\n",
       " (2,\n",
       "  '-0.913*\"love\" + 0.154*\"dollar\" + 0.132*\"wait\" + -0.115*\"food\" + 0.103*\"minute\" + 0.099*\"table\" + 0.064*\"drink\" + 0.061*\"server\" + 0.059*\"time\" + 0.058*\"tell\"'),\n",
       " (3,\n",
       "  '0.852*\"pizza\" + 0.323*\"service\" + -0.173*\"chicken\" + -0.123*\"burger\" + -0.096*\"dollar\" + -0.092*\"taco\" + -0.084*\"sushi\" + -0.084*\"rice\" + -0.079*\"roll\" + 0.076*\"crust\"'),\n",
       " (4,\n",
       "  '-0.839*\"service\" + 0.369*\"food\" + 0.315*\"pizza\" + -0.106*\"sushi\" + 0.100*\"staff\" + -0.089*\"customer\" + 0.068*\"wait\" + -0.063*\"roll\" + 0.040*\"cheese\" + 0.039*\"chicken\"'),\n",
       " (5,\n",
       "  '0.448*\"time\" + -0.401*\"chicken\" + 0.367*\"wait\" + 0.212*\"minute\" + -0.181*\"pizza\" + -0.181*\"food\" + -0.169*\"dollar\" + -0.153*\"salad\" + 0.152*\"table\" + 0.142*\"staff\"'),\n",
       " (6,\n",
       "  '-0.900*\"burger\" + 0.194*\"sushi\" + 0.159*\"time\" + 0.138*\"roll\" + 0.113*\"chicken\" + -0.110*\"cheese\" + -0.087*\"beer\" + 0.084*\"rice\" + -0.060*\"food\" + 0.060*\"dish\"'),\n",
       " (7,\n",
       "  '-0.627*\"time\" + -0.447*\"chicken\" + 0.356*\"dollar\" + 0.231*\"sushi\" + 0.193*\"drink\" + 0.132*\"price\" + 0.125*\"roll\" + -0.122*\"sandwich\" + 0.099*\"love\" + 0.097*\"table\"'),\n",
       " (8,\n",
       "  '-0.500*\"sushi\" + -0.448*\"time\" + -0.298*\"roll\" + 0.295*\"chicken\" + 0.267*\"wait\" + -0.181*\"dollar\" + 0.176*\"minute\" + -0.167*\"price\" + -0.163*\"burger\" + 0.153*\"table\"'),\n",
       " (9,\n",
       "  '-0.485*\"dollar\" + 0.464*\"sushi\" + 0.295*\"roll\" + -0.258*\"time\" + 0.254*\"wait\" + 0.248*\"staff\" + -0.245*\"taco\" + 0.206*\"chicken\" + 0.184*\"burger\" + -0.150*\"drink\"'),\n",
       " (10,\n",
       "  '-0.786*\"staff\" + 0.209*\"wait\" + 0.197*\"minute\" + 0.168*\"chicken\" + 0.157*\"dollar\" + -0.133*\"menu\" + 0.129*\"love\" + -0.120*\"sandwich\" + 0.115*\"server\" + 0.114*\"sushi\"'),\n",
       " (11,\n",
       "  '0.773*\"taco\" + -0.297*\"sandwich\" + 0.197*\"fish\" + -0.187*\"dollar\" + 0.157*\"salsa\" + -0.156*\"salad\" + -0.153*\"lunch\" + 0.132*\"chip\" + -0.119*\"breakfast\" + 0.094*\"sushi\"'),\n",
       " (12,\n",
       "  '0.489*\"dollar\" + 0.390*\"staff\" + 0.350*\"wait\" + 0.279*\"chicken\" + -0.224*\"menu\" + -0.203*\"server\" + 0.199*\"price\" + -0.158*\"drink\" + -0.157*\"friend\" + -0.130*\"enjoy\"'),\n",
       " (13,\n",
       "  '0.442*\"sandwich\" + -0.437*\"drink\" + -0.349*\"chicken\" + 0.274*\"taco\" + 0.259*\"lunch\" + 0.239*\"wait\" + 0.206*\"breakfast\" + -0.178*\"staff\" + 0.141*\"salad\" + -0.127*\"night\"'),\n",
       " (14,\n",
       "  '-0.557*\"drink\" + -0.479*\"sandwich\" + 0.231*\"dish\" + -0.226*\"sushi\" + -0.187*\"chicken\" + -0.166*\"lunch\" + 0.157*\"taste\" + -0.138*\"beer\" + 0.136*\"sauce\" + -0.129*\"taco\"'),\n",
       " (15,\n",
       "  '-0.644*\"lunch\" + 0.387*\"sandwich\" + -0.300*\"menu\" + -0.221*\"dinner\" + -0.216*\"salad\" + 0.163*\"cheese\" + 0.147*\"taste\" + 0.122*\"sauce\" + 0.099*\"star\" + 0.098*\"meat\"'),\n",
       " (16,\n",
       "  '-0.574*\"price\" + 0.500*\"salad\" + 0.244*\"dollar\" + 0.199*\"staff\" + -0.197*\"breakfast\" + -0.176*\"chicken\" + -0.161*\"menu\" + 0.117*\"server\" + -0.116*\"vegas\" + -0.115*\"look\"'),\n",
       " (17,\n",
       "  '-0.624*\"price\" + -0.403*\"salad\" + 0.227*\"dollar\" + -0.227*\"drink\" + 0.220*\"breakfast\" + 0.211*\"lunch\" + 0.150*\"chicken\" + -0.141*\"wait\" + -0.104*\"soup\" + 0.092*\"look\"'),\n",
       " (18,\n",
       "  '-0.711*\"menu\" + 0.234*\"price\" + 0.222*\"salad\" + 0.176*\"vegas\" + 0.174*\"friend\" + -0.149*\"taste\" + 0.148*\"server\" + 0.132*\"lunch\" + -0.126*\"item\" + 0.117*\"dinner\"'),\n",
       " (19,\n",
       "  '0.521*\"server\" + -0.398*\"drink\" + 0.304*\"menu\" + -0.258*\"taste\" + -0.244*\"lunch\" + 0.178*\"chicken\" + -0.157*\"soup\" + 0.155*\"beer\" + -0.154*\"rice\" + -0.150*\"sauce\"'),\n",
       " (20,\n",
       "  '-0.634*\"server\" + 0.308*\"salad\" + 0.253*\"beer\" + -0.218*\"lunch\" + -0.184*\"drink\" + -0.159*\"taste\" + 0.158*\"night\" + 0.146*\"menu\" + -0.144*\"staff\" + 0.133*\"wait\"'),\n",
       " (21,\n",
       "  '-0.320*\"salad\" + -0.287*\"location\" + 0.257*\"cheese\" + 0.256*\"friend\" + 0.250*\"enjoy\" + -0.227*\"look\" + 0.225*\"dinner\" + 0.217*\"beer\" + 0.202*\"wait\" + -0.194*\"star\"'),\n",
       " (22,\n",
       "  '-0.489*\"breakfast\" + 0.351*\"beer\" + 0.257*\"lunch\" + -0.240*\"vegas\" + 0.236*\"sandwich\" + -0.208*\"steak\" + 0.178*\"friend\" + -0.177*\"salad\" + -0.175*\"drink\" + -0.172*\"coffee\"'),\n",
       " (23,\n",
       "  '-0.533*\"beer\" + 0.517*\"friend\" + -0.226*\"selection\" + 0.210*\"sandwich\" + -0.209*\"cheese\" + 0.191*\"recommend\" + 0.189*\"menu\" + -0.159*\"lunch\" + 0.155*\"family\" + -0.153*\"star\"'),\n",
       " (24,\n",
       "  '-0.397*\"taste\" + -0.346*\"friend\" + 0.307*\"vegas\" + 0.293*\"location\" + -0.267*\"look\" + -0.266*\"beer\" + -0.255*\"breakfast\" + -0.195*\"salad\" + 0.185*\"dinner\" + -0.154*\"coffee\"'),\n",
       " (25,\n",
       "  '-0.506*\"location\" + -0.254*\"visit\" + -0.214*\"server\" + -0.201*\"wait\" + -0.199*\"enjoy\" + 0.196*\"dinner\" + -0.184*\"soup\" + 0.174*\"want\" + 0.170*\"cheese\" + -0.164*\"vegas\"'),\n",
       " (26,\n",
       "  '-0.572*\"vegas\" + 0.506*\"location\" + 0.254*\"cheese\" + 0.184*\"enjoy\" + -0.164*\"server\" + -0.153*\"buffet\" + -0.150*\"taste\" + -0.148*\"sandwich\" + -0.130*\"look\" + -0.123*\"soup\"'),\n",
       " (27,\n",
       "  '0.538*\"taste\" + 0.284*\"location\" + -0.247*\"enjoy\" + -0.226*\"soup\" + 0.223*\"star\" + 0.213*\"friend\" + -0.187*\"breakfast\" + 0.187*\"dinner\" + -0.171*\"rice\" + 0.159*\"steak\"'),\n",
       " (28,\n",
       "  '-0.676*\"star\" + -0.377*\"enjoy\" + 0.293*\"look\" + 0.292*\"cheese\" + 0.165*\"location\" + -0.130*\"atmosphere\" + 0.127*\"sauce\" + 0.124*\"vegas\" + 0.113*\"recommend\" + -0.112*\"breakfast\"'),\n",
       " (29,\n",
       "  '0.441*\"taste\" + -0.420*\"star\" + 0.349*\"enjoy\" + -0.324*\"friend\" + -0.262*\"cheese\" + 0.195*\"look\" + 0.181*\"dinner\" + 0.151*\"night\" + 0.140*\"table\" + -0.139*\"vegas\"'),\n",
       " (30,\n",
       "  '0.519*\"look\" + -0.451*\"want\" + 0.327*\"star\" + 0.235*\"night\" + 0.186*\"recommend\" + 0.177*\"dinner\" + -0.164*\"enjoy\" + 0.154*\"area\" + 0.149*\"location\" + -0.148*\"taste\"'),\n",
       " (31,\n",
       "  '-0.433*\"enjoy\" + -0.349*\"look\" + 0.349*\"night\" + 0.331*\"breakfast\" + 0.274*\"dinner\" + -0.262*\"cheese\" + -0.156*\"lunch\" + 0.146*\"soup\" + 0.145*\"location\" + -0.142*\"recommend\"'),\n",
       " (32,\n",
       "  '-0.566*\"want\" + 0.518*\"table\" + 0.251*\"visit\" + -0.212*\"recommend\" + -0.183*\"wait\" + -0.169*\"steak\" + -0.159*\"dinner\" + -0.149*\"look\" + 0.144*\"area\" + -0.122*\"server\"'),\n",
       " (33,\n",
       "  '0.404*\"roll\" + -0.311*\"recommend\" + 0.292*\"cheese\" + 0.286*\"night\" + -0.274*\"dish\" + -0.268*\"sushi\" + -0.236*\"table\" + 0.206*\"soup\" + -0.178*\"steak\" + -0.176*\"meat\"'),\n",
       " (34,\n",
       "  '0.382*\"steak\" + -0.356*\"area\" + 0.284*\"look\" + 0.258*\"roll\" + -0.206*\"sauce\" + -0.203*\"night\" + 0.193*\"beer\" + 0.192*\"meal\" + -0.183*\"people\" + 0.171*\"soup\"'),\n",
       " (35,\n",
       "  '-0.423*\"sauce\" + 0.401*\"recommend\" + 0.321*\"soup\" + 0.278*\"table\" + 0.277*\"cheese\" + -0.204*\"look\" + 0.185*\"area\" + 0.182*\"atmosphere\" + -0.171*\"visit\" + 0.167*\"want\"'),\n",
       " (36,\n",
       "  '-0.415*\"recommend\" + -0.321*\"area\" + -0.309*\"visit\" + -0.282*\"roll\" + 0.221*\"cheese\" + -0.215*\"sauce\" + 0.207*\"friend\" + -0.196*\"steak\" + 0.191*\"sushi\" + 0.178*\"vegas\"'),\n",
       " (37,\n",
       "  '-0.375*\"visit\" + 0.340*\"roll\" + 0.330*\"sauce\" + 0.300*\"vegas\" + -0.245*\"soup\" + -0.212*\"sushi\" + -0.197*\"town\" + 0.195*\"table\" + -0.186*\"area\" + -0.161*\"year\"'),\n",
       " (38,\n",
       "  '-0.810*\"atmosphere\" + 0.364*\"recommend\" + 0.198*\"enjoy\" + -0.181*\"steak\" + -0.146*\"want\" + -0.122*\"visit\" + -0.085*\"table\" + -0.079*\"friend\" + 0.078*\"meal\" + -0.075*\"feel\"'),\n",
       " (39,\n",
       "  '-0.519*\"steak\" + 0.314*\"want\" + 0.295*\"visit\" + -0.261*\"people\" + -0.244*\"area\" + -0.239*\"think\" + 0.181*\"cheese\" + 0.177*\"dinner\" + 0.175*\"table\" + -0.159*\"friend\"'),\n",
       " (40,\n",
       "  '-0.515*\"area\" + -0.352*\"want\" + 0.347*\"recommend\" + 0.300*\"people\" + 0.265*\"atmosphere\" + -0.219*\"friend\" + -0.144*\"table\" + 0.143*\"work\" + 0.134*\"think\" + 0.130*\"year\"'),\n",
       " (41,\n",
       "  '-0.387*\"dish\" + -0.382*\"roll\" + 0.307*\"soup\" + 0.295*\"night\" + -0.269*\"think\" + 0.267*\"sauce\" + 0.217*\"sushi\" + 0.199*\"wing\" + -0.191*\"dinner\" + 0.169*\"spot\"'),\n",
       " (42,\n",
       "  '0.380*\"meal\" + -0.379*\"visit\" + -0.349*\"people\" + 0.285*\"area\" + -0.270*\"table\" + 0.190*\"experience\" + 0.187*\"minute\" + -0.185*\"enjoy\" + 0.176*\"atmosphere\" + -0.172*\"meat\"'),\n",
       " (43,\n",
       "  '-0.484*\"dinner\" + 0.432*\"dish\" + 0.357*\"night\" + -0.260*\"meat\" + -0.259*\"family\" + 0.222*\"steak\" + 0.177*\"lunch\" + 0.158*\"visit\" + -0.146*\"people\" + 0.145*\"think\"'),\n",
       " (44,\n",
       "  '-0.718*\"think\" + 0.261*\"dish\" + -0.215*\"soup\" + 0.213*\"meat\" + -0.177*\"visit\" + 0.156*\"spot\" + -0.146*\"sauce\" + -0.138*\"dinner\" + -0.132*\"meal\" + 0.130*\"people\"'),\n",
       " (45,\n",
       "  '-0.486*\"spot\" + 0.411*\"meat\" + -0.383*\"town\" + 0.223*\"experience\" + 0.205*\"visit\" + 0.191*\"night\" + 0.171*\"buffet\" + -0.167*\"people\" + -0.157*\"dish\" + -0.151*\"find\"'),\n",
       " (46,\n",
       "  '-0.368*\"meat\" + -0.360*\"meal\" + -0.295*\"spot\" + -0.276*\"think\" + -0.259*\"town\" + 0.253*\"people\" + 0.249*\"sauce\" + 0.172*\"dinner\" + 0.167*\"soup\" + -0.165*\"night\"'),\n",
       " (47,\n",
       "  '-0.604*\"meal\" + -0.419*\"people\" + 0.261*\"experience\" + -0.180*\"visit\" + 0.180*\"town\" + 0.170*\"enjoy\" + 0.170*\"find\" + 0.156*\"think\" + -0.147*\"serve\" + -0.128*\"rice\"'),\n",
       " (48,\n",
       "  '-0.517*\"experience\" + 0.298*\"rice\" + -0.294*\"feel\" + 0.268*\"minute\" + -0.235*\"soup\" + -0.197*\"spot\" + -0.169*\"wait\" + 0.142*\"town\" + 0.141*\"atmosphere\" + 0.139*\"tell\"'),\n",
       " (49,\n",
       "  '0.542*\"spot\" + -0.458*\"town\" + -0.262*\"family\" + 0.254*\"dinner\" + -0.198*\"buffet\" + -0.189*\"year\" + 0.187*\"find\" + 0.171*\"visit\" + 0.148*\"rice\" + 0.145*\"experience\"'),\n",
       " (50,\n",
       "  '-0.396*\"family\" + 0.390*\"town\" + -0.378*\"feel\" + -0.294*\"year\" + -0.273*\"rice\" + 0.170*\"minute\" + 0.152*\"find\" + 0.151*\"soup\" + 0.149*\"people\" + -0.149*\"table\"'),\n",
       " (51,\n",
       "  '-0.585*\"experience\" + -0.361*\"rice\" + -0.307*\"town\" + 0.299*\"feel\" + 0.208*\"find\" + 0.141*\"buffet\" + 0.140*\"soup\" + -0.118*\"burrito\" + 0.116*\"coffee\" + -0.111*\"people\"'),\n",
       " (52,\n",
       "  '0.608*\"feel\" + -0.565*\"year\" + 0.284*\"town\" + -0.234*\"find\" + 0.146*\"rice\" + -0.127*\"quality\" + 0.122*\"minute\" + -0.098*\"wing\" + -0.079*\"soup\" + 0.076*\"dinner\"'),\n",
       " (53,\n",
       "  '-0.591*\"find\" + 0.271*\"wing\" + 0.258*\"spot\" + -0.257*\"rice\" + 0.220*\"dish\" + 0.213*\"meat\" + 0.189*\"minute\" + 0.167*\"family\" + 0.164*\"think\" + 0.155*\"area\"'),\n",
       " (54,\n",
       "  '0.740*\"serve\" + -0.316*\"find\" + -0.210*\"meal\" + 0.189*\"coffee\" + -0.183*\"breakfast\" + -0.174*\"dish\" + 0.165*\"spot\" + -0.144*\"people\" + -0.137*\"wing\" + -0.106*\"feel\"'),\n",
       " (55,\n",
       "  '-0.424*\"serve\" + -0.341*\"find\" + 0.292*\"year\" + 0.276*\"buffet\" + -0.239*\"wing\" + 0.234*\"spot\" + 0.199*\"rice\" + -0.178*\"meat\" + 0.174*\"coffee\" + 0.155*\"selection\"'),\n",
       " (56,\n",
       "  '0.475*\"family\" + 0.369*\"minute\" + -0.216*\"coffee\" + 0.211*\"find\" + -0.210*\"stop\" + 0.206*\"buffet\" + 0.199*\"people\" + -0.195*\"year\" + -0.195*\"wait\" + -0.184*\"work\"'),\n",
       " (57,\n",
       "  '-0.749*\"wing\" + 0.274*\"sauce\" + -0.274*\"buffet\" + -0.263*\"rice\" + 0.147*\"year\" + -0.135*\"flavor\" + 0.130*\"meat\" + -0.130*\"quality\" + 0.110*\"beer\" + -0.093*\"shrimp\"'),\n",
       " (58,\n",
       "  '-0.428*\"family\" + 0.414*\"year\" + 0.348*\"feel\" + -0.337*\"thank\" + 0.268*\"minute\" + -0.217*\"coffee\" + 0.165*\"wing\" + -0.138*\"customer\" + 0.130*\"quality\" + 0.122*\"serve\"'),\n",
       " (59,\n",
       "  '-0.586*\"coffee\" + 0.261*\"buffet\" + -0.249*\"minute\" + -0.216*\"family\" + 0.198*\"thank\" + 0.177*\"breakfast\" + 0.170*\"tell\" + 0.161*\"know\" + 0.157*\"customer\" + -0.148*\"experience\"'),\n",
       " (60,\n",
       "  '0.542*\"quality\" + -0.378*\"husband\" + -0.272*\"room\" + 0.217*\"minute\" + 0.209*\"thank\" + -0.200*\"check\" + 0.168*\"fish\" + -0.148*\"meat\" + 0.144*\"customer\" + 0.134*\"night\"'),\n",
       " (61,\n",
       "  '-0.537*\"thank\" + -0.418*\"husband\" + 0.220*\"customer\" + -0.217*\"people\" + 0.212*\"room\" + 0.181*\"need\" + -0.166*\"minute\" + 0.156*\"work\" + 0.125*\"dinner\" + 0.119*\"know\"'),\n",
       " (62,\n",
       "  '0.431*\"thank\" + -0.378*\"husband\" + -0.340*\"quality\" + -0.329*\"fish\" + -0.264*\"chip\" + 0.172*\"taco\" + 0.170*\"year\" + 0.151*\"rice\" + -0.151*\"waitress\" + 0.148*\"serve\"'),\n",
       " (63,\n",
       "  '-0.390*\"thank\" + -0.375*\"room\" + -0.250*\"chip\" + -0.242*\"fish\" + -0.236*\"check\" + 0.235*\"buffet\" + 0.224*\"husband\" + 0.217*\"customer\" + -0.194*\"stay\" + 0.159*\"shrimp\"'),\n",
       " (64,\n",
       "  '-0.506*\"quality\" + -0.324*\"husband\" + 0.279*\"chip\" + 0.235*\"know\" + 0.225*\"flavor\" + 0.217*\"fish\" + 0.207*\"stop\" + 0.192*\"buffet\" + 0.189*\"salsa\" + -0.178*\"room\"'),\n",
       " (65,\n",
       "  '-0.564*\"work\" + 0.396*\"know\" + -0.310*\"husband\" + -0.233*\"need\" + -0.191*\"option\" + 0.187*\"coffee\" + 0.167*\"wife\" + -0.154*\"burrito\" + -0.134*\"customer\" + 0.129*\"check\"'),\n",
       " (66,\n",
       "  '0.728*\"stop\" + -0.364*\"know\" + -0.213*\"coffee\" + 0.159*\"check\" + 0.144*\"wife\" + -0.138*\"fish\" + 0.129*\"shrimp\" + -0.127*\"waitress\" + -0.121*\"town\" + -0.119*\"vegas\"'),\n",
       " (67,\n",
       "  '0.480*\"waitress\" + -0.461*\"know\" + -0.397*\"flavor\" + 0.186*\"fish\" + -0.178*\"husband\" + 0.174*\"coffee\" + -0.161*\"minute\" + 0.145*\"meat\" + -0.142*\"quality\" + -0.131*\"portion\"'),\n",
       " (68,\n",
       "  '-0.407*\"shrimp\" + -0.346*\"work\" + 0.337*\"option\" + -0.305*\"need\" + -0.209*\"waitress\" + 0.198*\"husband\" + -0.175*\"cook\" + 0.163*\"customer\" + 0.156*\"coffee\" + 0.148*\"dish\"'),\n",
       " (69,\n",
       "  '0.606*\"flavor\" + -0.301*\"know\" + -0.240*\"stop\" + 0.236*\"waitress\" + 0.227*\"portion\" + 0.222*\"option\" + -0.216*\"fish\" + -0.187*\"husband\" + 0.162*\"customer\" + -0.151*\"work\"'),\n",
       " (70,\n",
       "  '-0.455*\"waitress\" + -0.363*\"know\" + 0.263*\"customer\" + 0.249*\"waiter\" + -0.236*\"need\" + -0.218*\"option\" + 0.214*\"owner\" + -0.205*\"stop\" + 0.196*\"tell\" + 0.160*\"shrimp\"'),\n",
       " (71,\n",
       "  '0.670*\"option\" + 0.309*\"shrimp\" + 0.264*\"portion\" + -0.233*\"flavor\" + -0.179*\"selection\" + 0.178*\"fish\" + -0.163*\"buffet\" + -0.152*\"salsa\" + -0.149*\"burrito\" + -0.122*\"need\"'),\n",
       " (72,\n",
       "  '0.417*\"waiter\" + 0.273*\"portion\" + -0.255*\"flavor\" + 0.247*\"selection\" + -0.232*\"shrimp\" + 0.210*\"wine\" + -0.193*\"cook\" + 0.192*\"check\" + -0.188*\"room\" + 0.188*\"bring\"'),\n",
       " (73,\n",
       "  '0.630*\"portion\" + 0.344*\"selection\" + -0.295*\"waiter\" + -0.259*\"shrimp\" + -0.251*\"option\" + -0.192*\"check\" + -0.171*\"quality\" + 0.131*\"fish\" + 0.122*\"room\" + -0.118*\"beer\"'),\n",
       " (74,\n",
       "  '-0.351*\"beef\" + -0.319*\"burrito\" + -0.306*\"portion\" + -0.290*\"shrimp\" + 0.280*\"flavor\" + 0.270*\"rice\" + 0.260*\"fish\" + -0.211*\"salsa\" + 0.179*\"cook\" + -0.161*\"coffee\"'),\n",
       " (75,\n",
       "  '0.648*\"need\" + -0.368*\"work\" + -0.290*\"selection\" + -0.226*\"waitress\" + 0.156*\"review\" + 0.145*\"customer\" + -0.140*\"room\" + 0.137*\"buffet\" + 0.134*\"beer\" + 0.134*\"portion\"'),\n",
       " (76,\n",
       "  '-0.421*\"check\" + -0.321*\"review\" + 0.320*\"need\" + 0.273*\"shrimp\" + -0.256*\"owner\" + -0.254*\"work\" + 0.253*\"burrito\" + -0.217*\"fish\" + 0.178*\"selection\" + 0.165*\"tell\"'),\n",
       " (77,\n",
       "  '-0.543*\"selection\" + 0.299*\"portion\" + 0.265*\"buffet\" + 0.240*\"beer\" + -0.226*\"beef\" + -0.217*\"need\" + -0.204*\"option\" + -0.191*\"review\" + -0.180*\"check\" + 0.176*\"tell\"'),\n",
       " (78,\n",
       "  '0.635*\"beef\" + -0.319*\"shrimp\" + -0.280*\"check\" + 0.221*\"tell\" + 0.217*\"wife\" + -0.198*\"meat\" + -0.182*\"customer\" + 0.156*\"need\" + -0.144*\"soup\" + -0.142*\"review\"'),\n",
       " (79,\n",
       "  '-0.461*\"customer\" + 0.435*\"tell\" + 0.295*\"review\" + -0.288*\"dessert\" + -0.226*\"beef\" + -0.172*\"bread\" + 0.169*\"wife\" + -0.165*\"bring\" + 0.160*\"selection\" + 0.121*\"hour\"'),\n",
       " (80,\n",
       "  '0.323*\"review\" + -0.315*\"check\" + 0.313*\"wife\" + -0.289*\"waiter\" + 0.278*\"dessert\" + 0.255*\"owner\" + 0.253*\"bread\" + -0.172*\"beef\" + -0.167*\"selection\" + -0.159*\"portion\"'),\n",
       " (81,\n",
       "  '-0.573*\"cook\" + -0.466*\"owner\" + 0.271*\"review\" + 0.208*\"fish\" + 0.190*\"customer\" + 0.181*\"beef\" + 0.135*\"leave\" + 0.128*\"steak\" + 0.127*\"bread\" + -0.126*\"burrito\"'),\n",
       " (82,\n",
       "  '-0.480*\"wife\" + 0.440*\"cook\" + -0.314*\"owner\" + 0.242*\"bread\" + 0.203*\"tell\" + 0.178*\"dessert\" + 0.168*\"review\" + -0.159*\"waiter\" + -0.145*\"flavor\" + -0.132*\"husband\"'),\n",
       " (83,\n",
       "  '0.459*\"owner\" + -0.441*\"wife\" + -0.360*\"cook\" + -0.332*\"customer\" + 0.275*\"tell\" + 0.164*\"dessert\" + -0.156*\"waiter\" + 0.116*\"steak\" + 0.109*\"beef\" + 0.107*\"need\"'),\n",
       " (84,\n",
       "  '-0.631*\"brunch\" + -0.290*\"bread\" + 0.248*\"burrito\" + 0.213*\"dessert\" + -0.184*\"owner\" + -0.182*\"pancake\" + -0.173*\"sunday\" + -0.173*\"salsa\" + -0.146*\"chip\" + 0.143*\"fish\"'),\n",
       " (85,\n",
       "  '-0.454*\"bread\" + 0.416*\"dessert\" + 0.320*\"brunch\" + 0.195*\"cake\" + 0.186*\"check\" + 0.182*\"ice_cream\" + -0.178*\"buffet\" + -0.175*\"wine\" + 0.173*\"wife\" + -0.169*\"bring\"'),\n",
       " (86,\n",
       "  '0.489*\"burrito\" + 0.327*\"bread\" + -0.254*\"salsa\" + -0.224*\"review\" + 0.210*\"fish\" + 0.206*\"walk\" + -0.202*\"chip\" + 0.201*\"line\" + 0.199*\"seat\" + 0.189*\"bowl\"'),\n",
       " (87,\n",
       "  '-0.506*\"wine\" + 0.325*\"bread\" + 0.297*\"wife\" + -0.286*\"brunch\" + -0.242*\"review\" + -0.229*\"burrito\" + 0.211*\"check\" + 0.175*\"selection\" + -0.146*\"waiter\" + -0.138*\"waitress\"'),\n",
       " (88,\n",
       "  '0.565*\"wine\" + -0.309*\"waiter\" + -0.256*\"pork\" + 0.206*\"check\" + -0.201*\"review\" + -0.170*\"burrito\" + -0.160*\"bring\" + -0.153*\"wish\" + -0.152*\"bowl\" + -0.150*\"selection\"'),\n",
       " (89,\n",
       "  '0.490*\"seat\" + 0.401*\"walk\" + -0.263*\"bring\" + -0.232*\"burrito\" + -0.198*\"brunch\" + 0.197*\"waiter\" + 0.177*\"salsa\" + -0.165*\"plate\" + -0.160*\"fish\" + 0.156*\"strip\"'),\n",
       " (90,\n",
       "  '-0.393*\"bring\" + -0.286*\"line\" + -0.285*\"noodle\" + -0.276*\"leave\" + -0.253*\"bowl\" + -0.230*\"wish\" + 0.220*\"waiter\" + 0.186*\"burrito\" + -0.158*\"pork\" + 0.151*\"beef\"'),\n",
       " (91,\n",
       "  '0.612*\"pork\" + -0.273*\"bring\" + -0.241*\"beef\" + 0.226*\"noodle\" + -0.221*\"wish\" + 0.186*\"bread\" + 0.176*\"ramen\" + -0.176*\"walk\" + 0.167*\"wine\" + 0.141*\"broth\"'),\n",
       " (92,\n",
       "  '-0.513*\"noodle\" + 0.490*\"pork\" + -0.368*\"bowl\" + 0.305*\"line\" + 0.165*\"bring\" + -0.164*\"broth\" + 0.134*\"soup\" + -0.121*\"waffle\" + 0.116*\"brisket\" + -0.099*\"ramen\"'),\n",
       " (93,\n",
       "  '-0.593*\"pancake\" + 0.286*\"bring\" + -0.280*\"leave\" + 0.259*\"noodle\" + 0.245*\"cake\" + 0.199*\"brunch\" + -0.178*\"bowl\" + -0.165*\"wish\" + -0.154*\"plate\" + -0.137*\"waiter\"'),\n",
       " (94,\n",
       "  '-0.459*\"pancake\" + 0.439*\"line\" + -0.369*\"cake\" + -0.235*\"strip\" + 0.217*\"leave\" + 0.182*\"dessert\" + 0.178*\"plate\" + 0.157*\"brunch\" + 0.152*\"waiter\" + -0.145*\"bring\"'),\n",
       " (95,\n",
       "  '0.534*\"waffle\" + -0.427*\"pancake\" + -0.397*\"line\" + -0.295*\"noodle\" + 0.268*\"wish\" + 0.135*\"leave\" + 0.134*\"bowl\" + 0.131*\"pork\" + 0.106*\"strip\" + 0.100*\"ramen\"'),\n",
       " (96,\n",
       "  '-0.924*\"crepe\" + -0.145*\"waffle\" + 0.134*\"dessert\" + 0.091*\"appetizer\" + -0.070*\"nutella\" + 0.069*\"strip\" + 0.068*\"game\" + 0.067*\"week\" + -0.063*\"ice_cream\" + -0.057*\"bread\"'),\n",
       " (97,\n",
       "  '-0.559*\"game\" + 0.286*\"wish\" + -0.267*\"watch\" + -0.260*\"leave\" + 0.248*\"line\" + -0.247*\"bartender\" + -0.222*\"play\" + 0.157*\"waffle\" + -0.148*\"hour\" + -0.147*\"music\"'),\n",
       " (98,\n",
       "  '0.507*\"dim_sum\" + 0.294*\"leave\" + -0.274*\"line\" + -0.252*\"game\" + -0.243*\"bowl\" + -0.233*\"waffle\" + 0.224*\"wish\" + 0.224*\"seat\" + -0.198*\"slice\" + -0.171*\"strip\"'),\n",
       " (99,\n",
       "  '-0.952*\"bagel\" + -0.132*\"cream\" + 0.093*\"noodle\" + -0.075*\"bowl\" + -0.071*\"salmon\" + -0.058*\"ramen\" + 0.055*\"waffle\" + 0.054*\"wish\" + 0.053*\"dim_sum\" + 0.052*\"coffee\"')]"
      ]
     },
     "execution_count": 126,
     "metadata": {},
     "output_type": "execute_result"
    }
   ],
   "source": [
    "lsi_all.show_topics()"
   ]
  },
  {
   "cell_type": "code",
   "execution_count": null,
   "metadata": {},
   "outputs": [],
   "source": []
  },
  {
   "cell_type": "code",
   "execution_count": null,
   "metadata": {},
   "outputs": [],
   "source": []
  },
  {
   "cell_type": "code",
   "execution_count": 102,
   "metadata": {},
   "outputs": [],
   "source": [
    "# LSA\n",
    "from gensim import corpora, models, similarities, matutils\n",
    "\n",
    "# Convert sparse matrix of counts to a gensim corpus\n",
    "# Need to transpose it for gensim which wants terms by docs instead of docs by terms\n",
    "tfidf_pos_corpus = matutils.Sparse2Corpus(p_vectors.transpose())\n",
    "tfidf_neg_corpus = matutils.Sparse2Corpus(n_vectors.transpose())\n",
    "\n",
    "# Row indices\n",
    "id2word_pos = dict((v,k) for k,v in tfidf_pos.vocabulary_.items())\n",
    "id2word_neg = dict((v,k) for k,v in tfidf_neg.vocabulary_.items())\n",
    "\n",
    "# This is a hack for Python 3!\n",
    "id2word_pos = corpora.Dictionary.from_corpus(tfidf_pos_corpus, id2word=id2word_pos)\n",
    "id2word_neg = corpora.Dictionary.from_corpus(tfidf_neg_corpus, id2word=id2word_neg)"
   ]
  },
  {
   "cell_type": "code",
   "execution_count": 103,
   "metadata": {},
   "outputs": [],
   "source": [
    "# create LSA model\n",
    "num_topics = 10\n",
    "lsi_pos = models.LsiModel(tfidf_pos_corpus, id2word=id2word_pos, num_topics=num_topics)\n",
    "lsi_neg = models.LsiModel(tfidf_neg_corpus, id2word=id2word_neg, num_topics=num_topics)"
   ]
  },
  {
   "cell_type": "code",
   "execution_count": null,
   "metadata": {},
   "outputs": [],
   "source": []
  },
  {
   "cell_type": "code",
   "execution_count": 111,
   "metadata": {},
   "outputs": [
    {
     "data": {
      "text/plain": [
       "10"
      ]
     },
     "execution_count": 111,
     "metadata": {},
     "output_type": "execute_result"
    }
   ],
   "source": [
    "len(lsi_pos.get_topics())"
   ]
  },
  {
   "cell_type": "code",
   "execution_count": null,
   "metadata": {},
   "outputs": [],
   "source": []
  },
  {
   "cell_type": "code",
   "execution_count": 104,
   "metadata": {},
   "outputs": [
    {
     "name": "stdout",
     "output_type": "stream",
     "text": [
      "Top 5 topics for POSITIVE reviews\n",
      "---------------------------------\n",
      "[(0,\n",
      "  '0.450*\"food\" + 0.307*\"love\" + 0.273*\"service\" + 0.239*\"time\" + '\n",
      "  '0.146*\"chicken\" + 0.127*\"menu\" + 0.127*\"staff\" + 0.124*\"dollar\" + '\n",
      "  '0.112*\"drink\" + 0.104*\"salad\"'),\n",
      " (1,\n",
      "  '0.702*\"food\" + -0.575*\"love\" + 0.239*\"service\" + -0.139*\"pizza\" + '\n",
      "  '-0.107*\"chicken\" + -0.087*\"salad\" + -0.069*\"sandwich\" + -0.068*\"cheese\" + '\n",
      "  '-0.067*\"burger\" + -0.067*\"sauce\"'),\n",
      " (2,\n",
      "  '-0.746*\"love\" + -0.372*\"food\" + 0.157*\"dollar\" + 0.146*\"time\" + '\n",
      "  '0.132*\"chicken\" + 0.096*\"menu\" + 0.096*\"pizza\" + 0.093*\"salad\" + '\n",
      "  '0.081*\"sauce\" + 0.080*\"cheese\"'),\n",
      " (3,\n",
      "  '-0.912*\"service\" + 0.331*\"food\" + 0.144*\"staff\" + -0.077*\"customer\" + '\n",
      "  '0.067*\"time\" + 0.053*\"chicken\" + 0.051*\"wait\" + 0.037*\"dollar\" + '\n",
      "  '-0.036*\"love\" + -0.033*\"sushi\"'),\n",
      " (4,\n",
      "  '0.838*\"time\" + -0.305*\"chicken\" + -0.153*\"dollar\" + -0.121*\"salad\" + '\n",
      "  '0.107*\"pizza\" + 0.092*\"wait\" + 0.091*\"staff\" + -0.088*\"taco\" + '\n",
      "  '-0.088*\"rice\" + -0.087*\"sauce\"')]\n"
     ]
    }
   ],
   "source": [
    "topics_to_print = 5\n",
    "\n",
    "# look at top positive topics\n",
    "print('Top %d topics for POSITIVE reviews' %(topics_to_print))\n",
    "print('-'*33)\n",
    "pprint(lsi_pos.show_topics()[0:topics_to_print])"
   ]
  },
  {
   "cell_type": "code",
   "execution_count": 105,
   "metadata": {},
   "outputs": [
    {
     "name": "stdout",
     "output_type": "stream",
     "text": [
      "Top 5 topics for NEGATIVE reviews\n",
      "---------------------------------\n",
      "[(0,\n",
      "  '0.398*\"food\" + 0.234*\"service\" + 0.231*\"wait\" + 0.222*\"time\" + '\n",
      "  '0.204*\"minute\" + 0.177*\"table\" + 0.176*\"dollar\" + 0.149*\"drink\" + '\n",
      "  '0.144*\"server\" + 0.135*\"tell\"'),\n",
      " (1,\n",
      "  '0.474*\"wait\" + 0.393*\"minute\" + -0.351*\"dollar\" + -0.242*\"chicken\" + '\n",
      "  '-0.205*\"taste\" + 0.194*\"table\" + -0.158*\"price\" + 0.127*\"seat\" + '\n",
      "  '-0.125*\"sauce\" + -0.112*\"salad\"'),\n",
      " (2,\n",
      "  '-0.790*\"food\" + -0.270*\"service\" + 0.253*\"dollar\" + 0.204*\"pizza\" + '\n",
      "  '0.120*\"tell\" + 0.109*\"minute\" + 0.093*\"table\" + 0.089*\"salad\" + '\n",
      "  '0.088*\"wait\" + 0.087*\"chicken\"'),\n",
      " (3,\n",
      "  '-0.777*\"pizza\" + 0.349*\"dollar\" + -0.234*\"time\" + 0.175*\"drink\" + '\n",
      "  '0.135*\"table\" + -0.123*\"service\" + 0.104*\"server\" + -0.094*\"chicken\" + '\n",
      "  '0.081*\"burger\" + -0.080*\"location\"'),\n",
      " (4,\n",
      "  '0.650*\"service\" + -0.368*\"chicken\" + -0.259*\"wait\" + -0.247*\"food\" + '\n",
      "  '0.204*\"customer\" + -0.181*\"minute\" + 0.180*\"dollar\" + -0.167*\"taste\" + '\n",
      "  '-0.103*\"rice\" + -0.096*\"sauce\"')]\n"
     ]
    }
   ],
   "source": [
    "topics_to_print = 5\n",
    "# look at top negative topics\n",
    "print('Top %d topics for NEGATIVE reviews' %(topics_to_print))\n",
    "print('-'*33)\n",
    "pprint(lsi_neg.show_topics()[0:topics_to_print])"
   ]
  },
  {
   "cell_type": "code",
   "execution_count": 106,
   "metadata": {},
   "outputs": [
    {
     "name": "stdout",
     "output_type": "stream",
     "text": [
      "Wall time: 48.7 s\n"
     ]
    }
   ],
   "source": [
    "%%time\n",
    "# negative values in LSA topics are annoying\n",
    "# let's see if we can fix that with NMF\n",
    "from sklearn.decomposition import NMF\n",
    "\n",
    "# change num_topics\n",
    "num_topics = 6\n",
    "\n",
    "nmf_pos = NMF(n_components=num_topics)\n",
    "W_pos = nmf_pos.fit_transform(p_vectors)\n",
    "H_pos = nmf_pos.components_\n",
    "\n",
    "nmf_neg = NMF(n_components=num_topics)\n",
    "W_neg = nmf_neg.fit_transform(n_vectors)\n",
    "H_neg = nmf_neg.components_"
   ]
  },
  {
   "cell_type": "code",
   "execution_count": null,
   "metadata": {},
   "outputs": [],
   "source": []
  },
  {
   "cell_type": "code",
   "execution_count": null,
   "metadata": {},
   "outputs": [],
   "source": []
  },
  {
   "cell_type": "code",
   "execution_count": 70,
   "metadata": {},
   "outputs": [
    {
     "name": "stdout",
     "output_type": "stream",
     "text": [
      "Top topics + words for POSITIVE reviews\n",
      "---------------------------------------\n",
      "Topic 0:   4.431*chicken, 3.873*dollar, 3.397*menu, 2.810*salad, 2.776*burger, 2.489*lunch\n",
      "Topic 1:   12.800*food, 1.064*staff, 0.587*price, 0.547*atmosphere, 0.527*drink, 0.517*server\n",
      "Topic 2:   12.552*love, 0.550*staff, 0.496*atmosphere, 0.366*family, 0.316*husband, 0.238*location\n",
      "Topic 3:   12.291*service, 1.128*customer, 0.469*atmosphere, 0.415*star, 0.365*thank, 0.345*price\n",
      "Topic 4:   11.093*pizza, 0.987*crust, 0.771*salad, 0.760*slice, 0.757*cheese, 0.740*wing\n",
      "Topic 5:   8.381*will, 7.179*time, 1.050*staff, 1.009*visit, 0.906*vegas, 0.632*wait\n",
      "\n",
      "Top topics + words for NEGATIVE reviews\n",
      "---------------------------------------\n",
      "Topic 0:   4.574*time, 3.337*will, 2.989*service, 2.549*server, 2.378*drink, 2.350*table\n",
      "Topic 1:   5.990*wait, 5.017*minute, 1.659*table, 1.363*seat, 1.312*hour, 0.755*tell\n",
      "Topic 2:   9.269*food, 2.394*service, 0.801*price, 0.768*quality, 0.406*star, 0.387*buffet\n",
      "Topic 3:   8.166*pizza, 0.750*cheese, 0.748*crust, 0.597*slice, 0.559*wing, 0.522*delivery\n",
      "Topic 4:   4.528*chicken, 2.976*taste, 1.949*sauce, 1.947*salad, 1.749*rice, 1.459*flavor\n",
      "Topic 5:   8.222*dollar, 2.153*price, 1.978*burger, 1.420*charge, 0.757*bill, 0.691*buffet\n"
     ]
    }
   ],
   "source": [
    "def display_topics(model, feature_names, num_topics, no_top_words):\n",
    "    for topic_idx, topic in enumerate(model.components_):\n",
    "        if topic_idx < num_topics:\n",
    "            print(\"{:11}\".format(\"Topic %d:\" %(topic_idx)), end='')\n",
    "            print(\", \".join(['{:04.3f}*'.format(topic[i])+feature_names[i] \\\n",
    "                             for i in topic.argsort()[:-no_top_words-1:-1]]))\n",
    "\n",
    "no_topics = num_topics\n",
    "no_top_words = 6\n",
    "\n",
    "print('Top topics + words for POSITIVE reviews')\n",
    "print('-'*39)\n",
    "display_topics(nmf_pos, tfidf_pos.get_feature_names(), no_topics, no_top_words)\n",
    "\n",
    "print('\\nTop topics + words for NEGATIVE reviews')\n",
    "print('-'*39)\n",
    "display_topics(nmf_neg, tfidf_neg.get_feature_names(), no_topics, no_top_words)"
   ]
  },
  {
   "cell_type": "code",
   "execution_count": 65,
   "metadata": {},
   "outputs": [
    {
     "name": "stdout",
     "output_type": "stream",
     "text": [
      "Positive Review\n",
      "1903275\n",
      "This is the best food I have had since arriving in Phoenix.  Traditional Balkan cuisine, perfectly done, and served up with lots of sour cream and adjar- the sweet red pepper sauce.  We had the sausage( get the small), stuffed peppers, chicken soup, a gyro that is authentic and fresh and so much better than the ordinary ones you get after a night of swilling beer.  All of it was great.  You need to try this.\n",
      "\n",
      "Negative Review\n",
      "81246\n",
      "Went here for brunch this past weekend... AWFUL AWFUL SERVICE!!! The food was decent, but man I can't stress enough how bad the service was. The hostesses were pleasant and were kind enough to take out coats... but things went downhill very quickly after. \\nOur waiter didn't appear until 30 minutes after we had helped ourselves to the buffet style brunch. He was cold, and seemed uninterested in his job. While making their rounds, they constantly ignored our corner of the room, leaving us with piles of dirty plates and empty coffee mugs. \\nNear the end of our meal, I witnessed the floor manager approach the table of 6 beside us, and ask them to leave because the \"next reservation had arrived\". Completely unprofessional and EMBARASSING. \\nOnce the party had left, i overheard the two waiters cleaning up Complaining about how some people \"really can't take a hint\". \\nOur waiter finally cracked a smile when handing us the bill, expecting some sort of a tip from us... Get real\\n\\nUNREAL. so incredibly disappointed. I will NEVER return to this restaurant and will let as many people know my terrible experience here.\n"
     ]
    }
   ],
   "source": [
    "# look at a random positive and negative reviews\n",
    "print('Positive Review')\n",
    "review_num = np.random.randint(0, high=len(p_reviews))\n",
    "print(review_num)\n",
    "print(review_file.text[review_file.review_stars>3].iloc[review_num])\n",
    "\n",
    "print('\\nNegative Review')\n",
    "review_num = np.random.randint(0, high=len(n_reviews))\n",
    "print(review_num)\n",
    "print(review_file.text[review_file.review_stars<3].iloc[review_num])"
   ]
  },
  {
   "cell_type": "code",
   "execution_count": 66,
   "metadata": {},
   "outputs": [
    {
     "ename": "KeyboardInterrupt",
     "evalue": "",
     "output_type": "error",
     "traceback": [
      "\u001b[1;31m---------------------------------------------------------------------------\u001b[0m",
      "\u001b[1;31mKeyboardInterrupt\u001b[0m                         Traceback (most recent call last)",
      "\u001b[1;32m<ipython-input-66-82ad266390cc>\u001b[0m in \u001b[0;36m<module>\u001b[1;34m\u001b[0m\n\u001b[0;32m      4\u001b[0m \u001b[0mcosines\u001b[0m \u001b[1;33m=\u001b[0m \u001b[1;33m{\u001b[0m\u001b[1;33m}\u001b[0m\u001b[1;33m\u001b[0m\u001b[1;33m\u001b[0m\u001b[0m\n\u001b[0;32m      5\u001b[0m \u001b[1;32mfor\u001b[0m \u001b[0mind\u001b[0m\u001b[1;33m,\u001b[0m \u001b[0mreview\u001b[0m \u001b[1;32min\u001b[0m \u001b[0menumerate\u001b[0m\u001b[1;33m(\u001b[0m\u001b[0mW_pos\u001b[0m\u001b[1;33m)\u001b[0m\u001b[1;33m:\u001b[0m\u001b[1;33m\u001b[0m\u001b[1;33m\u001b[0m\u001b[0m\n\u001b[1;32m----> 6\u001b[1;33m     \u001b[0msimilarity\u001b[0m \u001b[1;33m=\u001b[0m \u001b[0msmp\u001b[0m\u001b[1;33m.\u001b[0m\u001b[0mcosine_similarity\u001b[0m\u001b[1;33m(\u001b[0m\u001b[0mW_pos\u001b[0m\u001b[1;33m[\u001b[0m\u001b[0mreview_num\u001b[0m\u001b[1;33m]\u001b[0m\u001b[1;33m.\u001b[0m\u001b[0mreshape\u001b[0m\u001b[1;33m(\u001b[0m\u001b[1;36m1\u001b[0m\u001b[1;33m,\u001b[0m\u001b[1;33m-\u001b[0m\u001b[1;36m1\u001b[0m\u001b[1;33m)\u001b[0m\u001b[1;33m,\u001b[0m \u001b[0mreview\u001b[0m\u001b[1;33m.\u001b[0m\u001b[0mreshape\u001b[0m\u001b[1;33m(\u001b[0m\u001b[1;36m1\u001b[0m\u001b[1;33m,\u001b[0m\u001b[1;33m-\u001b[0m\u001b[1;36m1\u001b[0m\u001b[1;33m)\u001b[0m\u001b[1;33m)\u001b[0m\u001b[1;33m\u001b[0m\u001b[1;33m\u001b[0m\u001b[0m\n\u001b[0m\u001b[0;32m      7\u001b[0m     \u001b[0mcosines\u001b[0m\u001b[1;33m[\u001b[0m\u001b[0mind\u001b[0m\u001b[1;33m]\u001b[0m \u001b[1;33m=\u001b[0m \u001b[0msimilarity\u001b[0m\u001b[1;33m[\u001b[0m\u001b[1;36m0\u001b[0m\u001b[1;33m]\u001b[0m\u001b[1;33m[\u001b[0m\u001b[1;36m0\u001b[0m\u001b[1;33m]\u001b[0m\u001b[1;33m\u001b[0m\u001b[1;33m\u001b[0m\u001b[0m\n",
      "\u001b[1;32m~\\Anaconda3\\lib\\site-packages\\sklearn\\metrics\\pairwise.py\u001b[0m in \u001b[0;36mcosine_similarity\u001b[1;34m(X, Y, dense_output)\u001b[0m\n\u001b[0;32m    900\u001b[0m         \u001b[0mY_normalized\u001b[0m \u001b[1;33m=\u001b[0m \u001b[0mX_normalized\u001b[0m\u001b[1;33m\u001b[0m\u001b[1;33m\u001b[0m\u001b[0m\n\u001b[0;32m    901\u001b[0m     \u001b[1;32melse\u001b[0m\u001b[1;33m:\u001b[0m\u001b[1;33m\u001b[0m\u001b[1;33m\u001b[0m\u001b[0m\n\u001b[1;32m--> 902\u001b[1;33m         \u001b[0mY_normalized\u001b[0m \u001b[1;33m=\u001b[0m \u001b[0mnormalize\u001b[0m\u001b[1;33m(\u001b[0m\u001b[0mY\u001b[0m\u001b[1;33m,\u001b[0m \u001b[0mcopy\u001b[0m\u001b[1;33m=\u001b[0m\u001b[1;32mTrue\u001b[0m\u001b[1;33m)\u001b[0m\u001b[1;33m\u001b[0m\u001b[1;33m\u001b[0m\u001b[0m\n\u001b[0m\u001b[0;32m    903\u001b[0m \u001b[1;33m\u001b[0m\u001b[0m\n\u001b[0;32m    904\u001b[0m     K = safe_sparse_dot(X_normalized, Y_normalized.T,\n",
      "\u001b[1;32m~\\Anaconda3\\lib\\site-packages\\sklearn\\preprocessing\\data.py\u001b[0m in \u001b[0;36mnormalize\u001b[1;34m(X, norm, axis, copy, return_norm)\u001b[0m\n\u001b[0;32m   1572\u001b[0m \u001b[1;33m\u001b[0m\u001b[0m\n\u001b[0;32m   1573\u001b[0m     X = check_array(X, sparse_format, copy=copy,\n\u001b[1;32m-> 1574\u001b[1;33m                     estimator='the normalize function', dtype=FLOAT_DTYPES)\n\u001b[0m\u001b[0;32m   1575\u001b[0m     \u001b[1;32mif\u001b[0m \u001b[0maxis\u001b[0m \u001b[1;33m==\u001b[0m \u001b[1;36m0\u001b[0m\u001b[1;33m:\u001b[0m\u001b[1;33m\u001b[0m\u001b[1;33m\u001b[0m\u001b[0m\n\u001b[0;32m   1576\u001b[0m         \u001b[0mX\u001b[0m \u001b[1;33m=\u001b[0m \u001b[0mX\u001b[0m\u001b[1;33m.\u001b[0m\u001b[0mT\u001b[0m\u001b[1;33m\u001b[0m\u001b[1;33m\u001b[0m\u001b[0m\n",
      "\u001b[1;32m~\\Anaconda3\\lib\\site-packages\\sklearn\\utils\\validation.py\u001b[0m in \u001b[0;36mcheck_array\u001b[1;34m(array, accept_sparse, accept_large_sparse, dtype, order, copy, force_all_finite, ensure_2d, allow_nd, ensure_min_samples, ensure_min_features, warn_on_dtype, estimator)\u001b[0m\n\u001b[0;32m    596\u001b[0m \u001b[1;33m\u001b[0m\u001b[0m\n\u001b[0;32m    597\u001b[0m     \u001b[1;32mif\u001b[0m \u001b[0mcopy\u001b[0m \u001b[1;32mand\u001b[0m \u001b[0mnp\u001b[0m\u001b[1;33m.\u001b[0m\u001b[0mmay_share_memory\u001b[0m\u001b[1;33m(\u001b[0m\u001b[0marray\u001b[0m\u001b[1;33m,\u001b[0m \u001b[0marray_orig\u001b[0m\u001b[1;33m)\u001b[0m\u001b[1;33m:\u001b[0m\u001b[1;33m\u001b[0m\u001b[1;33m\u001b[0m\u001b[0m\n\u001b[1;32m--> 598\u001b[1;33m         \u001b[0marray\u001b[0m \u001b[1;33m=\u001b[0m \u001b[0mnp\u001b[0m\u001b[1;33m.\u001b[0m\u001b[0marray\u001b[0m\u001b[1;33m(\u001b[0m\u001b[0marray\u001b[0m\u001b[1;33m,\u001b[0m \u001b[0mdtype\u001b[0m\u001b[1;33m=\u001b[0m\u001b[0mdtype\u001b[0m\u001b[1;33m,\u001b[0m \u001b[0morder\u001b[0m\u001b[1;33m=\u001b[0m\u001b[0morder\u001b[0m\u001b[1;33m)\u001b[0m\u001b[1;33m\u001b[0m\u001b[1;33m\u001b[0m\u001b[0m\n\u001b[0m\u001b[0;32m    599\u001b[0m \u001b[1;33m\u001b[0m\u001b[0m\n\u001b[0;32m    600\u001b[0m     if (warn_on_dtype and dtypes_orig is not None and\n",
      "\u001b[1;31mKeyboardInterrupt\u001b[0m: "
     ]
    }
   ],
   "source": [
    "# compute cosine similarities of this review with all other reviews in the new space\n",
    "import sklearn.metrics.pairwise as smp\n",
    "\n",
    "cosines = {}\n",
    "for ind, review in enumerate(W_pos):\n",
    "    similarity = smp.cosine_similarity(W_pos[review_num].reshape(1,-1), review.reshape(1,-1))\n",
    "    cosines[ind] = similarity[0][0]"
   ]
  },
  {
   "cell_type": "code",
   "execution_count": null,
   "metadata": {},
   "outputs": [],
   "source": [
    "# get top 3 matching reviews\n",
    "for n in sorted(cosines, key=cosines.get, reverse=True)[1:4]:\n",
    "    print('-'*50)\n",
    "    print('>> Similarity {:.3f}'.format(cosines[n]))\n",
    "    print(random_pos[n])\n",
    "print('-'*50)"
   ]
  },
  {
   "cell_type": "code",
   "execution_count": 23,
   "metadata": {},
   "outputs": [],
   "source": [
    "\n",
    "from sklearn.feature_extraction.text import CountVectorizer\n",
    "\n",
    "# Create a vectorizer object to generate term document counts\n",
    "cv_pos = CountVectorizer(stop_words=stop_words, min_df=10, max_df=0.5, \n",
    "                        ngram_range=(1,1), token_pattern='[a-z][a-z]+')\n",
    "\n",
    "cv_neg = CountVectorizer(stop_words=stop_words, min_df=10, max_df=0.5, \n",
    "                        ngram_range=(1,1), token_pattern='[a-z][a-z]+')\n",
    "\n",
    "# Get random subset of reviews\n",
    "np.random.seed(38)\n",
    "num_reviews = 15000\n",
    "cv_random_neg = np.random.choice(n_reviews, size=num_reviews)\n",
    "cv_random_pos = np.random.choice(p_reviews, size=num_reviews)\n",
    "\n",
    "# replace words from defined dictionary 'dicty'\n",
    "cv_random_neg = [replace_words(w, dicty) for w in cv_random_neg]\n",
    "cv_random_pos = [replace_words(w, dicty) for w in cv_random_pos]\n",
    "\n",
    "# Get the cv vectors\n",
    "cv_neg_vectors = cv_neg.fit_transform(cv_random_neg).transpose()\n",
    "cv_pos_vectors = cv_pos.fit_transform(cv_random_pos).transpose()"
   ]
  },
  {
   "cell_type": "code",
   "execution_count": 24,
   "metadata": {},
   "outputs": [],
   "source": [
    "\n",
    "# Convert sparse matrix of counts to a gensim corpus\n",
    "corpus_neg = matutils.Sparse2Corpus(cv_neg_vectors)\n",
    "corpus_pos = matutils.Sparse2Corpus(cv_pos_vectors)\n",
    "\n",
    "# save a mapping (dict) of row id to word (token) for later use by gensim \n",
    "id2word_cv_pos = dict((v, k) for k, v in cv_pos.vocabulary_.items())\n",
    "id2word_cv_neg = dict((v, k) for k, v in cv_neg.vocabulary_.items())"
   ]
  },
  {
   "cell_type": "code",
   "execution_count": 25,
   "metadata": {},
   "outputs": [
    {
     "name": "stdout",
     "output_type": "stream",
     "text": [
      "Postive Reviews:  736,919\n",
      "Negative Reviews:  216,632\n"
     ]
    }
   ],
   "source": [
    "print('Postive Reviews:  {:,}'.format(len(p_reviews)))\n",
    "print('Negative Reviews:  {:,}'.format(len(n_reviews)))"
   ]
  },
  {
   "cell_type": "code",
   "execution_count": 26,
   "metadata": {},
   "outputs": [
    {
     "name": "stdout",
     "output_type": "stream",
     "text": [
      "Wall time: 1min 18s\n"
     ]
    }
   ],
   "source": [
    "\n",
    "%%time\n",
    "# Create a vectorizer object to generate term document counts\n",
    "tfidf_pos = TfidfVectorizer(stop_words=stop_words, min_df=10, max_df=0.5, \n",
    "                        ngram_range=(1,1), token_pattern='[a-z][a-z]+')\n",
    "\n",
    "tfidf_neg = TfidfVectorizer(stop_words=stop_words, min_df=10, max_df=0.5, \n",
    "                        ngram_range=(1,1), token_pattern='[a-z][a-z]+')\n",
    "\n",
    "# replace words with defined dictionary 'dicty'\n",
    "pos_reviews = [replace_words(w, dicty) for w in p_reviews]\n",
    "neg_reviews = [replace_words(w, dicty) for w in n_reviews]\n",
    "\n",
    "# Get the vectors\n",
    "neg_vectors = tfidf_neg.fit_transform(n_reviews)\n",
    "pos_vectors = tfidf_pos.fit_transform(p_reviews)"
   ]
  },
  {
   "cell_type": "code",
   "execution_count": 27,
   "metadata": {},
   "outputs": [
    {
     "name": "stdout",
     "output_type": "stream",
     "text": [
      "Wall time: 2min 4s\n"
     ]
    }
   ],
   "source": [
    "%%time\n",
    "# NMF for all reviews\n",
    "from sklearn.decomposition import NMF\n",
    "\n",
    "# change num_topics\n",
    "num_topics = 6\n",
    "\n",
    "nmf_pos = NMF(n_components=num_topics)\n",
    "W_pos = nmf_pos.fit_transform(pos_vectors)\n",
    "H_pos = nmf_pos.components_\n",
    "\n",
    "nmf_neg = NMF(n_components=num_topics)\n",
    "W_neg = nmf_neg.fit_transform(neg_vectors)\n",
    "H_neg = nmf_neg.components_"
   ]
  },
  {
   "cell_type": "code",
   "execution_count": 28,
   "metadata": {},
   "outputs": [
    {
     "name": "stdout",
     "output_type": "stream",
     "text": [
      "Topics for POSITIVE reviews\n",
      "---------------------------------------\n",
      "Topic 0:   2.282*chicken, 1.877*time, 1.820*just, 1.761*ordered, 1.615*delicious, 1.420*salad\n",
      "Topic 1:   6.102*great, 3.160*service, 2.849*food, 1.256*atmosphere, 1.064*excellent, 0.762*awesome\n",
      "Topic 2:   7.048*pizza, 1.224*crust, 0.858*wings, 0.572*best, 0.424*pizzas, 0.419*cheese\n",
      "Topic 3:   4.346*place, 3.819*love, 1.889*amazing, 1.880*staff, 1.824*friendly, 1.786*best\n",
      "Topic 4:   7.635*good, 2.582*really, 1.904*food, 1.155*nice, 1.110*pretty, 1.042*service\n",
      "Topic 5:   4.489*sushi, 2.767*happy, 2.628*hour, 1.165*roll, 1.037*rolls, 0.487*bar\n",
      "\n",
      "Topics for NEGATIVE reviews\n",
      "---------------------------------------\n",
      "Topic 0:   3.203*place, 1.713*just, 1.696*good, 1.449*really, 1.397*don, 0.949*great\n",
      "Topic 1:   2.453*chicken, 1.442*ordered, 1.102*sauce, 1.099*salad, 1.002*rice, 0.914*cheese\n",
      "Topic 2:   5.358*pizza, 0.798*crust, 0.558*wings, 0.531*cheese, 0.373*sauce, 0.357*pizzas\n",
      "Topic 3:   2.437*minutes, 1.964*table, 1.707*came, 1.511*server, 1.328*waited, 1.269*asked\n",
      "Topic 4:   3.800*order, 1.261*time, 0.866*called, 0.720*wrong, 0.693*told, 0.688*location\n",
      "Topic 5:   4.488*service, 1.547*horrible, 1.277*customer, 1.240*terrible, 1.207*slow, 0.981*bad\n"
     ]
    }
   ],
   "source": [
    "\n",
    "no_topics = num_topics\n",
    "no_top_words = 6\n",
    "\n",
    "print('Topics for POSITIVE reviews')\n",
    "print('-'*39)\n",
    "display_topics(nmf_pos, tfidf_pos.get_feature_names(), no_topics, no_top_words)\n",
    "\n",
    "print('\\nTopics for NEGATIVE reviews')\n",
    "print('-'*39)\n",
    "display_topics(nmf_neg, tfidf_neg.get_feature_names(), no_topics, no_top_words)"
   ]
  },
  {
   "cell_type": "code",
   "execution_count": null,
   "metadata": {},
   "outputs": [],
   "source": []
  },
  {
   "cell_type": "code",
   "execution_count": 29,
   "metadata": {},
   "outputs": [],
   "source": [
    "\n",
    "# create topic dictionaries to summarize the topic meanings\n",
    "pos_topics = {0:'time/order/service', 1:'service/atmosphere', 2:'service/pizza', \n",
    "              3:'serivce/atmosphere/staff', 4:'friendly_staff', 5:'bar/happy_hour'}\n",
    "\n",
    "neg_topics = {0:'beer/people', 1:'food/chicken/salad', 2:'food/pizza', \n",
    "              3:'wait/table', 4:'order/time/location', 5:'bad_service'}"
   ]
  },
  {
   "cell_type": "raw",
   "metadata": {},
   "source": []
  },
  {
   "cell_type": "code",
   "execution_count": 30,
   "metadata": {},
   "outputs": [],
   "source": [
    "# we create dataframes for positive & negative reviews that we can\n",
    "# later add topic information to\n",
    "df_pos = review_file[['business_id', 'review_stars', 'text', 'review_length']][review_file.review_stars>3].reset_index()\n",
    "df_neg = review_file[['business_id', 'review_stars', 'text', 'review_length']][review_file.review_stars<3].reset_index()\n",
    "df_pos.drop(labels='index', axis=1, inplace=True)\n",
    "df_neg.drop(labels='index', axis=1, inplace=True)"
   ]
  },
  {
   "cell_type": "code",
   "execution_count": 31,
   "metadata": {},
   "outputs": [
    {
     "name": "stdout",
     "output_type": "stream",
     "text": [
      "Topic weights :  [0.01274134 0.01938411 0.         0.00407995 0.0027115  0.        ]\n",
      "Sum of weights:  0.03891689170199594\n"
     ]
    }
   ],
   "source": [
    "\n",
    "print('Topic weights : ', W_pos[0])\n",
    "print('Sum of weights: ', W_pos[0].sum())"
   ]
  },
  {
   "cell_type": "code",
   "execution_count": 32,
   "metadata": {},
   "outputs": [
    {
     "name": "stdout",
     "output_type": "stream",
     "text": [
      "Normalized Topic weights :  [[0.32739864 0.49808983 0.         0.10483746 0.06967407 0.        ]]\n",
      "Sum of normalized weights:  1.0\n"
     ]
    }
   ],
   "source": [
    "\n",
    "from sklearn.preprocessing import normalize\n",
    "print('Normalized Topic weights : ', normalize(W_pos[0].reshape(1,-1), norm='l1'))\n",
    "print('Sum of normalized weights: ', normalize(W_pos[0].reshape(1,-1), norm='l1').sum())"
   ]
  },
  {
   "cell_type": "code",
   "execution_count": 33,
   "metadata": {},
   "outputs": [],
   "source": [
    "\n",
    "# add normalized topic weights to each review\n",
    "df_pos = pd.concat([df_pos, pd.DataFrame(normalize(W_pos, norm='l1'))], axis=1)\n",
    "df_neg = pd.concat([df_neg, pd.DataFrame(normalize(W_neg, norm='l1'))], axis=1)"
   ]
  },
  {
   "cell_type": "code",
   "execution_count": 34,
   "metadata": {},
   "outputs": [
    {
     "data": {
      "text/html": [
       "<div>\n",
       "<style scoped>\n",
       "    .dataframe tbody tr th:only-of-type {\n",
       "        vertical-align: middle;\n",
       "    }\n",
       "\n",
       "    .dataframe tbody tr th {\n",
       "        vertical-align: top;\n",
       "    }\n",
       "\n",
       "    .dataframe thead th {\n",
       "        text-align: right;\n",
       "    }\n",
       "</style>\n",
       "<table border=\"1\" class=\"dataframe\">\n",
       "  <thead>\n",
       "    <tr style=\"text-align: right;\">\n",
       "      <th></th>\n",
       "      <th>business_id</th>\n",
       "      <th>review_stars</th>\n",
       "      <th>text</th>\n",
       "      <th>review_length</th>\n",
       "      <th>0</th>\n",
       "      <th>1</th>\n",
       "      <th>2</th>\n",
       "      <th>3</th>\n",
       "      <th>4</th>\n",
       "      <th>5</th>\n",
       "    </tr>\n",
       "  </thead>\n",
       "  <tbody>\n",
       "    <tr>\n",
       "      <th>0</th>\n",
       "      <td>44YFU284Z3KDEy25QyVoUw</td>\n",
       "      <td>2.0</td>\n",
       "      <td>This 2 star rating is for the service. Althoug...</td>\n",
       "      <td>518</td>\n",
       "      <td>0.012415</td>\n",
       "      <td>0.013928</td>\n",
       "      <td>0.000000</td>\n",
       "      <td>0.760511</td>\n",
       "      <td>0.000000</td>\n",
       "      <td>0.213146</td>\n",
       "    </tr>\n",
       "    <tr>\n",
       "      <th>1</th>\n",
       "      <td>44YFU284Z3KDEy25QyVoUw</td>\n",
       "      <td>2.0</td>\n",
       "      <td>After reading many decent reviews and seeing h...</td>\n",
       "      <td>258</td>\n",
       "      <td>0.834317</td>\n",
       "      <td>0.071897</td>\n",
       "      <td>0.010393</td>\n",
       "      <td>0.000000</td>\n",
       "      <td>0.070177</td>\n",
       "      <td>0.013216</td>\n",
       "    </tr>\n",
       "    <tr>\n",
       "      <th>2</th>\n",
       "      <td>44YFU284Z3KDEy25QyVoUw</td>\n",
       "      <td>1.0</td>\n",
       "      <td>The service to grab a seat is slow like 20 min...</td>\n",
       "      <td>366</td>\n",
       "      <td>0.046787</td>\n",
       "      <td>0.004027</td>\n",
       "      <td>0.000404</td>\n",
       "      <td>0.405789</td>\n",
       "      <td>0.300758</td>\n",
       "      <td>0.242234</td>\n",
       "    </tr>\n",
       "    <tr>\n",
       "      <th>3</th>\n",
       "      <td>44YFU284Z3KDEy25QyVoUw</td>\n",
       "      <td>2.0</td>\n",
       "      <td>Very disappointed with the lack of flavor in t...</td>\n",
       "      <td>195</td>\n",
       "      <td>0.000000</td>\n",
       "      <td>0.813191</td>\n",
       "      <td>0.016033</td>\n",
       "      <td>0.000000</td>\n",
       "      <td>0.128457</td>\n",
       "      <td>0.042319</td>\n",
       "    </tr>\n",
       "    <tr>\n",
       "      <th>4</th>\n",
       "      <td>44YFU284Z3KDEy25QyVoUw</td>\n",
       "      <td>1.0</td>\n",
       "      <td>The wait staff is as nasty as the food. RUDE A...</td>\n",
       "      <td>448</td>\n",
       "      <td>0.039458</td>\n",
       "      <td>0.382742</td>\n",
       "      <td>0.000000</td>\n",
       "      <td>0.111113</td>\n",
       "      <td>0.000000</td>\n",
       "      <td>0.466687</td>\n",
       "    </tr>\n",
       "  </tbody>\n",
       "</table>\n",
       "</div>"
      ],
      "text/plain": [
       "              business_id  review_stars  \\\n",
       "0  44YFU284Z3KDEy25QyVoUw           2.0   \n",
       "1  44YFU284Z3KDEy25QyVoUw           2.0   \n",
       "2  44YFU284Z3KDEy25QyVoUw           1.0   \n",
       "3  44YFU284Z3KDEy25QyVoUw           2.0   \n",
       "4  44YFU284Z3KDEy25QyVoUw           1.0   \n",
       "\n",
       "                                                text  review_length         0  \\\n",
       "0  This 2 star rating is for the service. Althoug...            518  0.012415   \n",
       "1  After reading many decent reviews and seeing h...            258  0.834317   \n",
       "2  The service to grab a seat is slow like 20 min...            366  0.046787   \n",
       "3  Very disappointed with the lack of flavor in t...            195  0.000000   \n",
       "4  The wait staff is as nasty as the food. RUDE A...            448  0.039458   \n",
       "\n",
       "          1         2         3         4         5  \n",
       "0  0.013928  0.000000  0.760511  0.000000  0.213146  \n",
       "1  0.071897  0.010393  0.000000  0.070177  0.013216  \n",
       "2  0.004027  0.000404  0.405789  0.300758  0.242234  \n",
       "3  0.813191  0.016033  0.000000  0.128457  0.042319  \n",
       "4  0.382742  0.000000  0.111113  0.000000  0.466687  "
      ]
     },
     "execution_count": 34,
     "metadata": {},
     "output_type": "execute_result"
    }
   ],
   "source": [
    "\n",
    "# peek into a dataframe to ensure it worked right\n",
    "df_neg.head()"
   ]
  },
  {
   "cell_type": "code",
   "execution_count": 35,
   "metadata": {},
   "outputs": [],
   "source": [
    "\n",
    "# group by business_id and apply mean/count functions to columns\n",
    "df_pos_bsns = df_pos.groupby('business_id').agg({'review_stars':'mean', 'text':'count',\n",
    "                                                 'review_length':'mean',0:'mean', \n",
    "                                                 1:'mean', 2:'mean', 3:'mean',\n",
    "                                                 4:'mean', 5:'mean'}).reset_index()\n",
    "df_neg_bsns = df_neg.groupby('business_id').agg({'review_stars':'mean', 'text':'count',\n",
    "                                                 'review_length':'mean',0:'mean', \n",
    "                                                 1:'mean', 2:'mean', 3:'mean',\n",
    "                                                 4:'mean', 5:'mean'}).reset_index()"
   ]
  },
  {
   "cell_type": "code",
   "execution_count": 36,
   "metadata": {},
   "outputs": [
    {
     "data": {
      "text/html": [
       "<div>\n",
       "<style scoped>\n",
       "    .dataframe tbody tr th:only-of-type {\n",
       "        vertical-align: middle;\n",
       "    }\n",
       "\n",
       "    .dataframe tbody tr th {\n",
       "        vertical-align: top;\n",
       "    }\n",
       "\n",
       "    .dataframe thead th {\n",
       "        text-align: right;\n",
       "    }\n",
       "</style>\n",
       "<table border=\"1\" class=\"dataframe\">\n",
       "  <thead>\n",
       "    <tr style=\"text-align: right;\">\n",
       "      <th></th>\n",
       "      <th>business_id</th>\n",
       "      <th>review_stars</th>\n",
       "      <th>text</th>\n",
       "      <th>review_length</th>\n",
       "      <th>0</th>\n",
       "      <th>1</th>\n",
       "      <th>2</th>\n",
       "      <th>3</th>\n",
       "      <th>4</th>\n",
       "      <th>5</th>\n",
       "    </tr>\n",
       "  </thead>\n",
       "  <tbody>\n",
       "    <tr>\n",
       "      <th>0</th>\n",
       "      <td>-01XupAWZEXbdNbxNg5mEg</td>\n",
       "      <td>4.488889</td>\n",
       "      <td>45</td>\n",
       "      <td>593.666667</td>\n",
       "      <td>0.256016</td>\n",
       "      <td>0.254983</td>\n",
       "      <td>0.047231</td>\n",
       "      <td>0.163278</td>\n",
       "      <td>0.173443</td>\n",
       "      <td>0.105050</td>\n",
       "    </tr>\n",
       "    <tr>\n",
       "      <th>1</th>\n",
       "      <td>-050d_XIor1NpCuWkbIVaQ</td>\n",
       "      <td>4.545120</td>\n",
       "      <td>543</td>\n",
       "      <td>766.480663</td>\n",
       "      <td>0.385385</td>\n",
       "      <td>0.114889</td>\n",
       "      <td>0.013322</td>\n",
       "      <td>0.300914</td>\n",
       "      <td>0.143474</td>\n",
       "      <td>0.042015</td>\n",
       "    </tr>\n",
       "    <tr>\n",
       "      <th>2</th>\n",
       "      <td>-092wE7j5HZOogMLAh40zA</td>\n",
       "      <td>4.600000</td>\n",
       "      <td>55</td>\n",
       "      <td>539.727273</td>\n",
       "      <td>0.329510</td>\n",
       "      <td>0.152820</td>\n",
       "      <td>0.014533</td>\n",
       "      <td>0.258739</td>\n",
       "      <td>0.188905</td>\n",
       "      <td>0.055493</td>\n",
       "    </tr>\n",
       "    <tr>\n",
       "      <th>3</th>\n",
       "      <td>-0WegMt6Cy966qlDKhu6jA</td>\n",
       "      <td>4.307692</td>\n",
       "      <td>13</td>\n",
       "      <td>467.769231</td>\n",
       "      <td>0.291615</td>\n",
       "      <td>0.237132</td>\n",
       "      <td>0.018235</td>\n",
       "      <td>0.148809</td>\n",
       "      <td>0.220965</td>\n",
       "      <td>0.083244</td>\n",
       "    </tr>\n",
       "    <tr>\n",
       "      <th>4</th>\n",
       "      <td>-0tgMGl7D9B10YjSN2ujLA</td>\n",
       "      <td>4.421053</td>\n",
       "      <td>76</td>\n",
       "      <td>399.671053</td>\n",
       "      <td>0.187277</td>\n",
       "      <td>0.308735</td>\n",
       "      <td>0.018388</td>\n",
       "      <td>0.205323</td>\n",
       "      <td>0.201018</td>\n",
       "      <td>0.079258</td>\n",
       "    </tr>\n",
       "  </tbody>\n",
       "</table>\n",
       "</div>"
      ],
      "text/plain": [
       "              business_id  review_stars  text  review_length         0  \\\n",
       "0  -01XupAWZEXbdNbxNg5mEg      4.488889    45     593.666667  0.256016   \n",
       "1  -050d_XIor1NpCuWkbIVaQ      4.545120   543     766.480663  0.385385   \n",
       "2  -092wE7j5HZOogMLAh40zA      4.600000    55     539.727273  0.329510   \n",
       "3  -0WegMt6Cy966qlDKhu6jA      4.307692    13     467.769231  0.291615   \n",
       "4  -0tgMGl7D9B10YjSN2ujLA      4.421053    76     399.671053  0.187277   \n",
       "\n",
       "          1         2         3         4         5  \n",
       "0  0.254983  0.047231  0.163278  0.173443  0.105050  \n",
       "1  0.114889  0.013322  0.300914  0.143474  0.042015  \n",
       "2  0.152820  0.014533  0.258739  0.188905  0.055493  \n",
       "3  0.237132  0.018235  0.148809  0.220965  0.083244  \n",
       "4  0.308735  0.018388  0.205323  0.201018  0.079258  "
      ]
     },
     "execution_count": 36,
     "metadata": {},
     "output_type": "execute_result"
    }
   ],
   "source": [
    "df_pos_bsns.head(5)"
   ]
  },
  {
   "cell_type": "code",
   "execution_count": 37,
   "metadata": {},
   "outputs": [
    {
     "data": {
      "text/html": [
       "<div>\n",
       "<style scoped>\n",
       "    .dataframe tbody tr th:only-of-type {\n",
       "        vertical-align: middle;\n",
       "    }\n",
       "\n",
       "    .dataframe tbody tr th {\n",
       "        vertical-align: top;\n",
       "    }\n",
       "\n",
       "    .dataframe thead th {\n",
       "        text-align: right;\n",
       "    }\n",
       "</style>\n",
       "<table border=\"1\" class=\"dataframe\">\n",
       "  <thead>\n",
       "    <tr style=\"text-align: right;\">\n",
       "      <th></th>\n",
       "      <th>business_id</th>\n",
       "      <th>review_stars</th>\n",
       "      <th>text</th>\n",
       "      <th>review_length</th>\n",
       "      <th>0</th>\n",
       "      <th>1</th>\n",
       "      <th>2</th>\n",
       "      <th>3</th>\n",
       "      <th>4</th>\n",
       "      <th>5</th>\n",
       "    </tr>\n",
       "  </thead>\n",
       "  <tbody>\n",
       "    <tr>\n",
       "      <th>0</th>\n",
       "      <td>-01XupAWZEXbdNbxNg5mEg</td>\n",
       "      <td>1.421053</td>\n",
       "      <td>38</td>\n",
       "      <td>601.789474</td>\n",
       "      <td>0.365444</td>\n",
       "      <td>0.178131</td>\n",
       "      <td>0.037723</td>\n",
       "      <td>0.177224</td>\n",
       "      <td>0.080320</td>\n",
       "      <td>0.161158</td>\n",
       "    </tr>\n",
       "    <tr>\n",
       "      <th>1</th>\n",
       "      <td>-050d_XIor1NpCuWkbIVaQ</td>\n",
       "      <td>1.607143</td>\n",
       "      <td>84</td>\n",
       "      <td>922.940476</td>\n",
       "      <td>0.451230</td>\n",
       "      <td>0.150766</td>\n",
       "      <td>0.014057</td>\n",
       "      <td>0.204198</td>\n",
       "      <td>0.109618</td>\n",
       "      <td>0.070132</td>\n",
       "    </tr>\n",
       "    <tr>\n",
       "      <th>2</th>\n",
       "      <td>-092wE7j5HZOogMLAh40zA</td>\n",
       "      <td>1.294118</td>\n",
       "      <td>34</td>\n",
       "      <td>630.970588</td>\n",
       "      <td>0.157546</td>\n",
       "      <td>0.472303</td>\n",
       "      <td>0.013131</td>\n",
       "      <td>0.042274</td>\n",
       "      <td>0.219311</td>\n",
       "      <td>0.095435</td>\n",
       "    </tr>\n",
       "    <tr>\n",
       "      <th>3</th>\n",
       "      <td>-0WegMt6Cy966qlDKhu6jA</td>\n",
       "      <td>1.357143</td>\n",
       "      <td>70</td>\n",
       "      <td>639.171429</td>\n",
       "      <td>0.289390</td>\n",
       "      <td>0.072532</td>\n",
       "      <td>0.013121</td>\n",
       "      <td>0.280011</td>\n",
       "      <td>0.112165</td>\n",
       "      <td>0.232782</td>\n",
       "    </tr>\n",
       "    <tr>\n",
       "      <th>4</th>\n",
       "      <td>-0tgMGl7D9B10YjSN2ujLA</td>\n",
       "      <td>1.416667</td>\n",
       "      <td>36</td>\n",
       "      <td>541.527778</td>\n",
       "      <td>0.368271</td>\n",
       "      <td>0.092633</td>\n",
       "      <td>0.007106</td>\n",
       "      <td>0.265700</td>\n",
       "      <td>0.083006</td>\n",
       "      <td>0.183284</td>\n",
       "    </tr>\n",
       "  </tbody>\n",
       "</table>\n",
       "</div>"
      ],
      "text/plain": [
       "              business_id  review_stars  text  review_length         0  \\\n",
       "0  -01XupAWZEXbdNbxNg5mEg      1.421053    38     601.789474  0.365444   \n",
       "1  -050d_XIor1NpCuWkbIVaQ      1.607143    84     922.940476  0.451230   \n",
       "2  -092wE7j5HZOogMLAh40zA      1.294118    34     630.970588  0.157546   \n",
       "3  -0WegMt6Cy966qlDKhu6jA      1.357143    70     639.171429  0.289390   \n",
       "4  -0tgMGl7D9B10YjSN2ujLA      1.416667    36     541.527778  0.368271   \n",
       "\n",
       "          1         2         3         4         5  \n",
       "0  0.178131  0.037723  0.177224  0.080320  0.161158  \n",
       "1  0.150766  0.014057  0.204198  0.109618  0.070132  \n",
       "2  0.472303  0.013131  0.042274  0.219311  0.095435  \n",
       "3  0.072532  0.013121  0.280011  0.112165  0.232782  \n",
       "4  0.092633  0.007106  0.265700  0.083006  0.183284  "
      ]
     },
     "execution_count": 37,
     "metadata": {},
     "output_type": "execute_result"
    }
   ],
   "source": [
    "df_neg_bsns.head()"
   ]
  },
  {
   "cell_type": "code",
   "execution_count": 38,
   "metadata": {},
   "outputs": [],
   "source": [
    "# we can read in business info from a saved CSV file\n",
    "# and add that to our last dataframe\n",
    "\n",
    "az_df = pd.read_csv('processed_data/restaurants_az.csv')\n",
    "az_df.drop(labels='Unnamed: 0', axis=1, inplace=True)"
   ]
  },
  {
   "cell_type": "code",
   "execution_count": 39,
   "metadata": {},
   "outputs": [],
   "source": [
    "# merge business name/city with topic data\n",
    "df_pos_tot = df_pos_bsns.merge(az_df[['business_id', 'name', 'city', 'stars']], left_on='business_id', \n",
    "                               right_on='business_id')[['business_id', 'name', 'city', 'stars', 0, 1, 2, 3, 4, 5]]\n",
    "\n",
    "df_neg_tot = df_neg_bsns.merge(az_df[['business_id', 'name', 'city', 'stars']], left_on='business_id', \n",
    "                               right_on='business_id')[['business_id', 'name', 'city', 'stars', 0, 1, 2, 3, 4, 5]]"
   ]
  },
  {
   "cell_type": "code",
   "execution_count": 40,
   "metadata": {},
   "outputs": [
    {
     "data": {
      "text/html": [
       "<div>\n",
       "<style scoped>\n",
       "    .dataframe tbody tr th:only-of-type {\n",
       "        vertical-align: middle;\n",
       "    }\n",
       "\n",
       "    .dataframe tbody tr th {\n",
       "        vertical-align: top;\n",
       "    }\n",
       "\n",
       "    .dataframe thead th {\n",
       "        text-align: right;\n",
       "    }\n",
       "</style>\n",
       "<table border=\"1\" class=\"dataframe\">\n",
       "  <thead>\n",
       "    <tr style=\"text-align: right;\">\n",
       "      <th></th>\n",
       "      <th>business_id</th>\n",
       "      <th>name</th>\n",
       "      <th>city</th>\n",
       "      <th>stars</th>\n",
       "      <th>0</th>\n",
       "      <th>1</th>\n",
       "      <th>2</th>\n",
       "      <th>3</th>\n",
       "      <th>4</th>\n",
       "      <th>5</th>\n",
       "    </tr>\n",
       "  </thead>\n",
       "  <tbody>\n",
       "    <tr>\n",
       "      <th>0</th>\n",
       "      <td>-01XupAWZEXbdNbxNg5mEg</td>\n",
       "      <td>18 Degrees</td>\n",
       "      <td>Scottsdale</td>\n",
       "      <td>3.0</td>\n",
       "      <td>0.256016</td>\n",
       "      <td>0.254983</td>\n",
       "      <td>0.047231</td>\n",
       "      <td>0.163278</td>\n",
       "      <td>0.173443</td>\n",
       "      <td>0.105050</td>\n",
       "    </tr>\n",
       "    <tr>\n",
       "      <th>1</th>\n",
       "      <td>-050d_XIor1NpCuWkbIVaQ</td>\n",
       "      <td>Matt's Big Breakfast</td>\n",
       "      <td>Phoenix</td>\n",
       "      <td>4.0</td>\n",
       "      <td>0.385385</td>\n",
       "      <td>0.114889</td>\n",
       "      <td>0.013322</td>\n",
       "      <td>0.300914</td>\n",
       "      <td>0.143474</td>\n",
       "      <td>0.042015</td>\n",
       "    </tr>\n",
       "    <tr>\n",
       "      <th>2</th>\n",
       "      <td>-092wE7j5HZOogMLAh40zA</td>\n",
       "      <td>Wong's Jr</td>\n",
       "      <td>Peoria</td>\n",
       "      <td>3.0</td>\n",
       "      <td>0.329510</td>\n",
       "      <td>0.152820</td>\n",
       "      <td>0.014533</td>\n",
       "      <td>0.258739</td>\n",
       "      <td>0.188905</td>\n",
       "      <td>0.055493</td>\n",
       "    </tr>\n",
       "    <tr>\n",
       "      <th>3</th>\n",
       "      <td>-0WegMt6Cy966qlDKhu6jA</td>\n",
       "      <td>Game Seven Grill</td>\n",
       "      <td>Phoenix</td>\n",
       "      <td>2.0</td>\n",
       "      <td>0.291615</td>\n",
       "      <td>0.237132</td>\n",
       "      <td>0.018235</td>\n",
       "      <td>0.148809</td>\n",
       "      <td>0.220965</td>\n",
       "      <td>0.083244</td>\n",
       "    </tr>\n",
       "    <tr>\n",
       "      <th>4</th>\n",
       "      <td>-0tgMGl7D9B10YjSN2ujLA</td>\n",
       "      <td>Dubliner</td>\n",
       "      <td>Phoenix</td>\n",
       "      <td>3.5</td>\n",
       "      <td>0.187277</td>\n",
       "      <td>0.308735</td>\n",
       "      <td>0.018388</td>\n",
       "      <td>0.205323</td>\n",
       "      <td>0.201018</td>\n",
       "      <td>0.079258</td>\n",
       "    </tr>\n",
       "  </tbody>\n",
       "</table>\n",
       "</div>"
      ],
      "text/plain": [
       "              business_id                  name        city  stars         0  \\\n",
       "0  -01XupAWZEXbdNbxNg5mEg            18 Degrees  Scottsdale    3.0  0.256016   \n",
       "1  -050d_XIor1NpCuWkbIVaQ  Matt's Big Breakfast     Phoenix    4.0  0.385385   \n",
       "2  -092wE7j5HZOogMLAh40zA             Wong's Jr      Peoria    3.0  0.329510   \n",
       "3  -0WegMt6Cy966qlDKhu6jA      Game Seven Grill     Phoenix    2.0  0.291615   \n",
       "4  -0tgMGl7D9B10YjSN2ujLA              Dubliner     Phoenix    3.5  0.187277   \n",
       "\n",
       "          1         2         3         4         5  \n",
       "0  0.254983  0.047231  0.163278  0.173443  0.105050  \n",
       "1  0.114889  0.013322  0.300914  0.143474  0.042015  \n",
       "2  0.152820  0.014533  0.258739  0.188905  0.055493  \n",
       "3  0.237132  0.018235  0.148809  0.220965  0.083244  \n",
       "4  0.308735  0.018388  0.205323  0.201018  0.079258  "
      ]
     },
     "execution_count": 40,
     "metadata": {},
     "output_type": "execute_result"
    }
   ],
   "source": [
    "# peek into business/topic distributions\n",
    "df_pos_tot.head()"
   ]
  },
  {
   "cell_type": "code",
   "execution_count": 48,
   "metadata": {},
   "outputs": [
    {
     "name": "stdout",
     "output_type": "stream",
     "text": [
      "Dubliner - Positive Reviews\n",
      "------------------------------------\n",
      "Topic 0: time/order/service > 0.1873\n",
      "Topic 1: service/atmosphere > 0.3087\n",
      "Topic 2: service/pizza      > 0.0184\n",
      "Topic 3: serivce/atmosphere/staff > 0.2053\n",
      "Topic 4: friendly_staff     > 0.2010\n",
      "Topic 5: bar/happy_hour     > 0.0793\n"
     ]
    }
   ],
   "source": [
    "\n",
    "scores = df_pos_bsns[df_pos_bsns.business_id == '-0tgMGl7D9B10YjSN2ujLA'].iloc[:,-6:].values\n",
    "print(az_df[az_df.business_id == '-0tgMGl7D9B10YjSN2ujLA']['name'].values[0] + ' - Positive Reviews')\n",
    "print('-'*36)\n",
    "for n in pos_topics:\n",
    "    print('Topic {}: {:18} > {:.4f}'.format(n, pos_topics[n], scores[0][n]))"
   ]
  },
  {
   "cell_type": "code",
   "execution_count": 41,
   "metadata": {},
   "outputs": [
    {
     "name": "stdout",
     "output_type": "stream",
     "text": [
      "Wall time: 30 s\n"
     ]
    }
   ],
   "source": [
    "\n",
    "%%time\n",
    "# write to CSV\n",
    "df_pos_tot.to_csv('processed_data/pos_bsns.csv')\n",
    "df_neg_tot.to_csv('processed_data/neg_bsns.csv')\n",
    "df_pos.to_csv('processed_data/pos_reviews.csv')\n",
    "df_neg.to_csv('processed_data/neg_reviews.csv')"
   ]
  }
 ],
 "metadata": {
  "kernelspec": {
   "display_name": "Python 3",
   "language": "python",
   "name": "python3"
  },
  "language_info": {
   "codemirror_mode": {
    "name": "ipython",
    "version": 3
   },
   "file_extension": ".py",
   "mimetype": "text/x-python",
   "name": "python",
   "nbconvert_exporter": "python",
   "pygments_lexer": "ipython3",
   "version": "3.7.3"
  }
 },
 "nbformat": 4,
 "nbformat_minor": 2
}
