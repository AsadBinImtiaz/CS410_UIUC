{
 "cells": [
  {
   "cell_type": "code",
   "execution_count": 42,
   "metadata": {},
   "outputs": [],
   "source": [
    "from pprint import pprint\n",
    "import pandas as pd\n",
    "import numpy as np\n",
    "import matplotlib.pyplot as plt\n",
    "%matplotlib inline\n",
    "import seaborn as sns\n",
    "sns.set()"
   ]
  },
  {
   "cell_type": "code",
   "execution_count": 43,
   "metadata": {},
   "outputs": [],
   "source": [
    "#read the reviews\n",
    "restaurant_file = pd.read_csv('processed_data/restaurants_az.csv')\n",
    "restaurant_file = restaurant_file.drop(labels=\"Unnamed: 0\", axis=1)\n",
    "review_file     = pd.read_csv('processed_data/reviews_az.csv')\n",
    "review_file     = review_file.drop(labels=\"Unnamed: 0\", axis=1) "
   ]
  },
  {
   "cell_type": "code",
   "execution_count": 44,
   "metadata": {},
   "outputs": [
    {
     "data": {
      "text/html": [
       "<div>\n",
       "<style scoped>\n",
       "    .dataframe tbody tr th:only-of-type {\n",
       "        vertical-align: middle;\n",
       "    }\n",
       "\n",
       "    .dataframe tbody tr th {\n",
       "        vertical-align: top;\n",
       "    }\n",
       "\n",
       "    .dataframe thead th {\n",
       "        text-align: right;\n",
       "    }\n",
       "</style>\n",
       "<table border=\"1\" class=\"dataframe\">\n",
       "  <thead>\n",
       "    <tr style=\"text-align: right;\">\n",
       "      <th></th>\n",
       "      <th>business_id</th>\n",
       "      <th>name</th>\n",
       "      <th>city</th>\n",
       "      <th>state</th>\n",
       "      <th>business_stars</th>\n",
       "      <th>review_count</th>\n",
       "      <th>categories</th>\n",
       "      <th>review_id</th>\n",
       "      <th>user_id</th>\n",
       "      <th>review_stars</th>\n",
       "      <th>useful</th>\n",
       "      <th>text</th>\n",
       "      <th>date</th>\n",
       "      <th>cleansed_text</th>\n",
       "    </tr>\n",
       "  </thead>\n",
       "  <tbody>\n",
       "    <tr>\n",
       "      <td>0</td>\n",
       "      <td>44YFU284Z3KDEy25QyVoUw</td>\n",
       "      <td>Nee House Chinese Restaurant</td>\n",
       "      <td>Phoenix</td>\n",
       "      <td>AZ</td>\n",
       "      <td>3.5</td>\n",
       "      <td>269</td>\n",
       "      <td>Chinese, Restaurants</td>\n",
       "      <td>QgV9RPyPUC3cAse1Wxqoow</td>\n",
       "      <td>P3cMpkppvBuVpPD8LBTbBQ</td>\n",
       "      <td>4.0</td>\n",
       "      <td>2</td>\n",
       "      <td>Enjoyed Nee House immensely. No service issues...</td>\n",
       "      <td>2012-04-28 21:08:22</td>\n",
       "      <td>enjoy immensely. no service issue fantastic ch...</td>\n",
       "    </tr>\n",
       "    <tr>\n",
       "      <td>1</td>\n",
       "      <td>44YFU284Z3KDEy25QyVoUw</td>\n",
       "      <td>Nee House Chinese Restaurant</td>\n",
       "      <td>Phoenix</td>\n",
       "      <td>AZ</td>\n",
       "      <td>3.5</td>\n",
       "      <td>269</td>\n",
       "      <td>Chinese, Restaurants</td>\n",
       "      <td>1ZTO6zFtVVxtXclHp4TvHQ</td>\n",
       "      <td>b1yLsCdv4ZL_d3INMCZzoA</td>\n",
       "      <td>3.0</td>\n",
       "      <td>0</td>\n",
       "      <td>I'm not sure how I rate this restaurant becaus...</td>\n",
       "      <td>2017-02-09 05:15:25</td>\n",
       "      <td>not sure rate because walk soup. 4 p.m. destro...</td>\n",
       "    </tr>\n",
       "    <tr>\n",
       "      <td>2</td>\n",
       "      <td>44YFU284Z3KDEy25QyVoUw</td>\n",
       "      <td>Nee House Chinese Restaurant</td>\n",
       "      <td>Phoenix</td>\n",
       "      <td>AZ</td>\n",
       "      <td>3.5</td>\n",
       "      <td>269</td>\n",
       "      <td>Chinese, Restaurants</td>\n",
       "      <td>h17ep5S7O8_JMKovooWoVA</td>\n",
       "      <td>TaVuQWmXAhxy_LvIXBs9sg</td>\n",
       "      <td>5.0</td>\n",
       "      <td>0</td>\n",
       "      <td>The food from this place reminds me of home. I...</td>\n",
       "      <td>2016-08-12 21:38:55</td>\n",
       "      <td>food place remind home. taiwanese little islan...</td>\n",
       "    </tr>\n",
       "  </tbody>\n",
       "</table>\n",
       "</div>"
      ],
      "text/plain": [
       "              business_id                          name     city state  \\\n",
       "0  44YFU284Z3KDEy25QyVoUw  Nee House Chinese Restaurant  Phoenix    AZ   \n",
       "1  44YFU284Z3KDEy25QyVoUw  Nee House Chinese Restaurant  Phoenix    AZ   \n",
       "2  44YFU284Z3KDEy25QyVoUw  Nee House Chinese Restaurant  Phoenix    AZ   \n",
       "\n",
       "   business_stars  review_count            categories               review_id  \\\n",
       "0             3.5           269  Chinese, Restaurants  QgV9RPyPUC3cAse1Wxqoow   \n",
       "1             3.5           269  Chinese, Restaurants  1ZTO6zFtVVxtXclHp4TvHQ   \n",
       "2             3.5           269  Chinese, Restaurants  h17ep5S7O8_JMKovooWoVA   \n",
       "\n",
       "                  user_id  review_stars  useful  \\\n",
       "0  P3cMpkppvBuVpPD8LBTbBQ           4.0       2   \n",
       "1  b1yLsCdv4ZL_d3INMCZzoA           3.0       0   \n",
       "2  TaVuQWmXAhxy_LvIXBs9sg           5.0       0   \n",
       "\n",
       "                                                text                 date  \\\n",
       "0  Enjoyed Nee House immensely. No service issues...  2012-04-28 21:08:22   \n",
       "1  I'm not sure how I rate this restaurant becaus...  2017-02-09 05:15:25   \n",
       "2  The food from this place reminds me of home. I...  2016-08-12 21:38:55   \n",
       "\n",
       "                                       cleansed_text  \n",
       "0  enjoy immensely. no service issue fantastic ch...  \n",
       "1  not sure rate because walk soup. 4 p.m. destro...  \n",
       "2  food place remind home. taiwanese little islan...  "
      ]
     },
     "execution_count": 44,
     "metadata": {},
     "output_type": "execute_result"
    }
   ],
   "source": [
    "#Check the review file\n",
    "review_file.head(3)"
   ]
  },
  {
   "cell_type": "code",
   "execution_count": 45,
   "metadata": {},
   "outputs": [
    {
     "data": {
      "text/html": [
       "<div>\n",
       "<style scoped>\n",
       "    .dataframe tbody tr th:only-of-type {\n",
       "        vertical-align: middle;\n",
       "    }\n",
       "\n",
       "    .dataframe tbody tr th {\n",
       "        vertical-align: top;\n",
       "    }\n",
       "\n",
       "    .dataframe thead th {\n",
       "        text-align: right;\n",
       "    }\n",
       "</style>\n",
       "<table border=\"1\" class=\"dataframe\">\n",
       "  <thead>\n",
       "    <tr style=\"text-align: right;\">\n",
       "      <th></th>\n",
       "      <th>business_id</th>\n",
       "      <th>name</th>\n",
       "      <th>city</th>\n",
       "      <th>state</th>\n",
       "      <th>stars</th>\n",
       "      <th>review_count</th>\n",
       "      <th>categories</th>\n",
       "    </tr>\n",
       "  </thead>\n",
       "  <tbody>\n",
       "    <tr>\n",
       "      <td>0</td>\n",
       "      <td>44YFU284Z3KDEy25QyVoUw</td>\n",
       "      <td>Nee House Chinese Restaurant</td>\n",
       "      <td>Phoenix</td>\n",
       "      <td>AZ</td>\n",
       "      <td>3.5</td>\n",
       "      <td>269</td>\n",
       "      <td>Chinese, Restaurants</td>\n",
       "    </tr>\n",
       "    <tr>\n",
       "      <td>1</td>\n",
       "      <td>r8764MtYyt8JhxMvrfM_xQ</td>\n",
       "      <td>Vintage 95</td>\n",
       "      <td>Chandler</td>\n",
       "      <td>AZ</td>\n",
       "      <td>4.0</td>\n",
       "      <td>320</td>\n",
       "      <td>American (New), Bars, Wine Bars, Nightlife, Re...</td>\n",
       "    </tr>\n",
       "    <tr>\n",
       "      <td>2</td>\n",
       "      <td>voZnDQs6Hs3YpNcS-9TALg</td>\n",
       "      <td>New Mexican Grill</td>\n",
       "      <td>Chandler</td>\n",
       "      <td>AZ</td>\n",
       "      <td>4.0</td>\n",
       "      <td>84</td>\n",
       "      <td>Restaurants, Mexican</td>\n",
       "    </tr>\n",
       "  </tbody>\n",
       "</table>\n",
       "</div>"
      ],
      "text/plain": [
       "              business_id                          name      city state  \\\n",
       "0  44YFU284Z3KDEy25QyVoUw  Nee House Chinese Restaurant   Phoenix    AZ   \n",
       "1  r8764MtYyt8JhxMvrfM_xQ                    Vintage 95  Chandler    AZ   \n",
       "2  voZnDQs6Hs3YpNcS-9TALg             New Mexican Grill  Chandler    AZ   \n",
       "\n",
       "   stars  review_count                                         categories  \n",
       "0    3.5           269                               Chinese, Restaurants  \n",
       "1    4.0           320  American (New), Bars, Wine Bars, Nightlife, Re...  \n",
       "2    4.0            84                               Restaurants, Mexican  "
      ]
     },
     "execution_count": 45,
     "metadata": {},
     "output_type": "execute_result"
    }
   ],
   "source": [
    "#check the restuarant file\n",
    "restaurant_file.head(3)"
   ]
  },
  {
   "cell_type": "code",
   "execution_count": 46,
   "metadata": {},
   "outputs": [
    {
     "data": {
      "text/html": [
       "<div>\n",
       "<style scoped>\n",
       "    .dataframe tbody tr th:only-of-type {\n",
       "        vertical-align: middle;\n",
       "    }\n",
       "\n",
       "    .dataframe tbody tr th {\n",
       "        vertical-align: top;\n",
       "    }\n",
       "\n",
       "    .dataframe thead th {\n",
       "        text-align: right;\n",
       "    }\n",
       "</style>\n",
       "<table border=\"1\" class=\"dataframe\">\n",
       "  <thead>\n",
       "    <tr style=\"text-align: right;\">\n",
       "      <th></th>\n",
       "      <th>business_id</th>\n",
       "      <th>name</th>\n",
       "      <th>city</th>\n",
       "      <th>state</th>\n",
       "      <th>business_stars</th>\n",
       "      <th>review_count</th>\n",
       "      <th>categories</th>\n",
       "      <th>review_id</th>\n",
       "      <th>user_id</th>\n",
       "      <th>review_stars</th>\n",
       "      <th>useful</th>\n",
       "      <th>text</th>\n",
       "      <th>date</th>\n",
       "      <th>cleansed_text</th>\n",
       "      <th>review_length</th>\n",
       "    </tr>\n",
       "  </thead>\n",
       "  <tbody>\n",
       "    <tr>\n",
       "      <td>0</td>\n",
       "      <td>44YFU284Z3KDEy25QyVoUw</td>\n",
       "      <td>Nee House Chinese Restaurant</td>\n",
       "      <td>Phoenix</td>\n",
       "      <td>AZ</td>\n",
       "      <td>3.5</td>\n",
       "      <td>269</td>\n",
       "      <td>Chinese, Restaurants</td>\n",
       "      <td>QgV9RPyPUC3cAse1Wxqoow</td>\n",
       "      <td>P3cMpkppvBuVpPD8LBTbBQ</td>\n",
       "      <td>4.0</td>\n",
       "      <td>2</td>\n",
       "      <td>Enjoyed Nee House immensely. No service issues...</td>\n",
       "      <td>2012-04-28 21:08:22</td>\n",
       "      <td>enjoy immensely. no service issue fantastic ch...</td>\n",
       "      <td>263</td>\n",
       "    </tr>\n",
       "  </tbody>\n",
       "</table>\n",
       "</div>"
      ],
      "text/plain": [
       "              business_id                          name     city state  \\\n",
       "0  44YFU284Z3KDEy25QyVoUw  Nee House Chinese Restaurant  Phoenix    AZ   \n",
       "\n",
       "   business_stars  review_count            categories               review_id  \\\n",
       "0             3.5           269  Chinese, Restaurants  QgV9RPyPUC3cAse1Wxqoow   \n",
       "\n",
       "                  user_id  review_stars  useful  \\\n",
       "0  P3cMpkppvBuVpPD8LBTbBQ           4.0       2   \n",
       "\n",
       "                                                text                 date  \\\n",
       "0  Enjoyed Nee House immensely. No service issues...  2012-04-28 21:08:22   \n",
       "\n",
       "                                       cleansed_text  review_length  \n",
       "0  enjoy immensely. no service issue fantastic ch...            263  "
      ]
     },
     "execution_count": 46,
     "metadata": {},
     "output_type": "execute_result"
    }
   ],
   "source": [
    "review_file['review_length'] = review_file.text.map(len)\n",
    "review_file.head(1)"
   ]
  },
  {
   "cell_type": "code",
   "execution_count": 47,
   "metadata": {
    "scrolled": true
   },
   "outputs": [
    {
     "data": {
      "text/plain": [
       "[Text(-12.290000000000013, 0.5, 'Number of Reviews')]"
      ]
     },
     "execution_count": 47,
     "metadata": {},
     "output_type": "execute_result"
    },
    {
     "data": {
      "image/png": "[encoded data removed]",
      "text/plain": [
       "<Figure size 1080x216 with 5 Axes>"
      ]
     },
     "metadata": {},
     "output_type": "display_data"
    }
   ],
   "source": [
    "#let's check the distribution of the reviews by length of comments\n",
    "ax = sns.FacetGrid(data=review_file, col='review_stars', xlim=(0, 1000)).map(plt.hist, 'review_length', bins=50)\n",
    "ax.axes[0][0].set(ylabel='Number of Reviews')"
   ]
  },
  {
   "cell_type": "code",
   "execution_count": 48,
   "metadata": {},
   "outputs": [
    {
     "name": "stdout",
     "output_type": "stream",
     "text": [
      "Postive  Reviews: 736,919\n",
      "Negative Reviews: 216,632\n"
     ]
    }
   ],
   "source": [
    "p_reviews = review_file.text[review_file.review_stars>3].values\n",
    "n_reviews = review_file.text[review_file.review_stars<3].values\n",
    "print('Postive  Reviews: {:,}'.format(len(p_reviews)))\n",
    "print('Negative Reviews: {:,}'.format(len(n_reviews)))"
   ]
  },
  {
   "cell_type": "code",
   "execution_count": 49,
   "metadata": {},
   "outputs": [
    {
     "name": "stdout",
     "output_type": "stream",
     "text": [
      "Wall time: 8.7 s\n"
     ]
    }
   ],
   "source": [
    "%%time\n",
    "#TF-IDF\n",
    "\n",
    "\n",
    "from sklearn.feature_extraction.text import TfidfVectorizer\n",
    "\n",
    "# Create a vectorizer object to generate term document counts\n",
    "tfidf_pos = TfidfVectorizer(stop_words=None, min_df=10, max_df=0.5, \n",
    "                        ngram_range=(1,1), token_pattern='[a-z][a-z]+')\n",
    "\n",
    "tfidf_neg = TfidfVectorizer(stop_words=None, min_df=10, max_df=0.5, \n",
    "                        ngram_range=(1,1), token_pattern='[a-z][a-z]+')\n",
    "\n",
    "# Get random subset of reviews\n",
    "np.random.seed(19)\n",
    "num_reviews = 20000\n",
    "random_neg = np.random.choice(n_reviews, size=num_reviews)\n",
    "random_pos = np.random.choice(p_reviews, size=num_reviews)\n",
    "\n",
    "#dicty = {'pizzas':'pizza', 'burgers':'burger', 'ordered':'order',\n",
    "#         'prices':'price', 'topping':'toppings'}\n",
    "#def replace_words(text, dicty):\n",
    "#    '''Returns text with word substitutions made according\n",
    "#       to the passed `dicty` dictionary'''\n",
    "#    for i,j in dicty.items():\n",
    "#        text = text.replace(i,j)\n",
    "#    return text\n",
    "\n",
    "#random_n = [replace_words(w, dicty) for w in random_neg]\n",
    "#random_p = [replace_words(w, dicty) for w in random_pos]\n",
    "\n",
    "# Get the vectors\n",
    "n_vectors = tfidf_neg.fit_transform(random_neg)\n",
    "p_vectors = tfidf_pos.fit_transform(random_pos)"
   ]
  },
  {
   "cell_type": "code",
   "execution_count": 50,
   "metadata": {},
   "outputs": [
    {
     "name": "stdout",
     "output_type": "stream",
     "text": [
      "Wall time: 17.2 s\n"
     ]
    }
   ],
   "source": [
    "%%time\n",
    "# Store TFIDF vectors in a Pandas DataFrame to investigate further\n",
    "n_df = pd.DataFrame(n_vectors.todense(), columns=[tfidf_neg.get_feature_names()])\n",
    "p_df = pd.DataFrame(p_vectors.todense(), columns=[tfidf_pos.get_feature_names()])\n",
    "\n",
    "# get mean for each column (word): highest means are most important words\n",
    "col_means_neg = {}\n",
    "for col in n_df:\n",
    "    col_means_neg[col] = n_df[col].mean()\n",
    "\n",
    "col_means_pos = {}\n",
    "for col in p_df:\n",
    "    col_means_pos[col] = p_df[col].mean()"
   ]
  },
  {
   "cell_type": "code",
   "execution_count": 51,
   "metadata": {},
   "outputs": [
    {
     "name": "stdout",
     "output_type": "stream",
     "text": [
      "Top 20 words in Positive reviews:[('we',), ('great',), ('food',), ('in',), ('this',), ('you',), ('with',), ('good',), ('my',), ('place',), ('had',), ('they',), ('but',), ('are',), ('have',), ('that',), ('on',), ('very',), ('service',), ('so',)]\n",
      "Top 20 words in Negative reviews:[('we',), ('they',), ('were',), ('on',), ('had',), ('with',), ('you',), ('our',), ('at',), ('have',), ('place',), ('so',), ('service',), ('be',), ('there',), ('good',), ('out',), ('just',), ('no',), ('like',)]\n"
     ]
    }
   ],
   "source": [
    "no_top_words = 20\n",
    "print('Top %d words in Positive reviews:' %no_top_words, end='')\n",
    "print(sorted(col_means_pos, key=col_means_pos.get, reverse=True)[:no_top_words])\n",
    "print('Top %d words in Negative reviews:' %no_top_words, end='')\n",
    "print(sorted(col_means_neg, key=col_means_neg.get, reverse=True)[:no_top_words])"
   ]
  },
  {
   "cell_type": "code",
   "execution_count": 52,
   "metadata": {},
   "outputs": [],
   "source": [
    "# LSA\n",
    "from gensim import corpora, models, similarities, matutils\n",
    "\n",
    "# Convert sparse matrix of counts to a gensim corpus\n",
    "# Need to transpose it for gensim which wants terms by docs instead of docs by terms\n",
    "tfidf_pos_corpus = matutils.Sparse2Corpus(p_vectors.transpose())\n",
    "tfidf_neg_corpus = matutils.Sparse2Corpus(n_vectors.transpose())\n",
    "\n",
    "# Row indices\n",
    "id2word_pos = dict((v,k) for k,v in tfidf_pos.vocabulary_.items())\n",
    "id2word_neg = dict((v,k) for k,v in tfidf_neg.vocabulary_.items())\n",
    "\n",
    "# This is a hack for Python 3!\n",
    "id2word_pos = corpora.Dictionary.from_corpus(tfidf_pos_corpus, id2word=id2word_pos)\n",
    "id2word_neg = corpora.Dictionary.from_corpus(tfidf_neg_corpus, id2word=id2word_neg)"
   ]
  },
  {
   "cell_type": "code",
   "execution_count": 53,
   "metadata": {},
   "outputs": [],
   "source": [
    "# create LSA model\n",
    "num_topics = 10\n",
    "lsi_pos = models.LsiModel(tfidf_pos_corpus, id2word=id2word_pos, num_topics=num_topics)\n",
    "lsi_neg = models.LsiModel(tfidf_neg_corpus, id2word=id2word_neg, num_topics=num_topics)"
   ]
  },
  {
   "cell_type": "code",
   "execution_count": 54,
   "metadata": {},
   "outputs": [
    {
     "name": "stdout",
     "output_type": "stream",
     "text": [
      "Top 5 topics for POSITIVE reviews\n",
      "---------------------------------\n",
      "[(0,\n",
      "  '0.207*\"we\" + 0.167*\"in\" + 0.159*\"you\" + 0.159*\"this\" + 0.156*\"food\" + '\n",
      "  '0.155*\"great\" + 0.152*\"with\" + 0.149*\"my\" + 0.143*\"good\" + 0.142*\"they\"'),\n",
      " (1,\n",
      "  '0.569*\"we\" + -0.280*\"you\" + 0.267*\"were\" + 0.240*\"our\" + -0.197*\"are\" + '\n",
      "  '0.195*\"had\" + -0.151*\"love\" + -0.149*\"always\" + -0.144*\"place\" + '\n",
      "  '0.127*\"us\"'),\n",
      " (2,\n",
      "  '-0.491*\"great\" + -0.317*\"food\" + -0.274*\"service\" + 0.192*\"you\" + '\n",
      "  '0.183*\"that\" + -0.164*\"friendly\" + -0.155*\"place\" + -0.147*\"very\" + '\n",
      "  '-0.134*\"staff\" + -0.133*\"atmosphere\"'),\n",
      " (3,\n",
      "  '-0.419*\"good\" + 0.380*\"we\" + -0.276*\"very\" + 0.193*\"love\" + 0.175*\"this\" + '\n",
      "  '0.157*\"best\" + 0.149*\"our\" + -0.145*\"with\" + 0.143*\"pizza\" + '\n",
      "  '0.143*\"always\"'),\n",
      " (4,\n",
      "  '-0.884*\"pizza\" + -0.136*\"crust\" + -0.126*\"good\" + 0.120*\"food\" + '\n",
      "  '-0.096*\"wings\" + -0.076*\"salad\" + -0.068*\"cheese\" + 0.066*\"sushi\" + '\n",
      "  '-0.061*\"thin\" + -0.059*\"sauce\"')]\n"
     ]
    }
   ],
   "source": [
    "topics_to_print = 5\n",
    "\n",
    "# look at top positive topics\n",
    "print('Top %d topics for POSITIVE reviews' %(topics_to_print))\n",
    "print('-'*33)\n",
    "pprint(lsi_pos.show_topics()[0:topics_to_print])"
   ]
  },
  {
   "cell_type": "code",
   "execution_count": 55,
   "metadata": {},
   "outputs": [
    {
     "name": "stdout",
     "output_type": "stream",
     "text": [
      "Top 5 topics for NEGATIVE reviews\n",
      "---------------------------------\n",
      "[(0,\n",
      "  '0.293*\"we\" + 0.160*\"they\" + 0.155*\"our\" + 0.151*\"were\" + 0.137*\"had\" + '\n",
      "  '0.133*\"on\" + 0.130*\"with\" + 0.128*\"you\" + 0.128*\"at\" + 0.123*\"have\"'),\n",
      " (1,\n",
      "  '-0.558*\"we\" + -0.336*\"our\" + -0.219*\"us\" + 0.211*\"you\" + -0.138*\"she\" + '\n",
      "  '0.128*\"they\" + 0.123*\"place\" + -0.119*\"minutes\" + 0.114*\"are\" + '\n",
      "  '-0.105*\"were\"'),\n",
      " (2,\n",
      "  '-0.263*\"we\" + -0.246*\"were\" + 0.221*\"she\" + 0.208*\"me\" + 0.199*\"you\" + '\n",
      "  '-0.194*\"chicken\" + 0.166*\"order\" + -0.154*\"very\" + 0.151*\"he\" + '\n",
      "  '-0.142*\"good\"'),\n",
      " (3,\n",
      "  '-0.349*\"she\" + 0.259*\"we\" + 0.259*\"you\" + -0.217*\"me\" + -0.205*\"he\" + '\n",
      "  '-0.196*\"chicken\" + 0.184*\"are\" + 0.179*\"service\" + -0.167*\"her\" + '\n",
      "  '-0.149*\"ordered\"'),\n",
      " (4,\n",
      "  '0.845*\"pizza\" + -0.201*\"she\" + 0.135*\"order\" + 0.134*\"crust\" + -0.100*\"her\" '\n",
      "  '+ 0.093*\"we\" + 0.093*\"wings\" + 0.083*\"they\" + 0.081*\"minutes\" + '\n",
      "  '0.077*\"delivery\"')]\n"
     ]
    }
   ],
   "source": [
    "topics_to_print = 5\n",
    "# look at top negative topics\n",
    "print('Top %d topics for NEGATIVE reviews' %(topics_to_print))\n",
    "print('-'*33)\n",
    "pprint(lsi_neg.show_topics()[0:topics_to_print])"
   ]
  },
  {
   "cell_type": "code",
   "execution_count": 56,
   "metadata": {},
   "outputs": [
    {
     "name": "stdout",
     "output_type": "stream",
     "text": [
      "Wall time: 25.3 s\n"
     ]
    }
   ],
   "source": [
    "%%time\n",
    "# negative values in LSA topics are annoying\n",
    "# let's see if we can fix that with NMF\n",
    "from sklearn.decomposition import NMF\n",
    "\n",
    "# change num_topics\n",
    "num_topics = 6\n",
    "\n",
    "nmf_pos = NMF(n_components=num_topics)\n",
    "W_pos = nmf_pos.fit_transform(p_vectors)\n",
    "H_pos = nmf_pos.components_\n",
    "\n",
    "nmf_neg = NMF(n_components=num_topics)\n",
    "W_neg = nmf_neg.fit_transform(n_vectors)\n",
    "H_neg = nmf_neg.components_"
   ]
  },
  {
   "cell_type": "code",
   "execution_count": 57,
   "metadata": {},
   "outputs": [
    {
     "name": "stdout",
     "output_type": "stream",
     "text": [
      "Top topics + words for POSITIVE reviews\n",
      "---------------------------------------\n",
      "Topic 0:   2.415*you, 1.038*if, 0.932*they, 0.823*that, 0.802*are, 0.768*can\n",
      "Topic 1:   2.771*we, 1.161*our, 0.897*were, 0.605*us, 0.577*had, 0.440*back\n",
      "Topic 2:   2.104*great, 1.400*food, 1.161*service, 0.724*good, 0.697*very, 0.593*friendly\n",
      "Topic 3:   1.071*with, 0.925*my, 0.842*had, 0.825*good, 0.764*but, 0.646*that\n",
      "Topic 4:   2.856*pizza, 0.441*crust, 0.304*wings, 0.197*thin, 0.192*good, 0.174*cheese\n",
      "Topic 5:   1.186*this, 1.118*love, 1.095*place, 0.936*always, 0.801*best, 0.672*been\n",
      "\n",
      "Top topics + words for NEGATIVE reviews\n",
      "---------------------------------------\n",
      "Topic 0:   2.342*you, 1.096*are, 0.965*if, 0.948*your, 0.781*they, 0.781*place\n",
      "Topic 1:   3.219*we, 1.607*our, 1.016*were, 0.950*us, 0.481*table, 0.404*had\n",
      "Topic 2:   0.828*chicken, 0.750*had, 0.737*were, 0.723*good, 0.723*with, 0.711*very\n",
      "Topic 3:   1.888*she, 1.287*he, 0.963*her, 0.820*me, 0.750*said, 0.642*asked\n",
      "Topic 4:   2.762*pizza, 0.450*crust, 0.260*wings, 0.255*cheese, 0.215*sauce, 0.194*toppings\n",
      "Topic 5:   0.902*order, 0.897*they, 0.807*service, 0.724*time, 0.675*minutes, 0.485*never\n"
     ]
    }
   ],
   "source": [
    "def display_topics(model, feature_names, num_topics, no_top_words):\n",
    "    for topic_idx, topic in enumerate(model.components_):\n",
    "        if topic_idx < num_topics:\n",
    "            print(\"{:11}\".format(\"Topic %d:\" %(topic_idx)), end='')\n",
    "            print(\", \".join(['{:04.3f}*'.format(topic[i])+feature_names[i] \\\n",
    "                             for i in topic.argsort()[:-no_top_words-1:-1]]))\n",
    "\n",
    "no_topics = num_topics\n",
    "no_top_words = 6\n",
    "\n",
    "print('Top topics + words for POSITIVE reviews')\n",
    "print('-'*39)\n",
    "display_topics(nmf_pos, tfidf_pos.get_feature_names(), no_topics, no_top_words)\n",
    "\n",
    "print('\\nTop topics + words for NEGATIVE reviews')\n",
    "print('-'*39)\n",
    "display_topics(nmf_neg, tfidf_neg.get_feature_names(), no_topics, no_top_words)"
   ]
  },
  {
   "cell_type": "code",
   "execution_count": 58,
   "metadata": {},
   "outputs": [
    {
     "name": "stdout",
     "output_type": "stream",
     "text": [
      "Positive Review\n",
      "3202\n",
      "This was my favorite restaurant in college. We came here ALL the time. The staff was always friendly, good service, and the sushi is so good and cheap. The tofu steak is great to start with, and if you're going to skip sushi  for your meal, definitely go for the Nabe yaki udon or the miso salmon (both come with a ton of food). ALL of the 101 specials are good options, namely the vegas roll and the krazy maki. And of course sake bombs!! YUM!\n",
      "\n",
      "Negative Review\n",
      "8137\n",
      "Used to love this place about 3-4 years ago.. It was literally my Sunday go to to watch football games and get a bite to eat. I recently went there an apparently the management has changed quite a bit, the food takes forever the wait staff does not seem to care and take forever to get your food order and your drink order. The staff doesn't seem to care and quite honestly I could go anywhere else in Scottsdale and watch the same games and get better service. Definitely not coming back here.\n"
     ]
    }
   ],
   "source": [
    "# look at a random positive and negative reviews\n",
    "print('Positive Review')\n",
    "review_num = np.random.randint(0, high=len(random_pos))\n",
    "print(review_num)\n",
    "print(random_pos[review_num])\n",
    "\n",
    "print('\\nNegative Review')\n",
    "review_num = np.random.randint(0, high=len(random_neg))\n",
    "print(review_num)\n",
    "print(random_neg[review_num])\n"
   ]
  },
  {
   "cell_type": "code",
   "execution_count": 59,
   "metadata": {},
   "outputs": [],
   "source": [
    "# compute cosine similarities of this review with all other reviews in the new space\n",
    "import sklearn.metrics.pairwise as smp\n",
    "\n",
    "cosines = {}\n",
    "for ind, review in enumerate(W_pos):\n",
    "    similarity = smp.cosine_similarity(W_pos[review_num].reshape(1,-1), review.reshape(1,-1))\n",
    "    cosines[ind] = similarity[0][0]"
   ]
  },
  {
   "cell_type": "code",
   "execution_count": 60,
   "metadata": {},
   "outputs": [
    {
     "name": "stdout",
     "output_type": "stream",
     "text": [
      "--------------------------------------------------\n",
      ">> Similarity 0.998\n",
      "So foxy!! Incredible food!! Great atmosphere! The General Manager Chelsey is incredible and made our party special!! Thank you, thank you, thank you!!  What a great night! Thank you Mr. Fox!! Love it!\n",
      "--------------------------------------------------\n",
      ">> Similarity 0.998\n",
      "Good food! And for dessert, yummy $1 churros!! Fantastic service. The girl at the register is very welcoming and helpful especially if you can't make up your mind (my problem 99.9% of the time) or it's your first time there. I will definitely come back. Don't waste your time at Filiberto's or Federico's, whatever that nasty food is across the street lol happy eating, folks!\n",
      "--------------------------------------------------\n",
      ">> Similarity 0.998\n",
      "Amazing food and Margaritas! You will not be let down, try the puerco en chipotle!\n",
      "--------------------------------------------------\n"
     ]
    }
   ],
   "source": [
    "# get top 3 matching reviews\n",
    "for n in sorted(cosines, key=cosines.get, reverse=True)[1:4]:\n",
    "    print('-'*50)\n",
    "    print('>> Similarity {:.3f}'.format(cosines[n]))\n",
    "    print(random_pos[n])\n",
    "print('-'*50)"
   ]
  },
  {
   "cell_type": "code",
   "execution_count": 61,
   "metadata": {},
   "outputs": [],
   "source": [
    "from sklearn.feature_extraction.text import CountVectorizer\n",
    "\n",
    "# Create a vectorizer object to generate term document counts\n",
    "cv_pos = CountVectorizer(stop_words=None, min_df=10, max_df=0.5, \n",
    "                        ngram_range=(1,1), token_pattern='[a-z][a-z]+')\n",
    "\n",
    "cv_neg = CountVectorizer(stop_words=None, min_df=10, max_df=0.5, \n",
    "                        ngram_range=(1,1), token_pattern='[a-z][a-z]+')\n",
    "\n",
    "# Get random subset of reviews\n",
    "np.random.seed(38)\n",
    "num_reviews = 15000\n",
    "cv_random_neg = np.random.choice(n_reviews, size=num_reviews)\n",
    "cv_random_pos = np.random.choice(p_reviews, size=num_reviews)\n",
    "\n",
    "# replace words from defined dictionary 'dicty'\n",
    "#cv_random_neg = [replace_words(w, dicty) for w in cv_random_neg]\n",
    "#cv_random_pos = [replace_words(w, dicty) for w in cv_random_pos]\n",
    "\n",
    "# Get the cv vectors\n",
    "cv_neg_vectors = cv_neg.fit_transform(cv_random_neg).transpose()\n",
    "cv_pos_vectors = cv_pos.fit_transform(cv_random_pos).transpose()"
   ]
  },
  {
   "cell_type": "code",
   "execution_count": 62,
   "metadata": {},
   "outputs": [],
   "source": [
    "# Convert sparse matrix of counts to a gensim corpus\n",
    "corpus_neg = matutils.Sparse2Corpus(cv_neg_vectors)\n",
    "corpus_pos = matutils.Sparse2Corpus(cv_pos_vectors)\n",
    "\n",
    "# save a mapping (dict) of row id to word (token) for later use by gensim \n",
    "id2word_cv_pos = dict((v, k) for k, v in cv_pos.vocabulary_.items())\n",
    "id2word_cv_neg = dict((v, k) for k, v in cv_neg.vocabulary_.items())"
   ]
  },
  {
   "cell_type": "code",
   "execution_count": 63,
   "metadata": {},
   "outputs": [
    {
     "name": "stdout",
     "output_type": "stream",
     "text": [
      "Postive Reviews:  736,919\n",
      "Negative Reviews:  216,632\n"
     ]
    }
   ],
   "source": [
    "print('Postive Reviews:  {:,}'.format(len(p_reviews)))\n",
    "print('Negative Reviews:  {:,}'.format(len(n_reviews)))"
   ]
  },
  {
   "cell_type": "code",
   "execution_count": 64,
   "metadata": {},
   "outputs": [
    {
     "name": "stdout",
     "output_type": "stream",
     "text": [
      "Wall time: 3min 1s\n"
     ]
    }
   ],
   "source": [
    "%%time\n",
    "\n",
    "# Create a vectorizer object to generate term document counts\n",
    "tfidf_pos = TfidfVectorizer(stop_words=None, min_df=10, max_df=0.5, \n",
    "                        ngram_range=(1,1), token_pattern='[a-z][a-z]+')\n",
    "\n",
    "tfidf_neg = TfidfVectorizer(stop_words=None, min_df=10, max_df=0.5, \n",
    "                        ngram_range=(1,1), token_pattern='[a-z][a-z]+')\n",
    "\n",
    "# replace words with defined dictionary 'dicty'\n",
    "#pos_reviews = [replace_words(w, dicty) for w in p_reviews]\n",
    "#neg_reviews = [replace_words(w, dicty) for w in n_reviews]\n",
    "\n",
    "# Get the vectors\n",
    "neg_vectors = tfidf_neg.fit_transform(n_reviews)\n",
    "pos_vectors = tfidf_pos.fit_transform(p_reviews)"
   ]
  },
  {
   "cell_type": "code",
   "execution_count": 65,
   "metadata": {},
   "outputs": [
    {
     "name": "stdout",
     "output_type": "stream",
     "text": [
      "Wall time: 8min 35s\n"
     ]
    }
   ],
   "source": [
    "%%time\n",
    "# NMF for all reviews\n",
    "from sklearn.decomposition import NMF\n",
    "\n",
    "# change num_topics\n",
    "num_topics = 6\n",
    "\n",
    "nmf_pos = NMF(n_components=num_topics)\n",
    "W_pos = nmf_pos.fit_transform(pos_vectors)\n",
    "H_pos = nmf_pos.components_\n",
    "\n",
    "nmf_neg = NMF(n_components=num_topics)\n",
    "W_neg = nmf_neg.fit_transform(neg_vectors)\n",
    "H_neg = nmf_neg.components_"
   ]
  },
  {
   "cell_type": "code",
   "execution_count": 66,
   "metadata": {},
   "outputs": [
    {
     "name": "stdout",
     "output_type": "stream",
     "text": [
      "Topics for POSITIVE reviews\n",
      "---------------------------------------\n",
      "Topic 0:   3.130*my, 2.775*that, 2.712*they, 2.657*in, 2.536*have, 2.063*but\n",
      "Topic 1:   6.192*we, 2.739*our, 2.352*were, 1.575*had, 1.389*us, 1.126*back\n",
      "Topic 2:   4.813*great, 2.985*food, 2.515*place, 2.373*service, 1.941*this, 1.877*love\n",
      "Topic 3:   4.552*good, 3.558*very, 1.420*really, 1.359*nice, 1.269*food, 1.117*chicken\n",
      "Topic 4:   6.939*pizza, 1.231*crust, 0.840*wings, 0.615*thin, 0.581*best, 0.410*cheese\n",
      "Topic 5:   7.063*you, 2.845*if, 1.930*your, 1.851*are, 1.800*can, 1.495*get\n",
      "\n",
      "Topics for NEGATIVE reviews\n",
      "---------------------------------------\n",
      "Topic 0:   3.785*you, 2.591*they, 1.926*are, 1.611*if, 1.525*your, 1.469*have\n",
      "Topic 1:   5.788*we, 2.762*our, 1.813*were, 1.735*us, 0.861*table, 0.699*had\n",
      "Topic 2:   1.536*chicken, 1.343*had, 1.312*good, 1.310*were, 1.256*with, 1.250*very\n",
      "Topic 3:   3.213*she, 2.026*he, 1.680*her, 1.651*me, 1.307*said, 1.112*asked\n",
      "Topic 4:   4.990*pizza, 0.751*crust, 0.521*wings, 0.492*cheese, 0.350*delivery, 0.344*sauce\n",
      "Topic 5:   2.219*service, 1.335*order, 1.292*time, 1.257*minutes, 0.932*never, 0.912*here\n"
     ]
    }
   ],
   "source": [
    "no_topics = num_topics\n",
    "no_top_words = 6\n",
    "\n",
    "print('Topics for POSITIVE reviews')\n",
    "print('-'*39)\n",
    "display_topics(nmf_pos, tfidf_pos.get_feature_names(), no_topics, no_top_words)\n",
    "\n",
    "print('\\nTopics for NEGATIVE reviews')\n",
    "print('-'*39)\n",
    "display_topics(nmf_neg, tfidf_neg.get_feature_names(), no_topics, no_top_words)"
   ]
  },
  {
   "cell_type": "code",
   "execution_count": 67,
   "metadata": {},
   "outputs": [],
   "source": [
    "# create topic dictionaries to summarize the topic meanings\n",
    "pos_topics = {0:'time/order/service', 1:'service/atmosphere', 2:'service/pizza', \n",
    "              3:'serivce/atmosphere/staff', 4:'friendly_staff', 5:'bar/happy_hour'}\n",
    "\n",
    "neg_topics = {0:'beer/people', 1:'food/chicken/salad', 2:'food/pizza', \n",
    "              3:'wait/table', 4:'order/time/location', 5:'bad_service'}"
   ]
  },
  {
   "cell_type": "code",
   "execution_count": 68,
   "metadata": {},
   "outputs": [
    {
     "name": "stdout",
     "output_type": "stream",
     "text": [
      "Topic weights :  [0.00629771 0.00379649 0.01503868 0.00722597 0.         0.        ]\n",
      "Sum of weights:  0.03235885209340315\n"
     ]
    }
   ],
   "source": [
    "#  positive & negative reviews that we can that topics information will be added to\n",
    "df_pos = review_file[['business_id', 'review_stars', 'text', 'review_length']][review_file.review_stars>3].reset_index()\n",
    "df_neg = review_file[['business_id', 'review_stars', 'text', 'review_length']][review_file.review_stars<3].reset_index()\n",
    "df_pos.drop(labels='index', axis=1, inplace=True)\n",
    "df_neg.drop(labels='index', axis=1, inplace=True)\n",
    "\n",
    "print('Topic weights : ', W_pos[0])\n",
    "print('Sum of weights: ', W_pos[0].sum())"
   ]
  },
  {
   "cell_type": "code",
   "execution_count": 69,
   "metadata": {},
   "outputs": [
    {
     "name": "stdout",
     "output_type": "stream",
     "text": [
      "Normalized Topic weights :  [[0.1946208  0.11732475 0.46474706 0.22330739 0.         0.        ]]\n",
      "Sum of normalized weights:  0.9999999999999999\n"
     ]
    }
   ],
   "source": [
    "from sklearn.preprocessing import normalize\n",
    "print('Normalized Topic weights : ', normalize(W_pos[0].reshape(1,-1), norm='l1'))\n",
    "print('Sum of normalized weights: ', normalize(W_pos[0].reshape(1,-1), norm='l1').sum())"
   ]
  },
  {
   "cell_type": "code",
   "execution_count": 70,
   "metadata": {},
   "outputs": [
    {
     "data": {
      "text/html": [
       "<div>\n",
       "<style scoped>\n",
       "    .dataframe tbody tr th:only-of-type {\n",
       "        vertical-align: middle;\n",
       "    }\n",
       "\n",
       "    .dataframe tbody tr th {\n",
       "        vertical-align: top;\n",
       "    }\n",
       "\n",
       "    .dataframe thead th {\n",
       "        text-align: right;\n",
       "    }\n",
       "</style>\n",
       "<table border=\"1\" class=\"dataframe\">\n",
       "  <thead>\n",
       "    <tr style=\"text-align: right;\">\n",
       "      <th></th>\n",
       "      <th>business_id</th>\n",
       "      <th>review_stars</th>\n",
       "      <th>text</th>\n",
       "      <th>review_length</th>\n",
       "      <th>0</th>\n",
       "      <th>1</th>\n",
       "      <th>2</th>\n",
       "      <th>3</th>\n",
       "      <th>4</th>\n",
       "      <th>5</th>\n",
       "    </tr>\n",
       "  </thead>\n",
       "  <tbody>\n",
       "    <tr>\n",
       "      <td>0</td>\n",
       "      <td>44YFU284Z3KDEy25QyVoUw</td>\n",
       "      <td>2.0</td>\n",
       "      <td>This 2 star rating is for the service. Althoug...</td>\n",
       "      <td>518</td>\n",
       "      <td>0.000000</td>\n",
       "      <td>0.543880</td>\n",
       "      <td>0.066061</td>\n",
       "      <td>0.217339</td>\n",
       "      <td>0.000000</td>\n",
       "      <td>0.172720</td>\n",
       "    </tr>\n",
       "    <tr>\n",
       "      <td>1</td>\n",
       "      <td>44YFU284Z3KDEy25QyVoUw</td>\n",
       "      <td>2.0</td>\n",
       "      <td>After reading many decent reviews and seeing h...</td>\n",
       "      <td>258</td>\n",
       "      <td>0.176445</td>\n",
       "      <td>0.039820</td>\n",
       "      <td>0.412911</td>\n",
       "      <td>0.139926</td>\n",
       "      <td>0.003718</td>\n",
       "      <td>0.227182</td>\n",
       "    </tr>\n",
       "    <tr>\n",
       "      <td>2</td>\n",
       "      <td>44YFU284Z3KDEy25QyVoUw</td>\n",
       "      <td>1.0</td>\n",
       "      <td>The service to grab a seat is slow like 20 min...</td>\n",
       "      <td>366</td>\n",
       "      <td>0.312886</td>\n",
       "      <td>0.143930</td>\n",
       "      <td>0.000000</td>\n",
       "      <td>0.266209</td>\n",
       "      <td>0.000000</td>\n",
       "      <td>0.276974</td>\n",
       "    </tr>\n",
       "    <tr>\n",
       "      <td>3</td>\n",
       "      <td>44YFU284Z3KDEy25QyVoUw</td>\n",
       "      <td>2.0</td>\n",
       "      <td>Very disappointed with the lack of flavor in t...</td>\n",
       "      <td>195</td>\n",
       "      <td>0.000000</td>\n",
       "      <td>0.000000</td>\n",
       "      <td>0.852858</td>\n",
       "      <td>0.060020</td>\n",
       "      <td>0.000000</td>\n",
       "      <td>0.087122</td>\n",
       "    </tr>\n",
       "    <tr>\n",
       "      <td>4</td>\n",
       "      <td>44YFU284Z3KDEy25QyVoUw</td>\n",
       "      <td>1.0</td>\n",
       "      <td>The wait staff is as nasty as the food. RUDE A...</td>\n",
       "      <td>448</td>\n",
       "      <td>0.631736</td>\n",
       "      <td>0.114449</td>\n",
       "      <td>0.150361</td>\n",
       "      <td>0.000000</td>\n",
       "      <td>0.000000</td>\n",
       "      <td>0.103454</td>\n",
       "    </tr>\n",
       "  </tbody>\n",
       "</table>\n",
       "</div>"
      ],
      "text/plain": [
       "              business_id  review_stars  \\\n",
       "0  44YFU284Z3KDEy25QyVoUw           2.0   \n",
       "1  44YFU284Z3KDEy25QyVoUw           2.0   \n",
       "2  44YFU284Z3KDEy25QyVoUw           1.0   \n",
       "3  44YFU284Z3KDEy25QyVoUw           2.0   \n",
       "4  44YFU284Z3KDEy25QyVoUw           1.0   \n",
       "\n",
       "                                                text  review_length         0  \\\n",
       "0  This 2 star rating is for the service. Althoug...            518  0.000000   \n",
       "1  After reading many decent reviews and seeing h...            258  0.176445   \n",
       "2  The service to grab a seat is slow like 20 min...            366  0.312886   \n",
       "3  Very disappointed with the lack of flavor in t...            195  0.000000   \n",
       "4  The wait staff is as nasty as the food. RUDE A...            448  0.631736   \n",
       "\n",
       "          1         2         3         4         5  \n",
       "0  0.543880  0.066061  0.217339  0.000000  0.172720  \n",
       "1  0.039820  0.412911  0.139926  0.003718  0.227182  \n",
       "2  0.143930  0.000000  0.266209  0.000000  0.276974  \n",
       "3  0.000000  0.852858  0.060020  0.000000  0.087122  \n",
       "4  0.114449  0.150361  0.000000  0.000000  0.103454  "
      ]
     },
     "execution_count": 70,
     "metadata": {},
     "output_type": "execute_result"
    }
   ],
   "source": [
    "# add normalized topic weights to each review\n",
    "df_pos = pd.concat([df_pos, pd.DataFrame(normalize(W_pos, norm='l1'))], axis=1)\n",
    "df_neg = pd.concat([df_neg, pd.DataFrame(normalize(W_neg, norm='l1'))], axis=1)\n",
    "\n",
    "df_neg.head()"
   ]
  },
  {
   "cell_type": "code",
   "execution_count": 71,
   "metadata": {},
   "outputs": [],
   "source": [
    "\n",
    "# group by business_id and apply mean/count functions to columns\n",
    "df_pos_bsns = df_pos.groupby('business_id').agg({'review_stars':'mean', 'text':'count',\n",
    "                                                 'review_length':'mean',0:'mean', \n",
    "                                                 1:'mean', 2:'mean', 3:'mean',\n",
    "                                                 4:'mean', 5:'mean'}).reset_index()\n",
    "df_neg_bsns = df_neg.groupby('business_id').agg({'review_stars':'mean', 'text':'count',\n",
    "                                                 'review_length':'mean',0:'mean', \n",
    "                                                 1:'mean', 2:'mean', 3:'mean',\n",
    "                                                 4:'mean', 5:'mean'}).reset_index()"
   ]
  },
  {
   "cell_type": "code",
   "execution_count": 72,
   "metadata": {},
   "outputs": [
    {
     "data": {
      "text/html": [
       "<div>\n",
       "<style scoped>\n",
       "    .dataframe tbody tr th:only-of-type {\n",
       "        vertical-align: middle;\n",
       "    }\n",
       "\n",
       "    .dataframe tbody tr th {\n",
       "        vertical-align: top;\n",
       "    }\n",
       "\n",
       "    .dataframe thead th {\n",
       "        text-align: right;\n",
       "    }\n",
       "</style>\n",
       "<table border=\"1\" class=\"dataframe\">\n",
       "  <thead>\n",
       "    <tr style=\"text-align: right;\">\n",
       "      <th></th>\n",
       "      <th>business_id</th>\n",
       "      <th>review_stars</th>\n",
       "      <th>text</th>\n",
       "      <th>review_length</th>\n",
       "      <th>0</th>\n",
       "      <th>1</th>\n",
       "      <th>2</th>\n",
       "      <th>3</th>\n",
       "      <th>4</th>\n",
       "      <th>5</th>\n",
       "    </tr>\n",
       "  </thead>\n",
       "  <tbody>\n",
       "    <tr>\n",
       "      <td>0</td>\n",
       "      <td>-01XupAWZEXbdNbxNg5mEg</td>\n",
       "      <td>4.488889</td>\n",
       "      <td>45</td>\n",
       "      <td>593.666667</td>\n",
       "      <td>0.227136</td>\n",
       "      <td>0.201473</td>\n",
       "      <td>0.211790</td>\n",
       "      <td>0.174414</td>\n",
       "      <td>0.030604</td>\n",
       "      <td>0.154583</td>\n",
       "    </tr>\n",
       "    <tr>\n",
       "      <td>1</td>\n",
       "      <td>-050d_XIor1NpCuWkbIVaQ</td>\n",
       "      <td>4.545120</td>\n",
       "      <td>543</td>\n",
       "      <td>766.480663</td>\n",
       "      <td>0.348433</td>\n",
       "      <td>0.160598</td>\n",
       "      <td>0.127937</td>\n",
       "      <td>0.146061</td>\n",
       "      <td>0.010246</td>\n",
       "      <td>0.206724</td>\n",
       "    </tr>\n",
       "    <tr>\n",
       "      <td>2</td>\n",
       "      <td>-092wE7j5HZOogMLAh40zA</td>\n",
       "      <td>4.600000</td>\n",
       "      <td>55</td>\n",
       "      <td>539.727273</td>\n",
       "      <td>0.295808</td>\n",
       "      <td>0.125257</td>\n",
       "      <td>0.226929</td>\n",
       "      <td>0.257259</td>\n",
       "      <td>0.011907</td>\n",
       "      <td>0.082841</td>\n",
       "    </tr>\n",
       "    <tr>\n",
       "      <td>3</td>\n",
       "      <td>-0WegMt6Cy966qlDKhu6jA</td>\n",
       "      <td>4.307692</td>\n",
       "      <td>13</td>\n",
       "      <td>467.769231</td>\n",
       "      <td>0.251562</td>\n",
       "      <td>0.299137</td>\n",
       "      <td>0.133146</td>\n",
       "      <td>0.171136</td>\n",
       "      <td>0.007924</td>\n",
       "      <td>0.137095</td>\n",
       "    </tr>\n",
       "    <tr>\n",
       "      <td>4</td>\n",
       "      <td>-0tgMGl7D9B10YjSN2ujLA</td>\n",
       "      <td>4.421053</td>\n",
       "      <td>76</td>\n",
       "      <td>399.671053</td>\n",
       "      <td>0.265265</td>\n",
       "      <td>0.110565</td>\n",
       "      <td>0.329382</td>\n",
       "      <td>0.145635</td>\n",
       "      <td>0.013224</td>\n",
       "      <td>0.135929</td>\n",
       "    </tr>\n",
       "  </tbody>\n",
       "</table>\n",
       "</div>"
      ],
      "text/plain": [
       "              business_id  review_stars  text  review_length         0  \\\n",
       "0  -01XupAWZEXbdNbxNg5mEg      4.488889    45     593.666667  0.227136   \n",
       "1  -050d_XIor1NpCuWkbIVaQ      4.545120   543     766.480663  0.348433   \n",
       "2  -092wE7j5HZOogMLAh40zA      4.600000    55     539.727273  0.295808   \n",
       "3  -0WegMt6Cy966qlDKhu6jA      4.307692    13     467.769231  0.251562   \n",
       "4  -0tgMGl7D9B10YjSN2ujLA      4.421053    76     399.671053  0.265265   \n",
       "\n",
       "          1         2         3         4         5  \n",
       "0  0.201473  0.211790  0.174414  0.030604  0.154583  \n",
       "1  0.160598  0.127937  0.146061  0.010246  0.206724  \n",
       "2  0.125257  0.226929  0.257259  0.011907  0.082841  \n",
       "3  0.299137  0.133146  0.171136  0.007924  0.137095  \n",
       "4  0.110565  0.329382  0.145635  0.013224  0.135929  "
      ]
     },
     "execution_count": 72,
     "metadata": {},
     "output_type": "execute_result"
    }
   ],
   "source": [
    "df_pos_bsns.head(5)"
   ]
  },
  {
   "cell_type": "code",
   "execution_count": 73,
   "metadata": {},
   "outputs": [
    {
     "data": {
      "text/html": [
       "<div>\n",
       "<style scoped>\n",
       "    .dataframe tbody tr th:only-of-type {\n",
       "        vertical-align: middle;\n",
       "    }\n",
       "\n",
       "    .dataframe tbody tr th {\n",
       "        vertical-align: top;\n",
       "    }\n",
       "\n",
       "    .dataframe thead th {\n",
       "        text-align: right;\n",
       "    }\n",
       "</style>\n",
       "<table border=\"1\" class=\"dataframe\">\n",
       "  <thead>\n",
       "    <tr style=\"text-align: right;\">\n",
       "      <th></th>\n",
       "      <th>business_id</th>\n",
       "      <th>review_stars</th>\n",
       "      <th>text</th>\n",
       "      <th>review_length</th>\n",
       "      <th>0</th>\n",
       "      <th>1</th>\n",
       "      <th>2</th>\n",
       "      <th>3</th>\n",
       "      <th>4</th>\n",
       "      <th>5</th>\n",
       "    </tr>\n",
       "  </thead>\n",
       "  <tbody>\n",
       "    <tr>\n",
       "      <td>0</td>\n",
       "      <td>-01XupAWZEXbdNbxNg5mEg</td>\n",
       "      <td>1.421053</td>\n",
       "      <td>38</td>\n",
       "      <td>601.789474</td>\n",
       "      <td>0.260553</td>\n",
       "      <td>0.109799</td>\n",
       "      <td>0.238994</td>\n",
       "      <td>0.116394</td>\n",
       "      <td>0.028686</td>\n",
       "      <td>0.245573</td>\n",
       "    </tr>\n",
       "    <tr>\n",
       "      <td>1</td>\n",
       "      <td>-050d_XIor1NpCuWkbIVaQ</td>\n",
       "      <td>1.607143</td>\n",
       "      <td>84</td>\n",
       "      <td>922.940476</td>\n",
       "      <td>0.317048</td>\n",
       "      <td>0.105266</td>\n",
       "      <td>0.287500</td>\n",
       "      <td>0.109508</td>\n",
       "      <td>0.008418</td>\n",
       "      <td>0.172260</td>\n",
       "    </tr>\n",
       "    <tr>\n",
       "      <td>2</td>\n",
       "      <td>-092wE7j5HZOogMLAh40zA</td>\n",
       "      <td>1.294118</td>\n",
       "      <td>34</td>\n",
       "      <td>630.970588</td>\n",
       "      <td>0.107109</td>\n",
       "      <td>0.097112</td>\n",
       "      <td>0.483962</td>\n",
       "      <td>0.112511</td>\n",
       "      <td>0.021312</td>\n",
       "      <td>0.177993</td>\n",
       "    </tr>\n",
       "    <tr>\n",
       "      <td>3</td>\n",
       "      <td>-0WegMt6Cy966qlDKhu6jA</td>\n",
       "      <td>1.357143</td>\n",
       "      <td>70</td>\n",
       "      <td>639.171429</td>\n",
       "      <td>0.245293</td>\n",
       "      <td>0.214205</td>\n",
       "      <td>0.124553</td>\n",
       "      <td>0.095278</td>\n",
       "      <td>0.009477</td>\n",
       "      <td>0.311194</td>\n",
       "    </tr>\n",
       "    <tr>\n",
       "      <td>4</td>\n",
       "      <td>-0tgMGl7D9B10YjSN2ujLA</td>\n",
       "      <td>1.416667</td>\n",
       "      <td>36</td>\n",
       "      <td>541.527778</td>\n",
       "      <td>0.227927</td>\n",
       "      <td>0.129802</td>\n",
       "      <td>0.152092</td>\n",
       "      <td>0.199123</td>\n",
       "      <td>0.006119</td>\n",
       "      <td>0.284937</td>\n",
       "    </tr>\n",
       "  </tbody>\n",
       "</table>\n",
       "</div>"
      ],
      "text/plain": [
       "              business_id  review_stars  text  review_length         0  \\\n",
       "0  -01XupAWZEXbdNbxNg5mEg      1.421053    38     601.789474  0.260553   \n",
       "1  -050d_XIor1NpCuWkbIVaQ      1.607143    84     922.940476  0.317048   \n",
       "2  -092wE7j5HZOogMLAh40zA      1.294118    34     630.970588  0.107109   \n",
       "3  -0WegMt6Cy966qlDKhu6jA      1.357143    70     639.171429  0.245293   \n",
       "4  -0tgMGl7D9B10YjSN2ujLA      1.416667    36     541.527778  0.227927   \n",
       "\n",
       "          1         2         3         4         5  \n",
       "0  0.109799  0.238994  0.116394  0.028686  0.245573  \n",
       "1  0.105266  0.287500  0.109508  0.008418  0.172260  \n",
       "2  0.097112  0.483962  0.112511  0.021312  0.177993  \n",
       "3  0.214205  0.124553  0.095278  0.009477  0.311194  \n",
       "4  0.129802  0.152092  0.199123  0.006119  0.284937  "
      ]
     },
     "execution_count": 73,
     "metadata": {},
     "output_type": "execute_result"
    }
   ],
   "source": [
    "df_neg_bsns.head()"
   ]
  },
  {
   "cell_type": "code",
   "execution_count": 74,
   "metadata": {},
   "outputs": [],
   "source": [
    "# we can read in business info from a saved CSV file and add that to our last dataframe\n",
    "\n",
    "az_df = pd.read_csv('processed_data/restaurants_az.csv')\n",
    "az_df.drop(labels='Unnamed: 0', axis=1, inplace=True)"
   ]
  },
  {
   "cell_type": "code",
   "execution_count": 75,
   "metadata": {},
   "outputs": [
    {
     "data": {
      "text/html": [
       "<div>\n",
       "<style scoped>\n",
       "    .dataframe tbody tr th:only-of-type {\n",
       "        vertical-align: middle;\n",
       "    }\n",
       "\n",
       "    .dataframe tbody tr th {\n",
       "        vertical-align: top;\n",
       "    }\n",
       "\n",
       "    .dataframe thead th {\n",
       "        text-align: right;\n",
       "    }\n",
       "</style>\n",
       "<table border=\"1\" class=\"dataframe\">\n",
       "  <thead>\n",
       "    <tr style=\"text-align: right;\">\n",
       "      <th></th>\n",
       "      <th>business_id</th>\n",
       "      <th>name</th>\n",
       "      <th>city</th>\n",
       "      <th>stars</th>\n",
       "      <th>0</th>\n",
       "      <th>1</th>\n",
       "      <th>2</th>\n",
       "      <th>3</th>\n",
       "      <th>4</th>\n",
       "      <th>5</th>\n",
       "    </tr>\n",
       "  </thead>\n",
       "  <tbody>\n",
       "    <tr>\n",
       "      <td>0</td>\n",
       "      <td>-01XupAWZEXbdNbxNg5mEg</td>\n",
       "      <td>18 Degrees</td>\n",
       "      <td>Scottsdale</td>\n",
       "      <td>3.0</td>\n",
       "      <td>0.227136</td>\n",
       "      <td>0.201473</td>\n",
       "      <td>0.211790</td>\n",
       "      <td>0.174414</td>\n",
       "      <td>0.030604</td>\n",
       "      <td>0.154583</td>\n",
       "    </tr>\n",
       "    <tr>\n",
       "      <td>1</td>\n",
       "      <td>-050d_XIor1NpCuWkbIVaQ</td>\n",
       "      <td>Matt's Big Breakfast</td>\n",
       "      <td>Phoenix</td>\n",
       "      <td>4.0</td>\n",
       "      <td>0.348433</td>\n",
       "      <td>0.160598</td>\n",
       "      <td>0.127937</td>\n",
       "      <td>0.146061</td>\n",
       "      <td>0.010246</td>\n",
       "      <td>0.206724</td>\n",
       "    </tr>\n",
       "    <tr>\n",
       "      <td>2</td>\n",
       "      <td>-092wE7j5HZOogMLAh40zA</td>\n",
       "      <td>Wong's Jr</td>\n",
       "      <td>Peoria</td>\n",
       "      <td>3.0</td>\n",
       "      <td>0.295808</td>\n",
       "      <td>0.125257</td>\n",
       "      <td>0.226929</td>\n",
       "      <td>0.257259</td>\n",
       "      <td>0.011907</td>\n",
       "      <td>0.082841</td>\n",
       "    </tr>\n",
       "    <tr>\n",
       "      <td>3</td>\n",
       "      <td>-0WegMt6Cy966qlDKhu6jA</td>\n",
       "      <td>Game Seven Grill</td>\n",
       "      <td>Phoenix</td>\n",
       "      <td>2.0</td>\n",
       "      <td>0.251562</td>\n",
       "      <td>0.299137</td>\n",
       "      <td>0.133146</td>\n",
       "      <td>0.171136</td>\n",
       "      <td>0.007924</td>\n",
       "      <td>0.137095</td>\n",
       "    </tr>\n",
       "    <tr>\n",
       "      <td>4</td>\n",
       "      <td>-0tgMGl7D9B10YjSN2ujLA</td>\n",
       "      <td>Dubliner</td>\n",
       "      <td>Phoenix</td>\n",
       "      <td>3.5</td>\n",
       "      <td>0.265265</td>\n",
       "      <td>0.110565</td>\n",
       "      <td>0.329382</td>\n",
       "      <td>0.145635</td>\n",
       "      <td>0.013224</td>\n",
       "      <td>0.135929</td>\n",
       "    </tr>\n",
       "  </tbody>\n",
       "</table>\n",
       "</div>"
      ],
      "text/plain": [
       "              business_id                  name        city  stars         0  \\\n",
       "0  -01XupAWZEXbdNbxNg5mEg            18 Degrees  Scottsdale    3.0  0.227136   \n",
       "1  -050d_XIor1NpCuWkbIVaQ  Matt's Big Breakfast     Phoenix    4.0  0.348433   \n",
       "2  -092wE7j5HZOogMLAh40zA             Wong's Jr      Peoria    3.0  0.295808   \n",
       "3  -0WegMt6Cy966qlDKhu6jA      Game Seven Grill     Phoenix    2.0  0.251562   \n",
       "4  -0tgMGl7D9B10YjSN2ujLA              Dubliner     Phoenix    3.5  0.265265   \n",
       "\n",
       "          1         2         3         4         5  \n",
       "0  0.201473  0.211790  0.174414  0.030604  0.154583  \n",
       "1  0.160598  0.127937  0.146061  0.010246  0.206724  \n",
       "2  0.125257  0.226929  0.257259  0.011907  0.082841  \n",
       "3  0.299137  0.133146  0.171136  0.007924  0.137095  \n",
       "4  0.110565  0.329382  0.145635  0.013224  0.135929  "
      ]
     },
     "execution_count": 75,
     "metadata": {},
     "output_type": "execute_result"
    }
   ],
   "source": [
    "# merge business name/city with topic data\n",
    "df_pos_tot = df_pos_bsns.merge(az_df[['business_id', 'name', 'city', 'stars']], left_on='business_id', \n",
    "                               right_on='business_id')[['business_id', 'name', 'city', 'stars', 0, 1, 2, 3, 4, 5]]\n",
    "\n",
    "df_neg_tot = df_neg_bsns.merge(az_df[['business_id', 'name', 'city', 'stars']], left_on='business_id', \n",
    "                               right_on='business_id')[['business_id', 'name', 'city', 'stars', 0, 1, 2, 3, 4, 5]]\n",
    "\n",
    "\n",
    "df_pos_tot.head()"
   ]
  },
  {
   "cell_type": "code",
   "execution_count": 76,
   "metadata": {},
   "outputs": [
    {
     "name": "stdout",
     "output_type": "stream",
     "text": [
      "Dubliner - Positive Reviews\n",
      "------------------------------------\n",
      "Topic 0: time/order/service > 0.2653\n",
      "Topic 1: service/atmosphere > 0.1106\n",
      "Topic 2: service/pizza      > 0.3294\n",
      "Topic 3: serivce/atmosphere/staff > 0.1456\n",
      "Topic 4: friendly_staff     > 0.0132\n",
      "Topic 5: bar/happy_hour     > 0.1359\n"
     ]
    }
   ],
   "source": [
    "scores = df_pos_bsns[df_pos_bsns.business_id == '-0tgMGl7D9B10YjSN2ujLA'].iloc[:,-6:].values\n",
    "print(az_df[az_df.business_id == '-0tgMGl7D9B10YjSN2ujLA']['name'].values[0] + ' - Positive Reviews')\n",
    "print('-'*36)\n",
    "for n in pos_topics:\n",
    "    print('Topic {}: {:18} > {:.4f}'.format(n, pos_topics[n], scores[0][n]))"
   ]
  },
  {
   "cell_type": "code",
   "execution_count": 77,
   "metadata": {},
   "outputs": [
    {
     "name": "stdout",
     "output_type": "stream",
     "text": [
      "Wall time: 28.7 s\n"
     ]
    }
   ],
   "source": [
    "%%time\n",
    "\n",
    "# write to output CSV\n",
    "df_pos_tot.to_csv('processed_data/pos_bsns.csv')\n",
    "df_neg_tot.to_csv('processed_data/neg_bsns.csv')\n",
    "df_pos.to_csv('processed_data/positive_reviews.csv')\n",
    "df_neg.to_csv('processed_data/negative_reviews.csv')"
   ]
  }
 ],
 "metadata": {
  "kernelspec": {
   "display_name": "Python 3",
   "language": "python",
   "name": "python3"
  },
  "language_info": {
   "codemirror_mode": {
    "name": "ipython",
    "version": 3
   },
   "file_extension": ".py",
   "mimetype": "text/x-python",
   "name": "python",
   "nbconvert_exporter": "python",
   "pygments_lexer": "ipython3",
   "version": "3.7.3"
  }
 },
 "nbformat": 4,
 "nbformat_minor": 2
}
